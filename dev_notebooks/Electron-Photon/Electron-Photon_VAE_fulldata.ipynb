{
 "cells": [
  {
   "cell_type": "markdown",
   "id": "9080d094-8323-45f5-a578-aeed60dc8ab0",
   "metadata": {
    "tags": []
   },
   "source": [
    "# Electron Photon tagging\n",
    "\n",
    "I test a classical variational autoencoder on the electron photon dataset"
   ]
  },
  {
   "cell_type": "markdown",
   "id": "03445d41-6173-4f63-9786-d0e20c4df452",
   "metadata": {
    "jp-MarkdownHeadingCollapsed": true,
    "tags": []
   },
   "source": [
    "### imports "
   ]
  },
  {
   "cell_type": "code",
   "execution_count": 1,
   "id": "5b53f85c-d0fb-489d-b816-6ed710eeda35",
   "metadata": {},
   "outputs": [
    {
     "name": "stderr",
     "output_type": "stream",
     "text": [
      "2022-07-18 19:29:20.447684: W tensorflow/stream_executor/platform/default/dso_loader.cc:64] Could not load dynamic library 'libcudart.so.11.0'; dlerror: libcudart.so.11.0: cannot open shared object file: No such file or directory\n",
      "2022-07-18 19:29:20.447703: I tensorflow/stream_executor/cuda/cudart_stub.cc:29] Ignore above cudart dlerror if you do not have a GPU set up on your machine.\n",
      "/home/tom/.conda/envs/tfq/lib/python3.9/site-packages/cirq/ops/gateset.py:376: UserWarning: v0.14.1 is the last release `cirq.GlobalPhaseGate` is included by default. If you were relying on this behavior, you can include a `cirq.GlobalPhaseGate` in your `*gates`. If not, then you can ignore this warning. It will be removed in v0.16\n",
      "  warnings.warn(\n",
      "2022-07-18 19:29:21.609150: W tensorflow/stream_executor/platform/default/dso_loader.cc:64] Could not load dynamic library 'libcuda.so.1'; dlerror: libcuda.so.1: cannot open shared object file: No such file or directory\n",
      "2022-07-18 19:29:21.609171: W tensorflow/stream_executor/cuda/cuda_driver.cc:269] failed call to cuInit: UNKNOWN ERROR (303)\n",
      "2022-07-18 19:29:21.609185: I tensorflow/stream_executor/cuda/cuda_diagnostics.cc:156] kernel driver does not appear to be running on this host (tomskopfbahnhof): /proc/driver/nvidia/version does not exist\n",
      "2022-07-18 19:29:21.609374: I tensorflow/core/platform/cpu_feature_guard.cc:151] This TensorFlow binary is optimized with oneAPI Deep Neural Network Library (oneDNN) to use the following CPU instructions in performance-critical operations:  AVX2 FMA\n",
      "To enable them in other operations, rebuild TensorFlow with the appropriate compiler flags.\n"
     ]
    }
   ],
   "source": [
    "import numpy as np\n",
    "import matplotlib.pyplot as plt\n",
    "from cirq.contrib.svg import SVGCircuit\n",
    "import tensorflow as tf\n",
    "import tensorflow_quantum as tfq\n",
    "from hep_VQAE import data_preprocessing as dp\n",
    "from hep_VQAE import CAE as cae\n",
    "from tensorflow.keras import layers, losses\n",
    "from matplotlib.colors import LogNorm\n",
    "import h5py\n",
    "from sklearn.model_selection import train_test_split\n",
    "\n",
    "import warnings\n",
    "warnings.filterwarnings('ignore')"
   ]
  },
  {
   "cell_type": "markdown",
   "id": "cf68fb44-2ab1-4237-866e-d71133be57e1",
   "metadata": {
    "jp-MarkdownHeadingCollapsed": true,
    "tags": []
   },
   "source": [
    "## Data "
   ]
  },
  {
   "cell_type": "code",
   "execution_count": 3,
   "id": "d79ad71b-abd8-4e82-8d07-5a10d2839544",
   "metadata": {},
   "outputs": [],
   "source": [
    "f = h5py.File(\"../../data/electron.hdf5\",\"r\")\n",
    "f2 = h5py.File(\"../../data/photon.hdf5\",\"r\")"
   ]
  },
  {
   "cell_type": "code",
   "execution_count": 5,
   "id": "9294cf5d-295c-4ec5-afbe-37534659fc7a",
   "metadata": {},
   "outputs": [],
   "source": [
    "electrons = f.get('X')[:,:,:,0]\n",
    "photons = f2.get('X')[:,:,:,0]\n",
    "electrons_y = f.get('y')[:]\n",
    "photons_y = f2.get('y')[:]"
   ]
  },
  {
   "cell_type": "code",
   "execution_count": 6,
   "id": "1a102627-f5f1-45a2-a347-b86636a9825c",
   "metadata": {},
   "outputs": [],
   "source": [
    "x_train, x_val, y_train, y_val = train_test_split(np.vstack((electrons,photons)),\n",
    "                                                    np.transpose(np.hstack((electrons_y, photons_y))),\n",
    "                                                    test_size=0.2, shuffle=True)\n",
    "\n",
    "x_train, x_test, y_train, y_test = train_test_split(x_train, y_train,\n",
    "                                                    test_size=0.4, shuffle=True)"
   ]
  },
  {
   "cell_type": "code",
   "execution_count": 7,
   "id": "16099271-c963-402c-86e9-f467d540e096",
   "metadata": {},
   "outputs": [],
   "source": [
    "x_train_electrons = x_train[y_train==1]\n",
    "x_train = x_train[y_train==0]\n",
    "\n",
    "x_val_electrons = x_val[y_val==1]\n",
    "x_val = x_val[y_val==0]\n",
    "\n",
    "x_test_electrons = x_test[y_test==1]\n",
    "x_test = x_test[y_test==0]"
   ]
  },
  {
   "cell_type": "code",
   "execution_count": 8,
   "id": "97d5d274-0549-4b9b-89ce-30baece5ccae",
   "metadata": {},
   "outputs": [],
   "source": [
    "x_train = x_train.reshape(x_train.shape + (1,))\n",
    "x_train_electrons = x_train_electrons.reshape(x_train_electrons.shape + (1,))\n",
    "\n",
    "x_val = x_val.reshape(x_val.shape + (1,))\n",
    "x_val_electrons = x_val_electrons.reshape(x_val_electrons.shape + (1,))\n",
    "\n",
    "x_test = x_test.reshape(x_test.shape + (1,))\n",
    "x_test_electrons = x_test_electrons.reshape(x_test_electrons.shape + (1,))"
   ]
  },
  {
   "cell_type": "markdown",
   "id": "3b70a17a-f93d-4f16-9527-8a7604efd668",
   "metadata": {
    "tags": []
   },
   "source": [
    "## VAE model"
   ]
  },
  {
   "cell_type": "code",
   "execution_count": 9,
   "id": "5dc31261-f36a-4223-8ca4-76898f1f8503",
   "metadata": {},
   "outputs": [],
   "source": [
    "ae = cae.VAE()"
   ]
  },
  {
   "cell_type": "code",
   "execution_count": 10,
   "id": "ab6a22d0-e4e4-43e2-9c7d-98b331256a7b",
   "metadata": {},
   "outputs": [],
   "source": [
    "ae.compile(optimizer=tf.keras.optimizers.Adam(0.000001))"
   ]
  },
  {
   "cell_type": "code",
   "execution_count": 11,
   "id": "9774136d-6bf7-4c67-ac55-df60e9e0d4f9",
   "metadata": {},
   "outputs": [
    {
     "name": "stdout",
     "output_type": "stream",
     "text": [
      "Epoch 1/20\n",
      "3749/3749 [==============================] - 63s 17ms/step - loss: 703.3834 - reconstruction_loss: 694.0292 - kl_loss: 0.0670\n",
      "Epoch 2/20\n",
      "3749/3749 [==============================] - 61s 16ms/step - loss: 629.9912 - reconstruction_loss: 552.9076 - kl_loss: 11.3486\n",
      "Epoch 3/20\n",
      "3749/3749 [==============================] - 60s 16ms/step - loss: 290.4435 - reconstruction_loss: 165.5497 - kl_loss: 63.4718\n",
      "Epoch 4/20\n",
      "3749/3749 [==============================] - 60s 16ms/step - loss: 111.0120 - reconstruction_loss: 51.6416 - kl_loss: 39.7865\n",
      "Epoch 5/20\n",
      "3749/3749 [==============================] - 62s 16ms/step - loss: 50.8637 - reconstruction_loss: 22.9819 - kl_loss: 20.3305\n",
      "Epoch 6/20\n",
      "3749/3749 [==============================] - 60s 16ms/step - loss: 27.0219 - reconstruction_loss: 12.7702 - kl_loss: 11.0621\n",
      "Epoch 7/20\n",
      "3749/3749 [==============================] - 60s 16ms/step - loss: 16.6696 - reconstruction_loss: 8.7056 - kl_loss: 6.5247\n",
      "Epoch 8/20\n",
      "3749/3749 [==============================] - 59s 16ms/step - loss: 11.8970 - reconstruction_loss: 6.9723 - kl_loss: 4.2000\n",
      "Epoch 9/20\n",
      "3749/3749 [==============================] - 60s 16ms/step - loss: 9.5198 - reconstruction_loss: 6.1708 - kl_loss: 2.9373\n",
      "Epoch 10/20\n",
      "3749/3749 [==============================] - 60s 16ms/step - loss: 8.1528 - reconstruction_loss: 5.7259 - kl_loss: 2.1972\n",
      "Epoch 11/20\n",
      "3749/3749 [==============================] - 60s 16ms/step - loss: 7.3362 - reconstruction_loss: 5.4164 - kl_loss: 1.7594\n",
      "Epoch 12/20\n",
      "3749/3749 [==============================] - 60s 16ms/step - loss: 6.7511 - reconstruction_loss: 5.1687 - kl_loss: 1.4789\n",
      "Epoch 13/20\n",
      "3749/3749 [==============================] - 59s 16ms/step - loss: 6.2669 - reconstruction_loss: 4.9338 - kl_loss: 1.2489\n",
      "Epoch 14/20\n",
      "3749/3749 [==============================] - 62s 17ms/step - loss: 5.9048 - reconstruction_loss: 4.7442 - kl_loss: 1.0729\n",
      "Epoch 15/20\n",
      "3749/3749 [==============================] - 59s 16ms/step - loss: 5.5680 - reconstruction_loss: 4.5638 - kl_loss: 0.9296\n",
      "Epoch 16/20\n",
      "3749/3749 [==============================] - 61s 16ms/step - loss: 5.2483 - reconstruction_loss: 4.4023 - kl_loss: 0.7878\n",
      "Epoch 17/20\n",
      "3749/3749 [==============================] - 59s 16ms/step - loss: 4.9793 - reconstruction_loss: 4.2517 - kl_loss: 0.6669\n",
      "Epoch 18/20\n",
      "3749/3749 [==============================] - 59s 16ms/step - loss: 4.7460 - reconstruction_loss: 4.1323 - kl_loss: 0.5566\n",
      "Epoch 19/20\n",
      "3749/3749 [==============================] - 60s 16ms/step - loss: 4.5220 - reconstruction_loss: 4.0217 - kl_loss: 0.4476\n",
      "Epoch 20/20\n",
      "3749/3749 [==============================] - 123s 33ms/step - loss: 4.3210 - reconstruction_loss: 3.9221 - kl_loss: 0.3429\n"
     ]
    }
   ],
   "source": [
    "es = tf.keras.callbacks.EarlyStopping(monitor='reconstruction_loss', patience=2)\n",
    "hist = ae.fit(x_train,\n",
    "                epochs=20,\n",
    "                shuffle=True,\n",
    "                #validation_data=x_test,\n",
    "                callbacks=[es])"
   ]
  },
  {
   "cell_type": "code",
   "execution_count": 12,
   "id": "cf6513db-bc04-4843-bbd2-299762371ed8",
   "metadata": {},
   "outputs": [
    {
     "data": {
      "text/plain": [
       "<matplotlib.legend.Legend at 0x7ff3546ea430>"
      ]
     },
     "execution_count": 12,
     "metadata": {},
     "output_type": "execute_result"
    },
    {
     "data": {
      "image/png": "[encoded data removed]",
      "text/plain": [
       "<Figure size 432x288 with 1 Axes>"
      ]
     },
     "metadata": {
      "needs_background": "light"
     },
     "output_type": "display_data"
    }
   ],
   "source": [
    "plt.plot(hist.history['loss'], label=\"training\")\n",
    "plt.plot(hist.history['reconstruction_loss'], label=\"validation\")\n",
    "plt.yscale('log')\n",
    "plt.legend()"
   ]
  },
  {
   "cell_type": "markdown",
   "id": "4b2330e9-9726-4773-bc36-4d187fa16c84",
   "metadata": {},
   "source": [
    "## Evaluation"
   ]
  },
  {
   "cell_type": "code",
   "execution_count": 13,
   "id": "efa91ba1-48b2-457a-8b13-3df55540f30b",
   "metadata": {},
   "outputs": [],
   "source": [
    "def mae(x):\n",
    "    pred = ae.predict(x)\n",
    "    return np.mean(np.abs(x - pred)**2,axis=(1,2,3))\n",
    "\n",
    "def recon_acc(x):\n",
    "    return 1 - mae(x)"
   ]
  },
  {
   "cell_type": "code",
   "execution_count": 14,
   "id": "371bddfd-dc3e-4726-8e5c-61f18bdfe5fd",
   "metadata": {},
   "outputs": [],
   "source": [
    "photons = recon_acc(x_test)\n",
    "electrons = recon_acc(x_test_electrons)"
   ]
  },
  {
   "cell_type": "code",
   "execution_count": 15,
   "id": "a8896de0-44bb-4b44-bcfa-d57b474ede3a",
   "metadata": {},
   "outputs": [],
   "source": [
    "photon_energy = np.sum(x_test,axis=(1,2,3))\n",
    "electron_energy = np.sum(x_test_electrons,axis=(1,2,3))"
   ]
  },
  {
   "cell_type": "code",
   "execution_count": 16,
   "id": "a9910211-ffe5-45ac-b538-ed350dd5a00f",
   "metadata": {},
   "outputs": [
    {
     "name": "stdout",
     "output_type": "stream",
     "text": [
      "0.9998498\n",
      "0.9998787\n"
     ]
    },
    {
     "data": {
      "text/plain": [
       "<matplotlib.legend.Legend at 0x7ff351fb3ac0>"
      ]
     },
     "execution_count": 16,
     "metadata": {},
     "output_type": "execute_result"
    },
    {
     "data": {
      "image/png": "[encoded data removed]",
      "text/plain": [
       "<Figure size 432x288 with 1 Axes>"
      ]
     },
     "metadata": {
      "needs_background": "light"
     },
     "output_type": "display_data"
    }
   ],
   "source": [
    "print(np.median(photons))\n",
    "bins = np.histogram(np.hstack((photons, electrons)), bins=40)[1]\n",
    "plt.hist(photons, histtype='step', label=\"photons\",bins=bins)#,bins=[0.0004,0.0005,0.0006,0.0007,0.0008,0.0009,0.001,0.0011,0.0012,0.0013])\n",
    "print(np.median(electrons))\n",
    "plt.hist(electrons, histtype='step', label=\"electrons\",bins=bins)#,bins=[0.0004,0.0005,0.0006,0.0007,0.0008,0.0009,0.001,0.0011,0.0012,0.0013])\n",
    "plt.legend()"
   ]
  },
  {
   "cell_type": "code",
   "execution_count": 17,
   "id": "1daa98ba-9d85-4193-a078-6faeefc9da0a",
   "metadata": {},
   "outputs": [
    {
     "data": {
      "text/plain": [
       "<matplotlib.legend.Legend at 0x7ff35174ef70>"
      ]
     },
     "execution_count": 17,
     "metadata": {},
     "output_type": "execute_result"
    },
    {
     "data": {
      "image/png": "[encoded data removed]",
      "text/plain": [
       "<Figure size 432x288 with 1 Axes>"
      ]
     },
     "metadata": {
      "needs_background": "light"
     },
     "output_type": "display_data"
    }
   ],
   "source": [
    "bins = np.histogram(np.hstack((photon_energy, electron_energy)), bins=35)[1]\n",
    "plt.hist(photon_energy, histtype='step', label=\"photons\",bins=bins)#,bins=[0.0004,0.0005,0.0006,0.0007,0.0008,0.0009,0.001,0.0011,0.0012,0.0013])\n",
    "plt.hist(electron_energy, histtype='step', label=\"electrons\",bins=bins)#,bins=[0.0004,0.0005,0.0006,0.0007,0.0008,0.0009,0.001,0.0011,0.0012,0.0013])\n",
    "plt.legend()"
   ]
  },
  {
   "cell_type": "code",
   "execution_count": 18,
   "id": "f6a97b8a-600d-4a76-bd38-ecc02b9a1e1b",
   "metadata": {},
   "outputs": [
    {
     "data": {
      "text/plain": [
       "[<matplotlib.lines.Line2D at 0x7ff3516c2d60>]"
      ]
     },
     "execution_count": 18,
     "metadata": {},
     "output_type": "execute_result"
    },
    {
     "data": {
      "image/png": "[encoded data removed]",
      "text/plain": [
       "<Figure size 432x288 with 1 Axes>"
      ]
     },
     "metadata": {
      "needs_background": "light"
     },
     "output_type": "display_data"
    }
   ],
   "source": [
    "def acc_for_threshold(T):\n",
    "    # sixes that are predicted photon\n",
    "    num_six_right = np.sum(photons > T)\n",
    "    # threes that are predicted three\n",
    "    num_three_right = np.sum(electrons < T)\n",
    "   \n",
    "    acc = (num_six_right + num_three_right)/(len(photons) + len(electrons))\n",
    "    return acc\n",
    "\n",
    "Ts = np.linspace(0.995,1,100)\n",
    "accs = []\n",
    "for i in Ts:\n",
    "    accs.append(acc_for_threshold(i))\n",
    "plt.plot(Ts, accs) "
   ]
  },
  {
   "cell_type": "code",
   "execution_count": 79,
   "id": "acda9cae-1a82-4766-8d51-81566f16bd9c",
   "metadata": {},
   "outputs": [
    {
     "data": {
      "text/plain": [
       "<matplotlib.colorbar.Colorbar at 0x7ff34c7a4580>"
      ]
     },
     "execution_count": 79,
     "metadata": {},
     "output_type": "execute_result"
    },
    {
     "data": {
      "image/png": "[encoded data removed]",
      "text/plain": [
       "<Figure size 432x288 with 2 Axes>"
      ]
     },
     "metadata": {
      "needs_background": "light"
     },
     "output_type": "display_data"
    }
   ],
   "source": [
    "num = 50\n",
    "testimg = ae.predict(x_test[num].reshape((1,32,32,1)))\n",
    "plt.imshow(x_test[num].reshape((32,32)),cmap=\"binary\",norm=LogNorm())\n",
    "plt.colorbar()"
   ]
  },
  {
   "cell_type": "code",
   "execution_count": 80,
   "id": "8bc00fcb-0176-462a-8fe3-a40896c8081b",
   "metadata": {},
   "outputs": [
    {
     "data": {
      "text/plain": [
       "<matplotlib.colorbar.Colorbar at 0x7ff34c09fcd0>"
      ]
     },
     "execution_count": 80,
     "metadata": {},
     "output_type": "execute_result"
    },
    {
     "data": {
      "image/png": "[encoded data removed]",
      "text/plain": [
       "<Figure size 432x288 with 2 Axes>"
      ]
     },
     "metadata": {
      "needs_background": "light"
     },
     "output_type": "display_data"
    }
   ],
   "source": [
    "plt.imshow(testimg.reshape((32,32)),cmap=\"binary\",norm=LogNorm())\n",
    "plt.colorbar()"
   ]
  }
 ],
 "metadata": {
  "kernelspec": {
   "display_name": "tfq",
   "language": "python",
   "name": "tfq"
  },
  "language_info": {
   "codemirror_mode": {
    "name": "ipython",
    "version": 3
   },
   "file_extension": ".py",
   "mimetype": "text/x-python",
   "name": "python",
   "nbconvert_exporter": "python",
   "pygments_lexer": "ipython3",
   "version": "3.9.12"
  }
 },
 "nbformat": 4,
 "nbformat_minor": 5
}
