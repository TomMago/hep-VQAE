{
 "cells": [
  {
   "cell_type": "markdown",
   "id": "9080d094-8323-45f5-a578-aeed60dc8ab0",
   "metadata": {
    "tags": []
   },
   "source": [
    "# Electron Photon tagging\n",
    "\n",
    "Here I implement the improved QAE shown in 2112.04958 on the electron-photon Dataset"
   ]
  },
  {
   "cell_type": "markdown",
   "id": "d08f878f-c867-4bd4-943d-f39a52bc16d2",
   "metadata": {
    "tags": []
   },
   "source": [
    "### imports"
   ]
  },
  {
   "cell_type": "code",
   "execution_count": 1,
   "id": "5b53f85c-d0fb-489d-b816-6ed710eeda35",
   "metadata": {},
   "outputs": [
    {
     "name": "stderr",
     "output_type": "stream",
     "text": [
      "2022-07-02 02:08:11.857313: W tensorflow/stream_executor/platform/default/dso_loader.cc:64] Could not load dynamic library 'libcudart.so.11.0'; dlerror: libcudart.so.11.0: cannot open shared object file: No such file or directory\n",
      "2022-07-02 02:08:11.857332: I tensorflow/stream_executor/cuda/cudart_stub.cc:29] Ignore above cudart dlerror if you do not have a GPU set up on your machine.\n",
      "2022-07-02 02:08:12.857040: W tensorflow/stream_executor/platform/default/dso_loader.cc:64] Could not load dynamic library 'libcuda.so.1'; dlerror: libcuda.so.1: cannot open shared object file: No such file or directory\n",
      "2022-07-02 02:08:12.857061: W tensorflow/stream_executor/cuda/cuda_driver.cc:269] failed call to cuInit: UNKNOWN ERROR (303)\n",
      "2022-07-02 02:08:12.857075: I tensorflow/stream_executor/cuda/cuda_diagnostics.cc:156] kernel driver does not appear to be running on this host (tomskopfbahnhof): /proc/driver/nvidia/version does not exist\n",
      "2022-07-02 02:08:12.857265: I tensorflow/core/platform/cpu_feature_guard.cc:151] This TensorFlow binary is optimized with oneAPI Deep Neural Network Library (oneDNN) to use the following CPU instructions in performance-critical operations:  AVX2 FMA\n",
      "To enable them in other operations, rebuild TensorFlow with the appropriate compiler flags.\n"
     ]
    }
   ],
   "source": [
    "import numpy as np\n",
    "import matplotlib.pyplot as plt\n",
    "from cirq.contrib.svg import SVGCircuit\n",
    "import tensorflow as tf\n",
    "import tensorflow_quantum as tfq\n",
    "from hep_VQAE import data_preprocessing as dp\n",
    "import h5py\n",
    "from sklearn.model_selection import train_test_split\n",
    "from hep_VQAE import QAE as qae\n",
    "\n",
    "import warnings\n",
    "warnings.filterwarnings('ignore')"
   ]
  },
  {
   "cell_type": "markdown",
   "id": "f7dcc195-6dee-4e6f-b5d3-134312da0333",
   "metadata": {
    "jp-MarkdownHeadingCollapsed": true,
    "tags": []
   },
   "source": [
    "## Data"
   ]
  },
  {
   "cell_type": "code",
   "execution_count": 3,
   "id": "d79ad71b-abd8-4e82-8d07-5a10d2839544",
   "metadata": {},
   "outputs": [],
   "source": [
    "f = h5py.File(\"../../data/electron.hdf5\",\"r\")\n",
    "f2 = h5py.File(\"../../data/photon.hdf5\",\"r\")"
   ]
  },
  {
   "cell_type": "code",
   "execution_count": 5,
   "id": "9294cf5d-295c-4ec5-afbe-37534659fc7a",
   "metadata": {},
   "outputs": [],
   "source": [
    "electrons = f.get('X')[:,:,:,0]\n",
    "photons = f2.get('X')[:,:,:,0]\n",
    "electrons_y = f.get('y')[:]\n",
    "photons_y = f2.get('y')[:]"
   ]
  },
  {
   "cell_type": "code",
   "execution_count": 6,
   "id": "1a102627-f5f1-45a2-a347-b86636a9825c",
   "metadata": {},
   "outputs": [],
   "source": [
    "x_train, x_val, y_train, y_val = train_test_split(np.vstack((electrons,photons)),\n",
    "                                                    np.transpose(np.hstack((electrons_y, photons_y))),\n",
    "                                                    test_size=0.2, shuffle=True)\n",
    "\n",
    "x_train, x_test, y_train, y_test = train_test_split(x_train, y_train,\n",
    "                                                    test_size=0.4, shuffle=True)"
   ]
  },
  {
   "cell_type": "code",
   "execution_count": 7,
   "id": "a4449c9c-32fd-42f2-9cd8-f3d31fcbed33",
   "metadata": {},
   "outputs": [],
   "source": [
    "DOWNSCALE = 3\n",
    "DATA_DIMENSION = DOWNSCALE*DOWNSCALE\n",
    "LATENT_BITS = 2\n",
    "\n",
    "x_train, x_val, x_test = dp.PCA_reduce(x_train, DATA_DIMENSION, val_data=x_val, test_data=x_test)"
   ]
  },
  {
   "cell_type": "code",
   "execution_count": 8,
   "id": "16099271-c963-402c-86e9-f467d540e096",
   "metadata": {},
   "outputs": [],
   "source": [
    "x_train_electrons = x_train[y_train==1]\n",
    "x_train = x_train[y_train==0]\n",
    "\n",
    "x_val_electrons = x_val[y_val==1]\n",
    "x_val = x_val[y_val==0]\n",
    "\n",
    "x_test_electrons = x_test[y_test==1]\n",
    "x_test = x_test[y_test==0]"
   ]
  },
  {
   "cell_type": "code",
   "execution_count": 9,
   "id": "5dc31261-f36a-4223-8ca4-76898f1f8503",
   "metadata": {},
   "outputs": [],
   "source": [
    "x_train_circuit = [dp.input_states_SQAE(x,DATA_DIMENSION,LATENT_BITS) for x in x_train]\n",
    "x_val_circuit = [dp.input_states_SQAE(x,DATA_DIMENSION,LATENT_BITS) for x in x_val]\n",
    "x_test_circuit = [dp.input_states_SQAE(x,DATA_DIMENSION,LATENT_BITS) for x in x_test]\n",
    "\n",
    "x_train_circuit_electrons = [dp.input_states_SQAE(x,DATA_DIMENSION,LATENT_BITS) for x in x_train_electrons]\n",
    "x_val_circuit_electrons = [dp.input_states_SQAE(x,DATA_DIMENSION,LATENT_BITS) for x in x_val_electrons]\n",
    "x_test_circuit_electrons = [dp.input_states_SQAE(x,DATA_DIMENSION,LATENT_BITS) for x in x_test_electrons]"
   ]
  },
  {
   "cell_type": "code",
   "execution_count": 10,
   "id": "e087dfd7-d940-4154-b9bd-b565cf344b0c",
   "metadata": {},
   "outputs": [],
   "source": [
    "x_train_tf = tfq.convert_to_tensor(x_train_circuit)\n",
    "x_val_tf = tfq.convert_to_tensor(x_val_circuit)\n",
    "x_test_tf = tfq.convert_to_tensor(x_test_circuit)\n",
    "\n",
    "x_train_tf_electrons = tfq.convert_to_tensor(x_train_circuit_electrons)\n",
    "x_val_tf_electrons = tfq.convert_to_tensor(x_val_circuit_electrons)\n",
    "x_test_tf_electrons = tfq.convert_to_tensor(x_test_circuit_electrons)"
   ]
  },
  {
   "cell_type": "markdown",
   "id": "47b5cdc6-df77-42a4-a44a-312b124f8ea4",
   "metadata": {
    "jp-MarkdownHeadingCollapsed": true,
    "tags": []
   },
   "source": [
    "## SQAE model"
   ]
  },
  {
   "cell_type": "code",
   "execution_count": 11,
   "id": "ab6a22d0-e4e4-43e2-9c7d-98b331256a7b",
   "metadata": {},
   "outputs": [],
   "source": [
    "model = qae.SQAE_model(9,LATENT_BITS,7)"
   ]
  },
  {
   "cell_type": "code",
   "execution_count": 12,
   "id": "0b6de641-6eaa-45b4-b2fc-ff52c896ec87",
   "metadata": {},
   "outputs": [],
   "source": [
    "model.compile(loss='mse', optimizer=tf.keras.optimizers.Adam(lr=0.01))"
   ]
  },
  {
   "cell_type": "code",
   "execution_count": 13,
   "id": "9774136d-6bf7-4c67-ac55-df60e9e0d4f9",
   "metadata": {},
   "outputs": [],
   "source": [
    "y_train_ones = np.ones(shape=len(x_train_tf))\n",
    "y_val_ones = np.ones(shape=len(x_val_tf))\n",
    "y_test_ones = np.ones(shape=len(x_test_tf))\n",
    "\n",
    "y_train_ones_electrons = np.ones(shape=len(x_train_tf_electrons))\n",
    "y_val_ones_electrons = np.ones(shape=len(x_val_tf_electrons))\n",
    "y_test_ones_electrons = np.ones(shape=len(x_test_tf_electrons))"
   ]
  },
  {
   "cell_type": "code",
   "execution_count": 14,
   "id": "3daabf73-2c48-4420-a878-5cce4e89d2bf",
   "metadata": {},
   "outputs": [
    {
     "name": "stdout",
     "output_type": "stream",
     "text": [
      "Epoch 1/3\n",
      "1870/1870 [==============================] - 12455s 7s/step - loss: 0.0483 - val_loss: 0.0205\n",
      "Epoch 2/3\n",
      "1870/1870 [==============================] - 12380s 7s/step - loss: 0.0207 - val_loss: 0.0207\n",
      "Epoch 3/3\n",
      "1870/1870 [==============================] - 12534s 7s/step - loss: 0.0207 - val_loss: 0.0205\n"
     ]
    }
   ],
   "source": [
    "es = tf.keras.callbacks.EarlyStopping(monitor='val_loss', patience=5)\n",
    "history = model.fit(x_train_tf, y_train_ones, epochs=3, batch_size=64, validation_data=(x_val_tf, y_val_ones), callbacks=[es])"
   ]
  },
  {
   "cell_type": "code",
   "execution_count": 15,
   "id": "cf6513db-bc04-4843-bbd2-299762371ed8",
   "metadata": {},
   "outputs": [
    {
     "data": {
      "text/plain": [
       "<matplotlib.legend.Legend at 0x7f3f243f3550>"
      ]
     },
     "execution_count": 15,
     "metadata": {},
     "output_type": "execute_result"
    },
    {
     "data": {
      "image/png": "[encoded data removed]",
      "text/plain": [
       "<Figure size 432x288 with 1 Axes>"
      ]
     },
     "metadata": {
      "needs_background": "light"
     },
     "output_type": "display_data"
    }
   ],
   "source": [
    "plt.plot(history.history['loss'], label=\"training\")\n",
    "plt.plot(history.history['val_loss'], label=\"validation\")\n",
    "plt.yscale('log')\n",
    "plt.xlabel(\"epoch\")\n",
    "plt.ylabel(\"1-Fidelity\")\n",
    "plt.legend()"
   ]
  },
  {
   "cell_type": "code",
   "execution_count": 16,
   "id": "be996517-fc8e-4023-b19a-33d985748c99",
   "metadata": {},
   "outputs": [
    {
     "name": "stdout",
     "output_type": "stream",
     "text": [
      "0.9102464\n",
      "0.91650814\n"
     ]
    },
    {
     "data": {
      "text/plain": [
       "<matplotlib.legend.Legend at 0x7f3c74c5f130>"
      ]
     },
     "execution_count": 16,
     "metadata": {},
     "output_type": "execute_result"
    },
    {
     "data": {
      "image/png": "[encoded data removed]",
      "text/plain": [
       "<Figure size 432x288 with 1 Axes>"
      ]
     },
     "metadata": {
      "needs_background": "light"
     },
     "output_type": "display_data"
    }
   ],
   "source": [
    "pred_photon = model.predict(x_test_tf)\n",
    "print(np.median(pred_photon))\n",
    "pred_electron = model.predict(x_test_tf_electrons)\n",
    "print(np.median(pred_electron))\n",
    "bins = np.histogram(np.hstack((pred_photon.reshape((pred_photon.shape[0],)), pred_electron.reshape((pred_electron.shape[0],)))), bins=10)[1]\n",
    "plt.hist(pred_photon, histtype='step', label=\"photons\",bins=bins)\n",
    "plt.hist(pred_electron, histtype='step', label=\"electron\",bins=bins)\n",
    "plt.xlabel(\"Reconstruction Fidelity\")\n",
    "plt.legend()"
   ]
  },
  {
   "cell_type": "code",
   "execution_count": 17,
   "id": "b675eb11-6caf-407b-adcf-b1c961377340",
   "metadata": {},
   "outputs": [
    {
     "data": {
      "text/plain": [
       "[<matplotlib.lines.Line2D at 0x7f3c7477ed90>]"
      ]
     },
     "execution_count": 17,
     "metadata": {},
     "output_type": "execute_result"
    },
    {
     "data": {
      "image/png": "[encoded data removed]",
      "text/plain": [
       "<Figure size 432x288 with 1 Axes>"
      ]
     },
     "metadata": {
      "needs_background": "light"
     },
     "output_type": "display_data"
    }
   ],
   "source": [
    "def acc_for_threshold(T):\n",
    "    # sixes that are predicted six\n",
    "    num_six_right = np.sum(pred_photon > T)\n",
    "    # threes that are predicted three\n",
    "    num_three_right = np.sum(pred_electron < T)\n",
    "    acc = (num_six_right + num_three_right)/(len(pred_photon) + len(pred_electron))\n",
    "    return acc\n",
    "\n",
    "Ts = np.linspace(0,1,100)\n",
    "accs = []\n",
    "for i in Ts:\n",
    "    accs.append(acc_for_threshold(i))\n",
    "plt.plot(Ts, accs)  "
   ]
  }
 ],
 "metadata": {
  "kernelspec": {
   "display_name": "env",
   "language": "python",
   "name": "env"
  },
  "language_info": {
   "codemirror_mode": {
    "name": "ipython",
    "version": 3
   },
   "file_extension": ".py",
   "mimetype": "text/x-python",
   "name": "python",
   "nbconvert_exporter": "python",
   "pygments_lexer": "ipython3",
   "version": "3.9.13"
  }
 },
 "nbformat": 4,
 "nbformat_minor": 5
}
