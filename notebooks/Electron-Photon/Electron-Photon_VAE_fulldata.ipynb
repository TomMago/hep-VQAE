{
 "cells": [
  {
   "cell_type": "markdown",
   "id": "9080d094-8323-45f5-a578-aeed60dc8ab0",
   "metadata": {
    "tags": []
   },
   "source": [
    "# Electron Photon tagging\n",
    "\n",
    "This is a first test to implement a QAE. \n",
    "The task is to identify Electrons and Photons from em-calorimeter images."
   ]
  },
  {
   "cell_type": "code",
   "execution_count": 1,
   "id": "5b53f85c-d0fb-489d-b816-6ed710eeda35",
   "metadata": {},
   "outputs": [
    {
     "name": "stderr",
     "output_type": "stream",
     "text": [
      "2022-07-06 11:32:48.687933: W tensorflow/stream_executor/platform/default/dso_loader.cc:64] Could not load dynamic library 'libcudart.so.11.0'; dlerror: libcudart.so.11.0: cannot open shared object file: No such file or directory\n",
      "2022-07-06 11:32:48.688011: I tensorflow/stream_executor/cuda/cudart_stub.cc:29] Ignore above cudart dlerror if you do not have a GPU set up on your machine.\n",
      "2022-07-06 11:32:50.775025: W tensorflow/stream_executor/platform/default/dso_loader.cc:64] Could not load dynamic library 'libcuda.so.1'; dlerror: libcuda.so.1: cannot open shared object file: No such file or directory\n",
      "2022-07-06 11:32:50.775088: W tensorflow/stream_executor/cuda/cuda_driver.cc:269] failed call to cuInit: UNKNOWN ERROR (303)\n",
      "2022-07-06 11:32:50.775124: I tensorflow/stream_executor/cuda/cuda_diagnostics.cc:156] kernel driver does not appear to be running on this host (tomskopfbahnhof): /proc/driver/nvidia/version does not exist\n",
      "2022-07-06 11:32:50.775541: I tensorflow/core/platform/cpu_feature_guard.cc:151] This TensorFlow binary is optimized with oneAPI Deep Neural Network Library (oneDNN) to use the following CPU instructions in performance-critical operations:  AVX2 FMA\n",
      "To enable them in other operations, rebuild TensorFlow with the appropriate compiler flags.\n"
     ]
    }
   ],
   "source": [
    "import numpy as np\n",
    "import matplotlib.pyplot as plt\n",
    "from cirq.contrib.svg import SVGCircuit\n",
    "import tensorflow as tf\n",
    "import tensorflow_quantum as tfq\n",
    "from hep_VQAE import data_preprocessing as dp\n",
    "from hep_VQAE import CAE as cae\n",
    "from tensorflow.keras import layers, losses\n",
    "\n",
    "import warnings\n",
    "warnings.filterwarnings('ignore')"
   ]
  },
  {
   "cell_type": "code",
   "execution_count": 2,
   "id": "3fb83a3c-ab8a-4d70-9d10-c201957e25fa",
   "metadata": {},
   "outputs": [],
   "source": [
    "import h5py"
   ]
  },
  {
   "cell_type": "code",
   "execution_count": 3,
   "id": "d79ad71b-abd8-4e82-8d07-5a10d2839544",
   "metadata": {},
   "outputs": [],
   "source": [
    "f = h5py.File(\"../../data/electron.hdf5\",\"r\")\n",
    "f2 = h5py.File(\"../../data/photon.hdf5\",\"r\")"
   ]
  },
  {
   "cell_type": "code",
   "execution_count": 4,
   "id": "759e8cb6-7894-45ab-8067-fd84f923aa8e",
   "metadata": {},
   "outputs": [
    {
     "data": {
      "text/plain": [
       "(249000, 32, 32, 2)"
      ]
     },
     "execution_count": 4,
     "metadata": {},
     "output_type": "execute_result"
    }
   ],
   "source": [
    "f.get('X')[:].shape"
   ]
  },
  {
   "cell_type": "code",
   "execution_count": 5,
   "id": "9294cf5d-295c-4ec5-afbe-37534659fc7a",
   "metadata": {},
   "outputs": [],
   "source": [
    "electrons = f.get('X')[:,:,:,0]\n",
    "photons = f2.get('X')[:,:,:,0]\n",
    "electrons_y = f.get('y')[:]\n",
    "photons_y = f2.get('y')[:]"
   ]
  },
  {
   "cell_type": "code",
   "execution_count": 6,
   "id": "1a102627-f5f1-45a2-a347-b86636a9825c",
   "metadata": {},
   "outputs": [],
   "source": [
    "from sklearn.model_selection import train_test_split\n",
    "\n",
    "\n",
    "\n",
    "x_train, x_val, y_train, y_val = train_test_split(np.vstack((electrons,photons)),\n",
    "                                                    np.transpose(np.hstack((electrons_y, photons_y))),\n",
    "                                                    test_size=0.2, shuffle=True)\n",
    "\n",
    "x_train, x_test, y_train, y_test = train_test_split(x_train, y_train,\n",
    "                                                    test_size=0.4, shuffle=True)"
   ]
  },
  {
   "cell_type": "code",
   "execution_count": 7,
   "id": "16099271-c963-402c-86e9-f467d540e096",
   "metadata": {},
   "outputs": [],
   "source": [
    "x_train_electrons = x_train[y_train==1]\n",
    "x_train = x_train[y_train==0]\n",
    "\n",
    "x_val_electrons = x_val[y_val==1]\n",
    "x_val = x_val[y_val==0]\n",
    "\n",
    "x_test_electrons = x_test[y_test==1]\n",
    "x_test = x_test[y_test==0]"
   ]
  },
  {
   "cell_type": "code",
   "execution_count": 8,
   "id": "97d5d274-0549-4b9b-89ce-30baece5ccae",
   "metadata": {},
   "outputs": [],
   "source": [
    "x_train = x_train.reshape(x_train.shape + (1,))\n",
    "x_train_electrons = x_train_electrons.reshape(x_train_electrons.shape + (1,))\n",
    "\n",
    "x_val = x_val.reshape(x_val.shape + (1,))\n",
    "x_val_electrons = x_val_electrons.reshape(x_val_electrons.shape + (1,))\n",
    "\n",
    "x_test = x_test.reshape(x_test.shape + (1,))\n",
    "x_test_electrons = x_test_electrons.reshape(x_test_electrons.shape + (1,))"
   ]
  },
  {
   "cell_type": "code",
   "execution_count": 9,
   "id": "5dc31261-f36a-4223-8ca4-76898f1f8503",
   "metadata": {},
   "outputs": [],
   "source": [
    "latent_dim = 2\n",
    "ae = cae.VAE()"
   ]
  },
  {
   "cell_type": "code",
   "execution_count": 10,
   "id": "ab6a22d0-e4e4-43e2-9c7d-98b331256a7b",
   "metadata": {},
   "outputs": [],
   "source": [
    "ae.compile(optimizer=tf.keras.optimizers.Adam())"
   ]
  },
  {
   "cell_type": "code",
   "execution_count": 11,
   "id": "9774136d-6bf7-4c67-ac55-df60e9e0d4f9",
   "metadata": {},
   "outputs": [
    {
     "name": "stdout",
     "output_type": "stream",
     "text": [
      "Epoch 1/12\n",
      "3744/3744 [==============================] - 131s 34ms/step - loss: 23.3319 - reconstruction_loss: 6.3363 - kl_loss: 0.1538\n",
      "Epoch 2/12\n",
      "3744/3744 [==============================] - 135s 36ms/step - loss: 3.2011 - reconstruction_loss: 3.1997 - kl_loss: 2.0622e-06\n",
      "Epoch 3/12\n",
      "3744/3744 [==============================] - 126s 34ms/step - loss: 3.1985 - reconstruction_loss: 3.1998 - kl_loss: 1.1887e-06\n",
      "Epoch 4/12\n",
      "3744/3744 [==============================] - 135s 36ms/step - loss: 3.1979 - reconstruction_loss: 3.1997 - kl_loss: 1.2462e-06\n",
      "Epoch 5/12\n",
      "3744/3744 [==============================] - 125s 33ms/step - loss: 3.2026 - reconstruction_loss: 3.1986 - kl_loss: 1.1749e-06\n",
      "Epoch 6/12\n",
      "3744/3744 [==============================] - 123s 33ms/step - loss: 3.1998 - reconstruction_loss: 3.1982 - kl_loss: 1.3827e-06\n",
      "Epoch 7/12\n",
      "3744/3744 [==============================] - 136s 36ms/step - loss: 3.1979 - reconstruction_loss: 3.1975 - kl_loss: 1.2331e-06\n",
      "Epoch 8/12\n",
      "3744/3744 [==============================] - 132s 35ms/step - loss: 3.1978 - reconstruction_loss: 3.1976 - kl_loss: 1.0960e-06\n",
      "Epoch 9/12\n",
      "3744/3744 [==============================] - 122s 33ms/step - loss: 3.1912 - reconstruction_loss: 3.1975 - kl_loss: 9.0325e-07\n",
      "Epoch 10/12\n",
      "3744/3744 [==============================] - 126s 34ms/step - loss: 3.2023 - reconstruction_loss: 3.1971 - kl_loss: 8.0936e-07\n",
      "Epoch 11/12\n",
      "3744/3744 [==============================] - 123s 33ms/step - loss: 3.1988 - reconstruction_loss: 3.1972 - kl_loss: 8.9333e-07\n",
      "Epoch 12/12\n",
      "3744/3744 [==============================] - 120s 32ms/step - loss: 3.1925 - reconstruction_loss: 3.1969 - kl_loss: 7.3810e-07\n"
     ]
    }
   ],
   "source": [
    "es = tf.keras.callbacks.EarlyStopping(monitor='reconstruction_loss', patience=3)\n",
    "hist = ae.fit(x_train,\n",
    "                epochs=12,\n",
    "                shuffle=True,\n",
    "                #validation_data=x_test,\n",
    "                callbacks=[es])"
   ]
  },
  {
   "cell_type": "code",
   "execution_count": 12,
   "id": "cf6513db-bc04-4843-bbd2-299762371ed8",
   "metadata": {},
   "outputs": [
    {
     "data": {
      "text/plain": [
       "<matplotlib.legend.Legend at 0x7f43fafecd00>"
      ]
     },
     "execution_count": 12,
     "metadata": {},
     "output_type": "execute_result"
    },
    {
     "data": {
      "image/png": "[encoded data removed]",
      "text/plain": [
       "<Figure size 432x288 with 1 Axes>"
      ]
     },
     "metadata": {
      "needs_background": "light"
     },
     "output_type": "display_data"
    }
   ],
   "source": [
    "plt.plot(hist.history['loss'], label=\"training\")\n",
    "plt.plot(hist.history['reconstruction_loss'], label=\"validation\")\n",
    "plt.yscale('log')\n",
    "plt.legend()"
   ]
  },
  {
   "cell_type": "code",
   "execution_count": 13,
   "id": "efa91ba1-48b2-457a-8b13-3df55540f30b",
   "metadata": {},
   "outputs": [],
   "source": [
    "def mae(x):\n",
    "    pred = ae.predict(x)\n",
    "    return np.mean(np.abs(x - pred)**2,axis=(1,2,3))\n",
    "\n",
    "def recon_acc(x):\n",
    "    return 1 - mae(x)\n",
    "\n",
    "def IF(x):\n",
    "    pred = ae.predict(x)\n",
    "    return 1 - np.sum((x - pred)**2,axis=(1,2))/np.sum(x*pred,axis=(1,2))\n",
    "def IF2(x):\n",
    "    pred = ae.predict(x)\n",
    "    return 1 - np.sum((x - pred)**2,axis=(1,2))/np.sum(x**2,axis=(1,2))"
   ]
  },
  {
   "cell_type": "code",
   "execution_count": 19,
   "id": "37b7660b-d3a8-4f97-9d8d-5f8acbb38d06",
   "metadata": {},
   "outputs": [
    {
     "data": {
      "text/plain": [
       "(79731, 32, 32, 1)"
      ]
     },
     "execution_count": 19,
     "metadata": {},
     "output_type": "execute_result"
    }
   ],
   "source": []
  },
  {
   "cell_type": "code",
   "execution_count": 17,
   "id": "371bddfd-dc3e-4726-8e5c-61f18bdfe5fd",
   "metadata": {},
   "outputs": [],
   "source": [
    "photons = recon_acc(x_test)\n",
    "electrons = recon_acc(x_test_electrons)\n",
    "\n"
   ]
  },
  {
   "cell_type": "code",
   "execution_count": 20,
   "id": "a8896de0-44bb-4b44-bcfa-d57b474ede3a",
   "metadata": {},
   "outputs": [],
   "source": [
    "photon_energy = np.sum(x_test,axis=(1,2,3))\n",
    "electron_energy = np.sum(x_test_electrons,axis=(1,2,3))"
   ]
  },
  {
   "cell_type": "code",
   "execution_count": 15,
   "id": "a9910211-ffe5-45ac-b538-ed350dd5a00f",
   "metadata": {},
   "outputs": [
    {
     "name": "stdout",
     "output_type": "stream",
     "text": [
      "0.99992007\n",
      "0.9999205\n"
     ]
    },
    {
     "data": {
      "text/plain": [
       "<matplotlib.legend.Legend at 0x7f434c481fa0>"
      ]
     },
     "execution_count": 15,
     "metadata": {},
     "output_type": "execute_result"
    },
    {
     "data": {
      "image/png": "[encoded data removed]",
      "text/plain": [
       "<Figure size 432x288 with 1 Axes>"
      ]
     },
     "metadata": {
      "needs_background": "light"
     },
     "output_type": "display_data"
    }
   ],
   "source": [
    "print(np.median(photons))\n",
    "bins = np.histogram(np.hstack((photons, electrons)), bins=10)[1]\n",
    "plt.hist(photons, histtype='step', label=\"photons\",bins=bins)#,bins=[0.0004,0.0005,0.0006,0.0007,0.0008,0.0009,0.001,0.0011,0.0012,0.0013])\n",
    "print(np.median(electrons))\n",
    "plt.hist(electrons, histtype='step', label=\"electrons\",bins=bins)#,bins=[0.0004,0.0005,0.0006,0.0007,0.0008,0.0009,0.001,0.0011,0.0012,0.0013])\n",
    "plt.legend()"
   ]
  },
  {
   "cell_type": "code",
   "execution_count": 21,
   "id": "1daa98ba-9d85-4193-a078-6faeefc9da0a",
   "metadata": {},
   "outputs": [
    {
     "data": {
      "text/plain": [
       "<matplotlib.legend.Legend at 0x7f434bcdbdf0>"
      ]
     },
     "execution_count": 21,
     "metadata": {},
     "output_type": "execute_result"
    },
    {
     "data": {
      "image/png": "[encoded data removed]",
      "text/plain": [
       "<Figure size 432x288 with 1 Axes>"
      ]
     },
     "metadata": {
      "needs_background": "light"
     },
     "output_type": "display_data"
    }
   ],
   "source": [
    "bins = np.histogram(np.hstack((photon_energy, electron_energy)), bins=10)[1]\n",
    "plt.hist(photon_energy, histtype='step', label=\"photons\",bins=bins)#,bins=[0.0004,0.0005,0.0006,0.0007,0.0008,0.0009,0.001,0.0011,0.0012,0.0013])\n",
    "plt.hist(electron_energy, histtype='step', label=\"electrons\",bins=bins)#,bins=[0.0004,0.0005,0.0006,0.0007,0.0008,0.0009,0.001,0.0011,0.0012,0.0013])\n",
    "plt.legend()"
   ]
  },
  {
   "cell_type": "code",
   "execution_count": 16,
   "id": "f6a97b8a-600d-4a76-bd38-ecc02b9a1e1b",
   "metadata": {},
   "outputs": [
    {
     "data": {
      "text/plain": [
       "[<matplotlib.lines.Line2D at 0x7f434bd9c670>]"
      ]
     },
     "execution_count": 16,
     "metadata": {},
     "output_type": "execute_result"
    },
    {
     "data": {
      "image/png": "[encoded data removed]",
      "text/plain": [
       "<Figure size 432x288 with 1 Axes>"
      ]
     },
     "metadata": {
      "needs_background": "light"
     },
     "output_type": "display_data"
    }
   ],
   "source": [
    "def acc_for_threshold(T):\n",
    "    # sixes that are predicted photon\n",
    "    num_six_right = np.sum(photons > T)\n",
    "    # threes that are predicted three\n",
    "    num_three_right = np.sum(electrons < T)\n",
    "   \n",
    "    acc = (num_six_right + num_three_right)/(len(photons) + len(electrons))\n",
    "    return acc\n",
    "\n",
    "Ts = np.linspace(0.995,1,100)\n",
    "accs = []\n",
    "for i in Ts:\n",
    "    accs.append(acc_for_threshold(i))\n",
    "plt.plot(Ts, accs) "
   ]
  },
  {
   "cell_type": "code",
   "execution_count": null,
   "id": "929e7010-154a-4b94-bba7-ba0eb9db3771",
   "metadata": {},
   "outputs": [],
   "source": []
  },
  {
   "cell_type": "code",
   "execution_count": null,
   "id": "acda9cae-1a82-4766-8d51-81566f16bd9c",
   "metadata": {},
   "outputs": [],
   "source": []
  }
 ],
 "metadata": {
  "kernelspec": {
   "display_name": "env",
   "language": "python",
   "name": "env"
  },
  "language_info": {
   "codemirror_mode": {
    "name": "ipython",
    "version": 3
   },
   "file_extension": ".py",
   "mimetype": "text/x-python",
   "name": "python",
   "nbconvert_exporter": "python",
   "pygments_lexer": "ipython3",
   "version": "3.9.13"
  }
 },
 "nbformat": 4,
 "nbformat_minor": 5
}
