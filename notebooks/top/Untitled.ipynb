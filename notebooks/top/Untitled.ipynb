{
 "cells": [
  {
   "cell_type": "code",
   "execution_count": 30,
   "id": "4d4661ca-133e-49c2-ac15-3122771c1085",
   "metadata": {},
   "outputs": [],
   "source": [
    "import pyarrow.parquet as pq\n",
    "import numpy as np\n",
    "table = pq.read_table(\"../../data/top.parquet\")"
   ]
  },
  {
   "cell_type": "code",
   "execution_count": 44,
   "id": "828b10f3-c8ef-4fb8-8ef4-8b2145ac59d0",
   "metadata": {},
   "outputs": [
    {
     "data": {
      "text/plain": [
       "pyarrow.Table\n",
       "X_jets: list<item: double>\n",
       "  child 0, item: double\n",
       "y: double\n",
       "m0: double\n",
       "pt: double\n",
       "----\n",
       "X_jets: [[[0,0,0,0,0,...,0,0,0,0,0]],[[0,0,0,0,0,...,0,0,0,0,0]],...,[[0,0,0,0,0.039563048630952835,...,0,0,0,0,0]],[[0,0,0,0,0,...,0,0,0,0,0]]]\n",
       "y: [[1],[0],...,[0],[0]]\n",
       "m0: [[181.3427276611328],[159.30162048339844],...,[95.19873809814453],[113.40479278564453]]\n",
       "pt: [[491.63580322265625],[757.597900390625],...,[531.6719360351562],[669.79150390625]]"
      ]
     },
     "execution_count": 44,
     "metadata": {},
     "output_type": "execute_result"
    }
   ],
   "source": [
    "table"
   ]
  },
  {
   "cell_type": "code",
   "execution_count": 31,
   "id": "6f765e4e-247e-4463-885c-39a9a4d3b8e1",
   "metadata": {},
   "outputs": [
    {
     "data": {
      "text/plain": [
       "(3200,)"
      ]
     },
     "execution_count": 31,
     "metadata": {},
     "output_type": "execute_result"
    }
   ],
   "source": [
    "table['y'].to_numpy().shape"
   ]
  },
  {
   "cell_type": "code",
   "execution_count": 35,
   "id": "771e9c5c-a370-4c12-9d94-3cb9ca508926",
   "metadata": {},
   "outputs": [],
   "source": [
    "x = np.array(table['X_jets'].to_numpy())"
   ]
  },
  {
   "cell_type": "code",
   "execution_count": 48,
   "id": "b05554d2-e254-4152-af6f-5a901ad2c5ad",
   "metadata": {},
   "outputs": [
    {
     "data": {
      "text/plain": [
       "array([0.        , 0.        , 0.        , 0.        , 0.        ,\n",
       "       0.        , 0.        , 0.        , 0.        , 0.        ,\n",
       "       0.        , 0.        , 0.        , 0.        , 0.        ,\n",
       "       0.        , 0.        , 0.        , 0.        , 0.        ,\n",
       "       0.        , 0.        , 0.        , 0.        , 0.        ,\n",
       "       0.        , 0.        , 0.        , 0.        , 0.        ,\n",
       "       0.        , 0.        , 0.        , 0.        , 0.        ,\n",
       "       0.        , 0.        , 0.        , 0.        , 0.        ,\n",
       "       0.        , 0.        , 0.        , 0.        , 0.        ,\n",
       "       0.        , 0.        , 0.        , 0.        , 0.        ,\n",
       "       0.        , 0.        , 0.        , 0.        , 0.        ,\n",
       "       0.        , 0.        , 0.        , 0.        , 0.        ,\n",
       "       0.        , 0.        , 0.        , 0.        , 0.15608484,\n",
       "       0.        , 0.        , 0.        , 0.        , 0.        ,\n",
       "       0.        , 0.        , 0.15608484, 0.        , 0.        ,\n",
       "       0.        , 0.        , 0.        , 0.        , 0.        ,\n",
       "       0.15608484, 0.        , 0.        , 0.        , 0.        ,\n",
       "       0.        , 0.        , 0.        , 0.15608484, 0.        ,\n",
       "       0.        , 0.        , 0.        , 0.        , 0.        ,\n",
       "       0.        , 0.15608484, 0.        , 0.        , 0.        ])"
      ]
     },
     "execution_count": 48,
     "metadata": {},
     "output_type": "execute_result"
    }
   ],
   "source": [
    "x[0][100:200]"
   ]
  }
 ],
 "metadata": {
  "kernelspec": {
   "display_name": "tfq",
   "language": "python",
   "name": "tfq"
  },
  "language_info": {
   "codemirror_mode": {
    "name": "ipython",
    "version": 3
   },
   "file_extension": ".py",
   "mimetype": "text/x-python",
   "name": "python",
   "nbconvert_exporter": "python",
   "pygments_lexer": "ipython3",
   "version": "3.9.12"
  }
 },
 "nbformat": 4,
 "nbformat_minor": 5
}
