{
 "cells": [
  {
   "cell_type": "code",
   "execution_count": 66,
   "id": "78501a2e-af16-4326-8b0c-3f1ef400ed64",
   "metadata": {},
   "outputs": [],
   "source": [
    "import numpy as np\n",
    "import matplotlib.pyplot as plt\n",
    "from cirq.contrib.svg import SVGCircuit\n",
    "import tensorflow as tf\n",
    "import tensorflow_quantum as tfq\n",
    "from hep_VQAE import data_preprocessing as dp\n",
    "from hep_VQAE import CAE as cae\n",
    "import h5py\n",
    "import keras\n",
    "import numpy as np\n",
    "from tensorflow.keras.utils import Sequence"
   ]
  },
  {
   "cell_type": "code",
   "execution_count": 67,
   "id": "1826c698-be86-42bd-8281-c681c569c4ae",
   "metadata": {},
   "outputs": [],
   "source": [
    "f3 = h5py.File(\"../../data/quark-gluon/quark-gluon_train-set_n793900.hdf5\",\"r\")\n",
    "f2 = h5py.File(\"../../data/quark-gluon/quark-gluon_test-set_n10000.hdf5\",\"r\")\n",
    "f= h5py.File(\"../../data/quark-gluon/quark-gluon_test-set_n139306.hdf5\",\"r\")"
   ]
  },
  {
   "cell_type": "code",
   "execution_count": null,
   "id": "6b42a496-8337-47a9-8170-05d61a7b703b",
   "metadata": {},
   "outputs": [],
   "source": [
    "x_train = f.get('X_jets')\n",
    "y_train = f.get('y')\n",
    "\n",
    "x_val = f2.get('X')\n",
    "y_val = f2.get('y')\n",
    "\n",
    "x_test = f2.get('X')\n",
    "y_test = f2.get('y')"
   ]
  },
  {
   "cell_type": "code",
   "execution_count": null,
   "id": "03919370-1923-4efe-bcda-8713e2482c0f",
   "metadata": {},
   "outputs": [],
   "source": [
    "x_val_zeros = x_val[y_val[()]==0]\n",
    "divide = np.sum(x_val_zeros, axis=(1,2)).reshape(x_val_zeros.shape[0],1,1,3)\n",
    "divide[divide == 0] = 1\n",
    "x_val_zeros = x_val_zeros/divide\n",
    "\n",
    "x_test = x_val / divide"
   ]
  },
  {
   "cell_type": "code",
   "execution_count": 76,
   "id": "405246b0-594e-439a-aed9-8841955bb346",
   "metadata": {},
   "outputs": [],
   "source": [
    "batch_size = 1990\n",
    "num_batches = x_train.shape[0]//batch_size"
   ]
  },
  {
   "cell_type": "code",
   "execution_count": null,
   "id": "521d5445-03c9-4dd8-9ba0-1518917a8a0c",
   "metadata": {},
   "outputs": [],
   "source": [
    "#maxx = 0\n",
    "#minn = 10000000\n",
    "\n",
    "#for i in range(int(num_batches)):\n",
    "#    y = y_train[i * batch_size: (i + 1) * batch_size]\n",
    "#    cmax = np.max(np.log(x_train[i * batch_size: (i + 1) * batch_size][y==0] + 1))\n",
    "#    if cmax > maxx:\n",
    "#        maxx = cmax\n",
    "#    cmin = np.min(np.log(x_train[i * batch_size: (i + 1) * batch_size][y==0] + 1) )\n",
    "#    if cmin < minn:\n",
    "#        minn = cmin\n",
    "#    print(i, end=\"\\r\")\n",
    "#    \n",
    "#print(maxx)\n",
    "#print(minn)"
   ]
  },
  {
   "cell_type": "code",
   "execution_count": 79,
   "id": "1ddc5aad-0988-45ff-8b03-dd879e262767",
   "metadata": {},
   "outputs": [],
   "source": [
    "from sklearn.preprocessing import normalize\n",
    "\n",
    "class Generator(Sequence) :\n",
    "  \n",
    "    def __init__(self, hdf5_file, y_hdf5_file, batch_size, y_train_selection) :\n",
    "        self.hdf5_file = hdf5_file\n",
    "        self.batch_size = batch_size\n",
    "        self.y_train_selection = y_train_selection\n",
    "        self.y_hdf5_file = y_hdf5_file\n",
    "    \n",
    "  # Länge der Trainingsdaten (Anzahl der Batches)\n",
    "    def __len__(self) :\n",
    "        return x_train.shape[0]//self.batch_size\n",
    "  \n",
    "    def __getitem__(self, idx):\n",
    "        y = self.y_hdf5_file[idx * self.batch_size: (idx + 1) * self.batch_size]\n",
    "        x = self.hdf5_file[idx * self.batch_size: (idx + 1) * self.batch_size][y==self.y_train_selection]\n",
    "        divide = np.sum(x, axis=(1,2)).reshape((x.shape[0],1,1,3))\n",
    "        divide[divide == 0] = 1\n",
    "        return x/divide, x/divide"
   ]
  },
  {
   "cell_type": "code",
   "execution_count": 80,
   "id": "0d42d08d-c762-4427-8779-c061bc702bf4",
   "metadata": {},
   "outputs": [],
   "source": [
    "traingen = Generator(x_train, y_train, 1900, 0)"
   ]
  },
  {
   "cell_type": "code",
   "execution_count": 81,
   "id": "d2934adb-386d-4556-9b49-61df0a75f52a",
   "metadata": {},
   "outputs": [],
   "source": [
    "model = cae.Convolutional_Autoencoder2(256)"
   ]
  },
  {
   "cell_type": "code",
   "execution_count": 82,
   "id": "79ff7752-42f4-4a76-a77f-c4c19db3e24d",
   "metadata": {},
   "outputs": [
    {
     "name": "stdout",
     "output_type": "stream",
     "text": [
      "Model: \"sequential_4\"\n",
      "_________________________________________________________________\n",
      " Layer (type)                Output Shape              Param #   \n",
      "=================================================================\n",
      " conv2d_10 (Conv2D)          (None, 42, 42, 64)        1792      \n",
      "                                                                 \n",
      " conv2d_11 (Conv2D)          (None, 20, 20, 32)        18464     \n",
      "                                                                 \n",
      " conv2d_12 (Conv2D)          (None, 10, 10, 30)        8670      \n",
      "                                                                 \n",
      " conv2d_13 (Conv2D)          (None, 5, 5, 10)          2710      \n",
      "                                                                 \n",
      "=================================================================\n",
      "Total params: 31,636\n",
      "Trainable params: 31,636\n",
      "Non-trainable params: 0\n",
      "_________________________________________________________________\n"
     ]
    }
   ],
   "source": [
    "model.encoder.summary()"
   ]
  },
  {
   "cell_type": "code",
   "execution_count": 83,
   "id": "5403bb80-136e-49f3-8653-2c17c84a2617",
   "metadata": {},
   "outputs": [],
   "source": [
    "#model.compile(loss='mse', optimizer=tf.keras.optimizers.Adam(lr=0.05))\n",
    "model.compile(loss='mse', optimizer=tf.keras.optimizers.Adam(lr=0.0001))"
   ]
  },
  {
   "cell_type": "code",
   "execution_count": null,
   "id": "739e2947-7f29-4fc3-a714-ec288fb1218d",
   "metadata": {},
   "outputs": [
    {
     "name": "stderr",
     "output_type": "stream",
     "text": [
      "/tmp/ipykernel_276337/1952941689.py:2: UserWarning: `Model.fit_generator` is deprecated and will be removed in a future version. Please use `Model.fit`, which supports generators.\n",
      "  hist = model.fit_generator(traingen,epochs=30,validation_data=(x_val_zeros,x_val_zeros))\n"
     ]
    },
    {
     "name": "stdout",
     "output_type": "stream",
     "text": [
      "Epoch 1/30\n",
      "43/73 [================>.............] - ETA: 17:56 - loss: 0.2481"
     ]
    }
   ],
   "source": [
    "es = tf.keras.callbacks.EarlyStopping(monitor='val_loss', patience=5, min_delta=1e-7)\n",
    "hist = model.fit_generator(traingen,epochs=30,validation_data=(x_val_zeros,x_val_zeros))"
   ]
  },
  {
   "cell_type": "code",
   "execution_count": null,
   "id": "536ea14f-9b8c-4c95-b227-f7d2cd4d37db",
   "metadata": {},
   "outputs": [],
   "source": [
    "plt.plot(hist.history['loss'], label=\"training\")\n",
    "plt.plot(hist.history['val_loss'], label=\"validation\")\n",
    "plt.yscale('log')\n",
    "plt.legend()"
   ]
  },
  {
   "cell_type": "code",
   "execution_count": null,
   "id": "c2cbd300-e755-4513-8ada-248a38ea12f7",
   "metadata": {},
   "outputs": [],
   "source": [
    "def mae(x):\n",
    "    pred = model.predict(x)\n",
    "    return np.mean(np.abs(x - pred)**2,axis=(1,2,3))\n",
    "\n",
    "def recon_acc(x):\n",
    "    return 1 - mae(x)"
   ]
  },
  {
   "cell_type": "code",
   "execution_count": null,
   "id": "9069c887-4381-4f61-8fc9-6f2aaccfd67b",
   "metadata": {},
   "outputs": [],
   "source": [
    "zerrooo = recon_acc(x_test[:2000])\n",
    "one = recon_acc(x_test[8000:10000])"
   ]
  },
  {
   "cell_type": "code",
   "execution_count": null,
   "id": "f46674d8-8e63-46f6-ad67-c74ed5122358",
   "metadata": {},
   "outputs": [],
   "source": [
    "print(np.median(zerrooo))\n",
    "bins = np.histogram(np.hstack((zerrooo, one)), bins=100)[1]\n",
    "#print(bins)\n",
    "bins = np.arange(0.999995,0.9999955,0.00000005)\n",
    "plt.hist(zerrooo, histtype='step', label=\"zero\",bins=bins)#,bins=[0.0004,0.0005,0.0006,0.0007,0.0008,0.0009,0.001,0.0011,0.0012,0.0013])\n",
    "print(np.median(one))\n",
    "plt.hist(one, histtype='step', label=\"one\",bins=bins)#,bins=[0.0004,0.0005,0.0006,0.0007,0.0008,0.0009,0.001,0.0011,0.0012,0.0013])\n",
    "plt.xlabel(\"Reconstruction error\")\n",
    "plt.legend()"
   ]
  },
  {
   "cell_type": "code",
   "execution_count": null,
   "id": "91e651aa-fa93-40cc-9b41-795069193450",
   "metadata": {},
   "outputs": [],
   "source": [
    "def acc_for_threshold(T):\n",
    "    # sixes that are predicted six\n",
    "    num_six_right = np.sum(zerrooo > T)\n",
    "    # threes that are predicted three\n",
    "    num_three_right = np.sum(one < T)\n",
    "    acc = (num_six_right + num_three_right)/(len(zerrooo) + len(one))\n",
    "    return acc\n",
    "\n",
    "Ts = np.linspace(0.999938,0.999939,1000)\n",
    "accs = []\n",
    "for i in Ts:\n",
    "    accs.append(acc_for_threshold(i))\n",
    "print(max(accs))\n",
    "plt.xlabel(\"Anomaly threshold\")\n",
    "plt.ylabel(\"Acc.\")\n",
    "plt.plot(Ts, accs)  "
   ]
  },
  {
   "cell_type": "code",
   "execution_count": null,
   "id": "edf332d9-2854-4a08-90d4-5b5ea48b750c",
   "metadata": {},
   "outputs": [],
   "source": [
    "model.encoder(x_val_zeros[:10]).numpy()"
   ]
  },
  {
   "cell_type": "code",
   "execution_count": null,
   "id": "37923117-9313-429d-b705-def001c87c0a",
   "metadata": {},
   "outputs": [],
   "source": [
    "testimg = model((x_test[20]).reshape((1,125,125,3)))"
   ]
  },
  {
   "cell_type": "code",
   "execution_count": null,
   "id": "684bbe97-fd98-4646-a049-61f4238cce08",
   "metadata": {},
   "outputs": [],
   "source": [
    "testimg[testimg>0]"
   ]
  },
  {
   "cell_type": "code",
   "execution_count": null,
   "id": "3886c561-654c-4740-8274-9cf60bc71ca9",
   "metadata": {},
   "outputs": [],
   "source": [
    "from matplotlib.colors import LogNorm\n",
    "plt.imshow(testimg[0,:,:,2],cmap='binary',norm=LogNorm())\n",
    "plt.colorbar()"
   ]
  },
  {
   "cell_type": "code",
   "execution_count": null,
   "id": "82754b7c-910a-4f59-9b7b-2cc704713a28",
   "metadata": {},
   "outputs": [],
   "source": [
    "plt.imshow(x_test[20,:,:,2]+1,cmap='binary',norm=LogNorm())\n",
    "plt.colorbar()"
   ]
  },
  {
   "cell_type": "code",
   "execution_count": null,
   "id": "70f9f5bc-2377-42be-bc84-ed58b6e8c022",
   "metadata": {},
   "outputs": [],
   "source": [
    "plt.imshow(x_test[20,:,:,1]/0.07,cmap='binary')\n",
    "plt.colorbar()"
   ]
  },
  {
   "cell_type": "code",
   "execution_count": null,
   "id": "178ec4ac-2f40-47b4-9159-09312484eb93",
   "metadata": {},
   "outputs": [],
   "source": []
  },
  {
   "cell_type": "code",
   "execution_count": null,
   "id": "869d4b49-2d64-489f-966e-b58d6e91b9ab",
   "metadata": {},
   "outputs": [],
   "source": []
  },
  {
   "cell_type": "code",
   "execution_count": null,
   "id": "410b51c0-6728-4328-b0f9-1369a1c0fbf8",
   "metadata": {},
   "outputs": [],
   "source": []
  }
 ],
 "metadata": {
  "kernelspec": {
   "display_name": "tfq",
   "language": "python",
   "name": "tfq"
  },
  "language_info": {
   "codemirror_mode": {
    "name": "ipython",
    "version": 3
   },
   "file_extension": ".py",
   "mimetype": "text/x-python",
   "name": "python",
   "nbconvert_exporter": "python",
   "pygments_lexer": "ipython3",
   "version": "3.9.12"
  }
 },
 "nbformat": 4,
 "nbformat_minor": 5
}
