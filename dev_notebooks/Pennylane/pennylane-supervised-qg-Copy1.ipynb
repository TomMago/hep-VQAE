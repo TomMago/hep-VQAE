{
 "cells": [
  {
   "cell_type": "markdown",
   "id": "46c16781-e3a3-4a33-bdad-c661021a9e28",
   "metadata": {
    "jp-MarkdownHeadingCollapsed": true,
    "tags": []
   },
   "source": [
    "### imports "
   ]
  },
  {
   "cell_type": "code",
   "execution_count": 1,
   "id": "a17aa9b0-2979-42ab-bd79-5ce108a99efc",
   "metadata": {},
   "outputs": [
    {
     "name": "stderr",
     "output_type": "stream",
     "text": [
      "2022-09-19 19:47:56.421631: W tensorflow/stream_executor/platform/default/dso_loader.cc:64] Could not load dynamic library 'libcudart.so.11.0'; dlerror: libcudart.so.11.0: cannot open shared object file: No such file or directory\n",
      "2022-09-19 19:47:56.421651: I tensorflow/stream_executor/cuda/cudart_stub.cc:29] Ignore above cudart dlerror if you do not have a GPU set up on your machine.\n"
     ]
    }
   ],
   "source": [
    "import pennylane as qml\n",
    "from pennylane import numpy as np\n",
    "import matplotlib.pyplot as plt\n",
    "from hep_VQAE import data_preprocessing as dp\n",
    "import tensorflow as tf\n",
    "from pennylane.optimize import AdamOptimizer, GradientDescentOptimizer\n",
    "import time\n",
    "import h5py\n",
    "from sklearn.model_selection import train_test_split\n",
    "\n",
    "import warnings\n",
    "warnings.filterwarnings('ignore')"
   ]
  },
  {
   "cell_type": "markdown",
   "id": "a59bacfc-956e-4653-a662-9ad48d1bedd6",
   "metadata": {
    "tags": []
   },
   "source": [
    "### data "
   ]
  },
  {
   "cell_type": "code",
   "execution_count": 2,
   "id": "fe0cd3c3-6c3a-463d-bcbb-d01e60fb65f2",
   "metadata": {},
   "outputs": [],
   "source": [
    "test = h5py.File(\"small_quark_gluon_12\",\"r\")\n",
    "\n",
    "x_s = test.get('X')\n",
    "y_s = test.get('y')"
   ]
  },
  {
   "cell_type": "code",
   "execution_count": 3,
   "id": "960a2587-5a6b-46af-ab2f-5a4be066d859",
   "metadata": {},
   "outputs": [],
   "source": [
    "x_train, x_val, y_train, y_val = train_test_split(x_s[:],\n",
    "                                                  y_s[:],\n",
    "                                                  test_size=0.2, shuffle=True)\n",
    "\n",
    "x_train, x_test, y_train, y_test = train_test_split(x_train, y_train,\n",
    "                                                    test_size=0.4, shuffle=True)"
   ]
  },
  {
   "cell_type": "code",
   "execution_count": 4,
   "id": "d2f380c5-14f1-4e8d-b1b7-0969d275574f",
   "metadata": {},
   "outputs": [],
   "source": [
    "div = np.max(x_train,axis=(1,2)).reshape(x_train.shape[0],1,1)\n",
    "div[div == 0] = 1\n",
    "x_train = x_train / div\n",
    "\n",
    "div = np.max(x_val,axis=(1,2)).reshape(x_val.shape[0],1,1)\n",
    "div[div == 0] = 1\n",
    "x_val = x_val / div\n",
    "\n",
    "div = np.max(x_test,axis=(1,2)).reshape(x_test.shape[0],1,1)\n",
    "div[div == 0] = 1\n",
    "x_test = x_test / div"
   ]
  },
  {
   "cell_type": "markdown",
   "id": "32774da5-84e7-4b6a-8765-63f24714a067",
   "metadata": {
    "tags": []
   },
   "source": [
    "# Circuit"
   ]
  },
  {
   "cell_type": "code",
   "execution_count": 5,
   "id": "e7586f1e-55d4-45a2-b014-394bd7b70c04",
   "metadata": {},
   "outputs": [],
   "source": [
    "DATA_QBITS = 12\n",
    "TOTAL_QBITS = DATA_QBITS\n",
    "\n",
    "INPUT_DATA_SIZE = 12\n",
    "LAYERS = 3\n",
    "DRCs = 2"
   ]
  },
  {
   "cell_type": "code",
   "execution_count": 6,
   "id": "c95725cf-c819-49c1-952f-5034af4a33ae",
   "metadata": {},
   "outputs": [],
   "source": [
    "dev1 = qml.device('lightning.qubit', wires=TOTAL_QBITS)"
   ]
  },
  {
   "cell_type": "code",
   "execution_count": 19,
   "id": "e980cbe3-30e8-4797-8a11-db968af49022",
   "metadata": {},
   "outputs": [],
   "source": [
    "def single_upload(params, data, wire):\n",
    "    for i, d in enumerate(data.flatten()):\n",
    "        if i % 3 == 0:\n",
    "            qml.RZ(params[i * 2] + params[i * 2 + 1] * d, wires=wire)\n",
    "            #qml.RZ(params[i], wires=wire)\n",
    "            #qml.RZ(d, wires=wire)\n",
    "        if i % 3 == 1:\n",
    "            qml.RY(params[i * 2] + params[i * 2 + 1] * d, wires=wire)\n",
    "            #qml.RY(params[i], wires=wire)\n",
    "            #qml.RY(d, wires=wire)\n",
    "        if i % 3 == 2:\n",
    "            qml.RZ(params[i * 2] + params[i * 2 + 1] * d, wires=wire)\n",
    "            #qml.RZ(params[i], wires=wire)\n",
    "            #qml.RZ(d, wires=wire)\n",
    "\n",
    "def conv_upload(params, img, kernel_size, stride, wires):\n",
    "    number_of_kernel_uploads = len(list(range(0,img.shape[1]-kernel_size+1,stride)))*len(list(range(0,img.shape[0]-kernel_size+1,stride)))\n",
    "    params_per_upload = len(params) // number_of_kernel_uploads\n",
    "    upload_counter = 0\n",
    "    wire = 0\n",
    "    for y in range(0,img.shape[1]-kernel_size+1,stride):\n",
    "        for x in range(0,img.shape[0]-kernel_size+1,stride):\n",
    "            single_upload(params[upload_counter * params_per_upload: (upload_counter + 1) * params_per_upload],\n",
    "                          img[y:y+kernel_size, x:x+kernel_size], wires[wire])\n",
    "            upload_counter = upload_counter + 1\n",
    "            wire = wire + 1\n",
    "            \n",
    "def circular_entanglement(wires):\n",
    "    qml.CNOT(wires=[wires[-1], 0] )\n",
    "    for i in range(len(wires)-1):\n",
    "        qml.CNOT(wires=[i, i+1])\n",
    "\n",
    "@qml.qnode(dev1, diff_method=\"adjoint\")\n",
    "def circuit(params, data):\n",
    "\n",
    "    #kernel_size = 6\n",
    "    #stride = 6\n",
    "    \n",
    "    #number_of_kernel_uploads = len(list(range(0,data.shape[1]-kernel_size+1,stride)))**2\n",
    "    #num_upload_params = number_of_kernel_uploads*2*kernel_size**2\n",
    "    \n",
    "    #for i in range(DRCs):\n",
    "    #    conv_upload(params[i*num_upload_params:(i+1)*num_upload_params], data, kernel_size, stride, list(range(number_of_kernel_uploads)))\n",
    "    #    circular_entanglement(list(range(number_of_kernel_uploads)))\n",
    "\n",
    "    qml.AngleEmbedding(data.flatten()[:DATA_QBITS], wires=range(DATA_QBITS))    \n",
    "    qml.BasicEntanglerLayers(weights=params, wires=range(DATA_QBITS))\n",
    "\n",
    "    \n",
    "    #return [qml.expval(qml.PauliZ(i)) for i in range(DATA_QBITS)]\n",
    "    return qml.expval(qml.PauliZ(3))"
   ]
  },
  {
   "cell_type": "code",
   "execution_count": 20,
   "id": "d8508096-f11a-4157-a644-3624fc5f5376",
   "metadata": {},
   "outputs": [],
   "source": [
    "weights = np.random.rand(LAYERS,DATA_QBITS)"
   ]
  },
  {
   "cell_type": "code",
   "execution_count": 21,
   "id": "775b54c4-3195-4655-a5a3-6644b6458807",
   "metadata": {},
   "outputs": [],
   "source": [
    "data = np.random.rand(INPUT_DATA_SIZE,INPUT_DATA_SIZE)\n",
    "\n",
    "kernel_size = 6\n",
    "stride = 6\n",
    "number_of_kernel_uploads = len(list(range(0,data.shape[0]-kernel_size+1,stride)))**2\n",
    "num_upload_params = number_of_kernel_uploads*2*kernel_size**2\n",
    "#num_upload_params = number_of_kernel_uploads*kernel_size**2"
   ]
  },
  {
   "cell_type": "code",
   "execution_count": 22,
   "id": "fedda7f2-e929-467d-91d9-2052f4c317b6",
   "metadata": {},
   "outputs": [
    {
     "data": {
      "image/png": "[encoded data removed]",
      "text/plain": [
       "<Figure size 360x936 with 1 Axes>"
      ]
     },
     "metadata": {},
     "output_type": "display_data"
    }
   ],
   "source": [
    "fig, ax = qml.draw_mpl(circuit)(weights,data)\n",
    "fig.show()"
   ]
  },
  {
   "cell_type": "code",
   "execution_count": 23,
   "id": "0ae511ff-2c31-4175-b48d-c31c71515d04",
   "metadata": {},
   "outputs": [],
   "source": [
    "def cost_batch(params, xbatch, ybatch):\n",
    "    loss = 0.0\n",
    "    for x,y in zip(xbatch,ybatch):\n",
    "        f = circuit(params, x)\n",
    "        loss = loss + (y - np.mean(f)) ** 2\n",
    "    return loss / len(xbatch)\n",
    "\n",
    "def cost_sample(params, x, y):\n",
    "    loss = 0.0\n",
    "    f = circuit(params, x)\n",
    "    loss = loss + (y - f) ** 2\n",
    "    return loss"
   ]
  },
  {
   "cell_type": "code",
   "execution_count": 24,
   "id": "372c05ea-5235-4232-a3f3-fadca2c1bcca",
   "metadata": {},
   "outputs": [],
   "source": [
    "def iterate_minibatches(data, y, batch_size):\n",
    "    for start_idx in range(0, data.shape[0] - batch_size + 1, batch_size):\n",
    "        idxs = slice(start_idx, start_idx + batch_size)\n",
    "        yield data[idxs], y[idxs]"
   ]
  },
  {
   "cell_type": "code",
   "execution_count": 25,
   "id": "3a01d4b1-3afd-45ed-a5b5-f6ef6ac8f526",
   "metadata": {},
   "outputs": [],
   "source": [
    "learning_rate = 0.01\n",
    "epochs = 25\n",
    "batch_size = 40"
   ]
  },
  {
   "cell_type": "code",
   "execution_count": 26,
   "id": "2d2a03ed-55c1-49ad-82d3-770e912da9be",
   "metadata": {},
   "outputs": [],
   "source": [
    "opt = AdamOptimizer(learning_rate, beta1=0.9, beta2=0.999)\n",
    "#opt = qml.NesterovMomentumOptimizer()\n",
    "#opt = qml.RMSPropOptimizer(0.001)\n",
    "#opt = qml.QNGOptimizer(learning_rate)\n",
    "# opt = GradientDescentOptimizer(learning_rate)"
   ]
  },
  {
   "cell_type": "code",
   "execution_count": 27,
   "id": "646980f1-8197-4a2b-9f00-b8e5f7da810b",
   "metadata": {},
   "outputs": [],
   "source": [
    "weight_shapes = {\"weights\": (LAYERS,DATA_QBITS)}\n",
    "params = np.random.uniform(size=weight_shapes[\"weights\"], requires_grad=True)"
   ]
  },
  {
   "cell_type": "code",
   "execution_count": 28,
   "id": "969eb1c7-310f-44e7-8eae-7573c1208400",
   "metadata": {},
   "outputs": [],
   "source": [
    "x_train_small = x_train[:4000]\n",
    "y_train_small = y_train[:4000]\n",
    "\n",
    "x_test_small = x_test[:1200]\n",
    "y_test_small = y_test[:1200]"
   ]
  },
  {
   "cell_type": "code",
   "execution_count": 29,
   "id": "cabaaa49-50a0-4f65-81a0-0cd250bfb5a4",
   "metadata": {
    "tags": []
   },
   "outputs": [
    {
     "name": "stdout",
     "output_type": "stream",
     "text": [
      "Step: 0 | Loss: 0.552 | avg step time 0.0669\n",
      "Step: 20 | Loss: 0.403 | avg step time 1.36\n",
      "Step: 40 | Loss: 0.264 | avg step time 1.51\n",
      "Step: 60 | Loss: 0.253 | avg step time 1.19\n",
      "Step: 80 | Loss: 0.255 | avg step time 1.46\n",
      "____\n",
      "Epoch: 0 | Loss: 0.2465 | Val Loss 0.2536\n",
      "____\n",
      "Step: 0 | Loss: 0.246 | avg step time 0.141\n",
      "Step: 20 | Loss: 0.245 | avg step time 1.86\n",
      "Step: 40 | Loss: 0.252 | avg step time 1.22\n",
      "Step: 60 | Loss: 0.25 | avg step time 1.16\n",
      "Step: 80 | Loss: 0.253 | avg step time 1.3\n",
      "____\n",
      "Epoch: 1 | Loss: 0.2464 | Val Loss 0.2539\n",
      "____\n",
      "Step: 0 | Loss: 0.246 | avg step time 0.063\n",
      "Step: 20 | Loss: 0.245 | avg step time 1.22\n",
      "Step: 40 | Loss: 0.253 | avg step time 1.21\n",
      "Step: 60 | Loss: 0.25 | avg step time 1.15\n",
      "Step: 80 | Loss: 0.253 | avg step time 1.37\n",
      "____\n",
      "Epoch: 2 | Loss: 0.2464 | Val Loss 0.2539\n",
      "____\n",
      "Step: 0 | Loss: 0.246 | avg step time 0.0589\n",
      "Step: 20 | Loss: 0.245 | avg step time 1.24\n",
      "Step: 40 | Loss: 0.253 | avg step time 2.0\n",
      "Step: 60 | Loss: 0.25 | avg step time 1.32\n",
      "Step: 80 | Loss: 0.253 | avg step time 1.46\n",
      "____\n",
      "Epoch: 3 | Loss: 0.2463 | Val Loss 0.254\n",
      "____\n",
      "Step: 0 | Loss: 0.246 | avg step time 0.0767\n",
      "Step: 20 | Loss: 0.245 | avg step time 1.56\n",
      "Step: 40 | Loss: 0.252 | avg step time 1.75\n",
      "Step: 60 | Loss: 0.25 | avg step time 1.53\n",
      "77\r"
     ]
    },
    {
     "name": "stderr",
     "output_type": "stream",
     "text": [
      "\n",
      "KeyboardInterrupt\n",
      "\n"
     ]
    }
   ],
   "source": [
    "start = time.time()\n",
    "\n",
    "gradient_means = []\n",
    "gradient_vars = []\n",
    "\n",
    "for it in range(epochs):\n",
    "    start_b = time.time()\n",
    "    for j, batch in enumerate(iterate_minibatches(x_train_small, y_train_small, batch_size=batch_size)):  \n",
    "    #for j, sample in enumerate(zip(x_train_small,y_train_small)):\n",
    "        #x, y = sample \n",
    "        #x = np.array(x, requires_grad=False)\n",
    "        #y = np.array(y, requires_grad=False)\n",
    "        x, y = batch\n",
    "        #cost_fn = lambda p: cost_sample(p, x, y)\n",
    "        cost_fn = lambda p: cost_batch(p, x, y)\n",
    "        #metric_fn = lambda p: qml.metric_tensor(circuit, approx=\"diag\")(p, x)\n",
    "        params = opt.step(cost_fn, params)#, metric_tensor_fn=metric_fn) \n",
    "        print(j, end=\"\\r\")\n",
    "        \n",
    "        grad = qml.grad(cost_fn)\n",
    "        gradient = grad(params)\n",
    "        gradient_means.append(np.mean(gradient))\n",
    "        gradient_vars.append(np.std(gradient))\n",
    "        \n",
    "        if j % 20 == 0:\n",
    "            end_b = time.time()\n",
    "            loss = cost_batch(params,x,y)\n",
    "            print(f\"Step: {j} | Loss: {loss:.3} | avg step time {(end_b - start_b) / 20 :.3}\")\n",
    "            start_b = time.time()\n",
    "\n",
    "    loss = cost_batch(params,x_train_small[:100], y_train_small[:100])\n",
    "    val_loss = cost_batch(params, x_test_small[:100], y_test_small[:100])\n",
    "    print(\"____\")\n",
    "    print(f\"Epoch: {it} | Loss: {loss:.4} | Val Loss {val_loss:.4}\")\n",
    "    print(\"____\")\n",
    "\n",
    "end = time.time()\n",
    "\n",
    "print(f\"Time for {epochs} epochs: {end - start}\")"
   ]
  },
  {
   "cell_type": "code",
   "execution_count": 36,
   "id": "90f8de83-75fd-4ebf-a8b6-96716bd4dac0",
   "metadata": {},
   "outputs": [
    {
     "name": "stdout",
     "output_type": "stream",
     "text": [
      "0.0007709257453947209\n"
     ]
    },
    {
     "data": {
      "text/plain": [
       "(-0.04, 0.04)"
      ]
     },
     "execution_count": 36,
     "metadata": {},
     "output_type": "execute_result"
    },
    {
     "data": {
      "image/png": "[encoded data removed]",
      "text/plain": [
       "<Figure size 432x288 with 1 Axes>"
      ]
     },
     "metadata": {
      "needs_background": "light"
     },
     "output_type": "display_data"
    }
   ],
   "source": [
    "plt.plot(gradient_means)\n",
    "print(np.mean(gradient_means))\n",
    "#plt.yscale('log')\n",
    "plt.ylim(-0.04,0.04)"
   ]
  },
  {
   "cell_type": "code",
   "execution_count": 31,
   "id": "53e91024-4c11-4c52-820b-ff7e2d83c77f",
   "metadata": {
    "tags": []
   },
   "outputs": [
    {
     "data": {
      "text/plain": [
       "[<matplotlib.lines.Line2D at 0x7f51de045070>]"
      ]
     },
     "execution_count": 31,
     "metadata": {},
     "output_type": "execute_result"
    },
    {
     "data": {
      "image/png": "[encoded data removed]",
      "text/plain": [
       "<Figure size 432x288 with 1 Axes>"
      ]
     },
     "metadata": {
      "needs_background": "light"
     },
     "output_type": "display_data"
    }
   ],
   "source": [
    "plt.plot(gradient_vars)"
   ]
  },
  {
   "cell_type": "code",
   "execution_count": null,
   "id": "9e825030-0829-46d9-8c6f-fd6bfe607aba",
   "metadata": {},
   "outputs": [],
   "source": [
    "pred = np.array([circuit(params,i) for i in x_test_small])"
   ]
  },
  {
   "cell_type": "code",
   "execution_count": null,
   "id": "984f1b5a-c512-4f5f-82e2-a1d7089d4828",
   "metadata": {},
   "outputs": [],
   "source": [
    "pred_0 = pred[y_test_small == 0][:500]\n",
    "pred_1 = pred[y_test_small == 1][:500]\n",
    "\n",
    "bins = np.histogram(np.hstack((pred_0.reshape((pred_0.shape[0],)), pred_1.reshape((pred_1.shape[0],)))), bins=100)[1]\n",
    "plt.hist(pred_0, histtype='step', label=\"0\",bins=bins)\n",
    "plt.hist(pred_1, histtype='step', label=\"1\",bins=bins)\n",
    "plt.xlim(0.2,0.65)\n",
    "plt.legend()"
   ]
  },
  {
   "cell_type": "code",
   "execution_count": null,
   "id": "54a93bba-1289-4424-a796-38ede140558d",
   "metadata": {},
   "outputs": [],
   "source": [
    "from sklearn.metrics import roc_auc_score, roc_curve\n",
    "auc = roc_auc_score(y_test_small, pred)\n",
    "\n",
    "print(auc)\n",
    "\n",
    "fpr, tpr, thresholds = roc_curve(y_test_small, pred)\n",
    "tnr = 1 - fpr\n",
    "x = np.linspace(0,1,50)\n",
    "y_rnd = 1 - x\n",
    "plt.plot(tnr,tpr, label=\"anomaly tagging\")\n",
    "plt.plot(x,y_rnd, label=\"random tagging\", color='grey')\n",
    "plt.xlabel(\"fpr\")\n",
    "plt.ylabel(\"tpr\")\n",
    "plt.legend()"
   ]
  },
  {
   "cell_type": "code",
   "execution_count": null,
   "id": "aa2625bf-15ce-43bd-8e04-c5bdd64f8256",
   "metadata": {},
   "outputs": [],
   "source": [
    "from qutip import Bloch"
   ]
  },
  {
   "cell_type": "code",
   "execution_count": null,
   "id": "c4a08fa4-c9ca-4ef9-b858-af6bfa1bd066",
   "metadata": {},
   "outputs": [],
   "source": [
    "visual_latent\n",
    "\n",
    "x_test_bgs = x_test_small[y_test_small == 0]\n",
    "x_test_signals = x_test_small[y_test_small == 1]\n",
    "\n",
    "def plot_latent_space(x_test_bg, x_test_signal):\n",
    "    b = Bloch()\n",
    "    points_bg_x = [visual_latent(params, i,qml.PauliX) for i in x_test_bg]\n",
    "    points_bg_y = [visual_latent(params, i,qml.PauliY) for i in x_test_bg]\n",
    "    points_bg_z = [visual_latent(params, i,qml.PauliZ) for i in x_test_bg]\n",
    "\n",
    "    points_signal_x = [visual_latent(params, i,qml.PauliX) for i in x_test_signal]\n",
    "    points_signal_y = [visual_latent(params, i,qml.PauliY) for i in x_test_signal]\n",
    "    points_signal_z = [visual_latent(params, i,qml.PauliZ) for i in x_test_signal]\n",
    "    \n",
    "    \n",
    "    bloch_points_bg = [points_bg_x,points_bg_y,points_bg_z]\n",
    "    b.add_points(bloch_points_bg)\n",
    "\n",
    "    bloch_points_sig = [points_signal_x,points_signal_y,points_signal_z]\n",
    "    b.add_points(bloch_points_sig)\n",
    "    \n",
    "    b.show()\n",
    "    \n",
    "plot_latent_space(x_test_bgs[:100], x_test_signals[:100])"
   ]
  },
  {
   "cell_type": "code",
   "execution_count": null,
   "id": "5a1ed38b-49d5-4de4-9c7d-b7513eaa582a",
   "metadata": {},
   "outputs": [],
   "source": [
    "loss = np.array([0.246, 0.244, 0.243, 0.243, 0.242, 0.242, 0.241, 0.241, 0.24, 0.24, 0.24, 0.239, 0.239,  0.238, 0.238, 0.237])\n",
    "val_loss = np.array([0.274, 0.259, 0.256, 0.255, 0.254, 0.253, 0.252, 0.252, 0.251, 0.251, 0.251, 0.25, 0.25, 0.25, 0.25, 0.251])"
   ]
  },
  {
   "cell_type": "raw",
   "id": "1c11fcdb-369e-4b26-abd7-c6f4aecb52d3",
   "metadata": {},
   "source": []
  },
  {
   "cell_type": "code",
   "execution_count": null,
   "id": "fb6fc90d-9b29-4fac-8633-546fc3415d74",
   "metadata": {},
   "outputs": [],
   "source": []
  }
 ],
 "metadata": {
  "kernelspec": {
   "display_name": "tfq",
   "language": "python",
   "name": "tfq"
  },
  "language_info": {
   "codemirror_mode": {
    "name": "ipython",
    "version": 3
   },
   "file_extension": ".py",
   "mimetype": "text/x-python",
   "name": "python",
   "nbconvert_exporter": "python",
   "pygments_lexer": "ipython3",
   "version": "3.9.12"
  }
 },
 "nbformat": 4,
 "nbformat_minor": 5
}
