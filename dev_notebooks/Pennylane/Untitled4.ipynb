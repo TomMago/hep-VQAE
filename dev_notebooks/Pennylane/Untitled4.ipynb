{
 "cells": [
  {
   "cell_type": "code",
   "execution_count": 1,
   "id": "88fbbe57-59e5-4d60-81b4-6027e09940c3",
   "metadata": {},
   "outputs": [],
   "source": [
    "import pennylane as qml\n",
    "from pennylane import numpy as np\n",
    "from sklearn.datasets import load_iris\n",
    "from pennylane.optimize import AdamOptimizer, GradientDescentOptimizer"
   ]
  },
  {
   "cell_type": "code",
   "execution_count": 2,
   "id": "a0145e6f-1109-41de-a342-2fe1c07491b7",
   "metadata": {},
   "outputs": [],
   "source": [
    "data = load_iris()"
   ]
  },
  {
   "cell_type": "code",
   "execution_count": 3,
   "id": "08703b23-5ac3-4b33-92ff-6a072a40dc34",
   "metadata": {},
   "outputs": [],
   "source": [
    "x = data['data'][:100]\n",
    "y = data['target'][:100]"
   ]
  },
  {
   "cell_type": "code",
   "execution_count": 4,
   "id": "87fee585-63a0-431e-b57c-203923b4ccc1",
   "metadata": {},
   "outputs": [],
   "source": [
    "dev1 = qml.device('lightning.qubit', wires=4)"
   ]
  },
  {
   "cell_type": "code",
   "execution_count": 5,
   "id": "c4dc6865-b6fc-4d51-8ed1-d42e3562a5d6",
   "metadata": {},
   "outputs": [],
   "source": [
    "@qml.qnode(dev1, diff_method=\"parameter-shift\")\n",
    "def circuit(enc_params, data):\n",
    "    qml.AngleEmbedding(data, wires=range(4))\n",
    "    qml.BasicEntanglerLayers(enc_params, wires=range(4))\n",
    "    return qml.expval(qml.PauliZ(0))"
   ]
  },
  {
   "cell_type": "code",
   "execution_count": 6,
   "id": "3b49999a-2c97-47a3-865d-df52f74acfd5",
   "metadata": {},
   "outputs": [],
   "source": [
    "weight_shapes = {\"weights\": (4, 4)}\n",
    "params = np.random.uniform(size=weight_shapes[\"weights\"], requires_grad=True)"
   ]
  },
  {
   "cell_type": "code",
   "execution_count": 7,
   "id": "bff085b6-c4a4-42c8-8061-8a11c392ed92",
   "metadata": {},
   "outputs": [],
   "source": [
    "learning_rate = 0.1\n",
    "epochs = 10\n",
    "batch_size = 10 "
   ]
  },
  {
   "cell_type": "code",
   "execution_count": 8,
   "id": "0bfab147-49cf-40cc-abf5-7721934dd6ad",
   "metadata": {},
   "outputs": [],
   "source": [
    "#opt = AdamOptimizer(learning_rate, beta1=0.9, beta2=0.999)\n",
    "opt = qml.QNGOptimizer(learning_rate)\n",
    "# opt = GradientDescentOptimizer(learning_rate)"
   ]
  },
  {
   "cell_type": "code",
   "execution_count": 9,
   "id": "2661329b-5c9f-4640-a8f0-4fddd0bb199a",
   "metadata": {},
   "outputs": [],
   "source": [
    "def cost_batch(params, batch, y):\n",
    "    loss = 0.0\n",
    "    for i, data in enumerate(batch):\n",
    "        f = circuit(params, data)\n",
    "        loss = loss + (y[i] - f) ** 2\n",
    "    return loss / len(batch)\n",
    "\n",
    "def cost_sample(params, x, y):\n",
    "    return (y - circuit(params, x)) ** 2"
   ]
  },
  {
   "cell_type": "code",
   "execution_count": 10,
   "id": "a32caa0e-7d5e-4ed8-8283-9afc871cf352",
   "metadata": {},
   "outputs": [],
   "source": [
    "def iterate_minibatches(data, y, batch_size):\n",
    "    for start_idx in range(0, data.shape[0] - batch_size + 1, batch_size):\n",
    "        idxs = slice(start_idx, start_idx + batch_size)\n",
    "        yield data[idxs], y[idxs]"
   ]
  },
  {
   "cell_type": "code",
   "execution_count": 11,
   "id": "510704bd-d93a-4c55-9aa9-b087cbc67122",
   "metadata": {},
   "outputs": [
    {
     "name": "stdout",
     "output_type": "stream",
     "text": [
      "Epoch: 0 | Loss: 0.21751668366493704 |\n",
      "Epoch: 1 | Loss: 0.21750394237935705 |\n",
      "27\r"
     ]
    },
    {
     "name": "stderr",
     "output_type": "stream",
     "text": [
      "\n",
      "KeyboardInterrupt\n",
      "\n"
     ]
    }
   ],
   "source": [
    "\n",
    "\n",
    "for it in range(epochs):\n",
    "    #for j,batch in enumerate(iterate_minibatches(x,y, batch_size=batch_size)):\n",
    "        #Xbatch, ybatch = batch\n",
    "    for j, sample in enumerate(x):        \n",
    "        sample = np.array(sample, requires_grad=False)\n",
    "        #cost_fn = lambda p: cost_batch(p, Xbatch, ybatch)\n",
    "        cost_fn = lambda p: cost_sample(p, sample, y[j])\n",
    "        metric_fn = lambda p: qml.metric_tensor(circuit, approx=\"block-diag\")(p, sample)\n",
    "        params = opt.step(cost_fn, params, metric_tensor_fn=metric_fn)\n",
    "        print(j, end=\"\\r\")\n",
    "    \n",
    "    loss = cost_batch(params,x,y)\n",
    "    \n",
    "    print(f\"Epoch: {it} | Loss: {loss} |\")"
   ]
  },
  {
   "cell_type": "code",
   "execution_count": null,
   "id": "9f7cca42-f800-4904-a176-cf7a45c12191",
   "metadata": {},
   "outputs": [],
   "source": []
  }
 ],
 "metadata": {
  "kernelspec": {
   "display_name": "tfq",
   "language": "python",
   "name": "tfq"
  },
  "language_info": {
   "codemirror_mode": {
    "name": "ipython",
    "version": 3
   },
   "file_extension": ".py",
   "mimetype": "text/x-python",
   "name": "python",
   "nbconvert_exporter": "python",
   "pygments_lexer": "ipython3",
   "version": "3.9.12"
  }
 },
 "nbformat": 4,
 "nbformat_minor": 5
}
