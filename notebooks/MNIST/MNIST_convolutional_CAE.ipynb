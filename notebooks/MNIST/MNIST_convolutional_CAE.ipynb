{
 "cells": [
  {
   "cell_type": "markdown",
   "id": "9080d094-8323-45f5-a578-aeed60dc8ab0",
   "metadata": {
    "tags": []
   },
   "source": [
    "# Convolutional AE on MNIST"
   ]
  },
  {
   "cell_type": "code",
   "execution_count": 1,
   "id": "5b53f85c-d0fb-489d-b816-6ed710eeda35",
   "metadata": {},
   "outputs": [
    {
     "name": "stderr",
     "output_type": "stream",
     "text": [
      "2022-07-18 19:23:35.409994: W tensorflow/stream_executor/platform/default/dso_loader.cc:64] Could not load dynamic library 'libcudart.so.11.0'; dlerror: libcudart.so.11.0: cannot open shared object file: No such file or directory\n",
      "2022-07-18 19:23:35.410019: I tensorflow/stream_executor/cuda/cudart_stub.cc:29] Ignore above cudart dlerror if you do not have a GPU set up on your machine.\n",
      "/home/tom/.conda/envs/tfq/lib/python3.9/site-packages/cirq/ops/gateset.py:376: UserWarning: v0.14.1 is the last release `cirq.GlobalPhaseGate` is included by default. If you were relying on this behavior, you can include a `cirq.GlobalPhaseGate` in your `*gates`. If not, then you can ignore this warning. It will be removed in v0.16\n",
      "  warnings.warn(\n",
      "2022-07-18 19:23:36.618769: W tensorflow/stream_executor/platform/default/dso_loader.cc:64] Could not load dynamic library 'libcuda.so.1'; dlerror: libcuda.so.1: cannot open shared object file: No such file or directory\n",
      "2022-07-18 19:23:36.618788: W tensorflow/stream_executor/cuda/cuda_driver.cc:269] failed call to cuInit: UNKNOWN ERROR (303)\n",
      "2022-07-18 19:23:36.618803: I tensorflow/stream_executor/cuda/cuda_diagnostics.cc:156] kernel driver does not appear to be running on this host (tomskopfbahnhof): /proc/driver/nvidia/version does not exist\n",
      "2022-07-18 19:23:36.618997: I tensorflow/core/platform/cpu_feature_guard.cc:151] This TensorFlow binary is optimized with oneAPI Deep Neural Network Library (oneDNN) to use the following CPU instructions in performance-critical operations:  AVX2 FMA\n",
      "To enable them in other operations, rebuild TensorFlow with the appropriate compiler flags.\n"
     ]
    }
   ],
   "source": [
    "import numpy as np\n",
    "import matplotlib.pyplot as plt\n",
    "from cirq.contrib.svg import SVGCircuit\n",
    "import tensorflow as tf\n",
    "import tensorflow_quantum as tfq\n",
    "from hep_VQAE import data_preprocessing as dp\n",
    "from hep_VQAE import CAE as cae\n",
    "from tensorflow.keras import layers, losses\n",
    "\n",
    "import warnings\n",
    "warnings.filterwarnings('ignore')"
   ]
  },
  {
   "cell_type": "code",
   "execution_count": 2,
   "id": "d79ad71b-abd8-4e82-8d07-5a10d2839544",
   "metadata": {},
   "outputs": [],
   "source": [
    "(x_train, y_train), (x_test, y_test) = tf.keras.datasets.mnist.load_data()\n",
    "\n",
    "# Rescale the images from [0,255] to the [0.0,1.0] range.\n",
    "x_train, x_test = x_train/255.0, x_test/255.0"
   ]
  },
  {
   "cell_type": "code",
   "execution_count": 3,
   "id": "c47e97c2-59b6-49b4-b328-6ebe327f7f37",
   "metadata": {},
   "outputs": [
    {
     "name": "stdout",
     "output_type": "stream",
     "text": [
      "Number of filtered training examples: 12049\n",
      "Number of filtered test examples: 1968\n"
     ]
    }
   ],
   "source": [
    "def filter_36(x, y):\n",
    "    keep = (y == 3) | (y == 6)\n",
    "    x, y = x[keep], y[keep]\n",
    "    y = y == 3\n",
    "    return x,y\n",
    "\n",
    "x_train, y_train = filter_36(x_train, y_train)\n",
    "x_test, y_test = filter_36(x_test, y_test)\n",
    "\n",
    "print(\"Number of filtered training examples:\", len(x_train))\n",
    "print(\"Number of filtered test examples:\", len(x_test))"
   ]
  },
  {
   "cell_type": "code",
   "execution_count": 4,
   "id": "919360ef-b0b0-4b76-a530-cfa51226037b",
   "metadata": {},
   "outputs": [
    {
     "data": {
      "text/plain": [
       "(28, 28)"
      ]
     },
     "execution_count": 4,
     "metadata": {},
     "output_type": "execute_result"
    }
   ],
   "source": [
    "num_data, input_dim_x, input_dim_y = x_train.shape\n",
    "input_dim = input_dim_x, input_dim_y\n",
    "input_dim"
   ]
  },
  {
   "cell_type": "code",
   "execution_count": 5,
   "id": "7a864ba2-5d9f-411d-87c8-928a16d52029",
   "metadata": {},
   "outputs": [],
   "source": [
    "latent_dim = 1\n",
    "ae = cae.Convolutional_Autoencoder1(input_dim)"
   ]
  },
  {
   "cell_type": "code",
   "execution_count": 6,
   "id": "8c8cc30f-18d9-4c7e-b5b3-81e36571e26d",
   "metadata": {},
   "outputs": [],
   "source": [
    "ae.compile(loss='mse', optimizer=tf.keras.optimizers.Adam(lr=0.001))"
   ]
  },
  {
   "cell_type": "code",
   "execution_count": 7,
   "id": "0c942f87-bc7b-4864-8fdb-46079e3f945a",
   "metadata": {},
   "outputs": [
    {
     "name": "stdout",
     "output_type": "stream",
     "text": [
      "Model: \"convolutional__autoencoder1\"\n",
      "_________________________________________________________________\n",
      " Layer (type)                Output Shape              Param #   \n",
      "=================================================================\n",
      " sequential (Sequential)     (None, 45)                40269     \n",
      "                                                                 \n",
      " sequential_1 (Sequential)   (12049, 28, 28, 1)        51345     \n",
      "                                                                 \n",
      "=================================================================\n",
      "Total params: 91,614\n",
      "Trainable params: 91,614\n",
      "Non-trainable params: 0\n",
      "_________________________________________________________________\n"
     ]
    }
   ],
   "source": [
    "ae.build(x_train.shape)\n",
    "ae.summary()"
   ]
  },
  {
   "cell_type": "markdown",
   "id": "a24c2121-34d9-40a8-bbb0-f5bd025403ee",
   "metadata": {},
   "source": [
    "Summary of encoder and decoder model"
   ]
  },
  {
   "cell_type": "code",
   "execution_count": 8,
   "id": "828d40ea-501a-4565-b410-a193e8838cac",
   "metadata": {},
   "outputs": [
    {
     "name": "stdout",
     "output_type": "stream",
     "text": [
      "Model: \"sequential\"\n",
      "_________________________________________________________________\n",
      " Layer (type)                Output Shape              Param #   \n",
      "=================================================================\n",
      " conv2d (Conv2D)             (None, 14, 14, 32)        320       \n",
      "                                                                 \n",
      " conv2d_1 (Conv2D)           (None, 7, 7, 16)          4624      \n",
      "                                                                 \n",
      " flatten (Flatten)           (None, 784)               0         \n",
      "                                                                 \n",
      " dense (Dense)               (None, 45)                35325     \n",
      "                                                                 \n",
      "=================================================================\n",
      "Total params: 40,269\n",
      "Trainable params: 40,269\n",
      "Non-trainable params: 0\n",
      "_________________________________________________________________\n"
     ]
    }
   ],
   "source": [
    "ae.encoder.summary()"
   ]
  },
  {
   "cell_type": "code",
   "execution_count": 9,
   "id": "bd986306-3470-4437-b322-9f94a8720f7b",
   "metadata": {},
   "outputs": [
    {
     "name": "stdout",
     "output_type": "stream",
     "text": [
      "Model: \"sequential_1\"\n",
      "_________________________________________________________________\n",
      " Layer (type)                Output Shape              Param #   \n",
      "=================================================================\n",
      " dense_1 (Dense)             (12049, 784)              36064     \n",
      "                                                                 \n",
      " reshape (Reshape)           (12049, 7, 7, 16)         0         \n",
      "                                                                 \n",
      " conv2d_transpose (Conv2DTra  (12049, 14, 14, 16)      2320      \n",
      " nspose)                                                         \n",
      "                                                                 \n",
      " conv2d_transpose_1 (Conv2DT  (12049, 28, 28, 32)      12832     \n",
      " ranspose)                                                       \n",
      "                                                                 \n",
      " conv2d_2 (Conv2D)           (12049, 28, 28, 1)        129       \n",
      "                                                                 \n",
      "=================================================================\n",
      "Total params: 51,345\n",
      "Trainable params: 51,345\n",
      "Non-trainable params: 0\n",
      "_________________________________________________________________\n"
     ]
    }
   ],
   "source": [
    "ae.decoder.summary()"
   ]
  },
  {
   "cell_type": "code",
   "execution_count": 10,
   "id": "6fef58a4-801b-4c2d-a91e-0221b46335b4",
   "metadata": {},
   "outputs": [],
   "source": [
    "x_train_three = x_train[y_train==1]\n",
    "x_train = x_train[y_train==0]\n",
    "\n",
    "x_test_three = x_test[y_test==1]\n",
    "x_test = x_test[y_test==0]"
   ]
  },
  {
   "cell_type": "code",
   "execution_count": 11,
   "id": "21a5d9f4-10d9-4b4a-b322-c47b6e9a0a9b",
   "metadata": {},
   "outputs": [
    {
     "name": "stdout",
     "output_type": "stream",
     "text": [
      "Epoch 1/10\n",
      "185/185 [==============================] - 5s 25ms/step - loss: 0.0756 - val_loss: 0.0579\n",
      "Epoch 2/10\n",
      "185/185 [==============================] - 5s 25ms/step - loss: 0.0490 - val_loss: 0.0426\n",
      "Epoch 3/10\n",
      "185/185 [==============================] - 4s 24ms/step - loss: 0.0374 - val_loss: 0.0347\n",
      "Epoch 4/10\n",
      "185/185 [==============================] - 4s 22ms/step - loss: 0.0304 - val_loss: 0.0260\n",
      "Epoch 5/10\n",
      "185/185 [==============================] - 4s 21ms/step - loss: 0.0231 - val_loss: 0.0208\n",
      "Epoch 6/10\n",
      "185/185 [==============================] - 4s 23ms/step - loss: 0.0184 - val_loss: 0.0160\n",
      "Epoch 7/10\n",
      "185/185 [==============================] - 4s 23ms/step - loss: 0.0147 - val_loss: 0.0135\n",
      "Epoch 8/10\n",
      "185/185 [==============================] - 4s 22ms/step - loss: 0.0126 - val_loss: 0.0120\n",
      "Epoch 9/10\n",
      "185/185 [==============================] - 4s 24ms/step - loss: 0.0112 - val_loss: 0.0109\n",
      "Epoch 10/10\n",
      "185/185 [==============================] - 4s 21ms/step - loss: 0.0101 - val_loss: 0.0099\n"
     ]
    }
   ],
   "source": [
    "es = tf.keras.callbacks.EarlyStopping(monitor='val_loss', patience=5)\n",
    "hist = ae.fit(x_train, x_train,\n",
    "                epochs=10,\n",
    "                shuffle=True,\n",
    "                validation_data=(x_test, x_test),\n",
    "                callbacks=[es])"
   ]
  },
  {
   "cell_type": "code",
   "execution_count": 12,
   "id": "065660a1-06fa-44ff-9406-12a3981742dd",
   "metadata": {},
   "outputs": [
    {
     "data": {
      "text/plain": [
       "<tf.Tensor: shape=(1, 45), dtype=float32, numpy=\n",
       "array([[0.17321023, 0.41552663, 0.50255716, 0.94172233, 0.716668  ,\n",
       "        0.3885963 , 0.42848706, 0.68789995, 0.15193576, 0.25013712,\n",
       "        0.5093176 , 0.81688094, 0.9992987 , 0.5787027 , 0.66894853,\n",
       "        0.3501999 , 0.11274949, 0.07962498, 0.90255773, 0.5501595 ,\n",
       "        0.9969157 , 0.21529415, 0.4238843 , 0.9996036 , 0.5442602 ,\n",
       "        0.9514159 , 0.78041506, 0.8038529 , 0.8792782 , 0.39775702,\n",
       "        0.5962816 , 0.30912182, 0.25732952, 0.06678453, 0.45072076,\n",
       "        0.59326416, 0.6946875 , 0.57852185, 0.19177926, 0.61862016,\n",
       "        0.12505683, 0.7756173 , 0.7182825 , 0.48085544, 0.12559527]],\n",
       "      dtype=float32)>"
      ]
     },
     "execution_count": 12,
     "metadata": {},
     "output_type": "execute_result"
    }
   ],
   "source": [
    "ae.encoder(x_test[0].reshape(1,28,28,1))"
   ]
  },
  {
   "cell_type": "code",
   "execution_count": 36,
   "id": "752795c7-5faf-4bba-9855-4608ceb92ba7",
   "metadata": {},
   "outputs": [
    {
     "data": {
      "text/plain": [
       "<matplotlib.colorbar.Colorbar at 0x7ff570383520>"
      ]
     },
     "execution_count": 36,
     "metadata": {},
     "output_type": "execute_result"
    },
    {
     "data": {
      "image/png": "[encoded data removed]",
      "text/plain": [
       "<Figure size 432x288 with 2 Axes>"
      ]
     },
     "metadata": {
      "needs_background": "light"
     },
     "output_type": "display_data"
    }
   ],
   "source": [
    "num = 2\n",
    "plt.imshow(ae(x_test[num].reshape(1,28,28,1)).numpy().reshape((28,28)),cmap='binary')\n",
    "plt.colorbar()"
   ]
  },
  {
   "cell_type": "code",
   "execution_count": 37,
   "id": "e910f16f-5c3a-47f1-81c9-a7437fa281d5",
   "metadata": {},
   "outputs": [
    {
     "data": {
      "text/plain": [
       "<matplotlib.colorbar.Colorbar at 0x7ff5100128e0>"
      ]
     },
     "execution_count": 37,
     "metadata": {},
     "output_type": "execute_result"
    },
    {
     "data": {
      "image/png": "[encoded data removed]",
      "text/plain": [
       "<Figure size 432x288 with 2 Axes>"
      ]
     },
     "metadata": {
      "needs_background": "light"
     },
     "output_type": "display_data"
    }
   ],
   "source": [
    "plt.imshow(x_test[num].reshape(28,28),cmap='binary')\n",
    "plt.colorbar()"
   ]
  },
  {
   "cell_type": "code",
   "execution_count": 15,
   "id": "94f9f216-8a33-467b-b063-76c2d7c7098f",
   "metadata": {},
   "outputs": [
    {
     "data": {
      "text/plain": [
       "<matplotlib.legend.Legend at 0x7ff5725aa5e0>"
      ]
     },
     "execution_count": 15,
     "metadata": {},
     "output_type": "execute_result"
    },
    {
     "data": {
      "image/png": "[encoded data removed]",
      "text/plain": [
       "<Figure size 432x288 with 1 Axes>"
      ]
     },
     "metadata": {
      "needs_background": "light"
     },
     "output_type": "display_data"
    }
   ],
   "source": [
    "plt.plot(hist.history['loss'], label=\"training\")\n",
    "plt.plot(hist.history['val_loss'], label=\"validation\")\n",
    "plt.yscale('log')\n",
    "plt.legend()"
   ]
  },
  {
   "cell_type": "code",
   "execution_count": 16,
   "id": "0293cab7-1d27-47cd-b03c-f42f07cd3205",
   "metadata": {},
   "outputs": [],
   "source": [
    "def mae(x):\n",
    "    pred = ae.predict(x)\n",
    "    pred = pred.reshape(pred.shape[:-1])\n",
    "    return np.mean(np.abs(x - pred)**2,axis=(1,2))\n",
    "\n",
    "def recon_acc(x):\n",
    "    return 1 - mae(x)"
   ]
  },
  {
   "cell_type": "code",
   "execution_count": 17,
   "id": "f71a63c6-7937-45ba-81c5-db8ddc8a0f7a",
   "metadata": {
    "tags": []
   },
   "outputs": [],
   "source": [
    "sixes = recon_acc(x_test)\n",
    "threes = recon_acc(x_test_three)"
   ]
  },
  {
   "cell_type": "code",
   "execution_count": 18,
   "id": "aa057f19-679a-42b8-b770-c47df9f793b7",
   "metadata": {
    "tags": []
   },
   "outputs": [
    {
     "name": "stdout",
     "output_type": "stream",
     "text": [
      "0.9912885998853163\n",
      "0.9551344750629684\n"
     ]
    },
    {
     "data": {
      "text/plain": [
       "<matplotlib.legend.Legend at 0x7ff57250ba30>"
      ]
     },
     "execution_count": 18,
     "metadata": {},
     "output_type": "execute_result"
    },
    {
     "data": {
      "image/png": "[encoded data removed]",
      "text/plain": [
       "<Figure size 432x288 with 1 Axes>"
      ]
     },
     "metadata": {
      "needs_background": "light"
     },
     "output_type": "display_data"
    }
   ],
   "source": [
    "print(np.median(sixes))\n",
    "bins = np.histogram(np.hstack((sixes, threes)), bins=10)[1]\n",
    "plt.hist(sixes, histtype='step', label=\"sixes\",bins=bins)#,bins=[0.0004,0.0005,0.0006,0.0007,0.0008,0.0009,0.001,0.0011,0.0012,0.0013])\n",
    "print(np.median(threes))\n",
    "plt.hist(threes, histtype='step', label=\"threes\",bins=bins)#,bins=[0.0004,0.0005,0.0006,0.0007,0.0008,0.0009,0.001,0.0011,0.0012,0.0013])\n",
    "plt.legend()"
   ]
  },
  {
   "cell_type": "code",
   "execution_count": 19,
   "id": "d97a2d80-2ee6-403d-8236-27e7e13c4f5c",
   "metadata": {
    "tags": []
   },
   "outputs": [
    {
     "name": "stdout",
     "output_type": "stream",
     "text": [
      "0.9776422764227642\n"
     ]
    },
    {
     "data": {
      "text/plain": [
       "[<matplotlib.lines.Line2D at 0x7ff5721e9d00>]"
      ]
     },
     "execution_count": 19,
     "metadata": {},
     "output_type": "execute_result"
    },
    {
     "data": {
      "image/png": "[encoded data removed]",
      "text/plain": [
       "<Figure size 432x288 with 1 Axes>"
      ]
     },
     "metadata": {
      "needs_background": "light"
     },
     "output_type": "display_data"
    }
   ],
   "source": [
    "def acc_for_threshold(T):\n",
    "    # sixes that are predicted six\n",
    "    num_six_right = np.sum(sixes > T)\n",
    "    # threes that are predicted three\n",
    "    num_three_right = np.sum(threes < T)\n",
    "    acc = (num_six_right + num_three_right)/(len(sixes) + len(threes))\n",
    "    return acc\n",
    "\n",
    "Ts = np.linspace(0,1,100)\n",
    "accs = []\n",
    "for i in Ts:\n",
    "    accs.append(acc_for_threshold(i))\n",
    "print(max(accs))\n",
    "plt.plot(Ts, accs)  "
   ]
  },
  {
   "cell_type": "code",
   "execution_count": 20,
   "id": "141db6e9-b89e-4960-85dd-efeee896111d",
   "metadata": {},
   "outputs": [],
   "source": [
    "from hep_VQAE import utils as ut"
   ]
  },
  {
   "cell_type": "code",
   "execution_count": 32,
   "id": "c6f377cb-daf1-44be-a2cb-16fe05728cb1",
   "metadata": {},
   "outputs": [
    {
     "data": {
      "text/plain": [
       "0.8816101996544788"
      ]
     },
     "execution_count": 32,
     "metadata": {},
     "output_type": "execute_result"
    }
   ],
   "source": [
    "ut.test_collapse(x_test[:100], ae.predict(x_test[:100]))"
   ]
  },
  {
   "cell_type": "code",
   "execution_count": null,
   "id": "1b72637b-d0b7-46c0-b48b-3f7ce9d3c631",
   "metadata": {},
   "outputs": [],
   "source": []
  },
  {
   "cell_type": "code",
   "execution_count": 31,
   "id": "99490b42-ee62-42fe-96dd-a4d2c751fec0",
   "metadata": {},
   "outputs": [
    {
     "data": {
      "text/plain": [
       "<tf.Tensor: shape=(100,), dtype=float32, numpy=\n",
       "array([0.81492984, 0.9187862 , 0.88068426, 0.9405544 , 0.7808372 ,\n",
       "       0.82870805, 0.8893686 , 0.90532976, 0.93923855, 0.74176687,\n",
       "       0.81343764, 0.8740729 , 0.92305416, 0.9201576 , 0.92675096,\n",
       "       0.8742643 , 0.88834184, 0.9303781 , 0.88548636, 0.93676174,\n",
       "       0.9057481 , 0.81605256, 0.70483524, 0.8678423 , 0.8140354 ,\n",
       "       0.80620784, 0.65868735, 0.9061133 , 0.93871504, 0.735408  ,\n",
       "       0.83069396, 0.93226993, 0.8916218 , 0.9542439 , 0.87391144,\n",
       "       0.58429956, 0.92823756, 0.91236603, 0.8570781 , 0.8383068 ,\n",
       "       0.94666535, 0.8777528 , 0.87303776, 0.8370248 , 0.81611377,\n",
       "       0.8950455 , 0.92157114, 0.90537816, 0.8392854 , 0.9399206 ,\n",
       "       0.8906948 , 0.92558646, 0.91678023, 0.9086797 , 0.9208187 ,\n",
       "       0.9724559 , 0.8047745 , 0.91061074, 0.89781064, 0.93736255,\n",
       "       0.9226483 , 0.8832482 , 0.92241347, 0.89685655, 0.85244316,\n",
       "       0.91228193, 0.8902674 , 0.77909553, 0.9411553 , 0.8274557 ,\n",
       "       0.9421023 , 0.88262033, 0.92776847, 0.8991572 , 0.8165859 ,\n",
       "       0.818398  , 0.8829482 , 0.8224125 , 0.9133542 , 0.9133919 ,\n",
       "       0.9271891 , 0.83359206, 0.7641026 , 0.84387076, 0.8921155 ,\n",
       "       0.9293811 , 0.79486865, 0.46682584, 0.66703   , 0.9126829 ,\n",
       "       0.6574771 , 0.8706897 , 0.8577309 , 0.889956  , 0.9399967 ,\n",
       "       0.8792862 , 0.891142  , 0.87611425, 0.7975587 , 0.876608  ],\n",
       "      dtype=float32)>"
      ]
     },
     "execution_count": 31,
     "metadata": {},
     "output_type": "execute_result"
    }
   ],
   "source": [
    "tf.image.ssim(x_test[:100].reshape(100,28,28,1).astype('float64'),ae(x_test[:100].reshape(100,28,28,1)).numpy().astype('float64'),max_val=1.0)"
   ]
  },
  {
   "cell_type": "code",
   "execution_count": 48,
   "id": "d1ae0fd1-8158-402e-96bd-fb97ca6c71a2",
   "metadata": {},
   "outputs": [],
   "source": [
    "MAE = tf.reduce_mean(tf.abs(x_test[:100].reshape(100,28,28,1) - ae(x_test[:100].reshape(100,28,28,1)).numpy())/tf.reduce_sum(x_test[:100],axis=(1,2)).numpy().reshape(100,1,1,1))"
   ]
  },
  {
   "cell_type": "code",
   "execution_count": 49,
   "id": "4fbb461b-2471-4567-8124-eef89c6c4f6d",
   "metadata": {},
   "outputs": [
    {
     "data": {
      "text/plain": [
       "<tf.Tensor: shape=(), dtype=float64, numpy=0.00038227629087593133>"
      ]
     },
     "execution_count": 49,
     "metadata": {},
     "output_type": "execute_result"
    }
   ],
   "source": [
    "MAE"
   ]
  },
  {
   "cell_type": "code",
   "execution_count": null,
   "id": "b554fe76-e0dd-48b4-aa7f-4e47bd32efc8",
   "metadata": {},
   "outputs": [],
   "source": []
  }
 ],
 "metadata": {
  "kernelspec": {
   "display_name": "tfq",
   "language": "python",
   "name": "tfq"
  },
  "language_info": {
   "codemirror_mode": {
    "name": "ipython",
    "version": 3
   },
   "file_extension": ".py",
   "mimetype": "text/x-python",
   "name": "python",
   "nbconvert_exporter": "python",
   "pygments_lexer": "ipython3",
   "version": "3.9.12"
  }
 },
 "nbformat": 4,
 "nbformat_minor": 5
}
