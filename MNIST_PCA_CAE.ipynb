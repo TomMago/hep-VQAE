{
 "cells": [
  {
   "cell_type": "markdown",
   "id": "9080d094-8323-45f5-a578-aeed60dc8ab0",
   "metadata": {
    "tags": []
   },
   "source": [
    "# Classical AE with PCA on MNIST\n",
    "\n",
    "For comparision I train a classical AE on MNIST on the PCA reduced data"
   ]
  },
  {
   "cell_type": "code",
   "execution_count": 1,
   "id": "5b53f85c-d0fb-489d-b816-6ed710eeda35",
   "metadata": {},
   "outputs": [
    {
     "name": "stderr",
     "output_type": "stream",
     "text": [
      "2022-06-29 08:51:55.839573: W tensorflow/stream_executor/platform/default/dso_loader.cc:64] Could not load dynamic library 'libcudart.so.11.0'; dlerror: libcudart.so.11.0: cannot open shared object file: No such file or directory\n",
      "2022-06-29 08:51:55.839599: I tensorflow/stream_executor/cuda/cudart_stub.cc:29] Ignore above cudart dlerror if you do not have a GPU set up on your machine.\n",
      "2022-06-29 08:51:57.393859: W tensorflow/stream_executor/platform/default/dso_loader.cc:64] Could not load dynamic library 'libcuda.so.1'; dlerror: libcuda.so.1: cannot open shared object file: No such file or directory\n",
      "2022-06-29 08:51:57.393879: W tensorflow/stream_executor/cuda/cuda_driver.cc:269] failed call to cuInit: UNKNOWN ERROR (303)\n",
      "2022-06-29 08:51:57.393898: I tensorflow/stream_executor/cuda/cuda_diagnostics.cc:156] kernel driver does not appear to be running on this host (tomskopfbahnhof): /proc/driver/nvidia/version does not exist\n",
      "2022-06-29 08:51:57.394581: I tensorflow/core/platform/cpu_feature_guard.cc:151] This TensorFlow binary is optimized with oneAPI Deep Neural Network Library (oneDNN) to use the following CPU instructions in performance-critical operations:  AVX2 FMA\n",
      "To enable them in other operations, rebuild TensorFlow with the appropriate compiler flags.\n"
     ]
    }
   ],
   "source": [
    "import numpy as np\n",
    "import matplotlib.pyplot as plt\n",
    "from cirq.contrib.svg import SVGCircuit\n",
    "import tensorflow as tf\n",
    "import tensorflow_quantum as tfq\n",
    "from hep_VQAE import data_preprocessing as dp\n",
    "from hep_VQAE import CAE as cae\n",
    "\n",
    "\n",
    "import warnings\n",
    "warnings.filterwarnings('ignore')"
   ]
  },
  {
   "cell_type": "code",
   "execution_count": 2,
   "id": "d79ad71b-abd8-4e82-8d07-5a10d2839544",
   "metadata": {},
   "outputs": [
    {
     "name": "stdout",
     "output_type": "stream",
     "text": [
      "x_train:  (60000, 28, 28)\n",
      "x_test:  (10000, 28, 28)\n",
      "y_train:  (60000,)\n",
      "y_test:  (10000,)\n"
     ]
    }
   ],
   "source": [
    "(x_train, y_train), (x_test, y_test) = tf.keras.datasets.mnist.load_data()\n",
    "\n",
    "# Rescale the images from [0,255] to the [0.0,1.0] range.\n",
    "x_train, x_test = x_train/255.0, x_test/255.0"
   ]
  },
  {
   "cell_type": "code",
   "execution_count": 4,
   "id": "c579ffc9-301d-4cb3-8cbb-5878f3c1c664",
   "metadata": {},
   "outputs": [
    {
     "name": "stdout",
     "output_type": "stream",
     "text": [
      "Number of filtered training examples: 12049\n",
      "Number of filtered test examples: 1968\n"
     ]
    }
   ],
   "source": [
    "def filter_36(x, y):\n",
    "    keep = (y == 3) | (y == 6)\n",
    "    x, y = x[keep], y[keep]\n",
    "    y = y == 3\n",
    "    return x,y\n",
    "\n",
    "x_train, y_train = filter_36(x_train, y_train)\n",
    "x_test, y_test = filter_36(x_test, y_test)\n",
    "\n",
    "print(\"Number of filtered training examples:\", len(x_train))\n",
    "print(\"Number of filtered test examples:\", len(x_test))"
   ]
  },
  {
   "cell_type": "markdown",
   "id": "7f4f4f50-985d-4367-8674-7bf7c6b0ad66",
   "metadata": {
    "tags": []
   },
   "source": [
    "# Dimensionality reduction\n",
    "\n"
   ]
  },
  {
   "cell_type": "code",
   "execution_count": 5,
   "id": "a4449c9c-32fd-42f2-9cd8-f3d31fcbed33",
   "metadata": {},
   "outputs": [
    {
     "name": "stdout",
     "output_type": "stream",
     "text": [
      "1.0\n",
      "0.0\n",
      "(12049, 4)\n",
      "(1968, 4)\n"
     ]
    }
   ],
   "source": [
    "DOWNSCALE = 2\n",
    "DATA_DIMENSION = DOWNSCALE*DOWNSCALE\n",
    "LATENT_BITS = 2\n",
    "\n",
    "x_train, x_test = dp.PCA_reduce(x_train, DATA_DIMENSION, val_data=x_test)\n",
    "print(np.max(x_train))\n",
    "print(np.min(x_train))\n",
    "print(x_train.shape)\n",
    "print(x_test.shape)"
   ]
  },
  {
   "cell_type": "code",
   "execution_count": 6,
   "id": "4c67c38d-f187-4e78-88b0-91409992f9ef",
   "metadata": {},
   "outputs": [
    {
     "data": {
      "image/png": "[encoded data removed]",
      "text/plain": [
       "<Figure size 432x288 with 3 Axes>"
      ]
     },
     "metadata": {
      "needs_background": "light"
     },
     "output_type": "display_data"
    }
   ],
   "source": [
    "fig, axs = plt.subplots(1,2)\n",
    "img0 = axs[0].imshow(np.average(x_train[y_train==True],0).reshape(DOWNSCALE,DOWNSCALE))\n",
    "axs[0].title.set_text('three')\n",
    "\n",
    "img1 = axs[1].imshow(np.average(x_train[y_train==False],0).reshape(DOWNSCALE,DOWNSCALE))\n",
    "axs[1].title.set_text('six')\n",
    "\n",
    "cbar_ax = fig.add_axes([1, 0.15, 0.05, 0.7])\n",
    "fig.colorbar(img1, orientation='vertical', cax=cbar_ax)\n",
    "\n",
    "fig.tight_layout()"
   ]
  },
  {
   "cell_type": "markdown",
   "id": "06f5cb43-d74e-4225-85b2-1c28fd2881ce",
   "metadata": {},
   "source": [
    "After the PCA it looks like Photons and Electrons should still seperate quite well."
   ]
  },
  {
   "cell_type": "code",
   "execution_count": 7,
   "id": "5d5ba41b-eac3-491e-8d78-2a2977a23552",
   "metadata": {
    "tags": []
   },
   "outputs": [
    {
     "data": {
      "text/plain": [
       "<matplotlib.legend.Legend at 0x7f17aac4da00>"
      ]
     },
     "execution_count": 7,
     "metadata": {},
     "output_type": "execute_result"
    },
    {
     "data": {
      "image/png": "[encoded data removed]",
      "text/plain": [
       "<Figure size 432x288 with 4 Axes>"
      ]
     },
     "metadata": {
      "needs_background": "light"
     },
     "output_type": "display_data"
    }
   ],
   "source": [
    "fig, axs = plt.subplots(DOWNSCALE,DOWNSCALE)\n",
    "for i in range(0,DATA_DIMENSION):\n",
    "    axs[i//DOWNSCALE,i%DOWNSCALE].hist(x_train[y_train==0][:,i], label=\"photons\", histtype='step')\n",
    "    axs[i//DOWNSCALE,i%DOWNSCALE].hist(x_train[y_train==1][:,i], label=\"electrons\", histtype='step')\n",
    "fig.tight_layout()\n",
    "plt.legend(loc='center left', bbox_to_anchor=(1, 0.5))"
   ]
  },
  {
   "cell_type": "markdown",
   "id": "08a7dcf3-2a54-4aa4-80d6-2831b3a68929",
   "metadata": {},
   "source": [
    "I want only want to train the AE on Photons and later try to separate them from the electrons without training on electron data.\n",
    "Therefore I only include Photons in x_train.\n"
   ]
  },
  {
   "cell_type": "code",
   "execution_count": 8,
   "id": "16099271-c963-402c-86e9-f467d540e096",
   "metadata": {},
   "outputs": [],
   "source": [
    "x_train_threes = x_train[y_train==True]\n",
    "x_train = x_train[y_train==False]\n",
    "\n",
    "x_test_threes = x_test[y_test==True]\n",
    "x_test = x_test[y_test==False]"
   ]
  },
  {
   "cell_type": "code",
   "execution_count": 9,
   "id": "41acd4e1-54f9-4580-b95e-04e86808e1d3",
   "metadata": {},
   "outputs": [],
   "source": [
    "num_data, x_dim = x_train.shape"
   ]
  },
  {
   "cell_type": "markdown",
   "id": "d998c9a8-c6b3-4097-99d5-c4b21e809711",
   "metadata": {},
   "source": [
    "# CAE model"
   ]
  },
  {
   "cell_type": "code",
   "execution_count": 10,
   "id": "19fa6425-92da-41f8-b2b6-e02fd32f8667",
   "metadata": {},
   "outputs": [],
   "source": [
    "latent_dim = 2\n",
    "ae = cae.Autoencoder(x_dim, latent_dim)"
   ]
  },
  {
   "cell_type": "code",
   "execution_count": 11,
   "id": "b62201f4-7b0e-43d7-9e22-2411dc4db10f",
   "metadata": {},
   "outputs": [],
   "source": [
    "ae.compile(loss='mse', optimizer=tf.keras.optimizers.Adam(lr=0.05))"
   ]
  },
  {
   "cell_type": "code",
   "execution_count": 12,
   "id": "a7ba9e8d-95e9-41b9-b764-287f94c4ad40",
   "metadata": {},
   "outputs": [
    {
     "name": "stdout",
     "output_type": "stream",
     "text": [
      "Model: \"autoencoder\"\n",
      "_________________________________________________________________\n",
      " Layer (type)                Output Shape              Param #   \n",
      "=================================================================\n",
      " sequential (Sequential)     (None, 2)                 10        \n",
      "                                                                 \n",
      " sequential_1 (Sequential)   (5918, 4)                 12        \n",
      "                                                                 \n",
      "=================================================================\n",
      "Total params: 22\n",
      "Trainable params: 22\n",
      "Non-trainable params: 0\n",
      "_________________________________________________________________\n"
     ]
    }
   ],
   "source": [
    "ae.build(x_train.shape)\n",
    "ae.summary()"
   ]
  },
  {
   "cell_type": "code",
   "execution_count": 13,
   "id": "ba37681e-316f-4a91-94ce-e9cca7c68768",
   "metadata": {},
   "outputs": [
    {
     "name": "stdout",
     "output_type": "stream",
     "text": [
      "Epoch 1/40\n",
      "185/185 [==============================] - 0s 985us/step - loss: 0.0184 - val_loss: 0.0100\n",
      "Epoch 2/40\n",
      "185/185 [==============================] - 0s 697us/step - loss: 0.0083 - val_loss: 0.0087\n",
      "Epoch 3/40\n",
      "185/185 [==============================] - 0s 706us/step - loss: 0.0083 - val_loss: 0.0088\n",
      "Epoch 4/40\n",
      "185/185 [==============================] - 0s 651us/step - loss: 0.0083 - val_loss: 0.0088\n",
      "Epoch 5/40\n",
      "185/185 [==============================] - 0s 676us/step - loss: 0.0083 - val_loss: 0.0088\n",
      "Epoch 6/40\n",
      "185/185 [==============================] - 0s 673us/step - loss: 0.0083 - val_loss: 0.0088\n",
      "Epoch 7/40\n",
      "185/185 [==============================] - 0s 713us/step - loss: 0.0083 - val_loss: 0.0088\n",
      "Epoch 8/40\n",
      "185/185 [==============================] - 0s 642us/step - loss: 0.0083 - val_loss: 0.0087\n",
      "Epoch 9/40\n",
      "185/185 [==============================] - 0s 660us/step - loss: 0.0083 - val_loss: 0.0088\n"
     ]
    }
   ],
   "source": [
    "es = tf.keras.callbacks.EarlyStopping(monitor='val_loss', patience=7)\n",
    "hist = ae.fit(x_train, x_train,\n",
    "                epochs=40,\n",
    "                shuffle=True,\n",
    "                validation_data=(x_test, x_test),\n",
    "                callbacks=[es])"
   ]
  },
  {
   "cell_type": "code",
   "execution_count": 14,
   "id": "7a1c0b77-b9c5-4371-8c38-ef59bafa3588",
   "metadata": {},
   "outputs": [
    {
     "data": {
      "text/plain": [
       "<matplotlib.legend.Legend at 0x7f17aa4dc4f0>"
      ]
     },
     "execution_count": 14,
     "metadata": {},
     "output_type": "execute_result"
    },
    {
     "data": {
      "image/png": "[encoded data removed]",
      "text/plain": [
       "<Figure size 432x288 with 1 Axes>"
      ]
     },
     "metadata": {
      "needs_background": "light"
     },
     "output_type": "display_data"
    }
   ],
   "source": [
    "plt.plot(hist.history['loss'], label=\"training\")\n",
    "plt.plot(hist.history['val_loss'], label=\"validation\")\n",
    "plt.yscale('log')\n",
    "plt.legend()"
   ]
  },
  {
   "cell_type": "code",
   "execution_count": 15,
   "id": "1152d140-a7cf-4d79-ade8-e7d385591839",
   "metadata": {},
   "outputs": [],
   "source": [
    "def mae(x):\n",
    "    pred = ae.predict(x)\n",
    "    return np.mean(np.abs(x - pred)**2,axis=1)\n",
    "\n",
    "def recon_acc(x):\n",
    "    return 1 - mae(x)"
   ]
  },
  {
   "cell_type": "code",
   "execution_count": 16,
   "id": "2b34ad63-6c50-4820-ae33-1ee602ee48de",
   "metadata": {
    "tags": []
   },
   "outputs": [],
   "source": [
    "sixes = recon_acc(x_test)\n",
    "threes = recon_acc(x_test_threes)"
   ]
  },
  {
   "cell_type": "code",
   "execution_count": 17,
   "id": "56de4c26-21bf-44ab-9709-340ff4960882",
   "metadata": {},
   "outputs": [
    {
     "name": "stdout",
     "output_type": "stream",
     "text": [
      "0.993733302051298\n",
      "0.9409245327773734\n"
     ]
    },
    {
     "data": {
      "text/plain": [
       "<matplotlib.legend.Legend at 0x7f17a856c3d0>"
      ]
     },
     "execution_count": 17,
     "metadata": {},
     "output_type": "execute_result"
    },
    {
     "data": {
      "image/png": "[encoded data removed]",
      "text/plain": [
       "<Figure size 432x288 with 1 Axes>"
      ]
     },
     "metadata": {
      "needs_background": "light"
     },
     "output_type": "display_data"
    }
   ],
   "source": [
    "print(np.median(sixes))\n",
    "bins = np.histogram(np.hstack((sixes, threes)), bins=10)[1]\n",
    "plt.hist(sixes, histtype='step', label=\"sixes\",bins=bins)#,bins=[0.0004,0.0005,0.0006,0.0007,0.0008,0.0009,0.001,0.0011,0.0012,0.0013])\n",
    "print(np.median(threes))\n",
    "plt.hist(threes, histtype='step', label=\"threes\",bins=bins)#,bins=[0.0004,0.0005,0.0006,0.0007,0.0008,0.0009,0.001,0.0011,0.0012,0.0013])\n",
    "plt.legend()"
   ]
  },
  {
   "cell_type": "code",
   "execution_count": 18,
   "id": "dfaa89f4-06ea-4d48-a4c0-ee3c2a5d834f",
   "metadata": {},
   "outputs": [
    {
     "name": "stdout",
     "output_type": "stream",
     "text": [
      "0.9471544715447154\n"
     ]
    },
    {
     "data": {
      "text/plain": [
       "[<matplotlib.lines.Line2D at 0x7f17a8523700>]"
      ]
     },
     "execution_count": 18,
     "metadata": {},
     "output_type": "execute_result"
    },
    {
     "data": {
      "image/png": "[encoded data removed]",
      "text/plain": [
       "<Figure size 432x288 with 1 Axes>"
      ]
     },
     "metadata": {
      "needs_background": "light"
     },
     "output_type": "display_data"
    }
   ],
   "source": [
    "def acc_for_threshold(T):\n",
    "    # sixes that are predicted six\n",
    "    num_six_right = np.sum(sixes > T)\n",
    "    # threes that are predicted three\n",
    "    num_three_right = np.sum(threes < T)\n",
    "    acc = (num_six_right + num_three_right)/(len(sixes) + len(threes))\n",
    "    return acc\n",
    "\n",
    "Ts = np.linspace(0,1,100)\n",
    "accs = []\n",
    "for i in Ts:\n",
    "    accs.append(acc_for_threshold(i))\n",
    "print(max(accs))\n",
    "plt.plot(Ts, accs)  "
   ]
  }
 ],
 "metadata": {
  "kernelspec": {
   "display_name": "env",
   "language": "python",
   "name": "env"
  },
  "language_info": {
   "codemirror_mode": {
    "name": "ipython",
    "version": 3
   },
   "file_extension": ".py",
   "mimetype": "text/x-python",
   "name": "python",
   "nbconvert_exporter": "python",
   "pygments_lexer": "ipython3",
   "version": "3.9.13"
  }
 },
 "nbformat": 4,
 "nbformat_minor": 5
}
