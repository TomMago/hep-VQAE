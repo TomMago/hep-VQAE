{
 "cells": [
  {
   "cell_type": "markdown",
   "id": "a72a6f4a-538e-4e60-ae6f-be1615586aa8",
   "metadata": {
    "jp-MarkdownHeadingCollapsed": true,
    "tags": []
   },
   "source": [
    "### imports"
   ]
  },
  {
   "cell_type": "code",
   "execution_count": 5,
   "id": "78501a2e-af16-4326-8b0c-3f1ef400ed64",
   "metadata": {},
   "outputs": [
    {
     "name": "stderr",
     "output_type": "stream",
     "text": [
      "2022-09-09 15:32:13.045309: W tensorflow/stream_executor/platform/default/dso_loader.cc:64] Could not load dynamic library 'libcudart.so.11.0'; dlerror: libcudart.so.11.0: cannot open shared object file: No such file or directory\n",
      "2022-09-09 15:32:13.045362: I tensorflow/stream_executor/cuda/cudart_stub.cc:29] Ignore above cudart dlerror if you do not have a GPU set up on your machine.\n",
      "/home/tom/.conda/envs/tfq/lib/python3.9/site-packages/cirq/ops/gateset.py:376: UserWarning: v0.14.1 is the last release `cirq.GlobalPhaseGate` is included by default. If you were relying on this behavior, you can include a `cirq.GlobalPhaseGate` in your `*gates`. If not, then you can ignore this warning. It will be removed in v0.16\n",
      "  warnings.warn(\n",
      "2022-09-09 15:32:16.741653: W tensorflow/stream_executor/platform/default/dso_loader.cc:64] Could not load dynamic library 'libcuda.so.1'; dlerror: libcuda.so.1: cannot open shared object file: No such file or directory\n",
      "2022-09-09 15:32:16.741707: W tensorflow/stream_executor/cuda/cuda_driver.cc:269] failed call to cuInit: UNKNOWN ERROR (303)\n",
      "2022-09-09 15:32:16.741739: I tensorflow/stream_executor/cuda/cuda_diagnostics.cc:156] kernel driver does not appear to be running on this host (tomskopfbahnhof): /proc/driver/nvidia/version does not exist\n",
      "2022-09-09 15:32:16.742124: I tensorflow/core/platform/cpu_feature_guard.cc:151] This TensorFlow binary is optimized with oneAPI Deep Neural Network Library (oneDNN) to use the following CPU instructions in performance-critical operations:  AVX2 FMA\n",
      "To enable them in other operations, rebuild TensorFlow with the appropriate compiler flags.\n"
     ]
    }
   ],
   "source": [
    "import numpy as np\n",
    "import matplotlib.pyplot as plt\n",
    "from cirq.contrib.svg import SVGCircuit\n",
    "import tensorflow as tf\n",
    "import tensorflow_quantum as tfq\n",
    "from hep_VQAE import data_preprocessing as dp\n",
    "from hep_VQAE import CAE as cae\n",
    "import h5py\n",
    "import keras\n",
    "import numpy as np\n",
    "from tensorflow.keras.utils import Sequence\n",
    "from matplotlib.colors import LogNorm"
   ]
  },
  {
   "cell_type": "markdown",
   "id": "2faa4a2c-baf3-4cda-8f05-20d7d756b9b6",
   "metadata": {
    "tags": []
   },
   "source": [
    "### load data "
   ]
  },
  {
   "cell_type": "code",
   "execution_count": 6,
   "id": "1826c698-be86-42bd-8281-c681c569c4ae",
   "metadata": {},
   "outputs": [],
   "source": [
    "ftrain = h5py.File(\"../../data/quark-gluon/quark-gluon_train-set_n793900.hdf5\",\"r\")\n",
    "fdummy = h5py.File(\"../../data/quark-gluon/quark-gluon_test-set_n10000.hdf5\",\"r\")\n",
    "fval = h5py.File(\"../../data/quark-gluon/quark-gluon_test-set_n139306.hdf5\",\"r\")"
   ]
  },
  {
   "cell_type": "code",
   "execution_count": 26,
   "id": "6b42a496-8337-47a9-8170-05d61a7b703b",
   "metadata": {},
   "outputs": [],
   "source": [
    "x_train = ftrain.get('X_jets')\n",
    "y_train = ftrain.get('y')\n",
    "\n",
    "x_val = fval.get('X_jets')\n",
    "y_val = fval.get('y')\n",
    "\n",
    "#x_dummy = fdummy.get('X')\n",
    "#y_dummy = fdummy.get('y')\n",
    "\n",
    "x_val = fdummy.get('X')\n",
    "y_val = fdummy.get('y')"
   ]
  },
  {
   "cell_type": "raw",
   "id": "3de81c0c-0ccd-4a0c-8ebc-1d267c22dbe1",
   "metadata": {},
   "source": [
    "maxx = 0\n",
    "\n",
    "batch_size = 128\n",
    "num_batches = x_train.shape[0] // batch_size\n",
    "for j in range(num_batches):\n",
    "    batch_x = x_train[j*batch_size:(j+1)*batch_size]\n",
    "    batch_y = y_train[j*batch_size:(j+1)*batch_size]\n",
    "    print(j,\"/\",batches_per_split,end=\"\\r\")\n",
    "    for idx, batch in enumerate(zip(batch_x,batch_y)):\n",
    "        itmax = np.max(batch_x)\n",
    "        if itmax > maxx:\n",
    "            maxx = itmax\n",
    "            print(itmax, end=\"\\r\")\n",
    "                "
   ]
  },
  {
   "cell_type": "markdown",
   "id": "ed444735-75ed-4988-8735-21b9bd998130",
   "metadata": {
    "tags": []
   },
   "source": [
    "### resize and safe to new file"
   ]
  },
  {
   "cell_type": "code",
   "execution_count": 27,
   "id": "ed5354e8-b0cf-48ea-a115-4c728c456c0f",
   "metadata": {},
   "outputs": [],
   "source": [
    "num_splits = 10\n",
    "batch_size = 512\n",
    "events = x_train.shape[0]\n",
    "num_batches = events // batch_size\n",
    "batches_per_split = num_batches // num_splits"
   ]
  },
  {
   "cell_type": "code",
   "execution_count": 28,
   "id": "ee822b77-55df-4297-a545-612d4275ea37",
   "metadata": {},
   "outputs": [],
   "source": [
    "def _bytes_feature(value):\n",
    "    \"\"\"Returns a bytes_list from a string / byte.\"\"\"\n",
    "    if isinstance(value, type(tf.constant(0))):  # if value ist tensor\n",
    "        value = value.numpy()  # get value of tensor\n",
    "    return tf.train.Feature(bytes_list=tf.train.BytesList(value=[value]))\n",
    "\n",
    "\n",
    "def _float_feature(value):\n",
    "    \"\"\"Returns a floast_list from a float / double.\"\"\"\n",
    "    return tf.train.Feature(float_list=tf.train.FloatList(value=[value]))\n",
    "\n",
    "\n",
    "def _int64_feature(value):\n",
    "    \"\"\"Returns an int64_list from a bool / enum / int / uint.\"\"\"\n",
    "    return tf.train.Feature(int64_list=tf.train.Int64List(value=[value]))\n",
    "\n",
    "\n",
    "\n",
    "def serialize_array(array):\n",
    "    array = tf.io.serialize_tensor(array)\n",
    "    return array"
   ]
  },
  {
   "cell_type": "code",
   "execution_count": 29,
   "id": "ec5ce5cc-3f76-4669-a218-a5448a6bdf6a",
   "metadata": {},
   "outputs": [],
   "source": [
    "\n",
    "def parse_single_image(image, label):\n",
    "    #define the dictionary -- the structure -- of our single example\n",
    "    #encimg = tf.image.encode_png(image)\n",
    "    \n",
    "    data = {\n",
    "        'raw_image': _bytes_feature(serialize_array(image)),\n",
    "        #'raw_image': _bytes_feature(encimg),\n",
    "        'label': _int64_feature(label)\n",
    "    }\n",
    "\n",
    "    #create an Example, wrapping the single features\n",
    "    out = tf.train.Example(features=tf.train.Features(feature=data))\n",
    "\n",
    "    return out"
   ]
  },
  {
   "cell_type": "code",
   "execution_count": 30,
   "id": "d9783012-9592-455e-a376-e5f56c962d4b",
   "metadata": {},
   "outputs": [],
   "source": [
    "import tqdm\n",
    "import os\n",
    "def write_images_to_tfr(out_dir: str = \"./tfrecords/\"):\n",
    "    os.makedirs(out_dir, exist_ok=True)\n",
    "    #determine the number of shards (single TFRecord files) we need:  #determine how many tfr shards are needed\n",
    "\n",
    "    file_count = 0\n",
    "\n",
    "    for i in tqdm.tqdm(range(num_splits)):\n",
    "        current_shard_name = \"{}{}_{}.tfrecords\".format(out_dir, i + 1, num_splits)\n",
    "        writer = tf.io.TFRecordWriter(current_shard_name)\n",
    "        samplecounter = i*batches_per_split*batch_size\n",
    "        for j in range(batches_per_split):\n",
    "            \n",
    "            batch_x = x_train[samplecounter+j*batch_size:samplecounter+(j+1)*batch_size]\n",
    "            batch_y = y_train[samplecounter+j*batch_size:samplecounter+(j+1)*batch_size]\n",
    "            print(j,\"/\",batches_per_split,end=\"\\r\")\n",
    "            for idx, batch in enumerate(zip(batch_x,batch_y)):\n",
    "                out = parse_single_image(image=batch[0], label=int(batch[1]))\n",
    "                writer.write(out.SerializeToString())\n",
    "                \n",
    "\n",
    "        writer.close()\n",
    "    print(f\"\\nWrote {file_count} elements to TFRecord\")\n",
    "    return file_count"
   ]
  },
  {
   "cell_type": "code",
   "execution_count": 31,
   "id": "fb292c03-b901-4b67-8887-422d2fbdeaa8",
   "metadata": {},
   "outputs": [
    {
     "name": "stderr",
     "output_type": "stream",
     "text": [
      "  0%|                         | 0/10 [00:00<?, ?it/s]"
     ]
    },
    {
     "name": "stdout",
     "output_type": "stream",
     "text": [
      "154 / 155\r"
     ]
    },
    {
     "name": "stderr",
     "output_type": "stream",
     "text": [
      " 10%|█▍            | 1/10 [11:10<1:40:32, 670.29s/it]"
     ]
    },
    {
     "name": "stdout",
     "output_type": "stream",
     "text": [
      "154 / 155\r"
     ]
    },
    {
     "name": "stderr",
     "output_type": "stream",
     "text": [
      " 20%|██▊           | 2/10 [22:27<1:29:54, 674.30s/it]"
     ]
    },
    {
     "name": "stdout",
     "output_type": "stream",
     "text": [
      "154 / 155\r"
     ]
    },
    {
     "name": "stderr",
     "output_type": "stream",
     "text": [
      " 30%|████▏         | 3/10 [33:41<1:18:39, 674.20s/it]"
     ]
    },
    {
     "name": "stdout",
     "output_type": "stream",
     "text": [
      "154 / 155\r"
     ]
    },
    {
     "name": "stderr",
     "output_type": "stream",
     "text": [
      " 40%|█████▌        | 4/10 [44:50<1:07:12, 672.14s/it]"
     ]
    },
    {
     "name": "stdout",
     "output_type": "stream",
     "text": [
      "154 / 155\r"
     ]
    },
    {
     "name": "stderr",
     "output_type": "stream",
     "text": [
      " 50%|████████        | 5/10 [55:57<55:51, 670.37s/it]"
     ]
    },
    {
     "name": "stdout",
     "output_type": "stream",
     "text": [
      "154 / 155\r"
     ]
    },
    {
     "name": "stderr",
     "output_type": "stream",
     "text": [
      " 60%|████████▍     | 6/10 [1:07:03<44:34, 668.75s/it]"
     ]
    },
    {
     "name": "stdout",
     "output_type": "stream",
     "text": [
      "154 / 155\r"
     ]
    },
    {
     "name": "stderr",
     "output_type": "stream",
     "text": [
      " 70%|█████████▊    | 7/10 [1:17:57<33:12, 664.13s/it]"
     ]
    },
    {
     "name": "stdout",
     "output_type": "stream",
     "text": [
      "154 / 155\r"
     ]
    },
    {
     "name": "stderr",
     "output_type": "stream",
     "text": [
      " 80%|███████████▏  | 8/10 [1:28:51<22:01, 660.93s/it]"
     ]
    },
    {
     "name": "stdout",
     "output_type": "stream",
     "text": [
      "154 / 155\r"
     ]
    },
    {
     "name": "stderr",
     "output_type": "stream",
     "text": [
      " 90%|████████████▌ | 9/10 [1:39:42<10:57, 657.80s/it]"
     ]
    },
    {
     "name": "stdout",
     "output_type": "stream",
     "text": [
      "154 / 155\r"
     ]
    },
    {
     "name": "stderr",
     "output_type": "stream",
     "text": [
      "100%|█████████████| 10/10 [1:50:46<00:00, 664.66s/it]"
     ]
    },
    {
     "name": "stdout",
     "output_type": "stream",
     "text": [
      "\n",
      "Wrote 0 elements to TFRecord\n"
     ]
    },
    {
     "name": "stderr",
     "output_type": "stream",
     "text": [
      "\n"
     ]
    }
   ],
   "source": [
    "count = write_images_to_tfr()"
   ]
  },
  {
   "cell_type": "code",
   "execution_count": 15,
   "id": "5a55b728-cb60-4ec0-b0fb-06099db4af45",
   "metadata": {},
   "outputs": [],
   "source": [
    "def parse_tfr_element(element):\n",
    "    #use the same structure as above; it's kinda an outline of the structure we now want to create\n",
    "    data = {\n",
    "        'label': tf.io.FixedLenFeature([], tf.int64),\n",
    "        'raw_image': tf.io.FixedLenFeature([], tf.string),\n",
    "    }\n",
    "\n",
    "    content = tf.io.parse_single_example(element, data)\n",
    "\n",
    "    label = content['label']\n",
    "    raw_image = content['raw_image']\n",
    "\n",
    "    #get our 'feature'-- our image -- and reshape it appropriately\n",
    "    feature = tf.io.parse_tensor(raw_image, out_type=tf.float32)\n",
    "    feature = tf.reshape(feature, shape=[125, 125, 3])\n",
    "    return (feature, label)"
   ]
  },
  {
   "cell_type": "code",
   "execution_count": 16,
   "id": "201446bb-2ca8-4aba-b50b-e27bef9b9ffd",
   "metadata": {},
   "outputs": [],
   "source": [
    "import glob\n",
    "def get_dataset(tfr_dir: str = \"/content/\", pattern: str = \"*.tfrecords\"):\n",
    "    files = glob.glob(os.path.join(tfr_dir, pattern), recursive=False)\n",
    "    print(files)\n",
    "\n",
    "    #create the dataset\n",
    "    dataset = tf.data.TFRecordDataset(files)\n",
    "\n",
    "    #pass every single feature through our mapping function\n",
    "    dataset = dataset.map(\n",
    "        parse_tfr_element\n",
    "    )\n",
    "\n",
    "    return dataset"
   ]
  },
  {
   "cell_type": "code",
   "execution_count": 17,
   "id": "ea7bdab1-d7c3-49d0-9dc9-591d442afcaa",
   "metadata": {},
   "outputs": [
    {
     "name": "stdout",
     "output_type": "stream",
     "text": [
      "['./tfrecords/7_10.tfrecords', './tfrecords/2_10.tfrecords', './tfrecords/5_10.tfrecords', './tfrecords/1_10.tfrecords', './tfrecords/9_10.tfrecords', './tfrecords/4_10.tfrecords', './tfrecords/3_10.tfrecords', './tfrecords/10_10.tfrecords', './tfrecords/8_10.tfrecords', './tfrecords/6_10.tfrecords']\n"
     ]
    }
   ],
   "source": [
    "dataset = get_dataset(\"./tfrecords\")\n",
    "dataset = dataset.batch(128)\n",
    "dataset = dataset.map(lambda x, y:(tf.cast(x, tf.float32)/1.0, y))"
   ]
  },
  {
   "cell_type": "code",
   "execution_count": 19,
   "id": "44a02b9f-a9f4-4637-9907-dc6a4ae86789",
   "metadata": {},
   "outputs": [
    {
     "data": {
      "image/png": "[encoded data removed]",
      "text/plain": [
       "<Figure size 432x288 with 5 Axes>"
      ]
     },
     "metadata": {
      "needs_background": "light"
     },
     "output_type": "display_data"
    }
   ],
   "source": [
    "from matplotlib.colors import LogNorm\n",
    "for images, labels in dataset.take(1):\n",
    "    \n",
    "    for i in range(4):\n",
    "        plt.imshow(images[i][:,:,2].numpy(),cmap=\"binary\",norm=LogNorm())\n",
    "        plt.colorbar()"
   ]
  },
  {
   "cell_type": "code",
   "execution_count": null,
   "id": "85ff86ed-995c-420c-bf07-aae24b6fc091",
   "metadata": {},
   "outputs": [],
   "source": []
  }
 ],
 "metadata": {
  "kernelspec": {
   "display_name": "tfq",
   "language": "python",
   "name": "tfq"
  },
  "language_info": {
   "codemirror_mode": {
    "name": "ipython",
    "version": 3
   },
   "file_extension": ".py",
   "mimetype": "text/x-python",
   "name": "python",
   "nbconvert_exporter": "python",
   "pygments_lexer": "ipython3",
   "version": "3.9.12"
  }
 },
 "nbformat": 4,
 "nbformat_minor": 5
}
