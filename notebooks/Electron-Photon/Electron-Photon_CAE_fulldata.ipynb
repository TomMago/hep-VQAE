{
 "cells": [
  {
   "cell_type": "markdown",
   "id": "9080d094-8323-45f5-a578-aeed60dc8ab0",
   "metadata": {
    "tags": []
   },
   "source": [
    "# Electron Photon tagging\n",
    "\n",
    "This is a first test to implement a QAE. \n",
    "The task is to identify Electrons and Photons from em-calorimeter images."
   ]
  },
  {
   "cell_type": "code",
   "execution_count": 1,
   "id": "5b53f85c-d0fb-489d-b816-6ed710eeda35",
   "metadata": {},
   "outputs": [
    {
     "name": "stderr",
     "output_type": "stream",
     "text": [
      "2022-07-19 01:44:16.402836: W tensorflow/stream_executor/platform/default/dso_loader.cc:64] Could not load dynamic library 'libcudart.so.11.0'; dlerror: libcudart.so.11.0: cannot open shared object file: No such file or directory\n",
      "2022-07-19 01:44:16.402860: I tensorflow/stream_executor/cuda/cudart_stub.cc:29] Ignore above cudart dlerror if you do not have a GPU set up on your machine.\n",
      "/home/tom/.conda/envs/tfq/lib/python3.9/site-packages/cirq/ops/gateset.py:376: UserWarning: v0.14.1 is the last release `cirq.GlobalPhaseGate` is included by default. If you were relying on this behavior, you can include a `cirq.GlobalPhaseGate` in your `*gates`. If not, then you can ignore this warning. It will be removed in v0.16\n",
      "  warnings.warn(\n",
      "2022-07-19 01:44:17.660003: W tensorflow/stream_executor/platform/default/dso_loader.cc:64] Could not load dynamic library 'libcuda.so.1'; dlerror: libcuda.so.1: cannot open shared object file: No such file or directory\n",
      "2022-07-19 01:44:17.660022: W tensorflow/stream_executor/cuda/cuda_driver.cc:269] failed call to cuInit: UNKNOWN ERROR (303)\n",
      "2022-07-19 01:44:17.660037: I tensorflow/stream_executor/cuda/cuda_diagnostics.cc:156] kernel driver does not appear to be running on this host (tomskopfbahnhof): /proc/driver/nvidia/version does not exist\n",
      "2022-07-19 01:44:17.660222: I tensorflow/core/platform/cpu_feature_guard.cc:151] This TensorFlow binary is optimized with oneAPI Deep Neural Network Library (oneDNN) to use the following CPU instructions in performance-critical operations:  AVX2 FMA\n",
      "To enable them in other operations, rebuild TensorFlow with the appropriate compiler flags.\n"
     ]
    }
   ],
   "source": [
    "import numpy as np\n",
    "import matplotlib.pyplot as plt\n",
    "from cirq.contrib.svg import SVGCircuit\n",
    "import tensorflow as tf\n",
    "import tensorflow_quantum as tfq\n",
    "from hep_VQAE import data_preprocessing as dp\n",
    "from hep_VQAE import CAE as cae\n",
    "from tensorflow.keras import layers, losses\n",
    "import h5py\n",
    "from sklearn.model_selection import train_test_split\n",
    "from matplotlib.colors import LogNorm\n",
    "\n",
    "import warnings\n",
    "warnings.filterwarnings('ignore')"
   ]
  },
  {
   "cell_type": "code",
   "execution_count": 2,
   "id": "d79ad71b-abd8-4e82-8d07-5a10d2839544",
   "metadata": {},
   "outputs": [],
   "source": [
    "f = h5py.File(\"../../data/electron.hdf5\",\"r\")\n",
    "f2 = h5py.File(\"../../data/photon.hdf5\",\"r\")"
   ]
  },
  {
   "cell_type": "code",
   "execution_count": 3,
   "id": "9294cf5d-295c-4ec5-afbe-37534659fc7a",
   "metadata": {},
   "outputs": [],
   "source": [
    "electrons = f.get('X')[:,:,:,0]\n",
    "photons = f2.get('X')[:,:,:,0]\n",
    "electrons_y = f.get('y')[:]\n",
    "photons_y = f2.get('y')[:]"
   ]
  },
  {
   "cell_type": "code",
   "execution_count": 4,
   "id": "1a102627-f5f1-45a2-a347-b86636a9825c",
   "metadata": {},
   "outputs": [],
   "source": [
    "x_train, x_val, y_train, y_val = train_test_split(np.vstack((electrons,photons)),\n",
    "                                                    np.transpose(np.hstack((electrons_y, photons_y))),\n",
    "                                                    test_size=0.2, shuffle=True)\n",
    "\n",
    "x_train, x_test, y_train, y_test = train_test_split(x_train, y_train,\n",
    "                                                    test_size=0.4, shuffle=True)"
   ]
  },
  {
   "cell_type": "code",
   "execution_count": 5,
   "id": "16099271-c963-402c-86e9-f467d540e096",
   "metadata": {},
   "outputs": [],
   "source": [
    "x_train_electrons = x_train[y_train==1]\n",
    "x_train = x_train[y_train==0]\n",
    "\n",
    "x_val_electrons = x_val[y_val==1]\n",
    "x_val = x_val[y_val==0]\n",
    "\n",
    "x_test_electrons = x_test[y_test==1]\n",
    "x_test = x_test[y_test==0]"
   ]
  },
  {
   "cell_type": "code",
   "execution_count": 6,
   "id": "97d5d274-0549-4b9b-89ce-30baece5ccae",
   "metadata": {},
   "outputs": [],
   "source": [
    "x_train = x_train.reshape(x_train.shape + (1,))\n",
    "x_train_electrons = x_train_electrons.reshape(x_train_electrons.shape + (1,))\n",
    "\n",
    "x_val = x_val.reshape(x_val.shape + (1,))\n",
    "x_val_electrons = x_val_electrons.reshape(x_val_electrons.shape + (1,))\n",
    "\n",
    "x_test = x_test.reshape(x_test.shape + (1,))\n",
    "x_test_electrons = x_test_electrons.reshape(x_test_electrons.shape + (1,))"
   ]
  },
  {
   "cell_type": "code",
   "execution_count": 7,
   "id": "5004350f-30fe-40b0-8ad7-e59757b9187e",
   "metadata": {},
   "outputs": [],
   "source": [
    "max_norm = np.max(x_train)\n",
    "x_train = x_train / max_norm\n",
    "x_train_electrons = x_train_electrons / max_norm\n",
    "\n",
    "x_val = x_val / max_norm\n",
    "x_val_electrons = x_val_electrons / max_norm\n",
    "\n",
    "x_test = x_test / max_norm\n",
    "x_test_electrons = x_test_electrons / max_norm"
   ]
  },
  {
   "cell_type": "code",
   "execution_count": 8,
   "id": "5dc31261-f36a-4223-8ca4-76898f1f8503",
   "metadata": {},
   "outputs": [],
   "source": [
    "latent_dim = 32\n",
    "ae = cae.Convolutional_Autoencoder3(56)"
   ]
  },
  {
   "cell_type": "code",
   "execution_count": 9,
   "id": "ab6a22d0-e4e4-43e2-9c7d-98b331256a7b",
   "metadata": {},
   "outputs": [],
   "source": [
    "ae.compile(loss=\"binary_crossentropy\", optimizer=tf.keras.optimizers.Adam(0.000005))"
   ]
  },
  {
   "cell_type": "code",
   "execution_count": 10,
   "id": "9774136d-6bf7-4c67-ac55-df60e9e0d4f9",
   "metadata": {},
   "outputs": [
    {
     "name": "stdout",
     "output_type": "stream",
     "text": [
      "Epoch 1/12\n",
      "1870/1870 [==============================] - 88s 46ms/step - loss: 0.6793 - val_loss: 0.6443\n",
      "Epoch 2/12\n",
      "1870/1870 [==============================] - 91s 49ms/step - loss: 0.4345 - val_loss: 0.1893\n",
      "Epoch 3/12\n",
      "1870/1870 [==============================] - 94s 50ms/step - loss: 0.1145 - val_loss: 0.0794\n",
      "Epoch 4/12\n",
      "1870/1870 [==============================] - 94s 50ms/step - loss: 0.0658 - val_loss: 0.0542\n",
      "Epoch 5/12\n",
      "1870/1870 [==============================] - 97s 52ms/step - loss: 0.0441 - val_loss: 0.0343\n",
      "Epoch 6/12\n",
      "1870/1870 [==============================] - 103s 55ms/step - loss: 0.0265 - val_loss: 0.0194\n",
      "Epoch 7/12\n",
      "1870/1870 [==============================] - 104s 56ms/step - loss: 0.0137 - val_loss: 0.0094\n",
      "Epoch 8/12\n",
      "1870/1870 [==============================] - 100s 53ms/step - loss: 0.0074 - val_loss: 0.0060\n",
      "Epoch 9/12\n",
      "1870/1870 [==============================] - 100s 53ms/step - loss: 0.0053 - val_loss: 0.0047\n",
      "Epoch 10/12\n",
      "1870/1870 [==============================] - 100s 54ms/step - loss: 0.0042 - val_loss: 0.0038\n",
      "Epoch 11/12\n",
      "1870/1870 [==============================] - 96s 51ms/step - loss: 0.0035 - val_loss: 0.0033\n",
      "Epoch 12/12\n",
      "1870/1870 [==============================] - 99s 53ms/step - loss: 0.0030 - val_loss: 0.0029\n"
     ]
    }
   ],
   "source": [
    "es = tf.keras.callbacks.EarlyStopping(monitor='val_loss', patience=3,min_delta=0.0001)\n",
    "hist = ae.fit(x_train,x_train,\n",
    "                epochs=12,\n",
    "                shuffle=True,\n",
    "                batch_size=64,\n",
    "                validation_data=(x_val,x_val),\n",
    "                callbacks=[es])"
   ]
  },
  {
   "cell_type": "code",
   "execution_count": 11,
   "id": "cf6513db-bc04-4843-bbd2-299762371ed8",
   "metadata": {},
   "outputs": [
    {
     "data": {
      "text/plain": [
       "<matplotlib.legend.Legend at 0x7fb8bcd9cc40>"
      ]
     },
     "execution_count": 11,
     "metadata": {},
     "output_type": "execute_result"
    },
    {
     "data": {
      "image/png": "[encoded data removed]",
      "text/plain": [
       "<Figure size 432x288 with 1 Axes>"
      ]
     },
     "metadata": {
      "needs_background": "light"
     },
     "output_type": "display_data"
    }
   ],
   "source": [
    "plt.plot(hist.history['loss'], label=\"training\")\n",
    "plt.plot(hist.history['val_loss'], label=\"validation\")\n",
    "plt.yscale('log')\n",
    "plt.legend()"
   ]
  },
  {
   "cell_type": "code",
   "execution_count": 12,
   "id": "efa91ba1-48b2-457a-8b13-3df55540f30b",
   "metadata": {},
   "outputs": [],
   "source": [
    "def mae(x):\n",
    "    pred = ae.predict(x)\n",
    "    return np.mean(np.abs(x - pred)**2,axis=(1,2,3))\n",
    "\n",
    "def recon_acc(x):\n",
    "    return 1 - mae(x)"
   ]
  },
  {
   "cell_type": "code",
   "execution_count": 13,
   "id": "371bddfd-dc3e-4726-8e5c-61f18bdfe5fd",
   "metadata": {},
   "outputs": [],
   "source": [
    "photons = recon_acc(x_test)\n",
    "electrons = recon_acc(x_test_electrons)"
   ]
  },
  {
   "cell_type": "code",
   "execution_count": 14,
   "id": "a8896de0-44bb-4b44-bcfa-d57b474ede3a",
   "metadata": {},
   "outputs": [],
   "source": [
    "photon_energy = np.sum(x_test,axis=(1,2,3))\n",
    "electron_energy = np.sum(x_test_electrons,axis=(1,2,3))"
   ]
  },
  {
   "cell_type": "code",
   "execution_count": 15,
   "id": "a9910211-ffe5-45ac-b538-ed350dd5a00f",
   "metadata": {},
   "outputs": [
    {
     "name": "stdout",
     "output_type": "stream",
     "text": [
      "0.9999351\n",
      "0.9999419\n"
     ]
    },
    {
     "data": {
      "text/plain": [
       "<matplotlib.legend.Legend at 0x7fb8bc503100>"
      ]
     },
     "execution_count": 15,
     "metadata": {},
     "output_type": "execute_result"
    },
    {
     "data": {
      "image/png": "[encoded data removed]",
      "text/plain": [
       "<Figure size 432x288 with 1 Axes>"
      ]
     },
     "metadata": {
      "needs_background": "light"
     },
     "output_type": "display_data"
    }
   ],
   "source": [
    "print(np.median(photons))\n",
    "bins = np.histogram(np.hstack((photons, electrons)), bins=75)[1]\n",
    "plt.hist(photons, histtype='step', label=\"photons\",bins=bins)#,bins=[0.0004,0.0005,0.0006,0.0007,0.0008,0.0009,0.001,0.0011,0.0012,0.0013])\n",
    "print(np.median(electrons))\n",
    "plt.hist(electrons, histtype='step', label=\"electrons\",bins=bins)#,bins=[0.0004,0.0005,0.0006,0.0007,0.0008,0.0009,0.001,0.0011,0.0012,0.0013])\n",
    "plt.legend()"
   ]
  },
  {
   "cell_type": "code",
   "execution_count": 16,
   "id": "1daa98ba-9d85-4193-a078-6faeefc9da0a",
   "metadata": {},
   "outputs": [
    {
     "data": {
      "text/plain": [
       "<matplotlib.legend.Legend at 0x7fb8bc157eb0>"
      ]
     },
     "execution_count": 16,
     "metadata": {},
     "output_type": "execute_result"
    },
    {
     "data": {
      "image/png": "[encoded data removed]",
      "text/plain": [
       "<Figure size 432x288 with 1 Axes>"
      ]
     },
     "metadata": {
      "needs_background": "light"
     },
     "output_type": "display_data"
    }
   ],
   "source": [
    "bins = np.histogram(np.hstack((photon_energy, electron_energy)), bins=50)[1]\n",
    "plt.hist(photon_energy, histtype='step', label=\"photons\",bins=bins)#,bins=[0.0004,0.0005,0.0006,0.0007,0.0008,0.0009,0.001,0.0011,0.0012,0.0013])\n",
    "plt.hist(electron_energy, histtype='step', label=\"electrons\",bins=bins)#,bins=[0.0004,0.0005,0.0006,0.0007,0.0008,0.0009,0.001,0.0011,0.0012,0.0013])\n",
    "plt.legend()"
   ]
  },
  {
   "cell_type": "code",
   "execution_count": 17,
   "id": "f6a97b8a-600d-4a76-bd38-ecc02b9a1e1b",
   "metadata": {},
   "outputs": [
    {
     "data": {
      "text/plain": [
       "[<matplotlib.lines.Line2D at 0x7fb8bb9e5160>]"
      ]
     },
     "execution_count": 17,
     "metadata": {},
     "output_type": "execute_result"
    },
    {
     "data": {
      "image/png": "[encoded data removed]",
      "text/plain": [
       "<Figure size 432x288 with 1 Axes>"
      ]
     },
     "metadata": {
      "needs_background": "light"
     },
     "output_type": "display_data"
    }
   ],
   "source": [
    "def acc_for_threshold(T):\n",
    "    # sixes that are predicted photon\n",
    "    num_six_right = np.sum(photons > T)\n",
    "    # threes that are predicted three\n",
    "    num_three_right = np.sum(electrons < T)\n",
    "   \n",
    "    acc = (num_six_right + num_three_right)/(len(photons) + len(electrons))\n",
    "    return acc\n",
    "\n",
    "Ts = np.linspace(0.999,1,500)\n",
    "accs = []\n",
    "for i in Ts:\n",
    "    accs.append(acc_for_threshold(i))\n",
    "plt.plot(Ts, accs) "
   ]
  },
  {
   "cell_type": "code",
   "execution_count": 18,
   "id": "6dffbe99-9616-43f6-8c1f-c314938a6b6c",
   "metadata": {},
   "outputs": [
    {
     "data": {
      "text/plain": [
       "<matplotlib.colorbar.Colorbar at 0x7fb8bb97cf10>"
      ]
     },
     "execution_count": 18,
     "metadata": {},
     "output_type": "execute_result"
    },
    {
     "data": {
      "image/png": "[encoded data removed]",
      "text/plain": [
       "<Figure size 432x288 with 2 Axes>"
      ]
     },
     "metadata": {
      "needs_background": "light"
     },
     "output_type": "display_data"
    }
   ],
   "source": [
    "num = 16\n",
    "testimg = ae.predict(x_test[num].reshape((1,32,32,1)))\n",
    "plt.imshow(x_test[num].reshape((32,32)),cmap=\"binary\",norm=LogNorm())\n",
    "plt.colorbar()"
   ]
  },
  {
   "cell_type": "code",
   "execution_count": 19,
   "id": "8bc00fcb-0176-462a-8fe3-a40896c8081b",
   "metadata": {},
   "outputs": [
    {
     "data": {
      "text/plain": [
       "<matplotlib.colorbar.Colorbar at 0x7fb8ba9e5310>"
      ]
     },
     "execution_count": 19,
     "metadata": {},
     "output_type": "execute_result"
    },
    {
     "data": {
      "image/png": "[encoded data removed]",
      "text/plain": [
       "<Figure size 432x288 with 2 Axes>"
      ]
     },
     "metadata": {
      "needs_background": "light"
     },
     "output_type": "display_data"
    }
   ],
   "source": [
    "plt.imshow(testimg.reshape((32,32)),cmap=\"binary\",norm=LogNorm())\n",
    "plt.colorbar()"
   ]
  },
  {
   "cell_type": "code",
   "execution_count": 20,
   "id": "0160728f-a63e-4b80-9f91-91beebf0bced",
   "metadata": {},
   "outputs": [],
   "source": [
    "from hep_VQAE import utils as ut"
   ]
  },
  {
   "cell_type": "code",
   "execution_count": 21,
   "id": "9233dc89-dcdf-4fb7-b403-7533298b9cbd",
   "metadata": {},
   "outputs": [
    {
     "data": {
      "text/plain": [
       "5.837391e-06"
      ]
     },
     "execution_count": 21,
     "metadata": {},
     "output_type": "execute_result"
    }
   ],
   "source": [
    "ut.test_collapse(x_test[:7000], ae.predict(x_test[:7000]))"
   ]
  },
  {
   "cell_type": "code",
   "execution_count": 22,
   "id": "73db097c-9872-402f-a072-6dba7609eafe",
   "metadata": {},
   "outputs": [
    {
     "data": {
      "text/plain": [
       "<tf.Tensor: shape=(100,), dtype=float32, numpy=\n",
       "array([0.96889526, 0.9842333 , 0.98018205, 0.9632004 , 0.96498203,\n",
       "       0.9833983 , 0.9465837 , 0.98910165, 0.9826056 , 0.96653265,\n",
       "       0.9658493 , 0.96641874, 0.9667296 , 0.9757961 , 0.9765395 ,\n",
       "       0.9863374 , 0.974855  , 0.9850989 , 0.9768409 , 0.9827306 ,\n",
       "       0.9768515 , 0.99125934, 0.97843677, 0.9880542 , 0.9882051 ,\n",
       "       0.98344004, 0.988082  , 0.9659368 , 0.9791679 , 0.99219304,\n",
       "       0.9924968 , 0.9688932 , 0.96914077, 0.9906951 , 0.98329103,\n",
       "       0.99127764, 0.98901826, 0.9673196 , 0.96370435, 0.9902483 ,\n",
       "       0.977265  , 0.97967154, 0.98973733, 0.9717941 , 0.98972344,\n",
       "       0.97674364, 0.9910204 , 0.94816345, 0.99050075, 0.9880041 ,\n",
       "       0.9642424 , 0.9878472 , 0.97020286, 0.98885417, 0.99102217,\n",
       "       0.9645279 , 0.9882992 , 0.98671293, 0.9844013 , 0.97272384,\n",
       "       0.9775494 , 0.9864876 , 0.98878056, 0.9916818 , 0.9813509 ,\n",
       "       0.97080773, 0.96629214, 0.9836022 , 0.96728474, 0.9250297 ,\n",
       "       0.9112895 , 0.9829599 , 0.9665814 , 0.9845762 , 0.97203374,\n",
       "       0.9893672 , 0.9870088 , 0.9923751 , 0.99090165, 0.9365307 ,\n",
       "       0.9592275 , 0.9606479 , 0.9906319 , 0.97680205, 0.9721431 ,\n",
       "       0.9872514 , 0.9918727 , 0.964073  , 0.97840106, 0.99341774,\n",
       "       0.9864499 , 0.9803717 , 0.98049915, 0.9935174 , 0.96525615,\n",
       "       0.9677217 , 0.97129047, 0.9651592 , 0.99147815, 0.98614097],\n",
       "      dtype=float32)>"
      ]
     },
     "execution_count": 22,
     "metadata": {},
     "output_type": "execute_result"
    }
   ],
   "source": [
    "tf.image.ssim(x_test[:100].reshape(100,32,32,1).astype('float64'),ae(x_test[:100].reshape(100,32,32,1)).numpy().astype('float64'),max_val=1.0)"
   ]
  },
  {
   "cell_type": "code",
   "execution_count": 23,
   "id": "ac05691f-ae23-434d-8679-9348ed92a6bc",
   "metadata": {},
   "outputs": [],
   "source": [
    "MAE = tf.reduce_mean(tf.abs(x_test[:100].reshape(100,32,32,1) - ae(x_test[:100].reshape(100,32,32,1)).numpy()))"
   ]
  },
  {
   "cell_type": "code",
   "execution_count": 24,
   "id": "391e96df-3b9a-4507-82c3-ab9b7587d314",
   "metadata": {},
   "outputs": [
    {
     "data": {
      "text/plain": [
       "<tf.Tensor: shape=(), dtype=float32, numpy=0.000717372>"
      ]
     },
     "execution_count": 24,
     "metadata": {},
     "output_type": "execute_result"
    }
   ],
   "source": [
    "MAE"
   ]
  },
  {
   "cell_type": "code",
   "execution_count": 25,
   "id": "4ae5318a-90d4-4702-ae49-36ddd135f744",
   "metadata": {},
   "outputs": [
    {
     "data": {
      "text/plain": [
       "array([ 7.1987443 ,  3.0651145 ,  2.2739842 ,  3.3706973 ,  1.8429179 ,\n",
       "       10.341831  ,  1.4632572 ,  4.2521434 ,  6.8160863 ,  6.253312  ,\n",
       "        0.88752806,  1.471527  ,  3.3165789 ,  5.4831614 ,  7.288717  ,\n",
       "        1.1509699 ,  1.3959793 ,  0.11555427,  0.05588317,  1.1279751 ],\n",
       "      dtype=float32)"
      ]
     },
     "execution_count": 25,
     "metadata": {},
     "output_type": "execute_result"
    }
   ],
   "source": [
    "ut.intensity_hist(x_test[num], ae(x_test[num].reshape((1,32,32,1))).numpy())[-20:]"
   ]
  },
  {
   "cell_type": "code",
   "execution_count": 26,
   "id": "2ae33c03-61d5-48b4-a5df-d6c501f1619d",
   "metadata": {},
   "outputs": [],
   "source": [
    "MAE = tf.reduce_mean(tf.abs(x_test[:100].reshape(100,32,32,1) - ae(x_test[:100].reshape(100,32,32,1)).numpy())/tf.reduce_sum(x_test[:100],axis=(1,2)).numpy().reshape((100,1,1,1)))"
   ]
  },
  {
   "cell_type": "code",
   "execution_count": 27,
   "id": "444b0c6f-cac4-4e8b-bd4e-5c46503bf4b5",
   "metadata": {},
   "outputs": [
    {
     "data": {
      "text/plain": [
       "<tf.Tensor: shape=(), dtype=float32, numpy=0.00085562334>"
      ]
     },
     "execution_count": 27,
     "metadata": {},
     "output_type": "execute_result"
    }
   ],
   "source": [
    "MAE"
   ]
  },
  {
   "cell_type": "code",
   "execution_count": null,
   "id": "6d5ba48d-b893-4ecd-968b-4fa582b9768a",
   "metadata": {},
   "outputs": [],
   "source": []
  }
 ],
 "metadata": {
  "kernelspec": {
   "display_name": "tfq",
   "language": "python",
   "name": "tfq"
  },
  "language_info": {
   "codemirror_mode": {
    "name": "ipython",
    "version": 3
   },
   "file_extension": ".py",
   "mimetype": "text/x-python",
   "name": "python",
   "nbconvert_exporter": "python",
   "pygments_lexer": "ipython3",
   "version": "3.9.12"
  }
 },
 "nbformat": 4,
 "nbformat_minor": 5
}
