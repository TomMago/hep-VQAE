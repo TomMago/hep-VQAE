{
 "cells": [
  {
   "cell_type": "code",
   "execution_count": 1,
   "id": "78501a2e-af16-4326-8b0c-3f1ef400ed64",
   "metadata": {},
   "outputs": [
    {
     "name": "stderr",
     "output_type": "stream",
     "text": [
      "2022-07-08 00:17:38.707332: W tensorflow/stream_executor/platform/default/dso_loader.cc:64] Could not load dynamic library 'libcudart.so.11.0'; dlerror: libcudart.so.11.0: cannot open shared object file: No such file or directory\n",
      "2022-07-08 00:17:38.707351: I tensorflow/stream_executor/cuda/cudart_stub.cc:29] Ignore above cudart dlerror if you do not have a GPU set up on your machine.\n",
      "2022-07-08 00:17:39.700887: W tensorflow/stream_executor/platform/default/dso_loader.cc:64] Could not load dynamic library 'libcuda.so.1'; dlerror: libcuda.so.1: cannot open shared object file: No such file or directory\n",
      "2022-07-08 00:17:39.700908: W tensorflow/stream_executor/cuda/cuda_driver.cc:269] failed call to cuInit: UNKNOWN ERROR (303)\n",
      "2022-07-08 00:17:39.700923: I tensorflow/stream_executor/cuda/cuda_diagnostics.cc:156] kernel driver does not appear to be running on this host (tomskopfbahnhof): /proc/driver/nvidia/version does not exist\n",
      "2022-07-08 00:17:39.701137: I tensorflow/core/platform/cpu_feature_guard.cc:151] This TensorFlow binary is optimized with oneAPI Deep Neural Network Library (oneDNN) to use the following CPU instructions in performance-critical operations:  AVX2 FMA\n",
      "To enable them in other operations, rebuild TensorFlow with the appropriate compiler flags.\n"
     ]
    }
   ],
   "source": [
    "import numpy as np\n",
    "import matplotlib.pyplot as plt\n",
    "from cirq.contrib.svg import SVGCircuit\n",
    "import tensorflow as tf\n",
    "import tensorflow_quantum as tfq\n",
    "from hep_VQAE import data_preprocessing as dp\n",
    "from hep_VQAE import CAE as cae\n",
    "import h5py"
   ]
  },
  {
   "cell_type": "code",
   "execution_count": 2,
   "id": "1826c698-be86-42bd-8281-c681c569c4ae",
   "metadata": {},
   "outputs": [],
   "source": [
    "f = h5py.File(\"data/quark-gluon/quark-gluon_train-set_n793900.hdf5\",\"r\")\n",
    "f2 = h5py.File(\"data/quark-gluon/quark-gluon_test-set_n10000.hdf5\",\"r\")\n",
    "#f3 = h5py.File(\"data/quark-gluon/quark-gluon_test-set_n139306.hdf5\",\"r\")"
   ]
  },
  {
   "cell_type": "code",
   "execution_count": 3,
   "id": "6b42a496-8337-47a9-8170-05d61a7b703b",
   "metadata": {},
   "outputs": [],
   "source": [
    "x_train = f.get('X_jets')"
   ]
  },
  {
   "cell_type": "code",
   "execution_count": 4,
   "id": "806f8495-db63-4eeb-9e19-f7a441a45cc0",
   "metadata": {},
   "outputs": [],
   "source": [
    "y_train = f.get('y')"
   ]
  },
  {
   "cell_type": "code",
   "execution_count": 5,
   "id": "f738b550-54eb-490d-9259-409598700ef4",
   "metadata": {},
   "outputs": [
    {
     "data": {
      "text/plain": [
       "<HDF5 dataset \"X_jets\": shape (793900, 125, 125, 3), type \"<f4\">"
      ]
     },
     "execution_count": 5,
     "metadata": {},
     "output_type": "execute_result"
    }
   ],
   "source": [
    "x_train"
   ]
  },
  {
   "cell_type": "code",
   "execution_count": 6,
   "id": "0340cb97-b4c9-48be-8f87-f2aab9236339",
   "metadata": {},
   "outputs": [
    {
     "data": {
      "text/plain": [
       "(793900, 125, 125, 3)"
      ]
     },
     "execution_count": 6,
     "metadata": {},
     "output_type": "execute_result"
    }
   ],
   "source": [
    "x_train.shape"
   ]
  },
  {
   "cell_type": "code",
   "execution_count": 7,
   "id": "4e61f5df-e390-4256-bdb1-92e999f6822c",
   "metadata": {},
   "outputs": [
    {
     "data": {
      "text/plain": [
       "345"
      ]
     },
     "execution_count": 7,
     "metadata": {},
     "output_type": "execute_result"
    }
   ],
   "source": [
    "793900 // 2300"
   ]
  },
  {
   "cell_type": "code",
   "execution_count": 8,
   "id": "8c97b5ae-8071-4e33-ac66-8a938c29ebc7",
   "metadata": {},
   "outputs": [],
   "source": [
    "import keras\n",
    "import numpy as np\n",
    "from tensorflow.keras.utils import Sequence"
   ]
  },
  {
   "cell_type": "code",
   "execution_count": 9,
   "id": "1ddc5aad-0988-45ff-8b03-dd879e262767",
   "metadata": {},
   "outputs": [],
   "source": [
    "class Generator(Sequence) :\n",
    "  \n",
    "  def __init__(self, hdf5_file, batch_size) :\n",
    "    self.hdf5_file = hdf5_file\n",
    "    self.batch_size = batch_size\n",
    "    \n",
    "  # Länge der Trainingsdaten (Anzahl der Batches)\n",
    "  def __len__(self) :\n",
    "    return x_train.shape[0]//self.batch_size\n",
    "  \n",
    "  # Lädt Bilder anhand der Pfade aus dem Trainingsarray\n",
    "  def __getitem__(self, idx) :\n",
    "    \n",
    "    return self.hdf5_file[idx * self.batch_size: (idx + 1) * self.batch_size], self.hdf5_file[idx * self.batch_size: (idx + 1) * self.batch_size]"
   ]
  },
  {
   "cell_type": "code",
   "execution_count": 10,
   "id": "0d42d08d-c762-4427-8779-c061bc702bf4",
   "metadata": {},
   "outputs": [],
   "source": [
    "traingen = Generator(x_train, 900)"
   ]
  },
  {
   "cell_type": "code",
   "execution_count": 11,
   "id": "d2934adb-386d-4556-9b49-61df0a75f52a",
   "metadata": {},
   "outputs": [],
   "source": [
    "model = cae.Convolutional_Autoencoder2(6)"
   ]
  },
  {
   "cell_type": "code",
   "execution_count": 12,
   "id": "79ff7752-42f4-4a76-a77f-c4c19db3e24d",
   "metadata": {},
   "outputs": [
    {
     "name": "stdout",
     "output_type": "stream",
     "text": [
      "Model: \"sequential\"\n",
      "_________________________________________________________________\n",
      " Layer (type)                Output Shape              Param #   \n",
      "=================================================================\n",
      " conv2d (Conv2D)             (None, 42, 42, 8)         224       \n",
      "                                                                 \n",
      " conv2d_1 (Conv2D)           (None, 20, 20, 16)        1168      \n",
      "                                                                 \n",
      " conv2d_2 (Conv2D)           (None, 10, 10, 32)        4640      \n",
      "                                                                 \n",
      " conv2d_3 (Conv2D)           (None, 5, 5, 64)          18496     \n",
      "                                                                 \n",
      " flatten (Flatten)           (None, 1600)              0         \n",
      "                                                                 \n",
      " dense (Dense)               (None, 6)                 9606      \n",
      "                                                                 \n",
      "=================================================================\n",
      "Total params: 34,134\n",
      "Trainable params: 34,134\n",
      "Non-trainable params: 0\n",
      "_________________________________________________________________\n"
     ]
    }
   ],
   "source": [
    "model.encoder.summary()"
   ]
  },
  {
   "cell_type": "code",
   "execution_count": 13,
   "id": "5403bb80-136e-49f3-8653-2c17c84a2617",
   "metadata": {},
   "outputs": [
    {
     "name": "stderr",
     "output_type": "stream",
     "text": [
      "/usr/local/lib/python3.9/dist-packages/keras/optimizer_v2/adam.py:105: UserWarning: The `lr` argument is deprecated, use `learning_rate` instead.\n",
      "  super(Adam, self).__init__(name, **kwargs)\n"
     ]
    }
   ],
   "source": [
    "model.compile(loss='mse', optimizer=tf.keras.optimizers.Adam(lr=0.05))"
   ]
  },
  {
   "cell_type": "code",
   "execution_count": 14,
   "id": "739e2947-7f29-4fc3-a714-ec288fb1218d",
   "metadata": {},
   "outputs": [
    {
     "name": "stderr",
     "output_type": "stream",
     "text": [
      "/tmp/ipykernel_314042/565034597.py:1: UserWarning: `Model.fit_generator` is deprecated and will be removed in a future version. Please use `Model.fit`, which supports generators.\n",
      "  hist = model.fit_generator(traingen,epochs=2)\n"
     ]
    },
    {
     "name": "stdout",
     "output_type": "stream",
     "text": [
      "Epoch 1/2\n",
      "882/882 [==============================] - 4956s 6s/step - loss: 0.0012\n",
      "Epoch 2/2\n",
      "882/882 [==============================] - 5067s 6s/step - loss: 2.1277e-04\n"
     ]
    }
   ],
   "source": [
    "hist = model.fit_generator(traingen,epochs=2)"
   ]
  },
  {
   "cell_type": "code",
   "execution_count": 15,
   "id": "795dfb26-4241-4ccf-8cb3-25e861077450",
   "metadata": {},
   "outputs": [],
   "source": [
    "x_test = f2.get('X')\n",
    "y_test = f2.get('y')"
   ]
  },
  {
   "cell_type": "code",
   "execution_count": 16,
   "id": "40090f20-2528-42ca-a694-705097545f21",
   "metadata": {},
   "outputs": [
    {
     "data": {
      "text/plain": [
       "(10000, 125, 125, 3)"
      ]
     },
     "execution_count": 16,
     "metadata": {},
     "output_type": "execute_result"
    }
   ],
   "source": [
    "x_test.shape"
   ]
  },
  {
   "cell_type": "code",
   "execution_count": 17,
   "id": "c2cbd300-e755-4513-8ada-248a38ea12f7",
   "metadata": {},
   "outputs": [],
   "source": [
    "def mae(x):\n",
    "    pred = model.predict(x)\n",
    "    return np.mean(np.abs(x - pred)**2,axis=(1,2,3))\n",
    "\n",
    "def recon_acc(x):\n",
    "    return 1 - mae(x)"
   ]
  },
  {
   "cell_type": "code",
   "execution_count": 18,
   "id": "f226136c-a5bd-4b9d-930f-1d150f262076",
   "metadata": {},
   "outputs": [
    {
     "data": {
      "text/plain": [
       "(2000, 125, 125, 3)"
      ]
     },
     "execution_count": 18,
     "metadata": {},
     "output_type": "execute_result"
    }
   ],
   "source": [
    "x_test[:2000].shape"
   ]
  },
  {
   "cell_type": "code",
   "execution_count": 19,
   "id": "2c4b893f-1a5c-4add-bddb-18175b03748e",
   "metadata": {},
   "outputs": [
    {
     "data": {
      "text/plain": [
       "(2000, 125, 125, 3)"
      ]
     },
     "execution_count": 19,
     "metadata": {},
     "output_type": "execute_result"
    }
   ],
   "source": [
    "x_test[8000:10000].shape"
   ]
  },
  {
   "cell_type": "code",
   "execution_count": 20,
   "id": "9069c887-4381-4f61-8fc9-6f2aaccfd67b",
   "metadata": {},
   "outputs": [],
   "source": [
    "zerrooo = recon_acc(x_test[:2000])\n",
    "one = recon_acc(x_test[8000:10000])"
   ]
  },
  {
   "cell_type": "code",
   "execution_count": 21,
   "id": "93305172-b2ec-41b4-ac51-8ea7bb413edc",
   "metadata": {},
   "outputs": [
    {
     "data": {
      "text/plain": [
       "(2000,)"
      ]
     },
     "execution_count": 21,
     "metadata": {},
     "output_type": "execute_result"
    }
   ],
   "source": [
    "zerrooo.shape"
   ]
  },
  {
   "cell_type": "code",
   "execution_count": null,
   "id": "c064fd10-78d6-4e4b-bef9-379e1be7b733",
   "metadata": {},
   "outputs": [],
   "source": []
  },
  {
   "cell_type": "code",
   "execution_count": 31,
   "id": "f46674d8-8e63-46f6-ad67-c74ed5122358",
   "metadata": {},
   "outputs": [
    {
     "name": "stdout",
     "output_type": "stream",
     "text": [
      "0.9999977\n",
      "0.99999565\n"
     ]
    },
    {
     "data": {
      "text/plain": [
       "<matplotlib.legend.Legend at 0x7f94385b5400>"
      ]
     },
     "execution_count": 31,
     "metadata": {},
     "output_type": "execute_result"
    },
    {
     "data": {
      "image/png": "[encoded data removed]",
      "text/plain": [
       "<Figure size 432x288 with 1 Axes>"
      ]
     },
     "metadata": {
      "needs_background": "light"
     },
     "output_type": "display_data"
    }
   ],
   "source": [
    "print(np.median(zerrooo))\n",
    "bins = np.histogram(np.hstack((zerrooo, one)), bins=150)[1]\n",
    "plt.hist(zerrooo, histtype='step', label=\"sixes\",bins=bins)#,bins=[0.0004,0.0005,0.0006,0.0007,0.0008,0.0009,0.001,0.0011,0.0012,0.0013])\n",
    "print(np.median(one))\n",
    "plt.hist(one, histtype='step', label=\"threes\",bins=bins)#,bins=[0.0004,0.0005,0.0006,0.0007,0.0008,0.0009,0.001,0.0011,0.0012,0.0013])\n",
    "plt.xlabel(\"Reconstruction error\")\n",
    "plt.legend()"
   ]
  },
  {
   "cell_type": "code",
   "execution_count": 23,
   "id": "3d791b25-e194-4b04-835c-8db22badad01",
   "metadata": {},
   "outputs": [
    {
     "data": {
      "text/plain": [
       "793900"
      ]
     },
     "execution_count": 23,
     "metadata": {},
     "output_type": "execute_result"
    }
   ],
   "source": [
    "x_train.shape[0]"
   ]
  },
  {
   "cell_type": "code",
   "execution_count": 24,
   "id": "0ade2300-cb30-452c-bd9e-a5c5b289aa23",
   "metadata": {},
   "outputs": [],
   "source": [
    "batch_size = 1700"
   ]
  },
  {
   "cell_type": "code",
   "execution_count": 25,
   "id": "9a6cc057-15cb-4765-aa64-c13556e7fa8a",
   "metadata": {},
   "outputs": [],
   "source": [
    "num_batches = x_train.shape[0]/batch_size"
   ]
  },
  {
   "cell_type": "code",
   "execution_count": 28,
   "id": "be3006a2-5955-4bd3-b50d-6876358dbfb1",
   "metadata": {},
   "outputs": [],
   "source": [
    "fsmall.close()"
   ]
  },
  {
   "cell_type": "code",
   "execution_count": 27,
   "id": "450de7e8-9e0b-4216-a99f-6909edaa3690",
   "metadata": {},
   "outputs": [
    {
     "name": "stdout",
     "output_type": "stream",
     "text": [
      "466\r"
     ]
    }
   ],
   "source": [
    "fsmall = h5py.File('../../data/compressed2.hdf5','w')\n",
    "fsmall.create_dataset('X', shape=(x_train.shape[0],6))\n",
    "fsmall.create_dataset('y', shape=(x_train.shape[0], 1))\n",
    "\n",
    "for i in range(int(num_batches)):\n",
    "    fsmall['X'][i * batch_size: (i + 1) * batch_size] = model.encoder(x_train[i * batch_size: (i + 1) * batch_size])\n",
    "    fsmall['y'][i * batch_size: (i + 1) * batch_size] = y_train[i * batch_size: (i + 1) * batch_size].reshape((batch_size,1))\n",
    "    print(i, end=\"\\r\")"
   ]
  },
  {
   "cell_type": "code",
   "execution_count": 37,
   "id": "9e1fe0c9-0a06-4c93-ba47-0fa889c14c61",
   "metadata": {},
   "outputs": [
    {
     "name": "stdout",
     "output_type": "stream",
     "text": [
      "Model: \"sequential_1\"\n",
      "_________________________________________________________________\n",
      " Layer (type)                Output Shape              Param #   \n",
      "=================================================================\n",
      " dense_1 (Dense)             (None, 1600)              11200     \n",
      "                                                                 \n",
      " reshape (Reshape)           (None, 5, 5, 64)          0         \n",
      "                                                                 \n",
      " conv2d_transpose (Conv2DTra  (None, 15, 15, 64)       36928     \n",
      " nspose)                                                         \n",
      "                                                                 \n",
      " conv2d_transpose_1 (Conv2DT  (None, 31, 31, 32)       18464     \n",
      " ranspose)                                                       \n",
      "                                                                 \n",
      " conv2d_transpose_2 (Conv2DT  (None, 62, 62, 16)       4624      \n",
      " ranspose)                                                       \n",
      "                                                                 \n",
      " conv2d_transpose_3 (Conv2DT  (None, 125, 125, 8)      1160      \n",
      " ranspose)                                                       \n",
      "                                                                 \n",
      " conv2d_4 (Conv2D)           (None, 125, 125, 3)       99        \n",
      "                                                                 \n",
      "=================================================================\n",
      "Total params: 72,475\n",
      "Trainable params: 72,475\n",
      "Non-trainable params: 0\n",
      "_________________________________________________________________\n"
     ]
    }
   ],
   "source": [
    "model.decoder.summary()"
   ]
  },
  {
   "cell_type": "code",
   "execution_count": null,
   "id": "14f712f9-9aa2-41a1-8cf7-8db05a635e7b",
   "metadata": {},
   "outputs": [],
   "source": []
  },
  {
   "cell_type": "code",
   "execution_count": 38,
   "id": "3fa340be-7ad2-42ab-b567-02ca0b9fdce4",
   "metadata": {},
   "outputs": [],
   "source": [
    "from tensorflow.keras import layers, losses"
   ]
  },
  {
   "cell_type": "code",
   "execution_count": 39,
   "id": "a2828ada-8bde-4342-82cb-7e8a07b18cd0",
   "metadata": {},
   "outputs": [],
   "source": [
    "x = layers.Input(shape=(6,))"
   ]
  },
  {
   "cell_type": "code",
   "execution_count": 55,
   "id": "14e459b0-bd7a-4f87-909d-0c883ced1699",
   "metadata": {},
   "outputs": [],
   "source": [
    "import sympy\n",
    "import matplotlib.pyplot as plt\n",
    "import numpy as np\n",
    "import pandas as pd\n",
    "import tensorflow as tf\n",
    "\n",
    "from sklearn.metrics import accuracy_score, precision_score, recall_score\n",
    "from sklearn.model_selection import train_test_split\n",
    "from tensorflow.keras import layers, losses\n",
    "import tensorflow.keras as keras\n",
    "from tensorflow.keras.datasets import fashion_mnist\n",
    "from tensorflow.keras.models import Model\n",
    "\n",
    "encoder = tf.keras.Sequential([\n",
    "    layers.Input(shape=(6,))])"
   ]
  },
  {
   "cell_type": "markdown",
   "id": "ec073e8e-4d66-4760-8201-083b2d04033c",
   "metadata": {},
   "source": [
    "## from tensorflow.keras.models import Model\n",
    "newmodel = Model(inputs=x, outputs=model.decoder)"
   ]
  },
  {
   "cell_type": "code",
   "execution_count": 45,
   "id": "192b8e8f-51e7-40da-9ee7-071605c44fc4",
   "metadata": {},
   "outputs": [
    {
     "data": {
      "text/plain": [
       "['__abs__',\n",
       " '__add__',\n",
       " '__and__',\n",
       " '__array__',\n",
       " '__array_priority__',\n",
       " '__class__',\n",
       " '__delattr__',\n",
       " '__dict__',\n",
       " '__dir__',\n",
       " '__div__',\n",
       " '__doc__',\n",
       " '__eq__',\n",
       " '__floordiv__',\n",
       " '__format__',\n",
       " '__ge__',\n",
       " '__getattribute__',\n",
       " '__getitem__',\n",
       " '__gt__',\n",
       " '__hash__',\n",
       " '__init__',\n",
       " '__init_subclass__',\n",
       " '__invert__',\n",
       " '__iter__',\n",
       " '__le__',\n",
       " '__len__',\n",
       " '__lt__',\n",
       " '__matmul__',\n",
       " '__mod__',\n",
       " '__module__',\n",
       " '__mul__',\n",
       " '__ne__',\n",
       " '__neg__',\n",
       " '__new__',\n",
       " '__or__',\n",
       " '__pow__',\n",
       " '__radd__',\n",
       " '__rand__',\n",
       " '__rdiv__',\n",
       " '__reduce__',\n",
       " '__reduce_ex__',\n",
       " '__repr__',\n",
       " '__rfloordiv__',\n",
       " '__rmatmul__',\n",
       " '__rmod__',\n",
       " '__rmul__',\n",
       " '__ror__',\n",
       " '__rpow__',\n",
       " '__rsub__',\n",
       " '__rtruediv__',\n",
       " '__rxor__',\n",
       " '__setattr__',\n",
       " '__sizeof__',\n",
       " '__str__',\n",
       " '__sub__',\n",
       " '__subclasshook__',\n",
       " '__truediv__',\n",
       " '__weakref__',\n",
       " '__xor__',\n",
       " '_inferred_value',\n",
       " '_keras_history',\n",
       " '_name',\n",
       " '_overload_all_operators',\n",
       " '_overload_operator',\n",
       " '_to_placeholder',\n",
       " '_type_spec',\n",
       " 'dtype',\n",
       " 'experimental_ref',\n",
       " 'from_tensor',\n",
       " 'from_type_spec',\n",
       " 'get_shape',\n",
       " 'is_tensor_like',\n",
       " 'name',\n",
       " 'node',\n",
       " 'op',\n",
       " 'ref',\n",
       " 'set_shape',\n",
       " 'shape',\n",
       " 'type_spec']"
      ]
     },
     "execution_count": 45,
     "metadata": {},
     "output_type": "execute_result"
    }
   ],
   "source": []
  },
  {
   "cell_type": "code",
   "execution_count": 54,
   "id": "1a65130b-6fd4-48e9-9fe2-75d6cba2bb3e",
   "metadata": {},
   "outputs": [
    {
     "ename": "ValueError",
     "evalue": "Exception encountered when calling layer \"sequential_1\" (type Sequential).\n\nInput 0 of layer \"dense_1\" is incompatible with the layer: expected min_ndim=2, found ndim=1. Full shape received: (6,)\n\nCall arguments received:\n  • inputs=tf.Tensor(shape=(6,), dtype=int64)\n  • training=None\n  • mask=None",
     "output_type": "error",
     "traceback": [
      "\u001b[0;31m---------------------------------------------------------------------------\u001b[0m",
      "\u001b[0;31mValueError\u001b[0m                                Traceback (most recent call last)",
      "Input \u001b[0;32mIn [54]\u001b[0m, in \u001b[0;36m<cell line: 1>\u001b[0;34m()\u001b[0m\n\u001b[0;32m----> 1\u001b[0m \u001b[43mmodel\u001b[49m\u001b[38;5;241;43m.\u001b[39;49m\u001b[43mdecoder\u001b[49m\u001b[43m(\u001b[49m\u001b[43mnp\u001b[49m\u001b[38;5;241;43m.\u001b[39;49m\u001b[43marray\u001b[49m\u001b[43m(\u001b[49m\u001b[43m[\u001b[49m\u001b[38;5;241;43m1\u001b[39;49m\u001b[43m,\u001b[49m\u001b[38;5;241;43m1\u001b[39;49m\u001b[43m,\u001b[49m\u001b[38;5;241;43m1\u001b[39;49m\u001b[43m,\u001b[49m\u001b[38;5;241;43m1\u001b[39;49m\u001b[43m,\u001b[49m\u001b[38;5;241;43m1\u001b[39;49m\u001b[43m,\u001b[49m\u001b[38;5;241;43m1\u001b[39;49m\u001b[43m]\u001b[49m\u001b[43m)\u001b[49m\u001b[43m)\u001b[49m\n",
      "File \u001b[0;32m/usr/local/lib/python3.9/dist-packages/keras/utils/traceback_utils.py:67\u001b[0m, in \u001b[0;36mfilter_traceback.<locals>.error_handler\u001b[0;34m(*args, **kwargs)\u001b[0m\n\u001b[1;32m     65\u001b[0m \u001b[38;5;28;01mexcept\u001b[39;00m \u001b[38;5;167;01mException\u001b[39;00m \u001b[38;5;28;01mas\u001b[39;00m e:  \u001b[38;5;66;03m# pylint: disable=broad-except\u001b[39;00m\n\u001b[1;32m     66\u001b[0m   filtered_tb \u001b[38;5;241m=\u001b[39m _process_traceback_frames(e\u001b[38;5;241m.\u001b[39m__traceback__)\n\u001b[0;32m---> 67\u001b[0m   \u001b[38;5;28;01mraise\u001b[39;00m e\u001b[38;5;241m.\u001b[39mwith_traceback(filtered_tb) \u001b[38;5;28;01mfrom\u001b[39;00m \u001b[38;5;28mNone\u001b[39m\n\u001b[1;32m     68\u001b[0m \u001b[38;5;28;01mfinally\u001b[39;00m:\n\u001b[1;32m     69\u001b[0m   \u001b[38;5;28;01mdel\u001b[39;00m filtered_tb\n",
      "File \u001b[0;32m/usr/local/lib/python3.9/dist-packages/keras/engine/input_spec.py:228\u001b[0m, in \u001b[0;36massert_input_compatibility\u001b[0;34m(input_spec, inputs, layer_name)\u001b[0m\n\u001b[1;32m    226\u001b[0m   ndim \u001b[38;5;241m=\u001b[39m x\u001b[38;5;241m.\u001b[39mshape\u001b[38;5;241m.\u001b[39mrank\n\u001b[1;32m    227\u001b[0m   \u001b[38;5;28;01mif\u001b[39;00m ndim \u001b[38;5;129;01mis\u001b[39;00m \u001b[38;5;129;01mnot\u001b[39;00m \u001b[38;5;28;01mNone\u001b[39;00m \u001b[38;5;129;01mand\u001b[39;00m ndim \u001b[38;5;241m<\u001b[39m spec\u001b[38;5;241m.\u001b[39mmin_ndim:\n\u001b[0;32m--> 228\u001b[0m     \u001b[38;5;28;01mraise\u001b[39;00m \u001b[38;5;167;01mValueError\u001b[39;00m(\u001b[38;5;124mf\u001b[39m\u001b[38;5;124m'\u001b[39m\u001b[38;5;124mInput \u001b[39m\u001b[38;5;132;01m{\u001b[39;00minput_index\u001b[38;5;132;01m}\u001b[39;00m\u001b[38;5;124m of layer \u001b[39m\u001b[38;5;124m\"\u001b[39m\u001b[38;5;132;01m{\u001b[39;00mlayer_name\u001b[38;5;132;01m}\u001b[39;00m\u001b[38;5;124m\"\u001b[39m\u001b[38;5;124m \u001b[39m\u001b[38;5;124m'\u001b[39m\n\u001b[1;32m    229\u001b[0m                      \u001b[38;5;124m'\u001b[39m\u001b[38;5;124mis incompatible with the layer: \u001b[39m\u001b[38;5;124m'\u001b[39m\n\u001b[1;32m    230\u001b[0m                      \u001b[38;5;124mf\u001b[39m\u001b[38;5;124m'\u001b[39m\u001b[38;5;124mexpected min_ndim=\u001b[39m\u001b[38;5;132;01m{\u001b[39;00mspec\u001b[38;5;241m.\u001b[39mmin_ndim\u001b[38;5;132;01m}\u001b[39;00m\u001b[38;5;124m, \u001b[39m\u001b[38;5;124m'\u001b[39m\n\u001b[1;32m    231\u001b[0m                      \u001b[38;5;124mf\u001b[39m\u001b[38;5;124m'\u001b[39m\u001b[38;5;124mfound ndim=\u001b[39m\u001b[38;5;132;01m{\u001b[39;00mndim\u001b[38;5;132;01m}\u001b[39;00m\u001b[38;5;124m. \u001b[39m\u001b[38;5;124m'\u001b[39m\n\u001b[1;32m    232\u001b[0m                      \u001b[38;5;124mf\u001b[39m\u001b[38;5;124m'\u001b[39m\u001b[38;5;124mFull shape received: \u001b[39m\u001b[38;5;132;01m{\u001b[39;00m\u001b[38;5;28mtuple\u001b[39m(shape)\u001b[38;5;132;01m}\u001b[39;00m\u001b[38;5;124m'\u001b[39m)\n\u001b[1;32m    233\u001b[0m \u001b[38;5;66;03m# Check dtype.\u001b[39;00m\n\u001b[1;32m    234\u001b[0m \u001b[38;5;28;01mif\u001b[39;00m spec\u001b[38;5;241m.\u001b[39mdtype \u001b[38;5;129;01mis\u001b[39;00m \u001b[38;5;129;01mnot\u001b[39;00m \u001b[38;5;28;01mNone\u001b[39;00m:\n",
      "\u001b[0;31mValueError\u001b[0m: Exception encountered when calling layer \"sequential_1\" (type Sequential).\n\nInput 0 of layer \"dense_1\" is incompatible with the layer: expected min_ndim=2, found ndim=1. Full shape received: (6,)\n\nCall arguments received:\n  • inputs=tf.Tensor(shape=(6,), dtype=int64)\n  • training=None\n  • mask=None"
     ]
    }
   ],
   "source": [
    "model.decoder(np.array([1,1,1,1,1,1]))"
   ]
  },
  {
   "cell_type": "code",
   "execution_count": null,
   "id": "85eb7fbc-48f1-40e0-8a84-61774c8f501e",
   "metadata": {},
   "outputs": [],
   "source": []
  }
 ],
 "metadata": {
  "kernelspec": {
   "display_name": "env",
   "language": "python",
   "name": "env"
  },
  "language_info": {
   "codemirror_mode": {
    "name": "ipython",
    "version": 3
   },
   "file_extension": ".py",
   "mimetype": "text/x-python",
   "name": "python",
   "nbconvert_exporter": "python",
   "pygments_lexer": "ipython3",
   "version": "3.9.13"
  }
 },
 "nbformat": 4,
 "nbformat_minor": 5
}
