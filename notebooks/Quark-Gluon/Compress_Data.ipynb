{
 "cells": [
  {
   "cell_type": "code",
   "execution_count": 22,
   "id": "78501a2e-af16-4326-8b0c-3f1ef400ed64",
   "metadata": {},
   "outputs": [],
   "source": [
    "import numpy as np\n",
    "import matplotlib.pyplot as plt\n",
    "from cirq.contrib.svg import SVGCircuit\n",
    "import tensorflow as tf\n",
    "import tensorflow_quantum as tfq\n",
    "from hep_VQAE import data_preprocessing as dp\n",
    "from hep_VQAE import CAE as cae\n",
    "import h5py"
   ]
  },
  {
   "cell_type": "code",
   "execution_count": 23,
   "id": "1826c698-be86-42bd-8281-c681c569c4ae",
   "metadata": {},
   "outputs": [],
   "source": [
    "f = h5py.File(\"../../data/quark-gluon/quark-gluon_train-set_n793900.hdf5\",\"r\")\n",
    "f2 = h5py.File(\"../../data/quark-gluon/quark-gluon_test-set_n10000.hdf5\",\"r\")\n",
    "#f3 = h5py.File(\"data/quark-gluon/quark-gluon_test-set_n139306.hdf5\",\"r\")"
   ]
  },
  {
   "cell_type": "code",
   "execution_count": 24,
   "id": "6b42a496-8337-47a9-8170-05d61a7b703b",
   "metadata": {},
   "outputs": [],
   "source": [
    "x_train = f.get('X_jets')"
   ]
  },
  {
   "cell_type": "code",
   "execution_count": 25,
   "id": "806f8495-db63-4eeb-9e19-f7a441a45cc0",
   "metadata": {},
   "outputs": [],
   "source": [
    "y_train = f.get('y')"
   ]
  },
  {
   "cell_type": "code",
   "execution_count": null,
   "id": "f738b550-54eb-490d-9259-409598700ef4",
   "metadata": {},
   "outputs": [],
   "source": []
  },
  {
   "cell_type": "code",
   "execution_count": 26,
   "id": "0340cb97-b4c9-48be-8f87-f2aab9236339",
   "metadata": {},
   "outputs": [
    {
     "data": {
      "text/plain": [
       "(793900, 125, 125, 3)"
      ]
     },
     "execution_count": 26,
     "metadata": {},
     "output_type": "execute_result"
    }
   ],
   "source": [
    "x_train.shape"
   ]
  },
  {
   "cell_type": "code",
   "execution_count": 27,
   "id": "4e61f5df-e390-4256-bdb1-92e999f6822c",
   "metadata": {},
   "outputs": [
    {
     "data": {
      "text/plain": [
       "345"
      ]
     },
     "execution_count": 27,
     "metadata": {},
     "output_type": "execute_result"
    }
   ],
   "source": [
    "793900 // 2300"
   ]
  },
  {
   "cell_type": "code",
   "execution_count": 28,
   "id": "8c97b5ae-8071-4e33-ac66-8a938c29ebc7",
   "metadata": {},
   "outputs": [],
   "source": [
    "import keras\n",
    "import numpy as np\n",
    "from tensorflow.keras.utils import Sequence"
   ]
  },
  {
   "cell_type": "code",
   "execution_count": 29,
   "id": "1ddc5aad-0988-45ff-8b03-dd879e262767",
   "metadata": {},
   "outputs": [],
   "source": [
    "class Generator(Sequence) :\n",
    "  \n",
    "  def __init__(self, hdf5_file, batch_size) :\n",
    "    self.hdf5_file = hdf5_file\n",
    "    self.batch_size = batch_size\n",
    "    \n",
    "  # Länge der Trainingsdaten (Anzahl der Batches)\n",
    "  def __len__(self) :\n",
    "    return x_train.shape[0]//self.batch_size\n",
    "  \n",
    "  # Lädt Bilder anhand der Pfade aus dem Trainingsarray\n",
    "  def __getitem__(self, idx) :\n",
    "    \n",
    "    return self.hdf5_file[idx * self.batch_size: (idx + 1) * self.batch_size]/2222.665, self.hdf5_file[idx * self.batch_size: (idx + 1) * self.batch_size]/2222.665"
   ]
  },
  {
   "cell_type": "code",
   "execution_count": 30,
   "id": "0d42d08d-c762-4427-8779-c061bc702bf4",
   "metadata": {},
   "outputs": [],
   "source": [
    "traingen = Generator(x_train, 900)"
   ]
  },
  {
   "cell_type": "code",
   "execution_count": 31,
   "id": "d2934adb-386d-4556-9b49-61df0a75f52a",
   "metadata": {},
   "outputs": [],
   "source": [
    "model = cae.Convolutional_Autoencoder2(8)"
   ]
  },
  {
   "cell_type": "code",
   "execution_count": 32,
   "id": "79ff7752-42f4-4a76-a77f-c4c19db3e24d",
   "metadata": {},
   "outputs": [
    {
     "name": "stdout",
     "output_type": "stream",
     "text": [
      "Model: \"sequential\"\n",
      "_________________________________________________________________\n",
      " Layer (type)                Output Shape              Param #   \n",
      "=================================================================\n",
      " conv2d (Conv2D)             (None, 42, 42, 8)         224       \n",
      "                                                                 \n",
      " conv2d_1 (Conv2D)           (None, 20, 20, 16)        1168      \n",
      "                                                                 \n",
      " conv2d_2 (Conv2D)           (None, 10, 10, 32)        4640      \n",
      "                                                                 \n",
      " conv2d_3 (Conv2D)           (None, 5, 5, 64)          18496     \n",
      "                                                                 \n",
      " flatten (Flatten)           (None, 1600)              0         \n",
      "                                                                 \n",
      " dense (Dense)               (None, 8)                 12808     \n",
      "                                                                 \n",
      "=================================================================\n",
      "Total params: 37,336\n",
      "Trainable params: 37,336\n",
      "Non-trainable params: 0\n",
      "_________________________________________________________________\n"
     ]
    }
   ],
   "source": [
    "model.encoder.summary()"
   ]
  },
  {
   "cell_type": "code",
   "execution_count": 33,
   "id": "5403bb80-136e-49f3-8653-2c17c84a2617",
   "metadata": {},
   "outputs": [
    {
     "name": "stderr",
     "output_type": "stream",
     "text": [
      "/home/tom/.conda/envs/tfq/lib/python3.9/site-packages/keras/optimizer_v2/adam.py:105: UserWarning: The `lr` argument is deprecated, use `learning_rate` instead.\n",
      "  super(Adam, self).__init__(name, **kwargs)\n"
     ]
    }
   ],
   "source": [
    "model.compile(loss='mse', optimizer=tf.keras.optimizers.Adam(lr=0.05))"
   ]
  },
  {
   "cell_type": "code",
   "execution_count": 34,
   "id": "739e2947-7f29-4fc3-a714-ec288fb1218d",
   "metadata": {},
   "outputs": [
    {
     "name": "stderr",
     "output_type": "stream",
     "text": [
      "/tmp/ipykernel_54851/565034597.py:1: UserWarning: `Model.fit_generator` is deprecated and will be removed in a future version. Please use `Model.fit`, which supports generators.\n",
      "  hist = model.fit_generator(traingen,epochs=2)\n"
     ]
    },
    {
     "name": "stdout",
     "output_type": "stream",
     "text": [
      "Epoch 1/2\n",
      "882/882 [==============================] - 5743s 7s/step - loss: 6.3910e-04\n",
      "Epoch 2/2\n",
      "882/882 [==============================] - 5389s 6s/step - loss: 4.3068e-11\n"
     ]
    }
   ],
   "source": [
    "hist = model.fit_generator(traingen,epochs=2,shuffle=True)"
   ]
  },
  {
   "cell_type": "code",
   "execution_count": 37,
   "id": "795dfb26-4241-4ccf-8cb3-25e861077450",
   "metadata": {},
   "outputs": [],
   "source": [
    "x_test = f2.get('X')\n",
    "y_test = f2.get('y')"
   ]
  },
  {
   "cell_type": "code",
   "execution_count": 38,
   "id": "40090f20-2528-42ca-a694-705097545f21",
   "metadata": {},
   "outputs": [
    {
     "data": {
      "text/plain": [
       "(10000, 125, 125, 3)"
      ]
     },
     "execution_count": 38,
     "metadata": {},
     "output_type": "execute_result"
    }
   ],
   "source": [
    "x_test.shape"
   ]
  },
  {
   "cell_type": "code",
   "execution_count": 39,
   "id": "c2cbd300-e755-4513-8ada-248a38ea12f7",
   "metadata": {},
   "outputs": [],
   "source": [
    "def mae(x):\n",
    "    pred = model.predict(x)\n",
    "    return np.mean(np.abs(x - pred)**2,axis=(1,2,3))\n",
    "\n",
    "def recon_acc(x):\n",
    "    return 1 - mae(x)"
   ]
  },
  {
   "cell_type": "code",
   "execution_count": 40,
   "id": "f226136c-a5bd-4b9d-930f-1d150f262076",
   "metadata": {},
   "outputs": [
    {
     "data": {
      "text/plain": [
       "(2000, 125, 125, 3)"
      ]
     },
     "execution_count": 40,
     "metadata": {},
     "output_type": "execute_result"
    }
   ],
   "source": [
    "x_test[:2000].shape"
   ]
  },
  {
   "cell_type": "code",
   "execution_count": 41,
   "id": "2c4b893f-1a5c-4add-bddb-18175b03748e",
   "metadata": {},
   "outputs": [
    {
     "data": {
      "text/plain": [
       "(2000, 125, 125, 3)"
      ]
     },
     "execution_count": 41,
     "metadata": {},
     "output_type": "execute_result"
    }
   ],
   "source": [
    "x_test[8000:10000].shape"
   ]
  },
  {
   "cell_type": "code",
   "execution_count": 42,
   "id": "9069c887-4381-4f61-8fc9-6f2aaccfd67b",
   "metadata": {},
   "outputs": [],
   "source": [
    "zerrooo = recon_acc(x_test[:2000])\n",
    "one = recon_acc(x_test[8000:10000])"
   ]
  },
  {
   "cell_type": "code",
   "execution_count": 43,
   "id": "93305172-b2ec-41b4-ac51-8ea7bb413edc",
   "metadata": {},
   "outputs": [
    {
     "data": {
      "text/plain": [
       "(2000,)"
      ]
     },
     "execution_count": 43,
     "metadata": {},
     "output_type": "execute_result"
    }
   ],
   "source": [
    "zerrooo.shape"
   ]
  },
  {
   "cell_type": "code",
   "execution_count": null,
   "id": "c064fd10-78d6-4e4b-bef9-379e1be7b733",
   "metadata": {},
   "outputs": [],
   "source": []
  },
  {
   "cell_type": "code",
   "execution_count": 58,
   "id": "f46674d8-8e63-46f6-ad67-c74ed5122358",
   "metadata": {},
   "outputs": [
    {
     "name": "stdout",
     "output_type": "stream",
     "text": [
      "0.9999977\n",
      "0.99999565\n"
     ]
    },
    {
     "data": {
      "text/plain": [
       "<matplotlib.legend.Legend at 0x7f0ce00e12b0>"
      ]
     },
     "execution_count": 58,
     "metadata": {},
     "output_type": "execute_result"
    },
    {
     "data": {
      "image/png": "[encoded data removed]",
      "text/plain": [
       "<Figure size 432x288 with 1 Axes>"
      ]
     },
     "metadata": {
      "needs_background": "light"
     },
     "output_type": "display_data"
    }
   ],
   "source": [
    "print(np.median(zerrooo))\n",
    "bins = np.histogram(np.hstack((zerrooo, one)), bins=150)[1]\n",
    "bins = np.arange(0.999990,0.999999,0.000001)\n",
    "plt.hist(zerrooo, histtype='step', label=\"zero\",bins=bins)#,bins=[0.0004,0.0005,0.0006,0.0007,0.0008,0.0009,0.001,0.0011,0.0012,0.0013])\n",
    "print(np.median(one))\n",
    "plt.hist(one, histtype='step', label=\"one\",bins=bins)#,bins=[0.0004,0.0005,0.0006,0.0007,0.0008,0.0009,0.001,0.0011,0.0012,0.0013])\n",
    "plt.xlabel(\"Reconstruction error\")\n",
    "plt.legend()"
   ]
  },
  {
   "cell_type": "code",
   "execution_count": 45,
   "id": "3d791b25-e194-4b04-835c-8db22badad01",
   "metadata": {},
   "outputs": [
    {
     "data": {
      "text/plain": [
       "793900"
      ]
     },
     "execution_count": 45,
     "metadata": {},
     "output_type": "execute_result"
    }
   ],
   "source": [
    "x_train.shape[0]"
   ]
  },
  {
   "cell_type": "code",
   "execution_count": 46,
   "id": "0ade2300-cb30-452c-bd9e-a5c5b289aa23",
   "metadata": {},
   "outputs": [],
   "source": [
    "batch_size = 1700"
   ]
  },
  {
   "cell_type": "code",
   "execution_count": 47,
   "id": "9a6cc057-15cb-4765-aa64-c13556e7fa8a",
   "metadata": {},
   "outputs": [],
   "source": [
    "num_batches = x_train.shape[0]/batch_size"
   ]
  },
  {
   "cell_type": "code",
   "execution_count": 52,
   "id": "be3006a2-5955-4bd3-b50d-6876358dbfb1",
   "metadata": {},
   "outputs": [],
   "source": [
    "fsmall.close()"
   ]
  },
  {
   "cell_type": "code",
   "execution_count": 53,
   "id": "450de7e8-9e0b-4216-a99f-6909edaa3690",
   "metadata": {},
   "outputs": [
    {
     "name": "stdout",
     "output_type": "stream",
     "text": [
      "466\r"
     ]
    }
   ],
   "source": [
    "fsmall = h5py.File('../../data/compressed3.hdf5','w')\n",
    "fsmall.create_dataset('X', shape=(x_train.shape[0],8))\n",
    "fsmall.create_dataset('y', shape=(x_train.shape[0], 1))\n",
    "\n",
    "for i in range(int(num_batches)):\n",
    "    fsmall['X'][i * batch_size: (i + 1) * batch_size] = model.encoder(x_train[i * batch_size: (i + 1) * batch_size]/2222.665)\n",
    "    fsmall['y'][i * batch_size: (i + 1) * batch_size] = y_train[i * batch_size: (i + 1) * batch_size].reshape((batch_size,1))\n",
    "    print(i, end=\"\\r\")"
   ]
  },
  {
   "cell_type": "code",
   "execution_count": 59,
   "id": "91e651aa-fa93-40cc-9b41-795069193450",
   "metadata": {},
   "outputs": [
    {
     "ename": "NameError",
     "evalue": "name 'sixes' is not defined",
     "output_type": "error",
     "traceback": [
      "\u001b[0;31m---------------------------------------------------------------------------\u001b[0m",
      "\u001b[0;31mNameError\u001b[0m                                 Traceback (most recent call last)",
      "Input \u001b[0;32mIn [59]\u001b[0m, in \u001b[0;36m<cell line: 11>\u001b[0;34m()\u001b[0m\n\u001b[1;32m     10\u001b[0m accs \u001b[38;5;241m=\u001b[39m []\n\u001b[1;32m     11\u001b[0m \u001b[38;5;28;01mfor\u001b[39;00m i \u001b[38;5;129;01min\u001b[39;00m Ts:\n\u001b[0;32m---> 12\u001b[0m     accs\u001b[38;5;241m.\u001b[39mappend(\u001b[43macc_for_threshold\u001b[49m\u001b[43m(\u001b[49m\u001b[43mi\u001b[49m\u001b[43m)\u001b[49m)\n\u001b[1;32m     13\u001b[0m \u001b[38;5;28mprint\u001b[39m(\u001b[38;5;28mmax\u001b[39m(accs))\n\u001b[1;32m     14\u001b[0m plt\u001b[38;5;241m.\u001b[39mplot(Ts, accs)\n",
      "Input \u001b[0;32mIn [59]\u001b[0m, in \u001b[0;36macc_for_threshold\u001b[0;34m(T)\u001b[0m\n\u001b[1;32m      4\u001b[0m \u001b[38;5;66;03m# threes that are predicted three\u001b[39;00m\n\u001b[1;32m      5\u001b[0m num_three_right \u001b[38;5;241m=\u001b[39m np\u001b[38;5;241m.\u001b[39msum(one \u001b[38;5;241m<\u001b[39m T)\n\u001b[0;32m----> 6\u001b[0m acc \u001b[38;5;241m=\u001b[39m (num_six_right \u001b[38;5;241m+\u001b[39m num_three_right)\u001b[38;5;241m/\u001b[39m(\u001b[38;5;28mlen\u001b[39m(\u001b[43msixes\u001b[49m) \u001b[38;5;241m+\u001b[39m \u001b[38;5;28mlen\u001b[39m(threes))\n\u001b[1;32m      7\u001b[0m \u001b[38;5;28;01mreturn\u001b[39;00m acc\n",
      "\u001b[0;31mNameError\u001b[0m: name 'sixes' is not defined"
     ]
    }
   ],
   "source": []
  },
  {
   "cell_type": "code",
   "execution_count": 21,
   "id": "6f70f8b4-8108-4712-b7b8-9c1c642ac84e",
   "metadata": {},
   "outputs": [
    {
     "name": "stdout",
     "output_type": "stream",
     "text": [
      "2222.665\n",
      "0.0\n"
     ]
    }
   ],
   "source": [
    "maxx = 0\n",
    "minn = 10000000\n",
    "\n",
    "for i in range(int(num_batches)):\n",
    "    cmax = np.max(x_train[i * batch_size: (i + 1) * batch_size])\n",
    "    if cmax > maxx:\n",
    "        maxx = cmax\n",
    "    cmin = np.min(x_train[i * batch_size: (i + 1) * batch_size])\n",
    "    if cmin < minn:\n",
    "        minn = cmin\n",
    "    print(i)\n",
    "    \n",
    "print(maxx)\n",
    "print(minn)"
   ]
  },
  {
   "cell_type": "code",
   "execution_count": 37,
   "id": "9e1fe0c9-0a06-4c93-ba47-0fa889c14c61",
   "metadata": {},
   "outputs": [
    {
     "name": "stdout",
     "output_type": "stream",
     "text": [
      "Model: \"sequential_1\"\n",
      "_________________________________________________________________\n",
      " Layer (type)                Output Shape              Param #   \n",
      "=================================================================\n",
      " dense_1 (Dense)             (None, 1600)              11200     \n",
      "                                                                 \n",
      " reshape (Reshape)           (None, 5, 5, 64)          0         \n",
      "                                                                 \n",
      " conv2d_transpose (Conv2DTra  (None, 15, 15, 64)       36928     \n",
      " nspose)                                                         \n",
      "                                                                 \n",
      " conv2d_transpose_1 (Conv2DT  (None, 31, 31, 32)       18464     \n",
      " ranspose)                                                       \n",
      "                                                                 \n",
      " conv2d_transpose_2 (Conv2DT  (None, 62, 62, 16)       4624      \n",
      " ranspose)                                                       \n",
      "                                                                 \n",
      " conv2d_transpose_3 (Conv2DT  (None, 125, 125, 8)      1160      \n",
      " ranspose)                                                       \n",
      "                                                                 \n",
      " conv2d_4 (Conv2D)           (None, 125, 125, 3)       99        \n",
      "                                                                 \n",
      "=================================================================\n",
      "Total params: 72,475\n",
      "Trainable params: 72,475\n",
      "Non-trainable params: 0\n",
      "_________________________________________________________________\n"
     ]
    }
   ],
   "source": [
    "model.decoder.summary()"
   ]
  },
  {
   "cell_type": "code",
   "execution_count": null,
   "id": "14f712f9-9aa2-41a1-8cf7-8db05a635e7b",
   "metadata": {},
   "outputs": [],
   "source": []
  },
  {
   "cell_type": "code",
   "execution_count": 38,
   "id": "3fa340be-7ad2-42ab-b567-02ca0b9fdce4",
   "metadata": {},
   "outputs": [],
   "source": [
    "from tensorflow.keras import layers, losses"
   ]
  },
  {
   "cell_type": "code",
   "execution_count": 39,
   "id": "a2828ada-8bde-4342-82cb-7e8a07b18cd0",
   "metadata": {},
   "outputs": [],
   "source": [
    "x = layers.Input(shape=(6,))"
   ]
  },
  {
   "cell_type": "code",
   "execution_count": 55,
   "id": "14e459b0-bd7a-4f87-909d-0c883ced1699",
   "metadata": {},
   "outputs": [],
   "source": [
    "import sympy\n",
    "import matplotlib.pyplot as plt\n",
    "import numpy as np\n",
    "import pandas as pd\n",
    "import tensorflow as tf\n",
    "\n",
    "from sklearn.metrics import accuracy_score, precision_score, recall_score\n",
    "from sklearn.model_selection import train_test_split\n",
    "from tensorflow.keras import layers, losses\n",
    "import tensorflow.keras as keras\n",
    "from tensorflow.keras.datasets import fashion_mnist\n",
    "from tensorflow.keras.models import Model"
   ]
  },
  {
   "cell_type": "markdown",
   "id": "ec073e8e-4d66-4760-8201-083b2d04033c",
   "metadata": {
    "tags": []
   },
   "source": [
    "## from tensorflow.keras.models import Model\n",
    "newmodel = Model(inputs=x, outputs=model.decoder)"
   ]
  },
  {
   "cell_type": "code",
   "execution_count": null,
   "id": "de805b17-801c-4a85-b7bd-e30ca45983b9",
   "metadata": {},
   "outputs": [],
   "source": []
  }
 ],
 "metadata": {
  "kernelspec": {
   "display_name": "tfq",
   "language": "python",
   "name": "tfq"
  },
  "language_info": {
   "codemirror_mode": {
    "name": "ipython",
    "version": 3
   },
   "file_extension": ".py",
   "mimetype": "text/x-python",
   "name": "python",
   "nbconvert_exporter": "python",
   "pygments_lexer": "ipython3",
   "version": "3.9.12"
  }
 },
 "nbformat": 4,
 "nbformat_minor": 5
}
