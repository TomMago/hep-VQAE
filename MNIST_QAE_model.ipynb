{
 "cells": [
  {
   "cell_type": "markdown",
   "id": "9080d094-8323-45f5-a578-aeed60dc8ab0",
   "metadata": {
    "tags": []
   },
   "source": [
    "# Electron Photon tagging\n",
    "\n",
    "This is a first test to implement a QAE and compare it to a classical AE.  \n",
    "The task is to identify Electrons and Photons from em-calorimeter images."
   ]
  },
  {
   "cell_type": "code",
   "execution_count": 1,
   "id": "5b53f85c-d0fb-489d-b816-6ed710eeda35",
   "metadata": {},
   "outputs": [
    {
     "name": "stderr",
     "output_type": "stream",
     "text": [
      "2022-06-29 18:21:48.751267: W tensorflow/stream_executor/platform/default/dso_loader.cc:64] Could not load dynamic library 'libcudart.so.11.0'; dlerror: libcudart.so.11.0: cannot open shared object file: No such file or directory\n",
      "2022-06-29 18:21:48.751287: I tensorflow/stream_executor/cuda/cudart_stub.cc:29] Ignore above cudart dlerror if you do not have a GPU set up on your machine.\n",
      "2022-06-29 18:21:50.008590: W tensorflow/stream_executor/platform/default/dso_loader.cc:64] Could not load dynamic library 'libcuda.so.1'; dlerror: libcuda.so.1: cannot open shared object file: No such file or directory\n",
      "2022-06-29 18:21:50.008627: W tensorflow/stream_executor/cuda/cuda_driver.cc:269] failed call to cuInit: UNKNOWN ERROR (303)\n",
      "2022-06-29 18:21:50.008643: I tensorflow/stream_executor/cuda/cuda_diagnostics.cc:156] kernel driver does not appear to be running on this host (tomskopfbahnhof): /proc/driver/nvidia/version does not exist\n",
      "2022-06-29 18:21:50.008857: I tensorflow/core/platform/cpu_feature_guard.cc:151] This TensorFlow binary is optimized with oneAPI Deep Neural Network Library (oneDNN) to use the following CPU instructions in performance-critical operations:  AVX2 FMA\n",
      "To enable them in other operations, rebuild TensorFlow with the appropriate compiler flags.\n"
     ]
    }
   ],
   "source": [
    "import numpy as np\n",
    "import matplotlib.pyplot as plt\n",
    "from cirq.contrib.svg import SVGCircuit\n",
    "import tensorflow as tf\n",
    "import tensorflow_quantum as tfq\n",
    "from hep_VQAE import data_preprocessing as dp\n",
    "\n",
    "\n",
    "import warnings\n",
    "warnings.filterwarnings('ignore')"
   ]
  },
  {
   "cell_type": "code",
   "execution_count": 2,
   "id": "d79ad71b-abd8-4e82-8d07-5a10d2839544",
   "metadata": {},
   "outputs": [
    {
     "name": "stdout",
     "output_type": "stream",
     "text": [
      "x_train:  (60000, 28, 28)\n",
      "x_test:  (10000, 28, 28)\n",
      "y_train:  (60000,)\n",
      "y_test:  (10000,)\n"
     ]
    }
   ],
   "source": [
    "(x_train, y_train), (x_test, y_test) = tf.keras.datasets.mnist.load_data()\n",
    "\n",
    "# Rescale the images from [0,255] to the [0.0,1.0] range.\n",
    "x_train, x_test = x_train/255.0, x_test/255.0\n",
    "print(\"x_train: \", x_train.shape)\n",
    "print(\"x_test: \", x_test.shape)\n",
    "print(\"y_train: \", y_train.shape)\n",
    "print(\"y_test: \", y_test.shape)"
   ]
  },
  {
   "cell_type": "markdown",
   "id": "79c9af05-2a6e-4762-8b0f-2cdef8245e9f",
   "metadata": {},
   "source": [
    "Average images:"
   ]
  },
  {
   "cell_type": "code",
   "execution_count": 3,
   "id": "1b1992e0-08a6-4792-be68-351a38feee1b",
   "metadata": {
    "tags": []
   },
   "outputs": [
    {
     "data": {
      "image/png": "[encoded data removed]",
      "text/plain": [
       "<Figure size 432x288 with 2 Axes>"
      ]
     },
     "metadata": {
      "needs_background": "light"
     },
     "output_type": "display_data"
    }
   ],
   "source": [
    "fig, axs = plt.subplots(1,2)\n",
    "\n",
    "axs[0].imshow(np.average(x_train[y_train==6],0))\n",
    "axs[0].title.set_text('Photons')\n",
    "\n",
    "axs[1].imshow(np.average(x_train[y_train==3],0))\n",
    "axs[1].title.set_text('Electrons')"
   ]
  },
  {
   "cell_type": "markdown",
   "id": "ccba2f25-b21c-484c-beb5-0e87360c65c0",
   "metadata": {},
   "source": [
    "Train on 6s and 3s"
   ]
  },
  {
   "cell_type": "code",
   "execution_count": 4,
   "id": "c579ffc9-301d-4cb3-8cbb-5878f3c1c664",
   "metadata": {},
   "outputs": [
    {
     "name": "stdout",
     "output_type": "stream",
     "text": [
      "Number of filtered training examples: 12049\n",
      "Number of filtered test examples: 1968\n"
     ]
    }
   ],
   "source": [
    "def filter_36(x, y):\n",
    "    keep = (y == 3) | (y == 6)\n",
    "    x, y = x[keep], y[keep]\n",
    "    y = y == 3\n",
    "    return x,y\n",
    "\n",
    "x_train, y_train = filter_36(x_train, y_train)\n",
    "x_test, y_test = filter_36(x_test, y_test)\n",
    "\n",
    "print(\"Number of filtered training examples:\", len(x_train))\n",
    "print(\"Number of filtered test examples:\", len(x_test))"
   ]
  },
  {
   "cell_type": "markdown",
   "id": "7f4f4f50-985d-4367-8674-7bf7c6b0ad66",
   "metadata": {
    "tags": []
   },
   "source": [
    "# Dimensionality reduction\n",
    "\n",
    "To use the QAE we need to reduce the dimension as only a couple of qbits are available.\n",
    "The easiest way is a simple PCA."
   ]
  },
  {
   "cell_type": "code",
   "execution_count": 5,
   "id": "a4449c9c-32fd-42f2-9cd8-f3d31fcbed33",
   "metadata": {},
   "outputs": [
    {
     "name": "stdout",
     "output_type": "stream",
     "text": [
      "1.0\n",
      "0.0\n",
      "(12049, 4)\n",
      "(1968, 4)\n"
     ]
    }
   ],
   "source": [
    "DOWNSCALE = 2\n",
    "DATA_DIMENSION = DOWNSCALE*DOWNSCALE\n",
    "LATENT_BITS = 2\n",
    "\n",
    "x_train, x_test = dp.PCA_reduce(x_train, DATA_DIMENSION, val_data=x_test)\n",
    "print(np.max(x_train))\n",
    "print(np.min(x_train))\n",
    "print(x_train.shape)\n",
    "print(x_test.shape)"
   ]
  },
  {
   "cell_type": "code",
   "execution_count": 6,
   "id": "4c67c38d-f187-4e78-88b0-91409992f9ef",
   "metadata": {},
   "outputs": [
    {
     "data": {
      "image/png": "[encoded data removed]",
      "text/plain": [
       "<Figure size 432x288 with 3 Axes>"
      ]
     },
     "metadata": {
      "needs_background": "light"
     },
     "output_type": "display_data"
    }
   ],
   "source": [
    "fig, axs = plt.subplots(1,2)\n",
    "img0 = axs[0].imshow(np.average(x_train[y_train==True],0).reshape(DOWNSCALE,DOWNSCALE))\n",
    "axs[0].title.set_text('three')\n",
    "\n",
    "img1 = axs[1].imshow(np.average(x_train[y_train==False],0).reshape(DOWNSCALE,DOWNSCALE))\n",
    "axs[1].title.set_text('six')\n",
    "\n",
    "cbar_ax = fig.add_axes([1, 0.15, 0.05, 0.7])\n",
    "fig.colorbar(img1, orientation='vertical', cax=cbar_ax)\n",
    "\n",
    "fig.tight_layout()"
   ]
  },
  {
   "cell_type": "markdown",
   "id": "06f5cb43-d74e-4225-85b2-1c28fd2881ce",
   "metadata": {},
   "source": [
    "After the PCA it looks like Photons and Electrons should still seperate quite well."
   ]
  },
  {
   "cell_type": "code",
   "execution_count": 7,
   "id": "5d5ba41b-eac3-491e-8d78-2a2977a23552",
   "metadata": {
    "tags": []
   },
   "outputs": [
    {
     "data": {
      "text/plain": [
       "<matplotlib.legend.Legend at 0x7f0689d0edc0>"
      ]
     },
     "execution_count": 7,
     "metadata": {},
     "output_type": "execute_result"
    },
    {
     "data": {
      "image/png": "[encoded data removed]",
      "text/plain": [
       "<Figure size 432x288 with 4 Axes>"
      ]
     },
     "metadata": {
      "needs_background": "light"
     },
     "output_type": "display_data"
    }
   ],
   "source": [
    "fig, axs = plt.subplots(DOWNSCALE,DOWNSCALE)\n",
    "for i in range(0,DATA_DIMENSION):\n",
    "    axs[i//DOWNSCALE,i%DOWNSCALE].hist(x_train[y_train==0][:,i], label=\"photons\", histtype='step')\n",
    "    axs[i//DOWNSCALE,i%DOWNSCALE].hist(x_train[y_train==1][:,i], label=\"electrons\", histtype='step')\n",
    "fig.tight_layout()\n",
    "plt.legend(loc='center left', bbox_to_anchor=(1, 0.5))"
   ]
  },
  {
   "cell_type": "markdown",
   "id": "08a7dcf3-2a54-4aa4-80d6-2831b3a68929",
   "metadata": {},
   "source": [
    "I want only want to train the AE on Photons and later try to separate them from the electrons without training on electron data.\n",
    "Therefore I only include Photons in x_train.\n"
   ]
  },
  {
   "cell_type": "code",
   "execution_count": 8,
   "id": "16099271-c963-402c-86e9-f467d540e096",
   "metadata": {},
   "outputs": [],
   "source": [
    "x_train_threes = x_train[y_train==True]\n",
    "x_train = x_train[y_train==False]\n",
    "\n",
    "x_test_threes = x_test[y_test==True]\n",
    "x_test = x_test[y_test==False]"
   ]
  },
  {
   "cell_type": "markdown",
   "id": "77c8e933-c131-4c2b-aa46-42073a1385ea",
   "metadata": {},
   "source": [
    "Input states need to be prepared accordingly.\n",
    "The position of the reference bits depends on the number of latent bits."
   ]
  },
  {
   "cell_type": "code",
   "execution_count": 10,
   "id": "5dc31261-f36a-4223-8ca4-76898f1f8503",
   "metadata": {},
   "outputs": [],
   "source": [
    "x_train_circuit = [dp.input_states(x,DATA_DIMENSION,LATENT_BITS) for x in x_train]\n",
    "x_test_circuit = [dp.input_states(x,DATA_DIMENSION,LATENT_BITS) for x in x_test]\n",
    "\n",
    "x_train_circuit_threes = [dp.input_states(x,DATA_DIMENSION,LATENT_BITS) for x in x_train_threes]\n",
    "x_test_circuit_threes = [dp.input_states(x,DATA_DIMENSION,LATENT_BITS) for x in x_test_threes]"
   ]
  },
  {
   "cell_type": "code",
   "execution_count": 11,
   "id": "2753713f-9c8c-449e-b3a2-83525705a6b5",
   "metadata": {},
   "outputs": [
    {
     "name": "stderr",
     "output_type": "stream",
     "text": [
      "findfont: Font family ['Arial'] not found. Falling back to DejaVu Sans.\n"
     ]
    },
    {
     "data": {
      "image/svg+xml": [
       "<svg xmlns=\"http://www.w3.org/2000/svg\" width=\"289.7203125\" height=\"400.0\"><line x1=\"34.7588671875\" x2=\"259.7203125\" y1=\"25.0\" y2=\"25.0\" stroke=\"#1967d2\" stroke-width=\"1\" /><line x1=\"34.7588671875\" x2=\"259.7203125\" y1=\"75.0\" y2=\"75.0\" stroke=\"#1967d2\" stroke-width=\"1\" /><line x1=\"34.7588671875\" x2=\"259.7203125\" y1=\"125.0\" y2=\"125.0\" stroke=\"#1967d2\" stroke-width=\"1\" /><line x1=\"34.7588671875\" x2=\"259.7203125\" y1=\"175.0\" y2=\"175.0\" stroke=\"#1967d2\" stroke-width=\"1\" /><line x1=\"34.7588671875\" x2=\"259.7203125\" y1=\"225.0\" y2=\"225.0\" stroke=\"#1967d2\" stroke-width=\"1\" /><line x1=\"34.7588671875\" x2=\"259.7203125\" y1=\"275.0\" y2=\"275.0\" stroke=\"#1967d2\" stroke-width=\"1\" /><line x1=\"34.7588671875\" x2=\"259.7203125\" y1=\"325.0\" y2=\"325.0\" stroke=\"#1967d2\" stroke-width=\"1\" /><line x1=\"34.7588671875\" x2=\"259.7203125\" y1=\"375.0\" y2=\"375.0\" stroke=\"#1967d2\" stroke-width=\"1\" /><rect x=\"10.0\" y=\"5.0\" width=\"49.517734375\" height=\"40\" stroke=\"black\" fill=\"white\" stroke-width=\"0\" /><text x=\"34.7588671875\" y=\"25.0\" dominant-baseline=\"middle\" text-anchor=\"middle\" font-size=\"14px\" font-family=\"Arial\">(0, 0): </text><rect x=\"10.0\" y=\"55.0\" width=\"49.517734375\" height=\"40\" stroke=\"black\" fill=\"white\" stroke-width=\"0\" /><text x=\"34.7588671875\" y=\"75.0\" dominant-baseline=\"middle\" text-anchor=\"middle\" font-size=\"14px\" font-family=\"Arial\">(0, 1): </text><rect x=\"10.0\" y=\"105.0\" width=\"49.517734375\" height=\"40\" stroke=\"black\" fill=\"white\" stroke-width=\"0\" /><text x=\"34.7588671875\" y=\"125.0\" dominant-baseline=\"middle\" text-anchor=\"middle\" font-size=\"14px\" font-family=\"Arial\">(0, 2): </text><rect x=\"10.0\" y=\"155.0\" width=\"49.517734375\" height=\"40\" stroke=\"black\" fill=\"white\" stroke-width=\"0\" /><text x=\"34.7588671875\" y=\"175.0\" dominant-baseline=\"middle\" text-anchor=\"middle\" font-size=\"14px\" font-family=\"Arial\">(0, 3): </text><rect x=\"10.0\" y=\"205.0\" width=\"49.517734375\" height=\"40\" stroke=\"black\" fill=\"white\" stroke-width=\"0\" /><text x=\"34.7588671875\" y=\"225.0\" dominant-baseline=\"middle\" text-anchor=\"middle\" font-size=\"14px\" font-family=\"Arial\">(0, 6): </text><rect x=\"10.0\" y=\"255.0\" width=\"49.517734375\" height=\"40\" stroke=\"black\" fill=\"white\" stroke-width=\"0\" /><text x=\"34.7588671875\" y=\"275.0\" dominant-baseline=\"middle\" text-anchor=\"middle\" font-size=\"14px\" font-family=\"Arial\">(0, 7): </text><rect x=\"10.0\" y=\"305.0\" width=\"49.517734375\" height=\"40\" stroke=\"black\" fill=\"white\" stroke-width=\"0\" /><text x=\"34.7588671875\" y=\"325.0\" dominant-baseline=\"middle\" text-anchor=\"middle\" font-size=\"14px\" font-family=\"Arial\">(0, 8): </text><rect x=\"10.0\" y=\"355.0\" width=\"49.517734375\" height=\"40\" stroke=\"black\" fill=\"white\" stroke-width=\"0\" /><text x=\"34.7588671875\" y=\"375.0\" dominant-baseline=\"middle\" text-anchor=\"middle\" font-size=\"14px\" font-family=\"Arial\">(0, 9): </text><rect x=\"79.517734375\" y=\"5.0\" width=\"70.1012890625\" height=\"40\" stroke=\"black\" fill=\"white\" stroke-width=\"1\" /><text x=\"114.56837890625\" y=\"25.0\" dominant-baseline=\"middle\" text-anchor=\"middle\" font-size=\"14px\" font-family=\"Arial\">X^0.797</text><rect x=\"79.517734375\" y=\"55.0\" width=\"70.1012890625\" height=\"40\" stroke=\"black\" fill=\"white\" stroke-width=\"1\" /><text x=\"114.56837890625\" y=\"75.0\" dominant-baseline=\"middle\" text-anchor=\"middle\" font-size=\"14px\" font-family=\"Arial\">X^0.456</text><rect x=\"79.517734375\" y=\"105.0\" width=\"70.1012890625\" height=\"40\" stroke=\"black\" fill=\"white\" stroke-width=\"1\" /><text x=\"114.56837890625\" y=\"125.0\" dominant-baseline=\"middle\" text-anchor=\"middle\" font-size=\"14px\" font-family=\"Arial\">X^0.592</text><rect x=\"79.517734375\" y=\"155.0\" width=\"70.1012890625\" height=\"40\" stroke=\"black\" fill=\"white\" stroke-width=\"1\" /><text x=\"114.56837890625\" y=\"175.0\" dominant-baseline=\"middle\" text-anchor=\"middle\" font-size=\"14px\" font-family=\"Arial\">X^0.449</text><rect x=\"169.6190234375\" y=\"205.0\" width=\"70.1012890625\" height=\"40\" stroke=\"black\" fill=\"white\" stroke-width=\"1\" /><text x=\"204.66966796875\" y=\"225.0\" dominant-baseline=\"middle\" text-anchor=\"middle\" font-size=\"14px\" font-family=\"Arial\">X^0.797</text><rect x=\"169.6190234375\" y=\"255.0\" width=\"70.1012890625\" height=\"40\" stroke=\"black\" fill=\"white\" stroke-width=\"1\" /><text x=\"204.66966796875\" y=\"275.0\" dominant-baseline=\"middle\" text-anchor=\"middle\" font-size=\"14px\" font-family=\"Arial\">X^0.456</text><rect x=\"169.6190234375\" y=\"305.0\" width=\"70.1012890625\" height=\"40\" stroke=\"black\" fill=\"white\" stroke-width=\"1\" /><text x=\"204.66966796875\" y=\"325.0\" dominant-baseline=\"middle\" text-anchor=\"middle\" font-size=\"14px\" font-family=\"Arial\">X^0.592</text><rect x=\"169.6190234375\" y=\"355.0\" width=\"70.1012890625\" height=\"40\" stroke=\"black\" fill=\"white\" stroke-width=\"1\" /><text x=\"204.66966796875\" y=\"375.0\" dominant-baseline=\"middle\" text-anchor=\"middle\" font-size=\"14px\" font-family=\"Arial\">X^0.449</text></svg>"
      ],
      "text/plain": [
       "<cirq.contrib.svg.svg.SVGCircuit at 0x7f0689cb41f0>"
      ]
     },
     "execution_count": 11,
     "metadata": {},
     "output_type": "execute_result"
    }
   ],
   "source": [
    "SVGCircuit(x_train_circuit[0])"
   ]
  },
  {
   "cell_type": "code",
   "execution_count": 12,
   "id": "e087dfd7-d940-4154-b9bd-b565cf344b0c",
   "metadata": {},
   "outputs": [],
   "source": [
    "x_train_tf = tfq.convert_to_tensor(x_train_circuit)\n",
    "x_test_tf = tfq.convert_to_tensor(x_test_circuit)\n",
    "\n",
    "x_train_tf_threes = tfq.convert_to_tensor(x_train_circuit_threes)\n",
    "x_test_tf_threes = tfq.convert_to_tensor(x_test_circuit_threes)"
   ]
  },
  {
   "cell_type": "markdown",
   "id": "6e5dd8ae-3eb2-4a1f-b5ad-2b31dad67aa2",
   "metadata": {},
   "source": [
    "Use QAE model, in this case with 7 layers"
   ]
  },
  {
   "cell_type": "code",
   "execution_count": 13,
   "id": "ab6a22d0-e4e4-43e2-9c7d-98b331256a7b",
   "metadata": {},
   "outputs": [],
   "source": [
    "from hep_VQAE import QAE as qae\n",
    "\n",
    "model = qae.QAE_model(4,LATENT_BITS,7)"
   ]
  },
  {
   "cell_type": "markdown",
   "id": "6d226626-ecb5-4544-a61c-d4e0df1d4a07",
   "metadata": {},
   "source": [
    "Train with mse"
   ]
  },
  {
   "cell_type": "code",
   "execution_count": 14,
   "id": "0b6de641-6eaa-45b4-b2fc-ff52c896ec87",
   "metadata": {},
   "outputs": [],
   "source": [
    "model.compile(loss='mse', optimizer=tf.keras.optimizers.Adam(lr=0.1))"
   ]
  },
  {
   "cell_type": "code",
   "execution_count": 15,
   "id": "9774136d-6bf7-4c67-ac55-df60e9e0d4f9",
   "metadata": {},
   "outputs": [],
   "source": [
    "y_train_ones = np.ones(shape=len(x_train_tf))\n",
    "y_test_ones = np.ones(shape=len(x_test_tf))\n",
    "\n",
    "y_train_ones_threes = np.ones(shape=len(x_train_tf_threes))\n",
    "y_test_ones_threes = np.ones(shape=len(x_test_tf_threes))"
   ]
  },
  {
   "cell_type": "code",
   "execution_count": 16,
   "id": "3daabf73-2c48-4420-a878-5cce4e89d2bf",
   "metadata": {},
   "outputs": [
    {
     "name": "stdout",
     "output_type": "stream",
     "text": [
      "Epoch 1/50\n",
      "93/93 [==============================] - 22s 234ms/step - loss: 0.1267 - val_loss: 0.0458\n",
      "Epoch 2/50\n",
      "93/93 [==============================] - 21s 230ms/step - loss: 0.0355 - val_loss: 0.0272\n",
      "Epoch 3/50\n",
      "93/93 [==============================] - 21s 228ms/step - loss: 0.0218 - val_loss: 0.0231\n",
      "Epoch 4/50\n",
      "93/93 [==============================] - 22s 233ms/step - loss: 0.0216 - val_loss: 0.0229\n",
      "Epoch 5/50\n",
      "93/93 [==============================] - 21s 229ms/step - loss: 0.0221 - val_loss: 0.0231\n",
      "Epoch 6/50\n",
      "93/93 [==============================] - 22s 236ms/step - loss: 0.0214 - val_loss: 0.0238\n",
      "Epoch 7/50\n",
      "93/93 [==============================] - 21s 230ms/step - loss: 0.0218 - val_loss: 0.0228\n",
      "Epoch 8/50\n",
      "93/93 [==============================] - 21s 229ms/step - loss: 0.0213 - val_loss: 0.0242\n",
      "Epoch 9/50\n",
      "93/93 [==============================] - 21s 222ms/step - loss: 0.0213 - val_loss: 0.0254\n",
      "Epoch 10/50\n",
      "93/93 [==============================] - 21s 231ms/step - loss: 0.0214 - val_loss: 0.0238\n",
      "Epoch 11/50\n",
      "93/93 [==============================] - 22s 239ms/step - loss: 0.0213 - val_loss: 0.0232\n",
      "Epoch 12/50\n",
      "93/93 [==============================] - 21s 224ms/step - loss: 0.0212 - val_loss: 0.0227\n",
      "Epoch 13/50\n",
      "93/93 [==============================] - 21s 228ms/step - loss: 0.0209 - val_loss: 0.0225\n",
      "Epoch 14/50\n",
      "93/93 [==============================] - 21s 227ms/step - loss: 0.0216 - val_loss: 0.0241\n",
      "Epoch 15/50\n",
      "93/93 [==============================] - 22s 233ms/step - loss: 0.0213 - val_loss: 0.0247\n",
      "Epoch 16/50\n",
      "93/93 [==============================] - 21s 229ms/step - loss: 0.0214 - val_loss: 0.0230\n",
      "Epoch 17/50\n",
      "93/93 [==============================] - 21s 226ms/step - loss: 0.0214 - val_loss: 0.0269\n",
      "Epoch 18/50\n",
      "93/93 [==============================] - 21s 226ms/step - loss: 0.0214 - val_loss: 0.0243\n"
     ]
    }
   ],
   "source": [
    "es = tf.keras.callbacks.EarlyStopping(monitor='val_loss', patience=5)\n",
    "history = model.fit(x_train_tf, y_train_ones, epochs=50, batch_size=64, validation_data=(x_test_tf, y_test_ones), callbacks=[es])"
   ]
  },
  {
   "cell_type": "code",
   "execution_count": 17,
   "id": "cf6513db-bc04-4843-bbd2-299762371ed8",
   "metadata": {},
   "outputs": [
    {
     "data": {
      "text/plain": [
       "<matplotlib.legend.Legend at 0x7f05e9d3b700>"
      ]
     },
     "execution_count": 17,
     "metadata": {},
     "output_type": "execute_result"
    },
    {
     "data": {
      "image/png": "[encoded data removed]",
      "text/plain": [
       "<Figure size 432x288 with 1 Axes>"
      ]
     },
     "metadata": {
      "needs_background": "light"
     },
     "output_type": "display_data"
    }
   ],
   "source": [
    "plt.plot(history.history['loss'], label=\"training\")\n",
    "plt.plot(history.history['val_loss'], label=\"validation\")\n",
    "#plt.yscale('log')\n",
    "plt.legend()"
   ]
  },
  {
   "cell_type": "code",
   "execution_count": 18,
   "id": "98f67b7e-abcd-48a9-9a79-f04dc44028ce",
   "metadata": {},
   "outputs": [
    {
     "name": "stdout",
     "output_type": "stream",
     "text": [
      "Median six reconstruciton fidelities:  0.89336836\n",
      "Median three reconstruciton fidelities:  0.35121083\n"
     ]
    }
   ],
   "source": [
    "pred_six = model.predict(x_test_tf)\n",
    "print(\"Median six reconstruciton fidelities: \",np.median(pred_six))\n",
    "\n",
    "pred_three = model.predict(x_test_tf_threes)\n",
    "print(\"Median three reconstruciton fidelities: \", np.median(pred_three))"
   ]
  },
  {
   "cell_type": "code",
   "execution_count": 19,
   "id": "65bcdf85-f85f-424f-8f4d-b0d660bea40d",
   "metadata": {},
   "outputs": [
    {
     "data": {
      "text/plain": [
       "(array([ 69., 185., 243., 232., 145.,  70.,  43.,  15.,   7.,   1.]),\n",
       " array([0.07214803, 0.16434267, 0.25653732, 0.34873196, 0.44092658,\n",
       "        0.5331212 , 0.62531585, 0.7175105 , 0.80970514, 0.9018998 ,\n",
       "        0.99409443], dtype=float32),\n",
       " [<matplotlib.patches.Polygon at 0x7f05e9a1a640>])"
      ]
     },
     "execution_count": 19,
     "metadata": {},
     "output_type": "execute_result"
    },
    {
     "data": {
      "image/png": "[encoded data removed]",
      "text/plain": [
       "<Figure size 432x288 with 1 Axes>"
      ]
     },
     "metadata": {
      "needs_background": "light"
     },
     "output_type": "display_data"
    }
   ],
   "source": [
    "bins = np.histogram(np.hstack((pred_six.reshape((pred_six.shape[0],)), pred_three.reshape((pred_three.shape[0],)))), bins=10)[1]\n",
    "plt.hist(pred_six, histtype='step', label=\"sixes\",bins=bins)\n",
    "plt.hist(pred_three, histtype='step', label=\"threes\",bins=bins)"
   ]
  },
  {
   "cell_type": "code",
   "execution_count": 20,
   "id": "98cd7bbd-ade2-454b-8ead-c754eaa82cb3",
   "metadata": {},
   "outputs": [
    {
     "name": "stdout",
     "output_type": "stream",
     "text": [
      "0.9644308943089431\n"
     ]
    },
    {
     "data": {
      "text/plain": [
       "[<matplotlib.lines.Line2D at 0x7f05e9c7a7c0>]"
      ]
     },
     "execution_count": 20,
     "metadata": {},
     "output_type": "execute_result"
    },
    {
     "data": {
      "image/png": "[encoded data removed]",
      "text/plain": [
       "<Figure size 432x288 with 1 Axes>"
      ]
     },
     "metadata": {
      "needs_background": "light"
     },
     "output_type": "display_data"
    }
   ],
   "source": [
    "def acc_for_threshold(T):\n",
    "    # sixes that are predicted six\n",
    "    num_six_right = np.sum(pred_six > T)\n",
    "    # threes that are predicted three\n",
    "    num_three_right = np.sum(pred_three < T)\n",
    "    acc = (num_six_right + num_three_right)/(len(pred_six) + len(pred_three))\n",
    "    return acc\n",
    "\n",
    "Ts = np.linspace(0,1,100)\n",
    "accs = []\n",
    "for i in Ts:\n",
    "    accs.append(acc_for_threshold(i))\n",
    "print(max(accs))\n",
    "plt.ylabel(\"Tagging accuracy\")\n",
    "plt.xlabel(\"Anomaly threshold\")\n",
    "plt.plot(Ts, accs)  "
   ]
  }
 ],
 "metadata": {
  "kernelspec": {
   "display_name": "env",
   "language": "python",
   "name": "env"
  },
  "language_info": {
   "codemirror_mode": {
    "name": "ipython",
    "version": 3
   },
   "file_extension": ".py",
   "mimetype": "text/x-python",
   "name": "python",
   "nbconvert_exporter": "python",
   "pygments_lexer": "ipython3",
   "version": "3.9.13"
  }
 },
 "nbformat": 4,
 "nbformat_minor": 5
}
