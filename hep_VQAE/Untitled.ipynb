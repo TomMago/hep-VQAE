{
 "cells": [
  {
   "cell_type": "code",
   "execution_count": 12,
   "id": "f68f7248-e67d-4f1f-8341-889ec1b08db0",
   "metadata": {},
   "outputs": [
    {
     "data": {
      "text/plain": [
       "(array([1., 1., 2., 1., 2., 3., 2., 4., 5., 8.]),\n",
       " array([0.5  , 0.549, 0.598, 0.647, 0.696, 0.745, 0.794, 0.843, 0.892,\n",
       "        0.941, 0.99 ]),\n",
       " <BarContainer object of 10 artists>)"
      ]
     },
     "execution_count": 12,
     "metadata": {},
     "output_type": "execute_result"
    },
    {
     "data": {
      "image/png": "[encoded data removed]",
      "text/plain": [
       "<Figure size 432x288 with 1 Axes>"
      ]
     },
     "metadata": {
      "needs_background": "light"
     },
     "output_type": "display_data"
    }
   ],
   "source": [
    "import numpy as np\n",
    "import matplotlib.pyplot as plt\n",
    "\n",
    "x = np.array([0.9, 0.8, 0.95,0.96,0.94,0.78,0.81,0.85,0.911,0.75,0.6,0.7,0.5,0.58,0.64,0.74,0.78,0.86,0.99,0.99,0.87,0.99,0.990,0.88,0.68,0.94,0.99,0.93,0.98])\n",
    "\n",
    "plt.hist(x)"
   ]
  }
 ],
 "metadata": {
  "kernelspec": {
   "display_name": "env",
   "language": "python",
   "name": "env"
  },
  "language_info": {
   "codemirror_mode": {
    "name": "ipython",
    "version": 3
   },
   "file_extension": ".py",
   "mimetype": "text/x-python",
   "name": "python",
   "nbconvert_exporter": "python",
   "pygments_lexer": "ipython3",
   "version": "3.9.13"
  }
 },
 "nbformat": 4,
 "nbformat_minor": 5
}
