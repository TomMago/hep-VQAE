{
 "cells": [
  {
   "cell_type": "code",
   "execution_count": 1,
   "id": "a17aa9b0-2979-42ab-bd79-5ce108a99efc",
   "metadata": {},
   "outputs": [
    {
     "name": "stderr",
     "output_type": "stream",
     "text": [
      "2022-08-01 12:33:40.046026: W tensorflow/stream_executor/platform/default/dso_loader.cc:64] Could not load dynamic library 'libcudart.so.11.0'; dlerror: libcudart.so.11.0: cannot open shared object file: No such file or directory\n",
      "2022-08-01 12:33:40.046047: I tensorflow/stream_executor/cuda/cudart_stub.cc:29] Ignore above cudart dlerror if you do not have a GPU set up on your machine.\n"
     ]
    }
   ],
   "source": [
    "import pennylane as qml\n",
    "from pennylane import numpy as np\n",
    "import matplotlib.pyplot as plt\n",
    "from hep_VQAE import data_preprocessing as dp\n",
    "import tensorflow as tf\n",
    "from pennylane.optimize import AdamOptimizer, GradientDescentOptimizer\n",
    "import time\n",
    "\n",
    "import warnings\n",
    "warnings.filterwarnings('ignore')"
   ]
  },
  {
   "cell_type": "markdown",
   "id": "32774da5-84e7-4b6a-8765-63f24714a067",
   "metadata": {
    "tags": []
   },
   "source": [
    "# Circuit"
   ]
  },
  {
   "cell_type": "code",
   "execution_count": 17,
   "id": "e7586f1e-55d4-45a2-b014-394bd7b70c04",
   "metadata": {},
   "outputs": [],
   "source": [
    "DATA_QBITS = 4\n",
    "LATENT_QBITS = 2\n",
    "TRASH_QBITS = DATA_QBITS - LATENT_QBITS\n",
    "TOTAL_QBITS = DATA_QBITS + TRASH_QBITS + 1"
   ]
  },
  {
   "cell_type": "code",
   "execution_count": 18,
   "id": "c95725cf-c819-49c1-952f-5034af4a33ae",
   "metadata": {},
   "outputs": [],
   "source": [
    "dev1 = qml.device('lightning.qubit', wires=TOTAL_QBITS)"
   ]
  },
  {
   "cell_type": "code",
   "execution_count": 31,
   "id": "4207c76d-b3c1-45a3-897d-d2022f079f02",
   "metadata": {},
   "outputs": [],
   "source": [
    "@qml.qnode(dev1, diff_method=\"parameter-shift\")\n",
    "def circuit(enc_params, data):\n",
    "    qml.AngleEmbedding(data, wires=range(DATA_QBITS))\n",
    "    qml.BasicEntanglerLayers(enc_params, wires=range(DATA_QBITS))\n",
    "    qml.Hadamard(wires=TOTAL_QBITS-1)\n",
    "    for i in range(TRASH_QBITS):\n",
    "        #c += cirq.ControlledGate(sub_gate=cirq.SWAP, num_controls=1).on(swap_qbit, reference_qbits[i], network_qbits[num_data_qbits - num_latent_qbits:][i])\n",
    "        qml.CSWAP(wires=[TOTAL_QBITS - 1, LATENT_QBITS + i, DATA_QBITS + i])\n",
    "    qml.Hadamard(wires=TOTAL_QBITS-1)\n",
    "    return qml.expval(qml.PauliZ(TOTAL_QBITS-1))"
   ]
  },
  {
   "cell_type": "code",
   "execution_count": 32,
   "id": "fedda7f2-e929-467d-91d9-2052f4c317b6",
   "metadata": {},
   "outputs": [],
   "source": [
    "#fig, ax = qml.draw_mpl(circuit)([[1,1,1,1]],[0.1,0.24,0.3,0.14])\n",
    "#fig.show()"
   ]
  },
  {
   "cell_type": "code",
   "execution_count": 33,
   "id": "df0b6090-2adb-4587-b744-c14daca04f9c",
   "metadata": {},
   "outputs": [],
   "source": [
    "(x_train, y_train), (x_test, y_test) = tf.keras.datasets.mnist.load_data()\n",
    "x_train, x_test = x_train/255.0, x_test/255.0"
   ]
  },
  {
   "cell_type": "code",
   "execution_count": 34,
   "id": "a65a4c32-2de0-4a75-84f9-f4bd0645c29f",
   "metadata": {},
   "outputs": [],
   "source": [
    "def filter_36(x, y):\n",
    "    keep = (y == 3) | (y == 6)\n",
    "    x, y = x[keep], y[keep]\n",
    "    y = y == 3\n",
    "    return x,y\n",
    "\n",
    "x_train, y_train = filter_36(x_train, y_train)\n",
    "x_test, y_test = filter_36(x_test, y_test)"
   ]
  },
  {
   "cell_type": "code",
   "execution_count": 35,
   "id": "d8eb04c5-1a6f-451e-8dea-b4da3650f068",
   "metadata": {},
   "outputs": [],
   "source": [
    "DOWNSCALE = 2\n",
    "DATA_DIMENSION = DOWNSCALE*DOWNSCALE\n",
    "LATENT_BITS = 2\n",
    "\n",
    "x_train, x_test = dp.PCA_reduce(x_train, DATA_DIMENSION, val_data=x_test)"
   ]
  },
  {
   "cell_type": "code",
   "execution_count": 36,
   "id": "95eecacd-755d-4355-826c-c5ebd7e90260",
   "metadata": {},
   "outputs": [],
   "source": [
    "x_train_threes = np.array(x_train[y_train==True])[:1500]\n",
    "x_train = np.array(x_train[y_train==False])[:1500]\n",
    "\n",
    "x_test_threes = np.array(x_test[y_test==True])\n",
    "x_test = np.array(x_test[y_test==False])"
   ]
  },
  {
   "cell_type": "code",
   "execution_count": 37,
   "id": "0ae511ff-2c31-4175-b48d-c31c71515d04",
   "metadata": {},
   "outputs": [],
   "source": [
    "LAYERS = 5\n",
    "\n",
    "def cost(params):\n",
    "    loss = 0.0\n",
    "    for i in range(len(x_train)):\n",
    "        f = circuit(params, x_train[i])\n",
    "        loss = loss + (1 - f) ** 2\n",
    "    return loss / len(x_train)\n",
    "\n",
    "def cost_sample(params, single_sample):\n",
    "    return (1 - circuit(params, single_sample)) ** 2"
   ]
  },
  {
   "cell_type": "code",
   "execution_count": 38,
   "id": "372c05ea-5235-4232-a3f3-fadca2c1bcca",
   "metadata": {},
   "outputs": [],
   "source": [
    "def iterate_minibatches(data, batch_size):\n",
    "    for start_idx in range(0, data.shape[0] - batch_size + 1, batch_size):\n",
    "        idxs = slice(start_idx, start_idx + batch_size)\n",
    "        yield data[idxs]"
   ]
  },
  {
   "cell_type": "code",
   "execution_count": 85,
   "id": "3a01d4b1-3afd-45ed-a5b5-f6ef6ac8f526",
   "metadata": {},
   "outputs": [],
   "source": [
    "learning_rate = 0.2\n",
    "epochs = 2\n",
    "batch_size = 64 "
   ]
  },
  {
   "cell_type": "code",
   "execution_count": 86,
   "id": "2d2a03ed-55c1-49ad-82d3-770e912da9be",
   "metadata": {},
   "outputs": [],
   "source": [
    "#opt = AdamOptimizer(learning_rate, beta1=0.9, beta2=0.999)\n",
    "opt = qml.QNGOptimizer(learning_rate)\n",
    "# opt = GradientDescentOptimizer(learning_rate)"
   ]
  },
  {
   "cell_type": "code",
   "execution_count": 87,
   "id": "646980f1-8197-4a2b-9f00-b8e5f7da810b",
   "metadata": {},
   "outputs": [],
   "source": [
    "weight_shapes = {\"weights\": (LAYERS, DATA_QBITS)}\n",
    "params = np.random.uniform(size=weight_shapes[\"weights\"], requires_grad=True)"
   ]
  },
  {
   "cell_type": "code",
   "execution_count": 88,
   "id": "cabaaa49-50a0-4f65-81a0-0cd250bfb5a4",
   "metadata": {},
   "outputs": [
    {
     "name": "stdout",
     "output_type": "stream",
     "text": [
      "Step: 0 | Loss: 0.0586 | avg step time 0.000922\n",
      "Step: 100 | Loss: 0.000621 | avg step time 0.176\n",
      "Step: 200 | Loss: 0.000551 | avg step time 0.182\n",
      "Step: 300 | Loss: 0.00051 | avg step time 0.181\n",
      "Step: 400 | Loss: 0.000543 | avg step time 0.18\n",
      "Step: 500 | Loss: 0.000546 | avg step time 0.182\n",
      "Step: 600 | Loss: 0.000513 | avg step time 0.181\n",
      "Step: 700 | Loss: 0.000584 | avg step time 0.182\n",
      "Step: 800 | Loss: 0.000574 | avg step time 0.186\n",
      "Step: 900 | Loss: 0.000592 | avg step time 0.197\n",
      "Step: 1000 | Loss: 0.000565 | avg step time 0.204\n",
      "Step: 1100 | Loss: 0.000649 | avg step time 0.201\n",
      "Step: 1200 | Loss: 0.00069 | avg step time 0.202\n",
      "Step: 1300 | Loss: 0.000538 | avg step time 0.2\n",
      "Step: 1400 | Loss: 0.000793 | avg step time 0.203\n",
      "Epoch: 0 | Loss: 0.0005629334175304904 |\n",
      "Step: 0 | Loss: 0.000557 | avg step time 0.00303\n",
      "Step: 100 | Loss: 0.000574 | avg step time 0.199\n",
      "Step: 200 | Loss: 0.000549 | avg step time 0.203\n",
      "Step: 300 | Loss: 0.00051 | avg step time 0.203\n",
      "Step: 400 | Loss: 0.000543 | avg step time 0.202\n",
      "Step: 500 | Loss: 0.000546 | avg step time 0.199\n",
      "Step: 600 | Loss: 0.000513 | avg step time 0.202\n",
      "Step: 700 | Loss: 0.000584 | avg step time 0.208\n",
      "Step: 800 | Loss: 0.000574 | avg step time 0.203\n",
      "Step: 900 | Loss: 0.000592 | avg step time 0.201\n",
      "Step: 1000 | Loss: 0.000565 | avg step time 0.202\n",
      "Step: 1100 | Loss: 0.000649 | avg step time 0.2\n",
      "Step: 1200 | Loss: 0.00069 | avg step time 0.203\n",
      "Step: 1300 | Loss: 0.000538 | avg step time 0.2\n",
      "Step: 1400 | Loss: 0.000793 | avg step time 0.203\n",
      "Epoch: 1 | Loss: 0.000562933417530794 |\n",
      "Time for 2 epochs with 5 layers: 694.3863813877106\n"
     ]
    }
   ],
   "source": [
    "start = time.time()\n",
    "\n",
    "for it in range(epochs):\n",
    "    # for j,Xbatch in enumerate(iterate_minibatches(x_train, batch_size=batch_size)):\n",
    "    start_b = time.time()\n",
    "    for j, sample in enumerate(x_train):        \n",
    "        sample = np.array(sample, requires_grad=False)\n",
    "        cost_fn = lambda p: cost_sample(p, sample)\n",
    "        metric_fn = lambda p: qml.metric_tensor(circuit, approx=\"block-diag\")(p, sample)\n",
    "        params = opt.step(cost_fn, params, metric_tensor_fn=metric_fn)\n",
    "        print(j, end=\"\\r\")\n",
    "        if j % 100 == 0:\n",
    "            end_b = time.time()\n",
    "            loss = cost(params)\n",
    "            print(f\"Step: {j} | Loss: {loss:.3} | avg step time {(end_b - start_b) / 100 :.3}\")\n",
    "            start_b = time.time()\n",
    "\n",
    "    loss = cost(params)\n",
    "    \n",
    "    print(f\"Epoch: {it} | Loss: {loss} |\")\n",
    "    \n",
    "end = time.time()\n",
    "\n",
    "print(f\"Time for {epochs} epochs with {LAYERS} layers: {end - start}\")"
   ]
  },
  {
   "cell_type": "code",
   "execution_count": null,
   "id": "673435a5-225e-46e6-9240-c0977d40fcee",
   "metadata": {},
   "outputs": [],
   "source": []
  }
 ],
 "metadata": {
  "kernelspec": {
   "display_name": "tfq",
   "language": "python",
   "name": "tfq"
  },
  "language_info": {
   "codemirror_mode": {
    "name": "ipython",
    "version": 3
   },
   "file_extension": ".py",
   "mimetype": "text/x-python",
   "name": "python",
   "nbconvert_exporter": "python",
   "pygments_lexer": "ipython3",
   "version": "3.9.12"
  }
 },
 "nbformat": 4,
 "nbformat_minor": 5
}
