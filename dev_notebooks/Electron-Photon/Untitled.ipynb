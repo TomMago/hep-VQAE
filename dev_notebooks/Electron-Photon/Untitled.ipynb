{
 "cells": [
  {
   "cell_type": "code",
   "execution_count": 1,
   "id": "697052d4-84ac-42af-8721-f6e73b051506",
   "metadata": {},
   "outputs": [
    {
     "name": "stderr",
     "output_type": "stream",
     "text": [
      "2022-08-03 19:29:29.567787: W tensorflow/stream_executor/platform/default/dso_loader.cc:64] Could not load dynamic library 'libcudart.so.11.0'; dlerror: libcudart.so.11.0: cannot open shared object file: No such file or directory\n",
      "2022-08-03 19:29:29.568016: I tensorflow/stream_executor/cuda/cudart_stub.cc:29] Ignore above cudart dlerror if you do not have a GPU set up on your machine.\n"
     ]
    }
   ],
   "source": [
    "import matplotlib.pyplot as plt\n",
    "import numpy as np\n",
    "import pandas as pd\n",
    "import sympy\n",
    "import tensorflow as tf\n",
    "import tensorflow.keras as keras\n",
    "from sklearn.metrics import accuracy_score, precision_score, recall_score\n",
    "from sklearn.model_selection import train_test_split\n",
    "from tensorflow.keras import layers, losses\n",
    "from tensorflow.keras.datasets import fashion_mnist\n",
    "from tensorflow.keras.models import Model\n"
   ]
  },
  {
   "cell_type": "code",
   "execution_count": 26,
   "id": "aaf034d1-df0b-44d0-9e15-363ae0ae6005",
   "metadata": {},
   "outputs": [],
   "source": [
    "class Convolutional_Autoencoder_gamma_e(Model):\n",
    "    def __init__(self, latent_dim):\n",
    "        super(Convolutional_Autoencoder_gamma_e, self).__init__()\n",
    "\n",
    "        self.encoder = tf.keras.Sequential([\n",
    "          layers.Input(shape=(40, 40, 1)),\n",
    "          layers.Conv2D(10, kernel_size=4, strides=1, activation='relu', padding='same'),\n",
    "          layers.Conv2D(10, kernel_size=4, strides=1, activation='relu', padding='same'),\n",
    "          layers.AveragePooling2D(pool_size=2),\n",
    "          layers.Conv2D(5, kernel_size=4, strides=1, activation='relu', padding='same'),\n",
    "          layers.Conv2D(5, kernel_size=4, strides=1, activation='relu', padding='same'),#,\n",
    "          layers.Flatten(),\n",
    "          layers.Dense(400, activation='relu'),\n",
    "          layers.Dense(100, activation='relu'),\n",
    "          layers.Dense(latent_dim, activation='sigmoid')])\n",
    "\n",
    "        self.decoder = tf.keras.Sequential([\n",
    "          layers.Dense(100, activation='relu'),\n",
    "          layers.Dense(400, activation='relu'),\n",
    "          layers.Reshape((20, 20, 1)),\n",
    "          layers.Conv2D(5, kernel_size=4, strides=1, activation='relu', padding='same'),# after 14\n",
    "          layers.Conv2D(5, kernel_size=4, strides=1, activation='relu', padding='same'),\n",
    "          layers.UpSampling2D(size=2),\n",
    "          layers.Conv2D(10, kernel_size=4, strides=1, activation='relu', padding='same'),# after 14\n",
    "          layers.Conv2D(1, kernel_size=4, strides=1, activation='relu', padding='same')])\n",
    "\n",
    "    def call(self, x):\n",
    "        encoded = self.encoder(x)\n",
    "        decoded = self.decoder(encoded)\n",
    "        return decoded"
   ]
  },
  {
   "cell_type": "code",
   "execution_count": 27,
   "id": "bd9d5b54-d3dd-44a5-b724-4c11f8a32aa9",
   "metadata": {},
   "outputs": [],
   "source": [
    "a = Convolutional_Autoencoder_gamma_e(32)"
   ]
  },
  {
   "cell_type": "code",
   "execution_count": 28,
   "id": "3ebdc7ce-0460-49e9-a52c-ebe50661b19d",
   "metadata": {},
   "outputs": [],
   "source": [
    "a.build(input_shape=(1,40,40,1))"
   ]
  },
  {
   "cell_type": "code",
   "execution_count": 29,
   "id": "f5bd2ddf-80a2-402d-8790-5a3f2ac4df37",
   "metadata": {},
   "outputs": [
    {
     "name": "stdout",
     "output_type": "stream",
     "text": [
      "Model: \"convolutional__autoencoder_gamma_e_3\"\n",
      "_________________________________________________________________\n",
      " Layer (type)                Output Shape              Param #   \n",
      "=================================================================\n",
      " sequential_6 (Sequential)   (None, 32)                846722    \n",
      "                                                                 \n",
      " sequential_7 (Sequential)   (1, 40, 40, 1)            45161     \n",
      "                                                                 \n",
      "=================================================================\n",
      "Total params: 891,883\n",
      "Trainable params: 891,883\n",
      "Non-trainable params: 0\n",
      "_________________________________________________________________\n"
     ]
    }
   ],
   "source": [
    "a.summary()"
   ]
  },
  {
   "cell_type": "code",
   "execution_count": 30,
   "id": "0f37acf5-a407-448d-8619-c81d732d53a6",
   "metadata": {},
   "outputs": [
    {
     "name": "stdout",
     "output_type": "stream",
     "text": [
      "Model: \"sequential_6\"\n",
      "_________________________________________________________________\n",
      " Layer (type)                Output Shape              Param #   \n",
      "=================================================================\n",
      " conv2d_22 (Conv2D)          (None, 40, 40, 10)        170       \n",
      "                                                                 \n",
      " conv2d_23 (Conv2D)          (None, 40, 40, 10)        1610      \n",
      "                                                                 \n",
      " average_pooling2d_1 (Averag  (None, 20, 20, 10)       0         \n",
      " ePooling2D)                                                     \n",
      "                                                                 \n",
      " conv2d_24 (Conv2D)          (None, 20, 20, 5)         805       \n",
      "                                                                 \n",
      " conv2d_25 (Conv2D)          (None, 20, 20, 5)         405       \n",
      "                                                                 \n",
      " flatten_4 (Flatten)         (None, 2000)              0         \n",
      "                                                                 \n",
      " dense_9 (Dense)             (None, 400)               800400    \n",
      "                                                                 \n",
      " dense_10 (Dense)            (None, 100)               40100     \n",
      "                                                                 \n",
      " dense_11 (Dense)            (None, 32)                3232      \n",
      "                                                                 \n",
      "=================================================================\n",
      "Total params: 846,722\n",
      "Trainable params: 846,722\n",
      "Non-trainable params: 0\n",
      "_________________________________________________________________\n"
     ]
    }
   ],
   "source": [
    "a.encoder.summary()"
   ]
  },
  {
   "cell_type": "code",
   "execution_count": 25,
   "id": "6edc2d46-a223-445f-b06e-3874446eebe9",
   "metadata": {},
   "outputs": [
    {
     "name": "stdout",
     "output_type": "stream",
     "text": [
      "Model: \"sequential_5\"\n",
      "_________________________________________________________________\n",
      " Layer (type)                Output Shape              Param #   \n",
      "=================================================================\n",
      " dense_7 (Dense)             (1, 100)                  3300      \n",
      "                                                                 \n",
      " dense_8 (Dense)             (1, 400)                  40400     \n",
      "                                                                 \n",
      " reshape_2 (Reshape)         (1, 20, 20, 1)            0         \n",
      "                                                                 \n",
      " conv2d_18 (Conv2D)          (1, 20, 20, 5)            85        \n",
      "                                                                 \n",
      " conv2d_19 (Conv2D)          (1, 20, 20, 5)            405       \n",
      "                                                                 \n",
      " up_sampling2d (UpSampling2D  (1, 40, 40, 5)           0         \n",
      " )                                                               \n",
      "                                                                 \n",
      " conv2d_20 (Conv2D)          (1, 40, 40, 10)           810       \n",
      "                                                                 \n",
      " conv2d_21 (Conv2D)          (1, 40, 40, 1)            161       \n",
      "                                                                 \n",
      "=================================================================\n",
      "Total params: 45,161\n",
      "Trainable params: 45,161\n",
      "Non-trainable params: 0\n",
      "_________________________________________________________________\n"
     ]
    }
   ],
   "source": [
    "a.decoder.summary()"
   ]
  },
  {
   "cell_type": "code",
   "execution_count": null,
   "id": "daab6a2b-ee8d-4054-9c0f-0e5c8f2b7922",
   "metadata": {},
   "outputs": [],
   "source": []
  }
 ],
 "metadata": {
  "kernelspec": {
   "display_name": "tfq",
   "language": "python",
   "name": "tfq"
  },
  "language_info": {
   "codemirror_mode": {
    "name": "ipython",
    "version": 3
   },
   "file_extension": ".py",
   "mimetype": "text/x-python",
   "name": "python",
   "nbconvert_exporter": "python",
   "pygments_lexer": "ipython3",
   "version": "3.9.12"
  }
 },
 "nbformat": 4,
 "nbformat_minor": 5
}
