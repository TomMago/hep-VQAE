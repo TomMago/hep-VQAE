{
 "cells": [
  {
   "cell_type": "markdown",
   "id": "4b52ca11-0fc0-47db-bba2-21a550333467",
   "metadata": {},
   "source": [
    "# EMD experiments\n",
    "\n",
    "Some experiments with the EMD from the [energyflow package package](https://energyflow.network/demos/)"
   ]
  },
  {
   "cell_type": "code",
   "execution_count": 1,
   "id": "696ac8e4-1a06-4c84-921c-b2285de77c0e",
   "metadata": {},
   "outputs": [],
   "source": [
    "import numpy as np\n",
    "%load_ext wurlitzer\n",
    "%matplotlib inline\n",
    "import matplotlib.pyplot as plt\n",
    "\n",
    "import energyflow as ef"
   ]
  },
  {
   "cell_type": "code",
   "execution_count": 2,
   "id": "460daf18-dff4-4094-9f55-a9a3e33ba2e1",
   "metadata": {},
   "outputs": [
    {
     "name": "stdout",
     "output_type": "stream",
     "text": [
      "Downloading QG_jets.npz from https://www.dropbox.com/s/fclsl7pukcpobsb/QG_jets.npz?dl=1 to /home/tom/.energyflow/datasets\n"
     ]
    }
   ],
   "source": [
    "# load quark and gluon jets\n",
    "X, y = ef.qg_jets.load(2000, pad=False)\n",
    "num = 750\n",
    "\n",
    "# the jet radius for these jets\n",
    "R = 0.4\n",
    "\n",
    "# process jets\n",
    "Gs, Qs = [], []\n",
    "for arr,events in [(Gs, X[y==0]), (Qs, X[y==1])]:\n",
    "    for i,x in enumerate(events):\n",
    "        if i >= num:\n",
    "            break\n",
    "\n",
    "        # ignore padded particles and removed particle id information\n",
    "        x = x[x[:,0] > 0,:3]\n",
    "\n",
    "        # center jet according to pt-centroid\n",
    "        yphi_avg = np.average(x[:,1:3], weights=x[:,0], axis=0)\n",
    "        x[:,1:3] -= yphi_avg\n",
    "\n",
    "        # mask out any particles farther than R=0.4 away from center (rare)\n",
    "        x = x[np.linalg.norm(x[:,1:3], axis=1) <= R]\n",
    "\n",
    "        # add to list\n",
    "        arr.append(x)"
   ]
  },
  {
   "cell_type": "code",
   "execution_count": 16,
   "id": "5869a808-57f0-4257-84b8-53f86e24d7fc",
   "metadata": {},
   "outputs": [
    {
     "name": "stdout",
     "output_type": "stream",
     "text": [
      "x_train:  (100, 32, 32)\n",
      "x_test:  (100, 32, 32)\n",
      "y_train:  (100,)\n",
      "y_test:  (100,)\n"
     ]
    }
   ],
   "source": [
    "data = np.load('../../data/electron-photon.npz', allow_pickle=True)\n",
    "\n",
    "x_train = data['x_train']\n",
    "x_test = data['x_test']\n",
    "y_train = data['y_train']\n",
    "y_test = data['y_test']\n",
    "\n",
    "maxx = np.max(x_train)\n",
    "minn = np.min(x_train)\n",
    "\n",
    "x_train = x_train / maxx\n",
    "x_test = x_test / maxx\n",
    "\n",
    "print(\"x_train: \", x_train.shape)\n",
    "print(\"x_test: \", x_test.shape)\n",
    "print(\"y_train: \", y_train.shape)\n",
    "print(\"y_test: \", y_test.shape)"
   ]
  },
  {
   "cell_type": "code",
   "execution_count": 139,
   "id": "eee886ce-afac-4d0a-9874-9b6e6ea401f6",
   "metadata": {},
   "outputs": [],
   "source": [
    "img = x_train[2]\n",
    "img2 = x_train[0]"
   ]
  },
  {
   "cell_type": "code",
   "execution_count": 140,
   "id": "7709d201-b4b5-40ce-a16b-72451916fde1",
   "metadata": {},
   "outputs": [],
   "source": [
    "x_dim, y_dim = img.shape\n",
    "y_pos = np.indices((x_dim, y_dim))[0]\n",
    "x_pos = np.indices((x_dim, y_dim))[1]\n",
    "stacked = np.dstack((img, x_pos, y_pos))\n",
    "stacked = stacked.reshape((x_dim*y_dim, 3))"
   ]
  },
  {
   "cell_type": "code",
   "execution_count": 141,
   "id": "3867c0c2-24df-4930-a41e-14cd86cb1139",
   "metadata": {},
   "outputs": [],
   "source": [
    "ev1 = stacked[stacked[:,0]!=0]"
   ]
  },
  {
   "cell_type": "code",
   "execution_count": 142,
   "id": "769b7054-5a95-4191-b883-291f86f4a6d9",
   "metadata": {},
   "outputs": [],
   "source": [
    "x_dim, y_dim = img2.shape\n",
    "y_pos = np.indices((x_dim, y_dim))[0]\n",
    "x_pos = np.indices((x_dim, y_dim))[1]\n",
    "stacked = np.dstack((img2, x_pos, y_pos))\n",
    "stacked = stacked.reshape((x_dim*y_dim, 3))"
   ]
  },
  {
   "cell_type": "code",
   "execution_count": 143,
   "id": "293c685d-3ed7-4440-9909-8cbde6a9f83a",
   "metadata": {},
   "outputs": [],
   "source": [
    "ev2 = stacked[stacked[:,0]!=0]"
   ]
  },
  {
   "cell_type": "code",
   "execution_count": 144,
   "id": "48349d50-080d-4677-9778-fa1a7a6a0e68",
   "metadata": {},
   "outputs": [],
   "source": [
    "R = 0.4\n",
    "emdval, G = ef.emd.emd(ev1, ev2, R=R, return_flow=True)\n",
    "print(emdval)"
   ]
  },
  {
   "cell_type": "code",
   "execution_count": 100,
   "id": "ccd13dfe-a264-482d-a442-c1bba26cafb8",
   "metadata": {},
   "outputs": [],
   "source": [
    "R = 0.4\n",
    "emdval, G = ef.emd.emd(ev1, ev1, R=R, return_flow=True)\n",
    "print(emdval) # should be zero of course"
   ]
  },
  {
   "cell_type": "code",
   "execution_count": 226,
   "id": "e23040f0-9544-4c56-81e4-c2c29ac7a522",
   "metadata": {},
   "outputs": [
    {
     "data": {
      "image/png": "[encoded data removed]",
      "text/plain": [
       "<Figure size 432x288 with 1 Axes>"
      ]
     },
     "metadata": {
      "needs_background": "light"
     },
     "output_type": "display_data"
    }
   ],
   "source": [
    "colors = ['red', 'blue']\n",
    "labels = ['Gluon Jet 1', 'Gluon Jet 2']\n",
    "for i,ev in enumerate([ev1, ev2]):\n",
    "    pts, ys, phis = ev[:,0], ev[:,1], ev[:,2]\n",
    "    plt.scatter(ys, phis, marker='o', s=600*pts, color=colors[i], lw=0, zorder=10, label=labels[i])\n",
    "    \n",
    "mx = G.max()\n",
    "xs, xt = ev1[:,1:3], ev2[:,1:3]\n",
    "for i in range(xs.shape[0]):\n",
    "    for j in range(xt.shape[0]):\n",
    "        if G[i, j] > 0:\n",
    "            plt.plot([xs[i, 0], xt[j, 0]], [xs[i, 1], xt[j, 1]],\n",
    "                     alpha=G[i, j]/mx, lw=1.25, color='black')"
   ]
  },
  {
   "cell_type": "code",
   "execution_count": 151,
   "id": "1ecc0431-489b-4207-bfde-6545f5a7592f",
   "metadata": {},
   "outputs": [],
   "source": [
    "imgs = x_train[:5]"
   ]
  },
  {
   "cell_type": "code",
   "execution_count": 212,
   "id": "466eb7fa-f615-4d05-8054-a59cd4a1656d",
   "metadata": {},
   "outputs": [],
   "source": [
    "x_dim, y_dim = imgs.shape[1], imgs.shape[2]\n",
    "y_pos = np.indices((x_dim, y_dim))[0]\n",
    "x_pos = np.indices((x_dim, y_dim))[1]\n",
    "y_posN = np.repeat(y_pos.reshape((1,x_dim,y_dim)), imgs.shape[0], axis=0)\n",
    "x_posN = np.repeat(x_pos.reshape((1,x_dim,y_dim)), imgs.shape[0], axis=0)"
   ]
  },
  {
   "cell_type": "code",
   "execution_count": 214,
   "id": "53b0b764-2664-4571-99fe-0c4087ba4bba",
   "metadata": {},
   "outputs": [],
   "source": [
    "stacked = np.stack((imgs, x_posN, y_posN), axis=3)"
   ]
  },
  {
   "cell_type": "code",
   "execution_count": 216,
   "id": "7b1056c8-1de0-4d7c-977e-66736cb405c1",
   "metadata": {},
   "outputs": [],
   "source": [
    "stacked = stacked.reshape((5,x_dim*y_dim, 3))"
   ]
  },
  {
   "cell_type": "code",
   "execution_count": 219,
   "id": "d7b82413-f65d-43ae-88cf-d4955d1b0152",
   "metadata": {},
   "outputs": [],
   "source": [
    "Gs = []\n",
    "for event in stacked:\n",
    "    Gs.append(event[event[:,0]!=0])"
   ]
  }
 ],
 "metadata": {
  "kernelspec": {
   "display_name": "tfq",
   "language": "python",
   "name": "tfq"
  },
  "language_info": {
   "codemirror_mode": {
    "name": "ipython",
    "version": 3
   },
   "file_extension": ".py",
   "mimetype": "text/x-python",
   "name": "python",
   "nbconvert_exporter": "python",
   "pygments_lexer": "ipython3",
   "version": "3.9.12"
  }
 },
 "nbformat": 4,
 "nbformat_minor": 5
}
