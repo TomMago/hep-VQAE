{
 "cells": [
  {
   "cell_type": "markdown",
   "id": "9080d094-8323-45f5-a578-aeed60dc8ab0",
   "metadata": {
    "tags": []
   },
   "source": [
    "# Classical AE on MNIST\n"
   ]
  },
  {
   "cell_type": "code",
   "execution_count": 1,
   "id": "5b53f85c-d0fb-489d-b816-6ed710eeda35",
   "metadata": {},
   "outputs": [
    {
     "name": "stderr",
     "output_type": "stream",
     "text": [
      "2022-06-28 18:46:16.783482: W tensorflow/stream_executor/platform/default/dso_loader.cc:64] Could not load dynamic library 'libcudart.so.11.0'; dlerror: libcudart.so.11.0: cannot open shared object file: No such file or directory\n",
      "2022-06-28 18:46:16.783513: I tensorflow/stream_executor/cuda/cudart_stub.cc:29] Ignore above cudart dlerror if you do not have a GPU set up on your machine.\n",
      "2022-06-28 18:46:19.015586: W tensorflow/stream_executor/platform/default/dso_loader.cc:64] Could not load dynamic library 'libcuda.so.1'; dlerror: libcuda.so.1: cannot open shared object file: No such file or directory\n",
      "2022-06-28 18:46:19.015622: W tensorflow/stream_executor/cuda/cuda_driver.cc:269] failed call to cuInit: UNKNOWN ERROR (303)\n",
      "2022-06-28 18:46:19.015646: I tensorflow/stream_executor/cuda/cuda_diagnostics.cc:156] kernel driver does not appear to be running on this host (tomskopfbahnhof): /proc/driver/nvidia/version does not exist\n",
      "2022-06-28 18:46:19.015975: I tensorflow/core/platform/cpu_feature_guard.cc:151] This TensorFlow binary is optimized with oneAPI Deep Neural Network Library (oneDNN) to use the following CPU instructions in performance-critical operations:  AVX2 FMA\n",
      "To enable them in other operations, rebuild TensorFlow with the appropriate compiler flags.\n"
     ]
    }
   ],
   "source": [
    "import numpy as np\n",
    "import matplotlib.pyplot as plt\n",
    "from cirq.contrib.svg import SVGCircuit\n",
    "import tensorflow as tf\n",
    "import tensorflow_quantum as tfq\n",
    "from hep_VQAE import data_preprocessing as dp\n",
    "from hep_VQAE import CAE as cae\n",
    "from tensorflow.keras import layers, losses\n",
    "\n",
    "import warnings\n",
    "warnings.filterwarnings('ignore')"
   ]
  },
  {
   "cell_type": "code",
   "execution_count": 2,
   "id": "d79ad71b-abd8-4e82-8d07-5a10d2839544",
   "metadata": {},
   "outputs": [
    {
     "name": "stdout",
     "output_type": "stream",
     "text": [
      "x_train:  (60000, 28, 28)\n",
      "x_test:  (10000, 28, 28)\n",
      "y_train:  (60000,)\n",
      "y_test:  (10000,)\n"
     ]
    }
   ],
   "source": [
    "(x_train, y_train), (x_test, y_test) = tf.keras.datasets.mnist.load_data()\n",
    "\n",
    "# Rescale the images from [0,255] to the [0.0,1.0] range.\n",
    "x_train, x_test = x_train/255.0, x_test/255.0\n",
    "print(\"x_train: \", x_train.shape)\n",
    "print(\"x_test: \", x_test.shape)\n",
    "print(\"y_train: \", y_train.shape)\n",
    "print(\"y_test: \", y_test.shape)"
   ]
  },
  {
   "cell_type": "code",
   "execution_count": 3,
   "id": "1b1992e0-08a6-4792-be68-351a38feee1b",
   "metadata": {
    "tags": []
   },
   "outputs": [
    {
     "data": {
      "image/png": "[encoded data removed]",
      "text/plain": [
       "<Figure size 432x288 with 2 Axes>"
      ]
     },
     "metadata": {
      "needs_background": "light"
     },
     "output_type": "display_data"
    }
   ],
   "source": [
    "fig, axs = plt.subplots(1,2)\n",
    "\n",
    "axs[0].imshow(np.average(x_train[y_train==6],0))\n",
    "axs[0].title.set_text('Photons')\n",
    "\n",
    "axs[1].imshow(np.average(x_train[y_train==3],0))\n",
    "axs[1].title.set_text('Electrons')"
   ]
  },
  {
   "cell_type": "code",
   "execution_count": 4,
   "id": "c47e97c2-59b6-49b4-b328-6ebe327f7f37",
   "metadata": {},
   "outputs": [
    {
     "name": "stdout",
     "output_type": "stream",
     "text": [
      "Number of filtered training examples: 12049\n",
      "Number of filtered test examples: 1968\n"
     ]
    }
   ],
   "source": [
    "def filter_36(x, y):\n",
    "    keep = (y == 3) | (y == 6)\n",
    "    x, y = x[keep], y[keep]\n",
    "    y = y == 3\n",
    "    return x,y\n",
    "\n",
    "x_train, y_train = filter_36(x_train, y_train)\n",
    "x_test, y_test = filter_36(x_test, y_test)\n",
    "\n",
    "print(\"Number of filtered training examples:\", len(x_train))\n",
    "print(\"Number of filtered test examples:\", len(x_test))"
   ]
  },
  {
   "cell_type": "code",
   "execution_count": 5,
   "id": "30f2a106-ea6a-41e1-960a-f82e6bed8054",
   "metadata": {},
   "outputs": [],
   "source": [
    "x_train = x_train.reshape(-1, x_train.shape[-1]*x_train.shape[-2])\n",
    "x_test = x_test.reshape(-1, x_test.shape[-1]*x_test.shape[-2])"
   ]
  },
  {
   "cell_type": "code",
   "execution_count": 6,
   "id": "919360ef-b0b0-4b76-a530-cfa51226037b",
   "metadata": {},
   "outputs": [],
   "source": [
    "num_data, input_dim = x_train.shape"
   ]
  },
  {
   "cell_type": "code",
   "execution_count": 7,
   "id": "7a864ba2-5d9f-411d-87c8-928a16d52029",
   "metadata": {},
   "outputs": [],
   "source": [
    "latent_dim = 6\n",
    "ae = cae.Autoencoder(input_dim, latent_dim)"
   ]
  },
  {
   "cell_type": "code",
   "execution_count": 8,
   "id": "8c8cc30f-18d9-4c7e-b5b3-81e36571e26d",
   "metadata": {},
   "outputs": [],
   "source": [
    "ae.compile(loss='mse', optimizer=tf.keras.optimizers.Adam(lr=0.05))"
   ]
  },
  {
   "cell_type": "code",
   "execution_count": 9,
   "id": "0c942f87-bc7b-4864-8fdb-46079e3f945a",
   "metadata": {},
   "outputs": [
    {
     "name": "stdout",
     "output_type": "stream",
     "text": [
      "Model: \"autoencoder\"\n",
      "_________________________________________________________________\n",
      " Layer (type)                Output Shape              Param #   \n",
      "=================================================================\n",
      " sequential (Sequential)     (None, 6)                 4710      \n",
      "                                                                 \n",
      " sequential_1 (Sequential)   (12049, 784)              5488      \n",
      "                                                                 \n",
      "=================================================================\n",
      "Total params: 10,198\n",
      "Trainable params: 10,198\n",
      "Non-trainable params: 0\n",
      "_________________________________________________________________\n"
     ]
    }
   ],
   "source": [
    "ae.build(x_train.shape)\n",
    "ae.summary()"
   ]
  },
  {
   "cell_type": "code",
   "execution_count": 10,
   "id": "eff59207-84b4-4a68-828a-80eac1203d68",
   "metadata": {},
   "outputs": [
    {
     "name": "stdout",
     "output_type": "stream",
     "text": [
      "Model: \"sequential\"\n",
      "_________________________________________________________________\n",
      " Layer (type)                Output Shape              Param #   \n",
      "=================================================================\n",
      " dense (Dense)               (None, 6)                 4710      \n",
      "                                                                 \n",
      "=================================================================\n",
      "Total params: 4,710\n",
      "Trainable params: 4,710\n",
      "Non-trainable params: 0\n",
      "_________________________________________________________________\n"
     ]
    }
   ],
   "source": [
    "ae.encoder.summary()"
   ]
  },
  {
   "cell_type": "code",
   "execution_count": 11,
   "id": "fadb8c64-aca7-40ae-a2ac-c96491104cef",
   "metadata": {},
   "outputs": [
    {
     "name": "stdout",
     "output_type": "stream",
     "text": [
      "Model: \"sequential_1\"\n",
      "_________________________________________________________________\n",
      " Layer (type)                Output Shape              Param #   \n",
      "=================================================================\n",
      " dense_1 (Dense)             (12049, 784)              5488      \n",
      "                                                                 \n",
      "=================================================================\n",
      "Total params: 5,488\n",
      "Trainable params: 5,488\n",
      "Non-trainable params: 0\n",
      "_________________________________________________________________\n"
     ]
    }
   ],
   "source": [
    "ae.decoder.summary()"
   ]
  },
  {
   "cell_type": "code",
   "execution_count": 12,
   "id": "6fef58a4-801b-4c2d-a91e-0221b46335b4",
   "metadata": {},
   "outputs": [],
   "source": [
    "x_train_three = x_train[y_train==1]\n",
    "x_train = x_train[y_train==0]\n",
    "\n",
    "x_test_three = x_test[y_test==1]\n",
    "x_test = x_test[y_test==0]"
   ]
  },
  {
   "cell_type": "code",
   "execution_count": 13,
   "id": "21a5d9f4-10d9-4b4a-b322-c47b6e9a0a9b",
   "metadata": {},
   "outputs": [
    {
     "name": "stdout",
     "output_type": "stream",
     "text": [
      "Epoch 1/40\n",
      "185/185 [==============================] - 1s 3ms/step - loss: 0.0469 - val_loss: 0.0395\n",
      "Epoch 2/40\n",
      "185/185 [==============================] - 0s 2ms/step - loss: 0.0366 - val_loss: 0.0372\n",
      "Epoch 3/40\n",
      "185/185 [==============================] - 0s 2ms/step - loss: 0.0361 - val_loss: 0.0365\n",
      "Epoch 4/40\n",
      "185/185 [==============================] - 0s 2ms/step - loss: 0.0357 - val_loss: 0.0380\n",
      "Epoch 5/40\n",
      "185/185 [==============================] - 0s 2ms/step - loss: 0.0362 - val_loss: 0.0365\n",
      "Epoch 6/40\n",
      "185/185 [==============================] - 0s 2ms/step - loss: 0.0356 - val_loss: 0.0368\n",
      "Epoch 7/40\n",
      "185/185 [==============================] - 0s 2ms/step - loss: 0.0359 - val_loss: 0.0368\n",
      "Epoch 8/40\n",
      "185/185 [==============================] - 0s 2ms/step - loss: 0.0358 - val_loss: 0.0367\n",
      "Epoch 9/40\n",
      "185/185 [==============================] - 0s 2ms/step - loss: 0.0361 - val_loss: 0.0372\n",
      "Epoch 10/40\n",
      "185/185 [==============================] - 0s 2ms/step - loss: 0.0356 - val_loss: 0.0365\n",
      "Epoch 11/40\n",
      "185/185 [==============================] - 0s 2ms/step - loss: 0.0359 - val_loss: 0.0370\n",
      "Epoch 12/40\n",
      "185/185 [==============================] - 0s 2ms/step - loss: 0.0358 - val_loss: 0.0362\n",
      "Epoch 13/40\n",
      "185/185 [==============================] - 0s 2ms/step - loss: 0.0359 - val_loss: 0.0373\n",
      "Epoch 14/40\n",
      "185/185 [==============================] - 0s 2ms/step - loss: 0.0357 - val_loss: 0.0365\n",
      "Epoch 15/40\n",
      "185/185 [==============================] - 0s 2ms/step - loss: 0.0359 - val_loss: 0.0365\n",
      "Epoch 16/40\n",
      "185/185 [==============================] - 0s 2ms/step - loss: 0.0356 - val_loss: 0.0379\n",
      "Epoch 17/40\n",
      "185/185 [==============================] - 0s 2ms/step - loss: 0.0358 - val_loss: 0.0365\n",
      "Epoch 18/40\n",
      "185/185 [==============================] - 0s 2ms/step - loss: 0.0356 - val_loss: 0.0361\n",
      "Epoch 19/40\n",
      "185/185 [==============================] - 0s 2ms/step - loss: 0.0357 - val_loss: 0.0363\n",
      "Epoch 20/40\n",
      "185/185 [==============================] - 0s 2ms/step - loss: 0.0357 - val_loss: 0.0357\n",
      "Epoch 21/40\n",
      "185/185 [==============================] - 0s 2ms/step - loss: 0.0357 - val_loss: 0.0366\n",
      "Epoch 22/40\n",
      "185/185 [==============================] - 0s 2ms/step - loss: 0.0358 - val_loss: 0.0374\n",
      "Epoch 23/40\n",
      "185/185 [==============================] - 0s 2ms/step - loss: 0.0355 - val_loss: 0.0364\n",
      "Epoch 24/40\n",
      "185/185 [==============================] - 0s 2ms/step - loss: 0.0360 - val_loss: 0.0375\n",
      "Epoch 25/40\n",
      "185/185 [==============================] - 0s 2ms/step - loss: 0.0355 - val_loss: 0.0365\n",
      "Epoch 26/40\n",
      "185/185 [==============================] - 0s 2ms/step - loss: 0.0359 - val_loss: 0.0359\n",
      "Epoch 27/40\n",
      "185/185 [==============================] - 0s 2ms/step - loss: 0.0357 - val_loss: 0.0366\n",
      "Epoch 28/40\n",
      "185/185 [==============================] - 0s 2ms/step - loss: 0.0359 - val_loss: 0.0365\n"
     ]
    }
   ],
   "source": [
    "es = tf.keras.callbacks.EarlyStopping(monitor='val_loss', patience=8)\n",
    "hist = ae.fit(x_train, x_train,\n",
    "                epochs=40,\n",
    "                shuffle=True,\n",
    "                validation_data=(x_test, x_test),\n",
    "                callbacks=[es])"
   ]
  },
  {
   "cell_type": "code",
   "execution_count": 14,
   "id": "94f9f216-8a33-467b-b063-76c2d7c7098f",
   "metadata": {},
   "outputs": [
    {
     "data": {
      "text/plain": [
       "<matplotlib.legend.Legend at 0x7f5a82ffab80>"
      ]
     },
     "execution_count": 14,
     "metadata": {},
     "output_type": "execute_result"
    },
    {
     "data": {
      "image/png": "[encoded data removed]",
      "text/plain": [
       "<Figure size 432x288 with 1 Axes>"
      ]
     },
     "metadata": {
      "needs_background": "light"
     },
     "output_type": "display_data"
    }
   ],
   "source": [
    "plt.plot(hist.history['loss'], label=\"training\")\n",
    "plt.plot(hist.history['val_loss'], label=\"validation\")\n",
    "plt.yscale('log')\n",
    "plt.legend()"
   ]
  },
  {
   "cell_type": "code",
   "execution_count": 15,
   "id": "0293cab7-1d27-47cd-b03c-f42f07cd3205",
   "metadata": {},
   "outputs": [],
   "source": [
    "def mae(x):\n",
    "    pred = ae.predict(x)\n",
    "    return np.mean(np.abs(x - pred)**2,axis=1)\n",
    "\n",
    "def recon_acc(x):\n",
    "    return 1 - mae(x)"
   ]
  },
  {
   "cell_type": "code",
   "execution_count": 16,
   "id": "f71a63c6-7937-45ba-81c5-db8ddc8a0f7a",
   "metadata": {
    "tags": []
   },
   "outputs": [],
   "source": [
    "sixes = recon_acc(x_test)\n",
    "threes = recon_acc(x_test_three)"
   ]
  },
  {
   "cell_type": "code",
   "execution_count": 19,
   "id": "aa057f19-679a-42b8-b770-c47df9f793b7",
   "metadata": {},
   "outputs": [
    {
     "name": "stdout",
     "output_type": "stream",
     "text": [
      "0.9663142214856256\n",
      "0.9033535656681279\n"
     ]
    },
    {
     "data": {
      "text/plain": [
       "<matplotlib.legend.Legend at 0x7f5a80fcf100>"
      ]
     },
     "execution_count": 19,
     "metadata": {},
     "output_type": "execute_result"
    },
    {
     "data": {
      "image/png": "[encoded data removed]",
      "text/plain": [
       "<Figure size 432x288 with 1 Axes>"
      ]
     },
     "metadata": {
      "needs_background": "light"
     },
     "output_type": "display_data"
    }
   ],
   "source": [
    "print(np.median(sixes))\n",
    "bins = np.histogram(np.hstack((sixes, threes)), bins=10)[1]\n",
    "plt.hist(sixes, histtype='step', label=\"sixes\",bins=bins)#,bins=[0.0004,0.0005,0.0006,0.0007,0.0008,0.0009,0.001,0.0011,0.0012,0.0013])\n",
    "print(np.median(threes))\n",
    "plt.hist(threes, histtype='step', label=\"threes\",bins=bins)#,bins=[0.0004,0.0005,0.0006,0.0007,0.0008,0.0009,0.001,0.0011,0.0012,0.0013])\n",
    "plt.xlabel(\"Reconstruction error\")\n",
    "plt.legend()"
   ]
  },
  {
   "cell_type": "code",
   "execution_count": 20,
   "id": "d97a2d80-2ee6-403d-8236-27e7e13c4f5c",
   "metadata": {},
   "outputs": [
    {
     "name": "stdout",
     "output_type": "stream",
     "text": [
      "0.9410569105691057\n"
     ]
    },
    {
     "data": {
      "text/plain": [
       "[<matplotlib.lines.Line2D at 0x7f5a80faf820>]"
      ]
     },
     "execution_count": 20,
     "metadata": {},
     "output_type": "execute_result"
    },
    {
     "data": {
      "image/png": "[encoded data removed]",
      "text/plain": [
       "<Figure size 432x288 with 1 Axes>"
      ]
     },
     "metadata": {
      "needs_background": "light"
     },
     "output_type": "display_data"
    }
   ],
   "source": [
    "def acc_for_threshold(T):\n",
    "    # sixes that are predicted six\n",
    "    num_six_right = np.sum(sixes > T)\n",
    "    # threes that are predicted three\n",
    "    num_three_right = np.sum(threes < T)\n",
    "    acc = (num_six_right + num_three_right)/(len(sixes) + len(threes))\n",
    "    return acc\n",
    "\n",
    "Ts = np.linspace(0,1,100)\n",
    "accs = []\n",
    "for i in Ts:\n",
    "    accs.append(acc_for_threshold(i))\n",
    "print(max(accs))\n",
    "plt.xlabel(\"Anomaly threshold\")\n",
    "plt.ylabel(\"Acc.\")\n",
    "plt.plot(Ts, accs)  "
   ]
  }
 ],
 "metadata": {
  "kernelspec": {
   "display_name": "env",
   "language": "python",
   "name": "env"
  },
  "language_info": {
   "codemirror_mode": {
    "name": "ipython",
    "version": 3
   },
   "file_extension": ".py",
   "mimetype": "text/x-python",
   "name": "python",
   "nbconvert_exporter": "python",
   "pygments_lexer": "ipython3",
   "version": "3.9.13"
  }
 },
 "nbformat": 4,
 "nbformat_minor": 5
}
