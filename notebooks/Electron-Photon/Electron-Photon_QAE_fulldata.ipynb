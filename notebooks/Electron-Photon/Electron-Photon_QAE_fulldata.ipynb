{
 "cells": [
  {
   "cell_type": "markdown",
   "id": "9080d094-8323-45f5-a578-aeed60dc8ab0",
   "metadata": {
    "tags": []
   },
   "source": [
    "# Electron Photon tagging\n",
    "\n",
    "This is a first test to implement a QAE. \n",
    "The task is to identify Electrons and Photons from em-calorimeter images."
   ]
  },
  {
   "cell_type": "code",
   "execution_count": 1,
   "id": "5b53f85c-d0fb-489d-b816-6ed710eeda35",
   "metadata": {},
   "outputs": [
    {
     "name": "stderr",
     "output_type": "stream",
     "text": [
      "2022-07-19 23:28:09.923941: W tensorflow/stream_executor/platform/default/dso_loader.cc:64] Could not load dynamic library 'libcudart.so.11.0'; dlerror: libcudart.so.11.0: cannot open shared object file: No such file or directory\n",
      "2022-07-19 23:28:09.924005: I tensorflow/stream_executor/cuda/cudart_stub.cc:29] Ignore above cudart dlerror if you do not have a GPU set up on your machine.\n",
      "/home/tom/.conda/envs/tfq/lib/python3.9/site-packages/cirq/ops/gateset.py:376: UserWarning: v0.14.1 is the last release `cirq.GlobalPhaseGate` is included by default. If you were relying on this behavior, you can include a `cirq.GlobalPhaseGate` in your `*gates`. If not, then you can ignore this warning. It will be removed in v0.16\n",
      "  warnings.warn(\n",
      "2022-07-19 23:28:14.791148: W tensorflow/stream_executor/platform/default/dso_loader.cc:64] Could not load dynamic library 'libcuda.so.1'; dlerror: libcuda.so.1: cannot open shared object file: No such file or directory\n",
      "2022-07-19 23:28:14.791314: W tensorflow/stream_executor/cuda/cuda_driver.cc:269] failed call to cuInit: UNKNOWN ERROR (303)\n",
      "2022-07-19 23:28:14.791386: I tensorflow/stream_executor/cuda/cuda_diagnostics.cc:156] kernel driver does not appear to be running on this host (tomskopfbahnhof): /proc/driver/nvidia/version does not exist\n",
      "2022-07-19 23:28:14.792081: I tensorflow/core/platform/cpu_feature_guard.cc:151] This TensorFlow binary is optimized with oneAPI Deep Neural Network Library (oneDNN) to use the following CPU instructions in performance-critical operations:  AVX2 FMA\n",
      "To enable them in other operations, rebuild TensorFlow with the appropriate compiler flags.\n"
     ]
    }
   ],
   "source": [
    "import numpy as np\n",
    "import matplotlib.pyplot as plt\n",
    "from cirq.contrib.svg import SVGCircuit\n",
    "import tensorflow as tf\n",
    "import tensorflow_quantum as tfq\n",
    "from hep_VQAE import data_preprocessing as dp\n",
    "\n",
    "\n",
    "import warnings\n",
    "warnings.filterwarnings('ignore')"
   ]
  },
  {
   "cell_type": "code",
   "execution_count": 2,
   "id": "3fb83a3c-ab8a-4d70-9d10-c201957e25fa",
   "metadata": {},
   "outputs": [],
   "source": [
    "import h5py"
   ]
  },
  {
   "cell_type": "code",
   "execution_count": 3,
   "id": "d79ad71b-abd8-4e82-8d07-5a10d2839544",
   "metadata": {},
   "outputs": [],
   "source": [
    "f = h5py.File(\"../../data/electron.hdf5\",\"r\")\n",
    "f2 = h5py.File(\"../../data/photon.hdf5\",\"r\")"
   ]
  },
  {
   "cell_type": "code",
   "execution_count": 65,
   "id": "759e8cb6-7894-45ab-8067-fd84f923aa8e",
   "metadata": {},
   "outputs": [
    {
     "data": {
      "text/plain": [
       "(249000, 32, 32, 2)"
      ]
     },
     "execution_count": 65,
     "metadata": {},
     "output_type": "execute_result"
    }
   ],
   "source": [
    "f.get('X')[:].shape"
   ]
  },
  {
   "cell_type": "code",
   "execution_count": 7,
   "id": "4b3ea028-05e2-4684-bce3-af6625d5e8d6",
   "metadata": {},
   "outputs": [
    {
     "data": {
      "text/plain": [
       "[<matplotlib.lines.Line2D at 0x7f4f847b78e0>]"
      ]
     },
     "execution_count": 7,
     "metadata": {},
     "output_type": "execute_result"
    },
    {
     "data": {
      "image/png": "[encoded data removed]",
      "text/plain": [
       "<Figure size 432x288 with 1 Axes>"
      ]
     },
     "metadata": {
      "needs_background": "light"
     },
     "output_type": "display_data"
    }
   ],
   "source": [
    "from sklearn.decomposition import PCA\n",
    "pca = PCA().fit(f.get('X')[:,:,:,0].reshape((249000,32*32)))\n",
    "plt.plot(np.cumsum(pca.explained_variance_ratio_))"
   ]
  },
  {
   "cell_type": "code",
   "execution_count": 66,
   "id": "9294cf5d-295c-4ec5-afbe-37534659fc7a",
   "metadata": {},
   "outputs": [],
   "source": [
    "electrons = f.get('X')[:,:,:,0]\n",
    "photons = f2.get('X')[:,:,:,0]\n",
    "electrons_y = f.get('y')[:]\n",
    "photons_y = f2.get('y')[:]"
   ]
  },
  {
   "cell_type": "code",
   "execution_count": 67,
   "id": "1b1992e0-08a6-4792-be68-351a38feee1b",
   "metadata": {
    "tags": []
   },
   "outputs": [
    {
     "data": {
      "image/png": "[encoded data removed]",
      "text/plain": [
       "<Figure size 432x288 with 2 Axes>"
      ]
     },
     "metadata": {
      "needs_background": "light"
     },
     "output_type": "display_data"
    }
   ],
   "source": [
    "fig, axs = plt.subplots(1,2)\n",
    "\n",
    "axs[0].imshow(np.average(photons,0))\n",
    "axs[0].title.set_text('Photons')\n",
    "\n",
    "axs[1].imshow(np.average(electrons,0))\n",
    "axs[1].title.set_text('Electrons')"
   ]
  },
  {
   "cell_type": "markdown",
   "id": "7f4f4f50-985d-4367-8674-7bf7c6b0ad66",
   "metadata": {
    "tags": []
   },
   "source": [
    "# Dimensionality reduction\n",
    "\n",
    "To use the QAE we need to reduce the dimension as only a couple of qbits are available.\n",
    "The easiest way is a simple PCA."
   ]
  },
  {
   "cell_type": "code",
   "execution_count": 70,
   "id": "1a102627-f5f1-45a2-a347-b86636a9825c",
   "metadata": {},
   "outputs": [],
   "source": [
    "from sklearn.model_selection import train_test_split\n",
    "\n",
    "\n",
    "\n",
    "x_train, x_val, y_train, y_val = train_test_split(np.vstack((electrons,photons)),\n",
    "                                                    np.transpose(np.hstack((electrons_y, photons_y))),\n",
    "                                                    test_size=0.2, shuffle=True)\n",
    "\n",
    "x_train, x_test, y_train, y_test = train_test_split(x_train, y_train,\n",
    "                                                    test_size=0.4, shuffle=True)"
   ]
  },
  {
   "cell_type": "code",
   "execution_count": 72,
   "id": "a4449c9c-32fd-42f2-9cd8-f3d31fcbed33",
   "metadata": {},
   "outputs": [
    {
     "name": "stdout",
     "output_type": "stream",
     "text": [
      "1.0\n",
      "0.0\n",
      "(239040, 4)\n",
      "(159360, 4)\n",
      "(99600, 4)\n"
     ]
    }
   ],
   "source": [
    "DOWNSCALE = 2\n",
    "DATA_DIMENSION = DOWNSCALE*DOWNSCALE\n",
    "LATENT_BITS = 2\n",
    "\n",
    "x_train, x_val, x_test = dp.PCA_reduce(x_train, DATA_DIMENSION, val_data=x_val, test_data=x_test)\n",
    "print(np.max(x_train))\n",
    "print(np.min(x_train))\n",
    "print(x_train.shape)\n",
    "print(x_test.shape)\n",
    "print(x_val.shape)"
   ]
  },
  {
   "cell_type": "code",
   "execution_count": 73,
   "id": "4c67c38d-f187-4e78-88b0-91409992f9ef",
   "metadata": {},
   "outputs": [
    {
     "data": {
      "image/png": "[encoded data removed]",
      "text/plain": [
       "<Figure size 432x288 with 3 Axes>"
      ]
     },
     "metadata": {
      "needs_background": "light"
     },
     "output_type": "display_data"
    }
   ],
   "source": [
    "fig, axs = plt.subplots(1,2)\n",
    "img0 = axs[0].imshow(np.average(x_train[y_train==0],0).reshape(DOWNSCALE,DOWNSCALE))\n",
    "axs[0].title.set_text('Photons')\n",
    "\n",
    "img1 = axs[1].imshow(np.average(x_train[y_train==1],0).reshape(DOWNSCALE,DOWNSCALE))\n",
    "axs[1].title.set_text('Electrons')\n",
    "\n",
    "cbar_ax = fig.add_axes([1, 0.15, 0.05, 0.7])\n",
    "fig.colorbar(img1, orientation='vertical', cax=cbar_ax)\n",
    "\n",
    "fig.tight_layout()"
   ]
  },
  {
   "cell_type": "markdown",
   "id": "06f5cb43-d74e-4225-85b2-1c28fd2881ce",
   "metadata": {},
   "source": [
    "After the PCA it looks like Photons and Electrons should still seperate quite well."
   ]
  },
  {
   "cell_type": "code",
   "execution_count": 74,
   "id": "5d5ba41b-eac3-491e-8d78-2a2977a23552",
   "metadata": {},
   "outputs": [
    {
     "data": {
      "text/plain": [
       "<matplotlib.legend.Legend at 0x7f4226275250>"
      ]
     },
     "execution_count": 74,
     "metadata": {},
     "output_type": "execute_result"
    },
    {
     "data": {
      "image/png": "[encoded data removed]",
      "text/plain": [
       "<Figure size 432x288 with 4 Axes>"
      ]
     },
     "metadata": {
      "needs_background": "light"
     },
     "output_type": "display_data"
    }
   ],
   "source": [
    "fig, axs = plt.subplots(DOWNSCALE,DOWNSCALE)\n",
    "for i in range(0,DATA_DIMENSION):\n",
    "    axs[i//DOWNSCALE,i%DOWNSCALE].hist(x_train[y_train==0][:,i], label=\"photons\", histtype='step')\n",
    "    axs[i//DOWNSCALE,i%DOWNSCALE].hist(x_train[y_train==1][:,i], label=\"electrons\", histtype='step')\n",
    "fig.tight_layout()\n",
    "plt.legend(loc='center left', bbox_to_anchor=(1, 0.5))"
   ]
  },
  {
   "cell_type": "markdown",
   "id": "08a7dcf3-2a54-4aa4-80d6-2831b3a68929",
   "metadata": {},
   "source": [
    "I want only want to train the AE on Photons and later try to separate them from the electrons without training on electron data.\n",
    "Therefore I only include Photons in x_train.\n"
   ]
  },
  {
   "cell_type": "code",
   "execution_count": 75,
   "id": "16099271-c963-402c-86e9-f467d540e096",
   "metadata": {},
   "outputs": [],
   "source": [
    "x_train_electrons = x_train[y_train==1]\n",
    "x_train = x_train[y_train==0]\n",
    "\n",
    "x_val_electrons = x_val[y_val==1]\n",
    "x_val = x_val[y_val==0]\n",
    "\n",
    "x_test_electrons = x_test[y_test==1]\n",
    "x_test = x_test[y_test==0]"
   ]
  },
  {
   "cell_type": "code",
   "execution_count": 76,
   "id": "60c3c045-52ac-41a3-8335-481407ad9ef9",
   "metadata": {},
   "outputs": [
    {
     "data": {
      "text/html": [
       "<pre style=\"overflow: auto; white-space: pre;\">(0, 0): ───X^0.5202319───────────────────\n",
       "\n",
       "(0, 1): ───X^0.40525857──────────────────\n",
       "\n",
       "(0, 2): ───X^0.4428109───────────────────\n",
       "\n",
       "(0, 3): ───X^0.44104204──────────────────\n",
       "\n",
       "(0, 6): ──────────────────X^0.5202319────\n",
       "\n",
       "(0, 7): ──────────────────X^0.40525857───\n",
       "\n",
       "(0, 8): ──────────────────X^0.4428109────\n",
       "\n",
       "(0, 9): ──────────────────X^0.44104204───</pre>"
      ],
      "text/plain": [
       "(0, 0): ───X^0.5202319───────────────────\n",
       "\n",
       "(0, 1): ───X^0.40525857──────────────────\n",
       "\n",
       "(0, 2): ───X^0.4428109───────────────────\n",
       "\n",
       "(0, 3): ───X^0.44104204──────────────────\n",
       "\n",
       "(0, 6): ──────────────────X^0.5202319────\n",
       "\n",
       "(0, 7): ──────────────────X^0.40525857───\n",
       "\n",
       "(0, 8): ──────────────────X^0.4428109────\n",
       "\n",
       "(0, 9): ──────────────────X^0.44104204───"
      ]
     },
     "execution_count": 76,
     "metadata": {},
     "output_type": "execute_result"
    }
   ],
   "source": [
    "dp.input_states(x_train[0],DATA_DIMENSION,LATENT_BITS)"
   ]
  },
  {
   "cell_type": "markdown",
   "id": "4e6c540c-4077-4a63-9fa1-9acd0ec86594",
   "metadata": {
    "tags": []
   },
   "source": [
    "# QAE\n",
    "\n",
    "First simple implementation of a QAE"
   ]
  },
  {
   "cell_type": "code",
   "execution_count": 77,
   "id": "5dc31261-f36a-4223-8ca4-76898f1f8503",
   "metadata": {},
   "outputs": [],
   "source": [
    "x_train_circuit = [dp.input_states(x,DATA_DIMENSION,LATENT_BITS) for x in x_train]\n",
    "x_val_circuit = [dp.input_states(x,DATA_DIMENSION,LATENT_BITS) for x in x_val]\n",
    "x_test_circuit = [dp.input_states(x,DATA_DIMENSION,LATENT_BITS) for x in x_test]\n",
    "\n",
    "x_train_circuit_electrons = [dp.input_states(x,DATA_DIMENSION,LATENT_BITS) for x in x_train_electrons]\n",
    "x_val_circuit_electrons = [dp.input_states(x,DATA_DIMENSION,LATENT_BITS) for x in x_val_electrons]\n",
    "x_test_circuit_electrons = [dp.input_states(x,DATA_DIMENSION,LATENT_BITS) for x in x_test_electrons]"
   ]
  },
  {
   "cell_type": "code",
   "execution_count": 79,
   "id": "e087dfd7-d940-4154-b9bd-b565cf344b0c",
   "metadata": {},
   "outputs": [],
   "source": [
    "x_train_tf = tfq.convert_to_tensor(x_train_circuit)\n",
    "x_val_tf = tfq.convert_to_tensor(x_val_circuit)\n",
    "x_test_tf = tfq.convert_to_tensor(x_test_circuit)\n",
    "\n",
    "x_train_tf_electrons = tfq.convert_to_tensor(x_train_circuit_electrons)\n",
    "x_val_tf_electrons = tfq.convert_to_tensor(x_val_circuit_electrons)\n",
    "x_test_tf_electrons = tfq.convert_to_tensor(x_test_circuit_electrons)"
   ]
  },
  {
   "cell_type": "code",
   "execution_count": 87,
   "id": "ab6a22d0-e4e4-43e2-9c7d-98b331256a7b",
   "metadata": {},
   "outputs": [],
   "source": [
    "from hep_VQAE import QAE as qae\n",
    "\n",
    "model = tf.keras.Sequential([\n",
    "                             \n",
    "    # The input is the data-circuit, encoded as a tf.string\n",
    "    tf.keras.layers.Input(shape=(), dtype=tf.string),\n",
    "    \n",
    "    # The PQC stands for Paramaterized Quantum Circuit\n",
    "    # This returns the expectation value\n",
    "    qae.QAE_layer(DATA_DIMENSION, LATENT_BITS, 7),\n",
    "])"
   ]
  },
  {
   "cell_type": "code",
   "execution_count": 88,
   "id": "0b6de641-6eaa-45b4-b2fc-ff52c896ec87",
   "metadata": {},
   "outputs": [],
   "source": [
    "model.compile(loss='mse', optimizer=tf.keras.optimizers.Adam(lr=0.01))"
   ]
  },
  {
   "cell_type": "code",
   "execution_count": 90,
   "id": "9774136d-6bf7-4c67-ac55-df60e9e0d4f9",
   "metadata": {},
   "outputs": [],
   "source": [
    "y_train_ones = np.ones(shape=len(x_train_tf))\n",
    "y_val_ones = np.ones(shape=len(x_val_tf))\n",
    "y_test_ones = np.ones(shape=len(x_test_tf))\n",
    "\n",
    "y_train_ones_electrons = np.ones(shape=len(x_train_tf_electrons))\n",
    "y_val_ones_electrons = np.ones(shape=len(x_val_tf_electrons))\n",
    "y_test_ones_electrons = np.ones(shape=len(x_test_tf_electrons))"
   ]
  },
  {
   "cell_type": "code",
   "execution_count": 91,
   "id": "3daabf73-2c48-4420-a878-5cce4e89d2bf",
   "metadata": {},
   "outputs": [
    {
     "name": "stdout",
     "output_type": "stream",
     "text": [
      "Epoch 1/20\n",
      "1870/1870 [==============================] - 510s 273ms/step - loss: 0.0248 - val_loss: 0.0057\n",
      "Epoch 2/20\n",
      "1870/1870 [==============================] - 474s 254ms/step - loss: 0.0054 - val_loss: 0.0053\n",
      "Epoch 3/20\n",
      "1870/1870 [==============================] - 472s 252ms/step - loss: 0.0049 - val_loss: 0.0045\n",
      "Epoch 4/20\n",
      "1870/1870 [==============================] - 471s 252ms/step - loss: 0.0044 - val_loss: 0.0043\n",
      "Epoch 5/20\n",
      "1870/1870 [==============================] - 472s 252ms/step - loss: 0.0043 - val_loss: 0.0043\n",
      "Epoch 6/20\n",
      "1870/1870 [==============================] - 475s 254ms/step - loss: 0.0043 - val_loss: 0.0043\n",
      "Epoch 7/20\n",
      "1870/1870 [==============================] - 472s 253ms/step - loss: 0.0043 - val_loss: 0.0043\n",
      "Epoch 8/20\n",
      "1870/1870 [==============================] - 504s 270ms/step - loss: 0.0043 - val_loss: 0.0042\n",
      "Epoch 9/20\n",
      "1870/1870 [==============================] - 550s 294ms/step - loss: 0.0042 - val_loss: 0.0043\n",
      "Epoch 10/20\n",
      "1870/1870 [==============================] - 534s 286ms/step - loss: 0.0042 - val_loss: 0.0041\n",
      "Epoch 11/20\n",
      "1870/1870 [==============================] - 555s 297ms/step - loss: 0.0042 - val_loss: 0.0041\n",
      "Epoch 12/20\n",
      "1870/1870 [==============================] - 546s 292ms/step - loss: 0.0042 - val_loss: 0.0042\n",
      "Epoch 13/20\n",
      "1870/1870 [==============================] - 560s 299ms/step - loss: 0.0042 - val_loss: 0.0041\n",
      "Epoch 14/20\n",
      "1870/1870 [==============================] - 572s 306ms/step - loss: 0.0042 - val_loss: 0.0043\n",
      "Epoch 15/20\n",
      "1870/1870 [==============================] - 611s 327ms/step - loss: 0.0042 - val_loss: 0.0042\n",
      "Epoch 16/20\n",
      "1870/1870 [==============================] - 615s 329ms/step - loss: 0.0042 - val_loss: 0.0041\n"
     ]
    }
   ],
   "source": [
    "es = tf.keras.callbacks.EarlyStopping(monitor='val_loss', patience=5)\n",
    "history = model.fit(x_train_tf, y_train_ones, epochs=20, batch_size=64, validation_data=(x_val_tf, y_val_ones), callbacks=[es])"
   ]
  },
  {
   "cell_type": "code",
   "execution_count": 1,
   "id": "cf6513db-bc04-4843-bbd2-299762371ed8",
   "metadata": {},
   "outputs": [
    {
     "ename": "NameError",
     "evalue": "name 'plt' is not defined",
     "output_type": "error",
     "traceback": [
      "\u001b[0;31m---------------------------------------------------------------------------\u001b[0m",
      "\u001b[0;31mNameError\u001b[0m                                 Traceback (most recent call last)",
      "Input \u001b[0;32mIn [1]\u001b[0m, in \u001b[0;36m<cell line: 1>\u001b[0;34m()\u001b[0m\n\u001b[0;32m----> 1\u001b[0m \u001b[43mplt\u001b[49m\u001b[38;5;241m.\u001b[39mplot(history\u001b[38;5;241m.\u001b[39mhistory[\u001b[38;5;124m'\u001b[39m\u001b[38;5;124mloss\u001b[39m\u001b[38;5;124m'\u001b[39m], label\u001b[38;5;241m=\u001b[39m\u001b[38;5;124m\"\u001b[39m\u001b[38;5;124mtraining\u001b[39m\u001b[38;5;124m\"\u001b[39m)\n\u001b[1;32m      2\u001b[0m plt\u001b[38;5;241m.\u001b[39mplot(history\u001b[38;5;241m.\u001b[39mhistory[\u001b[38;5;124m'\u001b[39m\u001b[38;5;124mval_loss\u001b[39m\u001b[38;5;124m'\u001b[39m], label\u001b[38;5;241m=\u001b[39m\u001b[38;5;124m\"\u001b[39m\u001b[38;5;124mvalidation\u001b[39m\u001b[38;5;124m\"\u001b[39m)\n\u001b[1;32m      3\u001b[0m \u001b[38;5;66;03m#plt.yscale('log')\u001b[39;00m\n",
      "\u001b[0;31mNameError\u001b[0m: name 'plt' is not defined"
     ]
    }
   ],
   "source": [
    "plt.plot(history.history['loss'], label=\"training\")\n",
    "plt.plot(history.history['val_loss'], label=\"validation\")\n",
    "#plt.yscale('log')\n",
    "plt.xlabel(\"epoch\")\n",
    "plt.ylabel(\"1-Fidelity\")\n",
    "plt.legend()"
   ]
  },
  {
   "cell_type": "code",
   "execution_count": 85,
   "id": "be996517-fc8e-4023-b19a-33d985748c99",
   "metadata": {},
   "outputs": [
    {
     "name": "stdout",
     "output_type": "stream",
     "text": [
      "0.9697734\n",
      "0.96552896\n"
     ]
    },
    {
     "data": {
      "text/plain": [
       "<matplotlib.legend.Legend at 0x7f4069a5bdf0>"
      ]
     },
     "execution_count": 85,
     "metadata": {},
     "output_type": "execute_result"
    },
    {
     "data": {
      "image/png": "[encoded data removed]",
      "text/plain": [
       "<Figure size 432x288 with 1 Axes>"
      ]
     },
     "metadata": {
      "needs_background": "light"
     },
     "output_type": "display_data"
    }
   ],
   "source": [
    "pred_photon = model.predict(x_test_tf)\n",
    "print(np.median(pred_photon))\n",
    "pred_electron = model.predict(x_test_tf_electrons)\n",
    "print(np.median(pred_electron))\n",
    "bins = np.histogram(np.hstack((pred_photon.reshape((pred_photon.shape[0],)), pred_electron.reshape((pred_electron.shape[0],)))), bins=10)[1]\n",
    "plt.hist(pred_photon, histtype='step', label=\"photons\",bins=bins)\n",
    "plt.hist(pred_electron, histtype='step', label=\"electron\",bins=bins)\n",
    "plt.xlabel(\"Reconstruction Fidelity\")\n",
    "plt.legend()"
   ]
  },
  {
   "cell_type": "code",
   "execution_count": 86,
   "id": "b675eb11-6caf-407b-adcf-b1c961377340",
   "metadata": {},
   "outputs": [
    {
     "data": {
      "text/plain": [
       "[<matplotlib.lines.Line2D at 0x7f4068d70d90>]"
      ]
     },
     "execution_count": 86,
     "metadata": {},
     "output_type": "execute_result"
    },
    {
     "data": {
      "image/png": "[encoded data removed]",
      "text/plain": [
       "<Figure size 432x288 with 1 Axes>"
      ]
     },
     "metadata": {
      "needs_background": "light"
     },
     "output_type": "display_data"
    }
   ],
   "source": [
    "def acc_for_threshold(T):\n",
    "    # sixes that are predicted six\n",
    "    num_six_right = np.sum(pred_photon > T)\n",
    "    # threes that are predicted three\n",
    "    num_three_right = np.sum(pred_electron < T)\n",
    "    acc = (num_six_right + num_three_right)/(len(pred_photon) + len(pred_electron))\n",
    "    return acc\n",
    "\n",
    "Ts = np.linspace(0,1,100)\n",
    "accs = []\n",
    "for i in Ts:\n",
    "    accs.append(acc_for_threshold(i))\n",
    "plt.plot(Ts, accs)  "
   ]
  },
  {
   "cell_type": "code",
   "execution_count": null,
   "id": "7ae9e61d-0d4b-4e61-ad74-d4066d62e269",
   "metadata": {},
   "outputs": [],
   "source": []
  }
 ],
 "metadata": {
  "kernelspec": {
   "display_name": "tfq",
   "language": "python",
   "name": "tfq"
  },
  "language_info": {
   "codemirror_mode": {
    "name": "ipython",
    "version": 3
   },
   "file_extension": ".py",
   "mimetype": "text/x-python",
   "name": "python",
   "nbconvert_exporter": "python",
   "pygments_lexer": "ipython3",
   "version": "3.9.12"
  }
 },
 "nbformat": 4,
 "nbformat_minor": 5
}
