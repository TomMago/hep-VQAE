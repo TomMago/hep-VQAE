{
 "cells": [
  {
   "cell_type": "markdown",
   "id": "9080d094-8323-45f5-a578-aeed60dc8ab0",
   "metadata": {
    "tags": []
   },
   "source": [
    "# Convolutional AE on MNIST"
   ]
  },
  {
   "cell_type": "code",
   "execution_count": 1,
   "id": "5b53f85c-d0fb-489d-b816-6ed710eeda35",
   "metadata": {},
   "outputs": [
    {
     "name": "stderr",
     "output_type": "stream",
     "text": [
      "2022-07-27 20:02:27.889356: W tensorflow/stream_executor/platform/default/dso_loader.cc:64] Could not load dynamic library 'libcudart.so.11.0'; dlerror: libcudart.so.11.0: cannot open shared object file: No such file or directory\n",
      "2022-07-27 20:02:27.889384: I tensorflow/stream_executor/cuda/cudart_stub.cc:29] Ignore above cudart dlerror if you do not have a GPU set up on your machine.\n",
      "/home/tom/.conda/envs/tfq/lib/python3.9/site-packages/cirq/ops/gateset.py:376: UserWarning: v0.14.1 is the last release `cirq.GlobalPhaseGate` is included by default. If you were relying on this behavior, you can include a `cirq.GlobalPhaseGate` in your `*gates`. If not, then you can ignore this warning. It will be removed in v0.16\n",
      "  warnings.warn(\n",
      "2022-07-27 20:02:31.593064: W tensorflow/stream_executor/platform/default/dso_loader.cc:64] Could not load dynamic library 'libcuda.so.1'; dlerror: libcuda.so.1: cannot open shared object file: No such file or directory\n",
      "2022-07-27 20:02:31.593147: W tensorflow/stream_executor/cuda/cuda_driver.cc:269] failed call to cuInit: UNKNOWN ERROR (303)\n",
      "2022-07-27 20:02:31.593213: I tensorflow/stream_executor/cuda/cuda_diagnostics.cc:156] kernel driver does not appear to be running on this host (tomskopfbahnhof): /proc/driver/nvidia/version does not exist\n",
      "2022-07-27 20:02:31.593802: I tensorflow/core/platform/cpu_feature_guard.cc:151] This TensorFlow binary is optimized with oneAPI Deep Neural Network Library (oneDNN) to use the following CPU instructions in performance-critical operations:  AVX2 FMA\n",
      "To enable them in other operations, rebuild TensorFlow with the appropriate compiler flags.\n"
     ]
    }
   ],
   "source": [
    "import numpy as np\n",
    "import matplotlib.pyplot as plt\n",
    "from cirq.contrib.svg import SVGCircuit\n",
    "import tensorflow as tf\n",
    "import tensorflow_quantum as tfq\n",
    "from hep_VQAE import data_preprocessing as dp\n",
    "from hep_VQAE import CAE as cae\n",
    "from tensorflow.keras import layers, losses\n",
    "import matplotlib.pyplot as plt\n",
    "from hep_VQAE import utils as ut\n",
    "\n",
    "plt.rcParams['figure.figsize'] = [10, 5]\n",
    "import warnings\n",
    "warnings.filterwarnings('ignore')"
   ]
  },
  {
   "cell_type": "code",
   "execution_count": 2,
   "id": "d79ad71b-abd8-4e82-8d07-5a10d2839544",
   "metadata": {},
   "outputs": [],
   "source": [
    "(x_train, y_train), (x_test, y_test) = tf.keras.datasets.mnist.load_data()\n",
    "\n",
    "# Rescale the images from [0,255] to the [0.0,1.0] range.\n",
    "x_train, x_test = x_train/255.0, x_test/255.0"
   ]
  },
  {
   "cell_type": "code",
   "execution_count": 3,
   "id": "c47e97c2-59b6-49b4-b328-6ebe327f7f37",
   "metadata": {},
   "outputs": [
    {
     "name": "stdout",
     "output_type": "stream",
     "text": [
      "Number of filtered training examples: 12049\n",
      "Number of filtered test examples: 1968\n"
     ]
    }
   ],
   "source": [
    "def filter_36(x, y):\n",
    "    keep = (y == 3) | (y == 6)\n",
    "    x, y = x[keep], y[keep]\n",
    "    y = y == 3\n",
    "    return x,y\n",
    "\n",
    "x_train, y_train = filter_36(x_train, y_train)\n",
    "x_test, y_test = filter_36(x_test, y_test)\n",
    "\n",
    "print(\"Number of filtered training examples:\", len(x_train))\n",
    "print(\"Number of filtered test examples:\", len(x_test))"
   ]
  },
  {
   "cell_type": "code",
   "execution_count": 4,
   "id": "919360ef-b0b0-4b76-a530-cfa51226037b",
   "metadata": {},
   "outputs": [],
   "source": [
    "num_data, input_dim_x, input_dim_y = x_train.shape\n",
    "input_dim = input_dim_x, input_dim_y"
   ]
  },
  {
   "cell_type": "code",
   "execution_count": 5,
   "id": "7a864ba2-5d9f-411d-87c8-928a16d52029",
   "metadata": {},
   "outputs": [],
   "source": [
    "ae = cae.Convolutional_Autoencoder1(input_dim, 29)"
   ]
  },
  {
   "cell_type": "code",
   "execution_count": 6,
   "id": "8c8cc30f-18d9-4c7e-b5b3-81e36571e26d",
   "metadata": {},
   "outputs": [],
   "source": [
    "ae.compile(loss='binary_crossentropy', optimizer=tf.keras.optimizers.Adam(lr=0.001))"
   ]
  },
  {
   "cell_type": "code",
   "execution_count": 7,
   "id": "0c942f87-bc7b-4864-8fdb-46079e3f945a",
   "metadata": {},
   "outputs": [
    {
     "name": "stdout",
     "output_type": "stream",
     "text": [
      "Model: \"convolutional__autoencoder1\"\n",
      "_________________________________________________________________\n",
      " Layer (type)                Output Shape              Param #   \n",
      "=================================================================\n",
      " sequential (Sequential)     (None, 29)                27709     \n",
      "                                                                 \n",
      " sequential_1 (Sequential)   (12049, 28, 28, 1)        38801     \n",
      "                                                                 \n",
      "=================================================================\n",
      "Total params: 66,510\n",
      "Trainable params: 66,510\n",
      "Non-trainable params: 0\n",
      "_________________________________________________________________\n"
     ]
    }
   ],
   "source": [
    "ae.build(x_train.shape)\n",
    "ae.summary()"
   ]
  },
  {
   "cell_type": "markdown",
   "id": "a24c2121-34d9-40a8-bbb0-f5bd025403ee",
   "metadata": {},
   "source": [
    "Summary of encoder and decoder model"
   ]
  },
  {
   "cell_type": "code",
   "execution_count": 8,
   "id": "828d40ea-501a-4565-b410-a193e8838cac",
   "metadata": {},
   "outputs": [
    {
     "name": "stdout",
     "output_type": "stream",
     "text": [
      "Model: \"sequential\"\n",
      "_________________________________________________________________\n",
      " Layer (type)                Output Shape              Param #   \n",
      "=================================================================\n",
      " conv2d (Conv2D)             (None, 14, 14, 32)        320       \n",
      "                                                                 \n",
      " conv2d_1 (Conv2D)           (None, 7, 7, 16)          4624      \n",
      "                                                                 \n",
      " flatten (Flatten)           (None, 784)               0         \n",
      "                                                                 \n",
      " dense (Dense)               (None, 29)                22765     \n",
      "                                                                 \n",
      "=================================================================\n",
      "Total params: 27,709\n",
      "Trainable params: 27,709\n",
      "Non-trainable params: 0\n",
      "_________________________________________________________________\n"
     ]
    }
   ],
   "source": [
    "ae.encoder.summary()"
   ]
  },
  {
   "cell_type": "code",
   "execution_count": 9,
   "id": "bd986306-3470-4437-b322-9f94a8720f7b",
   "metadata": {},
   "outputs": [
    {
     "name": "stdout",
     "output_type": "stream",
     "text": [
      "Model: \"sequential_1\"\n",
      "_________________________________________________________________\n",
      " Layer (type)                Output Shape              Param #   \n",
      "=================================================================\n",
      " dense_1 (Dense)             (12049, 784)              23520     \n",
      "                                                                 \n",
      " reshape (Reshape)           (12049, 7, 7, 16)         0         \n",
      "                                                                 \n",
      " conv2d_transpose (Conv2DTra  (12049, 14, 14, 16)      2320      \n",
      " nspose)                                                         \n",
      "                                                                 \n",
      " conv2d_transpose_1 (Conv2DT  (12049, 28, 28, 32)      12832     \n",
      " ranspose)                                                       \n",
      "                                                                 \n",
      " conv2d_2 (Conv2D)           (12049, 28, 28, 1)        129       \n",
      "                                                                 \n",
      "=================================================================\n",
      "Total params: 38,801\n",
      "Trainable params: 38,801\n",
      "Non-trainable params: 0\n",
      "_________________________________________________________________\n"
     ]
    }
   ],
   "source": [
    "ae.decoder.summary()"
   ]
  },
  {
   "cell_type": "code",
   "execution_count": 10,
   "id": "6fef58a4-801b-4c2d-a91e-0221b46335b4",
   "metadata": {},
   "outputs": [],
   "source": [
    "x_train_three = x_train[y_train==1]\n",
    "x_train = x_train[y_train==0]\n",
    "\n",
    "x_test_three = x_test[y_test==1]\n",
    "x_test = x_test[y_test==0]"
   ]
  },
  {
   "cell_type": "code",
   "execution_count": 11,
   "id": "21a5d9f4-10d9-4b4a-b322-c47b6e9a0a9b",
   "metadata": {},
   "outputs": [
    {
     "name": "stdout",
     "output_type": "stream",
     "text": [
      "Epoch 1/25\n",
      "185/185 [==============================] - 18s 72ms/step - loss: 0.2896 - val_loss: 0.2402\n",
      "Epoch 2/25\n",
      "185/185 [==============================] - 9s 50ms/step - loss: 0.2299 - val_loss: 0.2318\n",
      "Epoch 3/25\n",
      "185/185 [==============================] - 7s 36ms/step - loss: 0.2187 - val_loss: 0.2169\n",
      "Epoch 4/25\n",
      "185/185 [==============================] - 7s 38ms/step - loss: 0.2055 - val_loss: 0.2022\n",
      "Epoch 5/25\n",
      "185/185 [==============================] - 5s 29ms/step - loss: 0.1584 - val_loss: 0.1361\n",
      "Epoch 6/25\n",
      "185/185 [==============================] - 6s 31ms/step - loss: 0.1244 - val_loss: 0.1193\n",
      "Epoch 7/25\n",
      "185/185 [==============================] - 6s 30ms/step - loss: 0.1106 - val_loss: 0.1077\n",
      "Epoch 8/25\n",
      "185/185 [==============================] - 5s 27ms/step - loss: 0.1029 - val_loss: 0.1015\n",
      "Epoch 9/25\n",
      "185/185 [==============================] - 5s 28ms/step - loss: 0.0979 - val_loss: 0.0984\n",
      "Epoch 10/25\n",
      "185/185 [==============================] - 7s 40ms/step - loss: 0.0942 - val_loss: 0.0944\n",
      "Epoch 11/25\n",
      "185/185 [==============================] - 12s 63ms/step - loss: 0.0916 - val_loss: 0.0922\n",
      "Epoch 12/25\n",
      "185/185 [==============================] - 11s 60ms/step - loss: 0.0896 - val_loss: 0.0906\n",
      "Epoch 13/25\n",
      "185/185 [==============================] - 6s 35ms/step - loss: 0.0881 - val_loss: 0.0892\n",
      "Epoch 14/25\n",
      "185/185 [==============================] - 7s 40ms/step - loss: 0.0869 - val_loss: 0.0885\n",
      "Epoch 15/25\n",
      "185/185 [==============================] - 6s 32ms/step - loss: 0.0858 - val_loss: 0.0871\n",
      "Epoch 16/25\n",
      "185/185 [==============================] - 6s 31ms/step - loss: 0.0849 - val_loss: 0.0864\n",
      "Epoch 17/25\n",
      "185/185 [==============================] - 5s 29ms/step - loss: 0.0845 - val_loss: 0.0860\n",
      "Epoch 18/25\n",
      "185/185 [==============================] - 6s 30ms/step - loss: 0.0836 - val_loss: 0.0852\n",
      "Epoch 19/25\n",
      "185/185 [==============================] - 5s 30ms/step - loss: 0.0831 - val_loss: 0.0847\n",
      "Epoch 20/25\n",
      "185/185 [==============================] - 6s 31ms/step - loss: 0.0826 - val_loss: 0.0844\n",
      "Epoch 21/25\n",
      "185/185 [==============================] - 8s 46ms/step - loss: 0.0821 - val_loss: 0.0838\n",
      "Epoch 22/25\n",
      "185/185 [==============================] - 12s 66ms/step - loss: 0.0817 - val_loss: 0.0835\n",
      "Epoch 23/25\n",
      "185/185 [==============================] - 11s 57ms/step - loss: 0.0814 - val_loss: 0.0832\n",
      "Epoch 24/25\n",
      "185/185 [==============================] - 7s 35ms/step - loss: 0.0811 - val_loss: 0.0835\n"
     ]
    }
   ],
   "source": [
    "es = tf.keras.callbacks.EarlyStopping(monitor='val_loss', patience=1)\n",
    "hist = ae.fit(x_train, x_train,\n",
    "                epochs=25,\n",
    "                shuffle=True,\n",
    "                validation_data=(x_test, x_test),\n",
    "                callbacks=[es])"
   ]
  },
  {
   "cell_type": "code",
   "execution_count": 12,
   "id": "94f9f216-8a33-467b-b063-76c2d7c7098f",
   "metadata": {},
   "outputs": [
    {
     "data": {
      "text/plain": [
       "<matplotlib.legend.Legend at 0x7f24f8692b50>"
      ]
     },
     "execution_count": 12,
     "metadata": {},
     "output_type": "execute_result"
    },
    {
     "data": {
      "image/png": "[encoded data removed]",
      "text/plain": [
       "<Figure size 432x288 with 1 Axes>"
      ]
     },
     "metadata": {
      "needs_background": "light"
     },
     "output_type": "display_data"
    }
   ],
   "source": [
    "plt.plot(hist.history['loss'], label=\"training\")\n",
    "plt.plot(hist.history['val_loss'], label=\"validation\")\n",
    "plt.yscale('log')\n",
    "plt.legend()"
   ]
  },
  {
   "cell_type": "code",
   "execution_count": 13,
   "id": "84544506-1f25-4870-bdbe-817b11a5dc82",
   "metadata": {},
   "outputs": [
    {
     "name": "stdout",
     "output_type": "stream",
     "text": [
      "Collapse_metric: 0.943\n",
      "Average EMD: 50.2\n",
      "ssim: 0.921\n",
      "MAE: 0.0267\n",
      "normalized MAE: 0.000256\n"
     ]
    },
    {
     "data": {
      "image/png": "[encoded data removed]",
      "text/plain": [
       "<Figure size 720x360 with 12 Axes>"
      ]
     },
     "metadata": {
      "needs_background": "light"
     },
     "output_type": "display_data"
    }
   ],
   "source": [
    "recon = ae.predict(x_test[:500])\n",
    "\n",
    "ut.eval_recon(x_test[:500], recon)"
   ]
  },
  {
   "cell_type": "code",
   "execution_count": 14,
   "id": "714e515b-08e8-43bb-a0b0-7fc07d6cdeaf",
   "metadata": {},
   "outputs": [
    {
     "name": "stdout",
     "output_type": "stream",
     "text": [
      "Median background: 0.0809\n",
      "Median signal: 0.184\n",
      "Maximum accuracy: 0.948\n",
      "AUC: 0.98\n"
     ]
    },
    {
     "data": {
      "image/png": "[encoded data removed]",
      "text/plain": [
       "<Figure size 792x288 with 3 Axes>"
      ]
     },
     "metadata": {
      "needs_background": "light"
     },
     "output_type": "display_data"
    }
   ],
   "source": [
    "recon_six = ae.predict(x_test[:200])\n",
    "recon_three = ae.predict(x_test_three[:200])\n",
    "\n",
    "ut.eval_tagging(x_test[:200], recon_six, x_test_three[:200], recon_three)"
   ]
  },
  {
   "cell_type": "code",
   "execution_count": 15,
   "id": "e5d1a867-2fa7-4ccd-bd16-5a83e1c15830",
   "metadata": {},
   "outputs": [
    {
     "name": "stdout",
     "output_type": "stream",
     "text": [
      "[1 2 3 4] [11 22 33 44]\n",
      "[5 6 7 8] [55 66 77 88]\n"
     ]
    }
   ],
   "source": [
    "x = np.array([[1,2,3,4],[5,6,7,8]])\n",
    "y = np.array([[11,22,33,44],[55,66,77,88]])\n",
    "\n",
    "for a,b in zip(x,y):\n",
    "    print(a,b)"
   ]
  }
 ],
 "metadata": {
  "kernelspec": {
   "display_name": "tfq",
   "language": "python",
   "name": "tfq"
  },
  "language_info": {
   "codemirror_mode": {
    "name": "ipython",
    "version": 3
   },
   "file_extension": ".py",
   "mimetype": "text/x-python",
   "name": "python",
   "nbconvert_exporter": "python",
   "pygments_lexer": "ipython3",
   "version": "3.9.12"
  }
 },
 "nbformat": 4,
 "nbformat_minor": 5
}
