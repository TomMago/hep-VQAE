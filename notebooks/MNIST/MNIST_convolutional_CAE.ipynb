{
 "cells": [
  {
   "cell_type": "markdown",
   "id": "9080d094-8323-45f5-a578-aeed60dc8ab0",
   "metadata": {
    "tags": []
   },
   "source": [
    "# Convolutional AE on MNIST"
   ]
  },
  {
   "cell_type": "code",
   "execution_count": 1,
   "id": "5b53f85c-d0fb-489d-b816-6ed710eeda35",
   "metadata": {},
   "outputs": [
    {
     "name": "stderr",
     "output_type": "stream",
     "text": [
      "2022-07-20 15:57:20.618057: W tensorflow/stream_executor/platform/default/dso_loader.cc:64] Could not load dynamic library 'libcudart.so.11.0'; dlerror: libcudart.so.11.0: cannot open shared object file: No such file or directory\n",
      "2022-07-20 15:57:20.618076: I tensorflow/stream_executor/cuda/cudart_stub.cc:29] Ignore above cudart dlerror if you do not have a GPU set up on your machine.\n",
      "/home/tom/.conda/envs/tfq/lib/python3.9/site-packages/cirq/ops/gateset.py:376: UserWarning: v0.14.1 is the last release `cirq.GlobalPhaseGate` is included by default. If you were relying on this behavior, you can include a `cirq.GlobalPhaseGate` in your `*gates`. If not, then you can ignore this warning. It will be removed in v0.16\n",
      "  warnings.warn(\n",
      "2022-07-20 15:57:21.946649: W tensorflow/stream_executor/platform/default/dso_loader.cc:64] Could not load dynamic library 'libcuda.so.1'; dlerror: libcuda.so.1: cannot open shared object file: No such file or directory\n",
      "2022-07-20 15:57:21.946672: W tensorflow/stream_executor/cuda/cuda_driver.cc:269] failed call to cuInit: UNKNOWN ERROR (303)\n",
      "2022-07-20 15:57:21.946687: I tensorflow/stream_executor/cuda/cuda_diagnostics.cc:156] kernel driver does not appear to be running on this host (tomskopfbahnhof): /proc/driver/nvidia/version does not exist\n",
      "2022-07-20 15:57:21.946891: I tensorflow/core/platform/cpu_feature_guard.cc:151] This TensorFlow binary is optimized with oneAPI Deep Neural Network Library (oneDNN) to use the following CPU instructions in performance-critical operations:  AVX2 FMA\n",
      "To enable them in other operations, rebuild TensorFlow with the appropriate compiler flags.\n"
     ]
    }
   ],
   "source": [
    "import numpy as np\n",
    "import matplotlib.pyplot as plt\n",
    "from cirq.contrib.svg import SVGCircuit\n",
    "import tensorflow as tf\n",
    "import tensorflow_quantum as tfq\n",
    "from hep_VQAE import data_preprocessing as dp\n",
    "from hep_VQAE import CAE as cae\n",
    "from tensorflow.keras import layers, losses\n",
    "import matplotlib.pyplot as plt\n",
    "from hep_VQAE import utils as ut\n",
    "\n",
    "plt.rcParams['figure.figsize'] = [10, 5]\n",
    "import warnings\n",
    "warnings.filterwarnings('ignore')"
   ]
  },
  {
   "cell_type": "code",
   "execution_count": 2,
   "id": "d79ad71b-abd8-4e82-8d07-5a10d2839544",
   "metadata": {},
   "outputs": [],
   "source": [
    "(x_train, y_train), (x_test, y_test) = tf.keras.datasets.mnist.load_data()\n",
    "\n",
    "# Rescale the images from [0,255] to the [0.0,1.0] range.\n",
    "x_train, x_test = x_train/255.0, x_test/255.0"
   ]
  },
  {
   "cell_type": "code",
   "execution_count": 3,
   "id": "c47e97c2-59b6-49b4-b328-6ebe327f7f37",
   "metadata": {},
   "outputs": [
    {
     "name": "stdout",
     "output_type": "stream",
     "text": [
      "Number of filtered training examples: 12049\n",
      "Number of filtered test examples: 1968\n"
     ]
    }
   ],
   "source": [
    "def filter_36(x, y):\n",
    "    keep = (y == 3) | (y == 6)\n",
    "    x, y = x[keep], y[keep]\n",
    "    y = y == 3\n",
    "    return x,y\n",
    "\n",
    "x_train, y_train = filter_36(x_train, y_train)\n",
    "x_test, y_test = filter_36(x_test, y_test)\n",
    "\n",
    "print(\"Number of filtered training examples:\", len(x_train))\n",
    "print(\"Number of filtered test examples:\", len(x_test))"
   ]
  },
  {
   "cell_type": "code",
   "execution_count": 4,
   "id": "919360ef-b0b0-4b76-a530-cfa51226037b",
   "metadata": {},
   "outputs": [],
   "source": [
    "num_data, input_dim_x, input_dim_y = x_train.shape\n",
    "input_dim = input_dim_x, input_dim_y"
   ]
  },
  {
   "cell_type": "code",
   "execution_count": 5,
   "id": "7a864ba2-5d9f-411d-87c8-928a16d52029",
   "metadata": {},
   "outputs": [],
   "source": [
    "ae = cae.Convolutional_Autoencoder1(input_dim, 30)"
   ]
  },
  {
   "cell_type": "code",
   "execution_count": 6,
   "id": "8c8cc30f-18d9-4c7e-b5b3-81e36571e26d",
   "metadata": {},
   "outputs": [],
   "source": [
    "ae.compile(loss='binary_crossentropy', optimizer=tf.keras.optimizers.Adam(lr=0.0005))"
   ]
  },
  {
   "cell_type": "code",
   "execution_count": 7,
   "id": "0c942f87-bc7b-4864-8fdb-46079e3f945a",
   "metadata": {},
   "outputs": [
    {
     "name": "stdout",
     "output_type": "stream",
     "text": [
      "Model: \"convolutional__autoencoder1\"\n",
      "_________________________________________________________________\n",
      " Layer (type)                Output Shape              Param #   \n",
      "=================================================================\n",
      " sequential (Sequential)     (None, 30)                28494     \n",
      "                                                                 \n",
      " sequential_1 (Sequential)   (12049, 28, 28, 1)        39585     \n",
      "                                                                 \n",
      "=================================================================\n",
      "Total params: 68,079\n",
      "Trainable params: 68,079\n",
      "Non-trainable params: 0\n",
      "_________________________________________________________________\n"
     ]
    }
   ],
   "source": [
    "ae.build(x_train.shape)\n",
    "ae.summary()"
   ]
  },
  {
   "cell_type": "markdown",
   "id": "a24c2121-34d9-40a8-bbb0-f5bd025403ee",
   "metadata": {},
   "source": [
    "Summary of encoder and decoder model"
   ]
  },
  {
   "cell_type": "code",
   "execution_count": 8,
   "id": "828d40ea-501a-4565-b410-a193e8838cac",
   "metadata": {},
   "outputs": [
    {
     "name": "stdout",
     "output_type": "stream",
     "text": [
      "Model: \"sequential\"\n",
      "_________________________________________________________________\n",
      " Layer (type)                Output Shape              Param #   \n",
      "=================================================================\n",
      " conv2d (Conv2D)             (None, 14, 14, 32)        320       \n",
      "                                                                 \n",
      " conv2d_1 (Conv2D)           (None, 7, 7, 16)          4624      \n",
      "                                                                 \n",
      " flatten (Flatten)           (None, 784)               0         \n",
      "                                                                 \n",
      " dense (Dense)               (None, 30)                23550     \n",
      "                                                                 \n",
      "=================================================================\n",
      "Total params: 28,494\n",
      "Trainable params: 28,494\n",
      "Non-trainable params: 0\n",
      "_________________________________________________________________\n"
     ]
    }
   ],
   "source": [
    "ae.encoder.summary()"
   ]
  },
  {
   "cell_type": "code",
   "execution_count": 9,
   "id": "bd986306-3470-4437-b322-9f94a8720f7b",
   "metadata": {},
   "outputs": [
    {
     "name": "stdout",
     "output_type": "stream",
     "text": [
      "Model: \"sequential_1\"\n",
      "_________________________________________________________________\n",
      " Layer (type)                Output Shape              Param #   \n",
      "=================================================================\n",
      " dense_1 (Dense)             (12049, 784)              24304     \n",
      "                                                                 \n",
      " reshape (Reshape)           (12049, 7, 7, 16)         0         \n",
      "                                                                 \n",
      " conv2d_transpose (Conv2DTra  (12049, 14, 14, 16)      2320      \n",
      " nspose)                                                         \n",
      "                                                                 \n",
      " conv2d_transpose_1 (Conv2DT  (12049, 28, 28, 32)      12832     \n",
      " ranspose)                                                       \n",
      "                                                                 \n",
      " conv2d_2 (Conv2D)           (12049, 28, 28, 1)        129       \n",
      "                                                                 \n",
      "=================================================================\n",
      "Total params: 39,585\n",
      "Trainable params: 39,585\n",
      "Non-trainable params: 0\n",
      "_________________________________________________________________\n"
     ]
    }
   ],
   "source": [
    "ae.decoder.summary()"
   ]
  },
  {
   "cell_type": "code",
   "execution_count": 10,
   "id": "6fef58a4-801b-4c2d-a91e-0221b46335b4",
   "metadata": {},
   "outputs": [],
   "source": [
    "x_train_three = x_train[y_train==1]\n",
    "x_train = x_train[y_train==0]\n",
    "\n",
    "x_test_three = x_test[y_test==1]\n",
    "x_test = x_test[y_test==0]"
   ]
  },
  {
   "cell_type": "code",
   "execution_count": 11,
   "id": "21a5d9f4-10d9-4b4a-b322-c47b6e9a0a9b",
   "metadata": {},
   "outputs": [
    {
     "name": "stdout",
     "output_type": "stream",
     "text": [
      "Epoch 1/25\n",
      "185/185 [==============================] - 5s 23ms/step - loss: 0.3185 - val_loss: 0.2433\n",
      "Epoch 2/25\n",
      "185/185 [==============================] - 4s 22ms/step - loss: 0.2328 - val_loss: 0.2348\n",
      "Epoch 3/25\n",
      "185/185 [==============================] - 4s 23ms/step - loss: 0.2253 - val_loss: 0.2265\n",
      "Epoch 4/25\n",
      "185/185 [==============================] - 5s 25ms/step - loss: 0.2155 - val_loss: 0.2143\n",
      "Epoch 5/25\n",
      "185/185 [==============================] - 5s 25ms/step - loss: 0.2054 - val_loss: 0.2060\n",
      "Epoch 6/25\n",
      "185/185 [==============================] - 4s 24ms/step - loss: 0.1967 - val_loss: 0.1936\n",
      "Epoch 7/25\n",
      "185/185 [==============================] - 4s 21ms/step - loss: 0.1764 - val_loss: 0.1676\n",
      "Epoch 8/25\n",
      "185/185 [==============================] - 4s 23ms/step - loss: 0.1577 - val_loss: 0.1529\n",
      "Epoch 9/25\n",
      "185/185 [==============================] - 5s 26ms/step - loss: 0.1449 - val_loss: 0.1403\n",
      "Epoch 10/25\n",
      "185/185 [==============================] - 5s 26ms/step - loss: 0.1340 - val_loss: 0.1312\n",
      "Epoch 11/25\n",
      "185/185 [==============================] - 5s 28ms/step - loss: 0.1267 - val_loss: 0.1258\n",
      "Epoch 12/25\n",
      "185/185 [==============================] - 4s 23ms/step - loss: 0.1212 - val_loss: 0.1208\n",
      "Epoch 13/25\n",
      "185/185 [==============================] - 4s 23ms/step - loss: 0.1173 - val_loss: 0.1175\n",
      "Epoch 14/25\n",
      "185/185 [==============================] - 5s 25ms/step - loss: 0.1137 - val_loss: 0.1142\n",
      "Epoch 15/25\n",
      "185/185 [==============================] - 5s 24ms/step - loss: 0.1108 - val_loss: 0.1108\n",
      "Epoch 16/25\n",
      "185/185 [==============================] - 4s 24ms/step - loss: 0.1085 - val_loss: 0.1088\n",
      "Epoch 17/25\n",
      "185/185 [==============================] - 5s 25ms/step - loss: 0.1065 - val_loss: 0.1068\n",
      "Epoch 18/25\n",
      "185/185 [==============================] - 4s 22ms/step - loss: 0.1050 - val_loss: 0.1059\n",
      "Epoch 19/25\n",
      "185/185 [==============================] - 4s 21ms/step - loss: 0.1037 - val_loss: 0.1042\n",
      "Epoch 20/25\n",
      "185/185 [==============================] - 4s 22ms/step - loss: 0.1024 - val_loss: 0.1035\n",
      "Epoch 21/25\n",
      "185/185 [==============================] - 4s 21ms/step - loss: 0.1015 - val_loss: 0.1026\n",
      "Epoch 22/25\n",
      "185/185 [==============================] - 4s 21ms/step - loss: 0.1001 - val_loss: 0.1003\n",
      "Epoch 23/25\n",
      "185/185 [==============================] - 4s 23ms/step - loss: 0.0977 - val_loss: 0.0988\n",
      "Epoch 24/25\n",
      "185/185 [==============================] - 4s 23ms/step - loss: 0.0961 - val_loss: 0.0976\n",
      "Epoch 25/25\n",
      "185/185 [==============================] - 4s 22ms/step - loss: 0.0950 - val_loss: 0.0963\n"
     ]
    }
   ],
   "source": [
    "es = tf.keras.callbacks.EarlyStopping(monitor='val_loss', patience=5)\n",
    "hist = ae.fit(x_train, x_train,\n",
    "                epochs=25,\n",
    "                shuffle=True,\n",
    "                validation_data=(x_test, x_test),\n",
    "                callbacks=[es])"
   ]
  },
  {
   "cell_type": "code",
   "execution_count": 12,
   "id": "94f9f216-8a33-467b-b063-76c2d7c7098f",
   "metadata": {},
   "outputs": [
    {
     "data": {
      "text/plain": [
       "<matplotlib.legend.Legend at 0x7f05f9d9fbb0>"
      ]
     },
     "execution_count": 12,
     "metadata": {},
     "output_type": "execute_result"
    },
    {
     "data": {
      "image/png": "[encoded data removed]",
      "text/plain": [
       "<Figure size 432x288 with 1 Axes>"
      ]
     },
     "metadata": {
      "needs_background": "light"
     },
     "output_type": "display_data"
    }
   ],
   "source": [
    "plt.plot(hist.history['loss'], label=\"training\")\n",
    "plt.plot(hist.history['val_loss'], label=\"validation\")\n",
    "plt.yscale('log')\n",
    "plt.legend()"
   ]
  },
  {
   "cell_type": "code",
   "execution_count": 13,
   "id": "84544506-1f25-4870-bdbe-817b11a5dc82",
   "metadata": {},
   "outputs": [
    {
     "name": "stdout",
     "output_type": "stream",
     "text": [
      "Collapse_metric: 0.895\n",
      "ssim: 0.863\n",
      "MAE: 0.0375\n",
      "normalized MAE: 0.00036\n"
     ]
    },
    {
     "data": {
      "image/png": "[encoded data removed]",
      "text/plain": [
       "<Figure size 720x360 with 12 Axes>"
      ]
     },
     "metadata": {
      "needs_background": "light"
     },
     "output_type": "display_data"
    }
   ],
   "source": [
    "recon = ae.predict(x_test[:500])\n",
    "\n",
    "ut.eval_recon(x_test[:500], recon)"
   ]
  },
  {
   "cell_type": "code",
   "execution_count": 14,
   "id": "714e515b-08e8-43bb-a0b0-7fc07d6cdeaf",
   "metadata": {},
   "outputs": [
    {
     "name": "stdout",
     "output_type": "stream",
     "text": [
      "Median background: 0.0955\n",
      "Median signal: 0.21\n",
      "Maximum accuracy: 0.96\n",
      "AUC: 0.991\n"
     ]
    },
    {
     "data": {
      "image/png": "[encoded data removed]",
      "text/plain": [
       "<Figure size 792x288 with 3 Axes>"
      ]
     },
     "metadata": {
      "needs_background": "light"
     },
     "output_type": "display_data"
    }
   ],
   "source": [
    "recon_six = ae.predict(x_test[:200])\n",
    "recon_three = ae.predict(x_test_three[:200])\n",
    "\n",
    "ut.eval_tagging(x_test[:200], recon_six, x_test_three[:200], recon_three)"
   ]
  },
  {
   "cell_type": "code",
   "execution_count": null,
   "id": "e5d1a867-2fa7-4ccd-bd16-5a83e1c15830",
   "metadata": {},
   "outputs": [],
   "source": []
  }
 ],
 "metadata": {
  "kernelspec": {
   "display_name": "tfq",
   "language": "python",
   "name": "tfq"
  },
  "language_info": {
   "codemirror_mode": {
    "name": "ipython",
    "version": 3
   },
   "file_extension": ".py",
   "mimetype": "text/x-python",
   "name": "python",
   "nbconvert_exporter": "python",
   "pygments_lexer": "ipython3",
   "version": "3.9.12"
  }
 },
 "nbformat": 4,
 "nbformat_minor": 5
}
