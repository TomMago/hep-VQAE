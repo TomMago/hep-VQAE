{
 "cells": [
  {
   "cell_type": "markdown",
   "id": "9080d094-8323-45f5-a578-aeed60dc8ab0",
   "metadata": {
    "tags": []
   },
   "source": [
    "# Convolutional AE on MNIST"
   ]
  },
  {
   "cell_type": "code",
   "execution_count": 1,
   "id": "5b53f85c-d0fb-489d-b816-6ed710eeda35",
   "metadata": {},
   "outputs": [
    {
     "name": "stderr",
     "output_type": "stream",
     "text": [
      "2022-06-29 18:37:54.101284: W tensorflow/stream_executor/platform/default/dso_loader.cc:64] Could not load dynamic library 'libcudart.so.11.0'; dlerror: libcudart.so.11.0: cannot open shared object file: No such file or directory\n",
      "2022-06-29 18:37:54.101315: I tensorflow/stream_executor/cuda/cudart_stub.cc:29] Ignore above cudart dlerror if you do not have a GPU set up on your machine.\n",
      "2022-06-29 18:37:55.256092: W tensorflow/stream_executor/platform/default/dso_loader.cc:64] Could not load dynamic library 'libcuda.so.1'; dlerror: libcuda.so.1: cannot open shared object file: No such file or directory\n",
      "2022-06-29 18:37:55.256115: W tensorflow/stream_executor/cuda/cuda_driver.cc:269] failed call to cuInit: UNKNOWN ERROR (303)\n",
      "2022-06-29 18:37:55.256128: I tensorflow/stream_executor/cuda/cuda_diagnostics.cc:156] kernel driver does not appear to be running on this host (tomskopfbahnhof): /proc/driver/nvidia/version does not exist\n",
      "2022-06-29 18:37:55.256320: I tensorflow/core/platform/cpu_feature_guard.cc:151] This TensorFlow binary is optimized with oneAPI Deep Neural Network Library (oneDNN) to use the following CPU instructions in performance-critical operations:  AVX2 FMA\n",
      "To enable them in other operations, rebuild TensorFlow with the appropriate compiler flags.\n"
     ]
    }
   ],
   "source": [
    "import numpy as np\n",
    "import matplotlib.pyplot as plt\n",
    "from cirq.contrib.svg import SVGCircuit\n",
    "import tensorflow as tf\n",
    "import tensorflow_quantum as tfq\n",
    "from hep_VQAE import data_preprocessing as dp\n",
    "from hep_VQAE import CAE as cae\n",
    "from tensorflow.keras import layers, losses\n",
    "\n",
    "import warnings\n",
    "warnings.filterwarnings('ignore')"
   ]
  },
  {
   "cell_type": "code",
   "execution_count": 2,
   "id": "d79ad71b-abd8-4e82-8d07-5a10d2839544",
   "metadata": {},
   "outputs": [],
   "source": [
    "(x_train, y_train), (x_test, y_test) = tf.keras.datasets.mnist.load_data()\n",
    "\n",
    "# Rescale the images from [0,255] to the [0.0,1.0] range.\n",
    "x_train, x_test = x_train/255.0, x_test/255.0"
   ]
  },
  {
   "cell_type": "code",
   "execution_count": 3,
   "id": "c47e97c2-59b6-49b4-b328-6ebe327f7f37",
   "metadata": {},
   "outputs": [
    {
     "name": "stdout",
     "output_type": "stream",
     "text": [
      "Number of filtered training examples: 12049\n",
      "Number of filtered test examples: 1968\n"
     ]
    }
   ],
   "source": [
    "def filter_36(x, y):\n",
    "    keep = (y == 3) | (y == 6)\n",
    "    x, y = x[keep], y[keep]\n",
    "    y = y == 3\n",
    "    return x,y\n",
    "\n",
    "x_train, y_train = filter_36(x_train, y_train)\n",
    "x_test, y_test = filter_36(x_test, y_test)\n",
    "\n",
    "print(\"Number of filtered training examples:\", len(x_train))\n",
    "print(\"Number of filtered test examples:\", len(x_test))"
   ]
  },
  {
   "cell_type": "code",
   "execution_count": 4,
   "id": "919360ef-b0b0-4b76-a530-cfa51226037b",
   "metadata": {},
   "outputs": [
    {
     "data": {
      "text/plain": [
       "(28, 28)"
      ]
     },
     "execution_count": 4,
     "metadata": {},
     "output_type": "execute_result"
    }
   ],
   "source": [
    "num_data, input_dim_x, input_dim_y = x_train.shape\n",
    "input_dim = input_dim_x, input_dim_y\n",
    "input_dim"
   ]
  },
  {
   "cell_type": "code",
   "execution_count": 5,
   "id": "7a864ba2-5d9f-411d-87c8-928a16d52029",
   "metadata": {},
   "outputs": [],
   "source": [
    "latent_dim = 1\n",
    "ae = cae.Convolutional_Autoencoder(input_dim)"
   ]
  },
  {
   "cell_type": "code",
   "execution_count": 6,
   "id": "8c8cc30f-18d9-4c7e-b5b3-81e36571e26d",
   "metadata": {},
   "outputs": [],
   "source": [
    "ae.compile(loss='mse', optimizer=tf.keras.optimizers.Adam(lr=0.1))"
   ]
  },
  {
   "cell_type": "code",
   "execution_count": 7,
   "id": "0c942f87-bc7b-4864-8fdb-46079e3f945a",
   "metadata": {},
   "outputs": [
    {
     "name": "stdout",
     "output_type": "stream",
     "text": [
      "Model: \"convolutional__autoencoder\"\n",
      "_________________________________________________________________\n",
      " Layer (type)                Output Shape              Param #   \n",
      "=================================================================\n",
      " sequential (Sequential)     (None, 7, 7, 1)           609       \n",
      "                                                                 \n",
      " sequential_1 (Sequential)   (12049, 28, 28, 1)        2591      \n",
      "                                                                 \n",
      "=================================================================\n",
      "Total params: 3,200\n",
      "Trainable params: 3,200\n",
      "Non-trainable params: 0\n",
      "_________________________________________________________________\n"
     ]
    }
   ],
   "source": [
    "ae.build(x_train.shape)\n",
    "ae.summary()"
   ]
  },
  {
   "cell_type": "markdown",
   "id": "a24c2121-34d9-40a8-bbb0-f5bd025403ee",
   "metadata": {},
   "source": [
    "Summary of encoder and decoder model"
   ]
  },
  {
   "cell_type": "code",
   "execution_count": 8,
   "id": "828d40ea-501a-4565-b410-a193e8838cac",
   "metadata": {},
   "outputs": [
    {
     "name": "stdout",
     "output_type": "stream",
     "text": [
      "Model: \"sequential\"\n",
      "_________________________________________________________________\n",
      " Layer (type)                Output Shape              Param #   \n",
      "=================================================================\n",
      " conv2d (Conv2D)             (None, 14, 14, 32)        320       \n",
      "                                                                 \n",
      " conv2d_1 (Conv2D)           (None, 7, 7, 1)           289       \n",
      "                                                                 \n",
      "=================================================================\n",
      "Total params: 609\n",
      "Trainable params: 609\n",
      "Non-trainable params: 0\n",
      "_________________________________________________________________\n"
     ]
    }
   ],
   "source": [
    "ae.encoder.summary()"
   ]
  },
  {
   "cell_type": "code",
   "execution_count": 9,
   "id": "bd986306-3470-4437-b322-9f94a8720f7b",
   "metadata": {},
   "outputs": [
    {
     "name": "stdout",
     "output_type": "stream",
     "text": [
      "Model: \"sequential_1\"\n",
      "_________________________________________________________________\n",
      " Layer (type)                Output Shape              Param #   \n",
      "=================================================================\n",
      " conv2d_transpose (Conv2DTra  (12049, 14, 14, 3)       30        \n",
      " nspose)                                                         \n",
      "                                                                 \n",
      " conv2d_transpose_1 (Conv2DT  (12049, 28, 28, 32)      2432      \n",
      " ranspose)                                                       \n",
      "                                                                 \n",
      " conv2d_2 (Conv2D)           (12049, 28, 28, 1)        129       \n",
      "                                                                 \n",
      "=================================================================\n",
      "Total params: 2,591\n",
      "Trainable params: 2,591\n",
      "Non-trainable params: 0\n",
      "_________________________________________________________________\n"
     ]
    }
   ],
   "source": [
    "ae.decoder.summary()"
   ]
  },
  {
   "cell_type": "code",
   "execution_count": 10,
   "id": "6fef58a4-801b-4c2d-a91e-0221b46335b4",
   "metadata": {},
   "outputs": [],
   "source": [
    "x_train_three = x_train[y_train==1]\n",
    "x_train = x_train[y_train==0]\n",
    "\n",
    "x_test_three = x_test[y_test==1]\n",
    "x_test = x_test[y_test==0]"
   ]
  },
  {
   "cell_type": "code",
   "execution_count": 11,
   "id": "21a5d9f4-10d9-4b4a-b322-c47b6e9a0a9b",
   "metadata": {},
   "outputs": [
    {
     "name": "stdout",
     "output_type": "stream",
     "text": [
      "Epoch 1/40\n",
      "185/185 [==============================] - 4s 21ms/step - loss: 0.0389 - val_loss: 0.0192\n",
      "Epoch 2/40\n",
      "185/185 [==============================] - 3s 19ms/step - loss: 0.0182 - val_loss: 0.0170\n",
      "Epoch 3/40\n",
      "185/185 [==============================] - 4s 20ms/step - loss: 0.0174 - val_loss: 0.0167\n",
      "Epoch 4/40\n",
      "185/185 [==============================] - 4s 23ms/step - loss: 0.0165 - val_loss: 0.0170\n",
      "Epoch 5/40\n",
      "185/185 [==============================] - 3s 16ms/step - loss: 0.0161 - val_loss: 0.0161\n",
      "Epoch 6/40\n",
      "185/185 [==============================] - 4s 21ms/step - loss: 0.0160 - val_loss: 0.0159\n",
      "Epoch 7/40\n",
      "185/185 [==============================] - 4s 21ms/step - loss: 0.0160 - val_loss: 0.0155\n",
      "Epoch 8/40\n",
      "185/185 [==============================] - 4s 20ms/step - loss: 0.0155 - val_loss: 0.0149\n",
      "Epoch 9/40\n",
      "185/185 [==============================] - 4s 20ms/step - loss: 0.0154 - val_loss: 0.0173\n",
      "Epoch 10/40\n",
      "185/185 [==============================] - 4s 21ms/step - loss: 0.0151 - val_loss: 0.0151\n",
      "Epoch 11/40\n",
      "185/185 [==============================] - 4s 21ms/step - loss: 0.0151 - val_loss: 0.0150\n",
      "Epoch 12/40\n",
      "185/185 [==============================] - 4s 19ms/step - loss: 0.0148 - val_loss: 0.0146\n",
      "Epoch 13/40\n",
      "185/185 [==============================] - 4s 20ms/step - loss: 0.0146 - val_loss: 0.0142\n",
      "Epoch 14/40\n",
      "185/185 [==============================] - 4s 23ms/step - loss: 0.0146 - val_loss: 0.0161\n",
      "Epoch 15/40\n",
      "185/185 [==============================] - 4s 22ms/step - loss: 0.0147 - val_loss: 0.0146\n",
      "Epoch 16/40\n",
      "185/185 [==============================] - 4s 22ms/step - loss: 0.0145 - val_loss: 0.0144\n",
      "Epoch 17/40\n",
      "185/185 [==============================] - 4s 22ms/step - loss: 0.0143 - val_loss: 0.0143\n",
      "Epoch 18/40\n",
      "185/185 [==============================] - 4s 21ms/step - loss: 0.0144 - val_loss: 0.0141\n",
      "Epoch 19/40\n",
      "185/185 [==============================] - 4s 20ms/step - loss: 0.0147 - val_loss: 0.0143\n",
      "Epoch 20/40\n",
      "185/185 [==============================] - 3s 19ms/step - loss: 0.0145 - val_loss: 0.0150\n",
      "Epoch 21/40\n",
      "185/185 [==============================] - 3s 19ms/step - loss: 0.0145 - val_loss: 0.0142\n",
      "Epoch 22/40\n",
      "185/185 [==============================] - 4s 20ms/step - loss: 0.0144 - val_loss: 0.0145\n",
      "Epoch 23/40\n",
      "185/185 [==============================] - 4s 22ms/step - loss: 0.0145 - val_loss: 0.0138\n",
      "Epoch 24/40\n",
      "185/185 [==============================] - 4s 22ms/step - loss: 0.0143 - val_loss: 0.0139\n",
      "Epoch 25/40\n",
      "185/185 [==============================] - 4s 23ms/step - loss: 0.0142 - val_loss: 0.0144\n",
      "Epoch 26/40\n",
      "185/185 [==============================] - 4s 24ms/step - loss: 0.0145 - val_loss: 0.0140\n",
      "Epoch 27/40\n",
      "185/185 [==============================] - 4s 20ms/step - loss: 0.0144 - val_loss: 0.0142\n",
      "Epoch 28/40\n",
      "185/185 [==============================] - 4s 20ms/step - loss: 0.0143 - val_loss: 0.0142\n",
      "Epoch 29/40\n",
      "185/185 [==============================] - 3s 18ms/step - loss: 0.0143 - val_loss: 0.0147\n",
      "Epoch 30/40\n",
      "185/185 [==============================] - 4s 19ms/step - loss: 0.0146 - val_loss: 0.0140\n"
     ]
    }
   ],
   "source": [
    "es = tf.keras.callbacks.EarlyStopping(monitor='val_loss', patience=7)\n",
    "hist = ae.fit(x_train, x_train,\n",
    "                epochs=40,\n",
    "                shuffle=True,\n",
    "                validation_data=(x_test, x_test),\n",
    "                callbacks=[es])"
   ]
  },
  {
   "cell_type": "code",
   "execution_count": 12,
   "id": "94f9f216-8a33-467b-b063-76c2d7c7098f",
   "metadata": {},
   "outputs": [
    {
     "data": {
      "text/plain": [
       "<matplotlib.legend.Legend at 0x7fdbb4473220>"
      ]
     },
     "execution_count": 12,
     "metadata": {},
     "output_type": "execute_result"
    },
    {
     "data": {
      "image/png": "[encoded data removed]",
      "text/plain": [
       "<Figure size 432x288 with 1 Axes>"
      ]
     },
     "metadata": {
      "needs_background": "light"
     },
     "output_type": "display_data"
    }
   ],
   "source": [
    "plt.plot(hist.history['loss'], label=\"training\")\n",
    "plt.plot(hist.history['val_loss'], label=\"validation\")\n",
    "plt.yscale('log')\n",
    "plt.legend()"
   ]
  },
  {
   "cell_type": "code",
   "execution_count": 13,
   "id": "0293cab7-1d27-47cd-b03c-f42f07cd3205",
   "metadata": {},
   "outputs": [],
   "source": [
    "def mae(x):\n",
    "    pred = ae.predict(x)\n",
    "    pred = pred.reshape(pred.shape[:-1])\n",
    "    return np.mean(np.abs(x - pred)**2,axis=(1,2))\n",
    "\n",
    "def recon_acc(x):\n",
    "    return 1 - mae(x)"
   ]
  },
  {
   "cell_type": "code",
   "execution_count": 14,
   "id": "f71a63c6-7937-45ba-81c5-db8ddc8a0f7a",
   "metadata": {
    "tags": []
   },
   "outputs": [],
   "source": [
    "sixes = recon_acc(x_test)\n",
    "threes = recon_acc(x_test_three)"
   ]
  },
  {
   "cell_type": "code",
   "execution_count": 15,
   "id": "aa057f19-679a-42b8-b770-c47df9f793b7",
   "metadata": {
    "tags": []
   },
   "outputs": [
    {
     "name": "stdout",
     "output_type": "stream",
     "text": [
      "0.9873699599022376\n",
      "0.9705602500428376\n"
     ]
    },
    {
     "data": {
      "text/plain": [
       "<matplotlib.legend.Legend at 0x7fdbb254ca00>"
      ]
     },
     "execution_count": 15,
     "metadata": {},
     "output_type": "execute_result"
    },
    {
     "data": {
      "image/png": "[encoded data removed]",
      "text/plain": [
       "<Figure size 432x288 with 1 Axes>"
      ]
     },
     "metadata": {
      "needs_background": "light"
     },
     "output_type": "display_data"
    }
   ],
   "source": [
    "print(np.median(sixes))\n",
    "bins = np.histogram(np.hstack((sixes, threes)), bins=10)[1]\n",
    "plt.hist(sixes, histtype='step', label=\"sixes\",bins=bins)#,bins=[0.0004,0.0005,0.0006,0.0007,0.0008,0.0009,0.001,0.0011,0.0012,0.0013])\n",
    "print(np.median(threes))\n",
    "plt.hist(threes, histtype='step', label=\"threes\",bins=bins)#,bins=[0.0004,0.0005,0.0006,0.0007,0.0008,0.0009,0.001,0.0011,0.0012,0.0013])\n",
    "plt.legend()"
   ]
  },
  {
   "cell_type": "code",
   "execution_count": 16,
   "id": "d97a2d80-2ee6-403d-8236-27e7e13c4f5c",
   "metadata": {
    "tags": []
   },
   "outputs": [
    {
     "name": "stdout",
     "output_type": "stream",
     "text": [
      "0.8765243902439024\n"
     ]
    },
    {
     "data": {
      "text/plain": [
       "[<matplotlib.lines.Line2D at 0x7fdbb1dab280>]"
      ]
     },
     "execution_count": 16,
     "metadata": {},
     "output_type": "execute_result"
    },
    {
     "data": {
      "image/png": "[encoded data removed]",
      "text/plain": [
       "<Figure size 432x288 with 1 Axes>"
      ]
     },
     "metadata": {
      "needs_background": "light"
     },
     "output_type": "display_data"
    }
   ],
   "source": [
    "def acc_for_threshold(T):\n",
    "    # sixes that are predicted six\n",
    "    num_six_right = np.sum(sixes > T)\n",
    "    # threes that are predicted three\n",
    "    num_three_right = np.sum(threes < T)\n",
    "    acc = (num_six_right + num_three_right)/(len(sixes) + len(threes))\n",
    "    return acc\n",
    "\n",
    "Ts = np.linspace(0,1,100)\n",
    "accs = []\n",
    "for i in Ts:\n",
    "    accs.append(acc_for_threshold(i))\n",
    "print(max(accs))\n",
    "plt.plot(Ts, accs)  "
   ]
  }
 ],
 "metadata": {
  "kernelspec": {
   "display_name": "env",
   "language": "python",
   "name": "env"
  },
  "language_info": {
   "codemirror_mode": {
    "name": "ipython",
    "version": 3
   },
   "file_extension": ".py",
   "mimetype": "text/x-python",
   "name": "python",
   "nbconvert_exporter": "python",
   "pygments_lexer": "ipython3",
   "version": "3.9.13"
  }
 },
 "nbformat": 4,
 "nbformat_minor": 5
}
