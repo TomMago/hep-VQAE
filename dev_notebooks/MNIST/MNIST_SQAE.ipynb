{
 "cells": [
  {
   "cell_type": "markdown",
   "id": "9080d094-8323-45f5-a578-aeed60dc8ab0",
   "metadata": {
    "tags": []
   },
   "source": [
    "# Electron Photon tagging\n",
    "\n",
    "This is a first test to implement a QAE and compare it to a classical AE.  \n",
    "The task is to identify Electrons and Photons from em-calorimeter images."
   ]
  },
  {
   "cell_type": "code",
   "execution_count": 1,
   "id": "5b53f85c-d0fb-489d-b816-6ed710eeda35",
   "metadata": {
    "tags": []
   },
   "outputs": [
    {
     "name": "stderr",
     "output_type": "stream",
     "text": [
      "2022-06-30 23:09:56.592131: W tensorflow/stream_executor/platform/default/dso_loader.cc:64] Could not load dynamic library 'libcudart.so.11.0'; dlerror: libcudart.so.11.0: cannot open shared object file: No such file or directory\n",
      "2022-06-30 23:09:56.592321: I tensorflow/stream_executor/cuda/cudart_stub.cc:29] Ignore above cudart dlerror if you do not have a GPU set up on your machine.\n",
      "2022-06-30 23:10:02.217100: W tensorflow/stream_executor/platform/default/dso_loader.cc:64] Could not load dynamic library 'libcuda.so.1'; dlerror: libcuda.so.1: cannot open shared object file: No such file or directory\n",
      "2022-06-30 23:10:02.217148: W tensorflow/stream_executor/cuda/cuda_driver.cc:269] failed call to cuInit: UNKNOWN ERROR (303)\n",
      "2022-06-30 23:10:02.217179: I tensorflow/stream_executor/cuda/cuda_diagnostics.cc:156] kernel driver does not appear to be running on this host (tomskopfbahnhof): /proc/driver/nvidia/version does not exist\n",
      "2022-06-30 23:10:02.217639: I tensorflow/core/platform/cpu_feature_guard.cc:151] This TensorFlow binary is optimized with oneAPI Deep Neural Network Library (oneDNN) to use the following CPU instructions in performance-critical operations:  AVX2 FMA\n",
      "To enable them in other operations, rebuild TensorFlow with the appropriate compiler flags.\n"
     ]
    }
   ],
   "source": [
    "import numpy as np\n",
    "import matplotlib.pyplot as plt\n",
    "from cirq.contrib.svg import SVGCircuit\n",
    "import tensorflow as tf\n",
    "import tensorflow_quantum as tfq\n",
    "from hep_VQAE import data_preprocessing as dp\n",
    "\n",
    "\n",
    "import warnings\n",
    "warnings.filterwarnings('ignore')"
   ]
  },
  {
   "cell_type": "code",
   "execution_count": 2,
   "id": "d79ad71b-abd8-4e82-8d07-5a10d2839544",
   "metadata": {},
   "outputs": [
    {
     "name": "stdout",
     "output_type": "stream",
     "text": [
      "x_train:  (60000, 28, 28)\n",
      "x_test:  (10000, 28, 28)\n",
      "y_train:  (60000,)\n",
      "y_test:  (10000,)\n"
     ]
    }
   ],
   "source": [
    "(x_train, y_train), (x_test, y_test) = tf.keras.datasets.mnist.load_data()\n",
    "\n",
    "# Rescale the images from [0,255] to the [0.0,1.0] range.\n",
    "x_train, x_test = x_train/255.0, x_test/255.0\n",
    "print(\"x_train: \", x_train.shape)\n",
    "print(\"x_test: \", x_test.shape)\n",
    "print(\"y_train: \", y_train.shape)\n",
    "print(\"y_test: \", y_test.shape)"
   ]
  },
  {
   "cell_type": "markdown",
   "id": "ccba2f25-b21c-484c-beb5-0e87360c65c0",
   "metadata": {},
   "source": [
    "Train on 6s and 3s"
   ]
  },
  {
   "cell_type": "code",
   "execution_count": 3,
   "id": "c579ffc9-301d-4cb3-8cbb-5878f3c1c664",
   "metadata": {},
   "outputs": [
    {
     "name": "stdout",
     "output_type": "stream",
     "text": [
      "Number of filtered training examples: 12049\n",
      "Number of filtered test examples: 1968\n"
     ]
    }
   ],
   "source": [
    "def filter_36(x, y):\n",
    "    keep = (y == 3) | (y == 6)\n",
    "    x, y = x[keep], y[keep]\n",
    "    y = y == 3\n",
    "    return x,y\n",
    "\n",
    "x_train, y_train = filter_36(x_train, y_train)\n",
    "x_test, y_test = filter_36(x_test, y_test)\n",
    "\n",
    "print(\"Number of filtered training examples:\", len(x_train))\n",
    "print(\"Number of filtered test examples:\", len(x_test))"
   ]
  },
  {
   "cell_type": "markdown",
   "id": "7f4f4f50-985d-4367-8674-7bf7c6b0ad66",
   "metadata": {
    "tags": []
   },
   "source": [
    "# Dimensionality reduction\n",
    "\n",
    "To use the QAE we need to reduce the dimension as only a couple of qbits are available.\n",
    "The easiest way is a simple PCA."
   ]
  },
  {
   "cell_type": "code",
   "execution_count": 4,
   "id": "a4449c9c-32fd-42f2-9cd8-f3d31fcbed33",
   "metadata": {},
   "outputs": [],
   "source": [
    "DOWNSCALE = 2\n",
    "DATA_DIMENSION = DOWNSCALE*DOWNSCALE\n",
    "LATENT_BITS = 2\n",
    "\n",
    "x_train, x_test = dp.PCA_reduce(x_train, DATA_DIMENSION, val_data=x_test)"
   ]
  },
  {
   "cell_type": "code",
   "execution_count": 5,
   "id": "16099271-c963-402c-86e9-f467d540e096",
   "metadata": {},
   "outputs": [],
   "source": [
    "x_train_threes = x_train[y_train==True]\n",
    "x_train = x_train[y_train==False]\n",
    "\n",
    "x_test_threes = x_test[y_test==True]\n",
    "x_test = x_test[y_test==False]"
   ]
  },
  {
   "cell_type": "code",
   "execution_count": 6,
   "id": "5dc31261-f36a-4223-8ca4-76898f1f8503",
   "metadata": {},
   "outputs": [],
   "source": [
    "x_train_circuit = [dp.input_states_SQAE(x,DATA_DIMENSION,LATENT_BITS) for x in x_train]\n",
    "x_test_circuit = [dp.input_states_SQAE(x,DATA_DIMENSION,LATENT_BITS) for x in x_test]\n",
    "\n",
    "x_train_circuit_threes = [dp.input_states_SQAE(x,DATA_DIMENSION,LATENT_BITS) for x in x_train_threes]\n",
    "x_test_circuit_threes = [dp.input_states_SQAE(x,DATA_DIMENSION,LATENT_BITS) for x in x_test_threes]"
   ]
  },
  {
   "cell_type": "code",
   "execution_count": 7,
   "id": "e087dfd7-d940-4154-b9bd-b565cf344b0c",
   "metadata": {},
   "outputs": [],
   "source": [
    "x_train_tf = tfq.convert_to_tensor(x_train_circuit)\n",
    "x_test_tf = tfq.convert_to_tensor(x_test_circuit)\n",
    "\n",
    "x_train_tf_threes = tfq.convert_to_tensor(x_train_circuit_threes)\n",
    "x_test_tf_threes = tfq.convert_to_tensor(x_test_circuit_threes)"
   ]
  },
  {
   "cell_type": "code",
   "execution_count": 8,
   "id": "ab6a22d0-e4e4-43e2-9c7d-98b331256a7b",
   "metadata": {},
   "outputs": [],
   "source": [
    "from hep_VQAE import QAE as qae\n",
    "\n",
    "model = qae.SQAE_model(4,LATENT_BITS,5)"
   ]
  },
  {
   "cell_type": "markdown",
   "id": "6d226626-ecb5-4544-a61c-d4e0df1d4a07",
   "metadata": {},
   "source": [
    "Train with mse"
   ]
  },
  {
   "cell_type": "code",
   "execution_count": 9,
   "id": "0b6de641-6eaa-45b4-b2fc-ff52c896ec87",
   "metadata": {},
   "outputs": [],
   "source": [
    "model.compile(loss='mse', optimizer=tf.keras.optimizers.Adam(lr=0.1))"
   ]
  },
  {
   "cell_type": "code",
   "execution_count": 10,
   "id": "9774136d-6bf7-4c67-ac55-df60e9e0d4f9",
   "metadata": {},
   "outputs": [],
   "source": [
    "y_train_ones = np.ones(shape=len(x_train_tf))\n",
    "y_test_ones = np.ones(shape=len(x_test_tf))\n",
    "\n",
    "y_train_ones_threes = np.ones(shape=len(x_train_tf_threes))\n",
    "y_test_ones_threes = np.ones(shape=len(x_test_tf_threes))"
   ]
  },
  {
   "cell_type": "code",
   "execution_count": 11,
   "id": "3daabf73-2c48-4420-a878-5cce4e89d2bf",
   "metadata": {},
   "outputs": [
    {
     "name": "stdout",
     "output_type": "stream",
     "text": [
      "Epoch 1/50\n",
      "93/93 [==============================] - 34s 344ms/step - loss: 0.0772 - val_loss: 0.0276\n",
      "Epoch 2/50\n",
      "93/93 [==============================] - 32s 346ms/step - loss: 0.0269 - val_loss: 0.0259\n",
      "Epoch 3/50\n",
      "93/93 [==============================] - 31s 330ms/step - loss: 0.0137 - val_loss: 0.0119\n",
      "Epoch 4/50\n",
      "93/93 [==============================] - 30s 315ms/step - loss: 0.0109 - val_loss: 0.0116\n",
      "Epoch 5/50\n",
      "93/93 [==============================] - 31s 333ms/step - loss: 0.0111 - val_loss: 0.0118\n",
      "Epoch 6/50\n",
      "93/93 [==============================] - 29s 316ms/step - loss: 0.0106 - val_loss: 0.0117\n",
      "Epoch 7/50\n",
      "93/93 [==============================] - 30s 320ms/step - loss: 0.0106 - val_loss: 0.0117\n",
      "Epoch 8/50\n",
      "93/93 [==============================] - 30s 327ms/step - loss: 0.0108 - val_loss: 0.0119\n",
      "Epoch 9/50\n",
      "93/93 [==============================] - 30s 324ms/step - loss: 0.0108 - val_loss: 0.0118\n",
      "Epoch 10/50\n",
      "93/93 [==============================] - 33s 363ms/step - loss: 0.0105 - val_loss: 0.0125\n",
      "Epoch 11/50\n",
      "93/93 [==============================] - 33s 353ms/step - loss: 0.0108 - val_loss: 0.0118\n"
     ]
    }
   ],
   "source": [
    "es = tf.keras.callbacks.EarlyStopping(monitor='val_loss', patience=7)\n",
    "history = model.fit(x_train_tf, y_train_ones, epochs=50, batch_size=64, validation_data=(x_test_tf, y_test_ones), callbacks=[es])"
   ]
  },
  {
   "cell_type": "code",
   "execution_count": 16,
   "id": "cf6513db-bc04-4843-bbd2-299762371ed8",
   "metadata": {},
   "outputs": [
    {
     "data": {
      "text/plain": [
       "<matplotlib.legend.Legend at 0x7fb63205c850>"
      ]
     },
     "execution_count": 16,
     "metadata": {},
     "output_type": "execute_result"
    },
    {
     "data": {
      "image/png": "[encoded data removed]",
      "text/plain": [
       "<Figure size 432x288 with 1 Axes>"
      ]
     },
     "metadata": {
      "needs_background": "light"
     },
     "output_type": "display_data"
    }
   ],
   "source": [
    "plt.plot(history.history['loss'], label=\"training\")\n",
    "plt.plot(history.history['val_loss'], label=\"validation\")\n",
    "#plt.yscale('log')\n",
    "plt.legend()"
   ]
  },
  {
   "cell_type": "code",
   "execution_count": 17,
   "id": "98f67b7e-abcd-48a9-9a79-f04dc44028ce",
   "metadata": {},
   "outputs": [
    {
     "name": "stdout",
     "output_type": "stream",
     "text": [
      "Median six reconstruciton fidelities:  0.92980254\n",
      "Median three reconstruciton fidelities:  0.5332107\n"
     ]
    }
   ],
   "source": [
    "pred_six = model.predict(x_test_tf)\n",
    "print(\"Median six reconstruciton fidelities: \",np.median(pred_six))\n",
    "\n",
    "pred_three = model.predict(x_test_tf_threes)\n",
    "print(\"Median three reconstruciton fidelities: \", np.median(pred_three))"
   ]
  },
  {
   "cell_type": "code",
   "execution_count": 18,
   "id": "65bcdf85-f85f-424f-8f4d-b0d660bea40d",
   "metadata": {},
   "outputs": [
    {
     "data": {
      "text/plain": [
       "(array([ 37., 110., 182., 235., 219., 129.,  60.,  25.,  11.,   2.]),\n",
       " array([0.24985838, 0.32469445, 0.39953053, 0.4743666 , 0.5492027 ,\n",
       "        0.62403876, 0.69887483, 0.7737109 , 0.848547  , 0.92338306,\n",
       "        0.99821913], dtype=float32),\n",
       " [<matplotlib.patches.Polygon at 0x7fb62bf5e0a0>])"
      ]
     },
     "execution_count": 18,
     "metadata": {},
     "output_type": "execute_result"
    },
    {
     "data": {
      "image/png": "[encoded data removed]",
      "text/plain": [
       "<Figure size 432x288 with 1 Axes>"
      ]
     },
     "metadata": {
      "needs_background": "light"
     },
     "output_type": "display_data"
    }
   ],
   "source": [
    "bins = np.histogram(np.hstack((pred_six.reshape((pred_six.shape[0],)), pred_three.reshape((pred_three.shape[0],)))), bins=10)[1]\n",
    "plt.hist(pred_six, histtype='step', label=\"sixes\",bins=bins)\n",
    "plt.hist(pred_three, histtype='step', label=\"threes\",bins=bins)"
   ]
  },
  {
   "cell_type": "code",
   "execution_count": 19,
   "id": "98cd7bbd-ade2-454b-8ead-c754eaa82cb3",
   "metadata": {},
   "outputs": [
    {
     "name": "stdout",
     "output_type": "stream",
     "text": [
      "0.9634146341463414\n"
     ]
    },
    {
     "data": {
      "text/plain": [
       "[<matplotlib.lines.Line2D at 0x7fb62bfdba60>]"
      ]
     },
     "execution_count": 19,
     "metadata": {},
     "output_type": "execute_result"
    },
    {
     "data": {
      "image/png": "[encoded data removed]",
      "text/plain": [
       "<Figure size 432x288 with 1 Axes>"
      ]
     },
     "metadata": {
      "needs_background": "light"
     },
     "output_type": "display_data"
    }
   ],
   "source": [
    "def acc_for_threshold(T):\n",
    "    # sixes that are predicted six\n",
    "    num_six_right = np.sum(pred_six > T)\n",
    "    # threes that are predicted three\n",
    "    num_three_right = np.sum(pred_three < T)\n",
    "    acc = (num_six_right + num_three_right)/(len(pred_six) + len(pred_three))\n",
    "    return acc\n",
    "\n",
    "Ts = np.linspace(0,1,100)\n",
    "accs = []\n",
    "for i in Ts:\n",
    "    accs.append(acc_for_threshold(i))\n",
    "print(max(accs))\n",
    "plt.ylabel(\"Tagging accuracy\")\n",
    "plt.xlabel(\"Anomaly threshold\")\n",
    "plt.plot(Ts, accs)  "
   ]
  },
  {
   "cell_type": "code",
   "execution_count": null,
   "id": "d3c093a6-76b8-4cda-951f-7cb0104c9f83",
   "metadata": {},
   "outputs": [],
   "source": []
  }
 ],
 "metadata": {
  "kernelspec": {
   "display_name": "env",
   "language": "python",
   "name": "env"
  },
  "language_info": {
   "codemirror_mode": {
    "name": "ipython",
    "version": 3
   },
   "file_extension": ".py",
   "mimetype": "text/x-python",
   "name": "python",
   "nbconvert_exporter": "python",
   "pygments_lexer": "ipython3",
   "version": "3.9.13"
  }
 },
 "nbformat": 4,
 "nbformat_minor": 5
}
