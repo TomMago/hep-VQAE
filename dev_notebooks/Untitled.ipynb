{
 "cells": [
  {
   "cell_type": "code",
   "execution_count": 1,
   "id": "3c65676a-01ca-4b3b-bc9e-472310edc2dc",
   "metadata": {},
   "outputs": [],
   "source": [
    "import numpy as np"
   ]
  },
  {
   "cell_type": "code",
   "execution_count": 33,
   "id": "e763d0aa-bec8-454c-abd8-b1e5375ef5d1",
   "metadata": {},
   "outputs": [],
   "source": [
    "DIMENSIONS = 6"
   ]
  },
  {
   "cell_type": "code",
   "execution_count": 37,
   "id": "b3260a72-6b38-4970-b6ee-0a4f6c5a2cd7",
   "metadata": {},
   "outputs": [],
   "source": [
    "mean_s = np.random.uniform(0,1,6)\n",
    "b = np.random.uniform(0,0.1,size=(DIMENSIONS,DIMENSIONS))\n",
    "cov_s = np.dot(b, b.transpose())"
   ]
  },
  {
   "cell_type": "code",
   "execution_count": 38,
   "id": "cfe28f8f-bf76-4d53-8ce2-3b45f2b260a3",
   "metadata": {},
   "outputs": [],
   "source": [
    "x_s = np.random.multivariate_normal(mean_s, cov_s, 5000)"
   ]
  },
  {
   "cell_type": "code",
   "execution_count": 57,
   "id": "d431ab35-8e30-495e-8f5f-e42b9fda3515",
   "metadata": {},
   "outputs": [
    {
     "data": {
      "text/plain": [
       "(array([  1.,   0.,   0.,   0.,   0.,   2.,   4.,   7.,  12.,   5.,  15.,\n",
       "         16.,  34.,  42.,  50.,  82.,  92., 120., 124., 167., 166., 216.,\n",
       "        214., 264., 286., 295., 293., 294., 286., 259., 246., 233., 213.,\n",
       "        184., 169., 143., 104.,  77.,  74.,  57.,  42.,  30.,  23.,  20.,\n",
       "         15.,  15.,   4.,   1.,   0.,   4.]),\n",
       " array([-0.46303371, -0.44558838, -0.42814305, -0.41069772, -0.3932524 ,\n",
       "        -0.37580707, -0.35836174, -0.34091641, -0.32347109, -0.30602576,\n",
       "        -0.28858043, -0.2711351 , -0.25368978, -0.23624445, -0.21879912,\n",
       "        -0.20135379, -0.18390847, -0.16646314, -0.14901781, -0.13157248,\n",
       "        -0.11412716, -0.09668183, -0.0792365 , -0.06179117, -0.04434585,\n",
       "        -0.02690052, -0.00945519,  0.00799014,  0.02543546,  0.04288079,\n",
       "         0.06032612,  0.07777145,  0.09521677,  0.1126621 ,  0.13010743,\n",
       "         0.14755276,  0.16499808,  0.18244341,  0.19988874,  0.21733407,\n",
       "         0.23477939,  0.25222472,  0.26967005,  0.28711538,  0.3045607 ,\n",
       "         0.32200603,  0.33945136,  0.35689669,  0.37434201,  0.39178734,\n",
       "         0.40923267]),\n",
       " <BarContainer object of 50 artists>)"
      ]
     },
     "execution_count": 57,
     "metadata": {},
     "output_type": "execute_result"
    },
    {
     "data": {
      "image/png": "[encoded data removed]",
      "text/plain": [
       "<Figure size 432x288 with 1 Axes>"
      ]
     },
     "metadata": {
      "needs_background": "light"
     },
     "output_type": "display_data"
    }
   ],
   "source": [
    "import matplotlib.pyplot as plt\n",
    "plt.hist(x_s[:,3], bins=50)"
   ]
  },
  {
   "cell_type": "code",
   "execution_count": 60,
   "id": "2a5155fb-796f-4f9e-884d-34cf9d4f433e",
   "metadata": {},
   "outputs": [],
   "source": [
    "mean_c_1 = np.random.uniform(0,1,6)\n",
    "b = np.random.uniform(0,0.1,size=(DIMENSIONS,DIMENSIONS))\n",
    "cov_c_1 = np.dot(b, b.transpose())\n",
    "\n",
    "mean_c_2 = np.random.uniform(0,1,6)\n",
    "b = np.random.uniform(0,0.1,size=(DIMENSIONS,DIMENSIONS))\n",
    "cov_c_2 = np.dot(b, b.transpose())\n",
    "\n",
    "mean_c_3 = np.random.uniform(0,1,6)\n",
    "b = np.random.uniform(0,0.1,size=(DIMENSIONS,DIMENSIONS))\n",
    "cov_c_3 = np.dot(b, b.transpose())"
   ]
  },
  {
   "cell_type": "code",
   "execution_count": 61,
   "id": "e7141ac4-3a0f-4b33-873c-2dc4747d467b",
   "metadata": {},
   "outputs": [],
   "source": [
    "x_c = 1/3*(np.random.multivariate_normal(mean_c_1, cov_c_1, 5000) + np.random.multivariate_normal(mean_c_2, cov_c_2, 5000) + np.random.multivariate_normal(mean_c_3, cov_c_3, 5000))"
   ]
  },
  {
   "cell_type": "code",
   "execution_count": 70,
   "id": "90bbf81f-8a2a-4a83-9d9a-d2bd51155680",
   "metadata": {},
   "outputs": [
    {
     "data": {
      "text/plain": [
       "<matplotlib.legend.Legend at 0x7f7d7a7dcee0>"
      ]
     },
     "execution_count": 70,
     "metadata": {},
     "output_type": "execute_result"
    },
    {
     "data": {
      "image/png": "[encoded data removed]",
      "text/plain": [
       "<Figure size 432x288 with 1 Axes>"
      ]
     },
     "metadata": {
      "needs_background": "light"
     },
     "output_type": "display_data"
    }
   ],
   "source": [
    "plt.hist(x_c[:,1], bins=50, histtype='step', label=\"mixture c\")\n",
    "plt.hist(x_s[:,1], bins=50, histtype='step', label=\"simple s\")\n",
    "plt.legend()"
   ]
  },
  {
   "cell_type": "code",
   "execution_count": null,
   "id": "1497ea06-2ae7-4509-8a6e-9f32f22bc0e8",
   "metadata": {},
   "outputs": [],
   "source": []
  },
  {
   "cell_type": "code",
   "execution_count": null,
   "id": "73f77dda-9e4a-47b8-ab7c-dedecb683eea",
   "metadata": {},
   "outputs": [],
   "source": []
  }
 ],
 "metadata": {
  "kernelspec": {
   "display_name": "tfq",
   "language": "python",
   "name": "tfq"
  },
  "language_info": {
   "codemirror_mode": {
    "name": "ipython",
    "version": 3
   },
   "file_extension": ".py",
   "mimetype": "text/x-python",
   "name": "python",
   "nbconvert_exporter": "python",
   "pygments_lexer": "ipython3",
   "version": "3.9.12"
  }
 },
 "nbformat": 4,
 "nbformat_minor": 5
}
