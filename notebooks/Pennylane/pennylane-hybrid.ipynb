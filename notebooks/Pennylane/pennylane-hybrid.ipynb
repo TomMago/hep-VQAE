{
 "cells": [
  {
   "cell_type": "code",
   "execution_count": 1,
   "id": "a17aa9b0-2979-42ab-bd79-5ce108a99efc",
   "metadata": {},
   "outputs": [
    {
     "name": "stderr",
     "output_type": "stream",
     "text": [
      "2022-07-20 23:59:18.682058: W tensorflow/stream_executor/platform/default/dso_loader.cc:64] Could not load dynamic library 'libcudart.so.11.0'; dlerror: libcudart.so.11.0: cannot open shared object file: No such file or directory\n",
      "2022-07-20 23:59:18.682084: I tensorflow/stream_executor/cuda/cudart_stub.cc:29] Ignore above cudart dlerror if you do not have a GPU set up on your machine.\n"
     ]
    }
   ],
   "source": [
    "import pennylane as qml\n",
    "from pennylane import numpy as np\n",
    "import tensorflow as tf"
   ]
  },
  {
   "cell_type": "code",
   "execution_count": 2,
   "id": "e7586f1e-55d4-45a2-b014-394bd7b70c04",
   "metadata": {},
   "outputs": [],
   "source": [
    "DATA_QBITS = 15\n",
    "LATENT_QBITS = 2\n",
    "TOTAL_QBITS = DATA_QBITS"
   ]
  },
  {
   "cell_type": "code",
   "execution_count": 3,
   "id": "c95725cf-c819-49c1-952f-5034af4a33ae",
   "metadata": {},
   "outputs": [
    {
     "name": "stderr",
     "output_type": "stream",
     "text": [
      "2022-07-20 23:59:20.900464: W tensorflow/stream_executor/platform/default/dso_loader.cc:64] Could not load dynamic library 'libcuda.so.1'; dlerror: libcuda.so.1: cannot open shared object file: No such file or directory\n",
      "2022-07-20 23:59:20.900497: W tensorflow/stream_executor/cuda/cuda_driver.cc:269] failed call to cuInit: UNKNOWN ERROR (303)\n",
      "2022-07-20 23:59:20.900520: I tensorflow/stream_executor/cuda/cuda_diagnostics.cc:156] kernel driver does not appear to be running on this host (tomskopfbahnhof): /proc/driver/nvidia/version does not exist\n",
      "2022-07-20 23:59:20.900947: I tensorflow/core/platform/cpu_feature_guard.cc:151] This TensorFlow binary is optimized with oneAPI Deep Neural Network Library (oneDNN) to use the following CPU instructions in performance-critical operations:  AVX2 FMA\n",
      "To enable them in other operations, rebuild TensorFlow with the appropriate compiler flags.\n"
     ]
    }
   ],
   "source": [
    "dev1 = qml.device('default.qubit.tf', wires=TOTAL_QBITS)"
   ]
  },
  {
   "cell_type": "code",
   "execution_count": 4,
   "id": "514d1302-276e-434a-a336-9e48602367dd",
   "metadata": {},
   "outputs": [],
   "source": [
    "\n",
    "@qml.qnode(dev1)\n",
    "def qnode(inputs, weights):\n",
    "    qml.AngleEmbedding(inputs, wires=range(TOTAL_QBITS))\n",
    "    qml.BasicEntanglerLayers(weights, wires=range(TOTAL_QBITS))\n",
    "    return [qml.expval(qml.PauliZ(wires=i)) for i in range(TOTAL_QBITS)]"
   ]
  },
  {
   "cell_type": "code",
   "execution_count": 5,
   "id": "474b5c23-e6b6-436c-928e-b7af5aa1f9a4",
   "metadata": {},
   "outputs": [],
   "source": [
    "#fig, ax = qml.draw_mpl(qnode)([1,1,1,1],[[0.1,0.24,0.3,0.14]])\n",
    "#fig.show()"
   ]
  },
  {
   "cell_type": "code",
   "execution_count": 6,
   "id": "ecf717dd-8f98-4082-9384-2f682fc73fec",
   "metadata": {},
   "outputs": [],
   "source": [
    "n_layers = 3\n",
    "weight_shapes = {\"weights\": (n_layers, TOTAL_QBITS)}"
   ]
  },
  {
   "cell_type": "code",
   "execution_count": 7,
   "id": "7bde312d-10a8-4b33-81e7-cddaf1f73a9a",
   "metadata": {},
   "outputs": [],
   "source": [
    "qlayer = qml.qnn.KerasLayer(qnode, weight_shapes, output_dim=TOTAL_QBITS)"
   ]
  },
  {
   "cell_type": "code",
   "execution_count": 8,
   "id": "58106c32-b57d-4448-8b9c-63cad2410434",
   "metadata": {},
   "outputs": [],
   "source": [
    "(x_train, y_train), (x_test, y_test) = tf.keras.datasets.mnist.load_data()\n",
    "x_train, x_test = x_train/255.0, x_test/255.0\n",
    "\n",
    "def filter_36(x, y):\n",
    "    keep = (y == 3) | (y == 6)\n",
    "    x, y = x[keep], y[keep]\n",
    "    y = y == 3\n",
    "    return x,y\n",
    "\n",
    "x_train, y_train = filter_36(x_train, y_train)\n",
    "x_test, y_test = filter_36(x_test, y_test)\n",
    "\n",
    "x_train_threes = np.array(x_train[y_train==True])\n",
    "x_train = np.array(x_train[y_train==False])\n",
    "\n",
    "x_test_threes = np.array(x_test[y_test==True])\n",
    "x_test = np.array(x_test[y_test==False])"
   ]
  },
  {
   "cell_type": "code",
   "execution_count": 9,
   "id": "6dce254c-26dd-4288-a671-df50fd75454c",
   "metadata": {},
   "outputs": [],
   "source": [
    "x_train = x_train.reshape((x_train.shape[0],28,28,1))\n",
    "x_test = x_test.reshape((x_test.shape[0],28,28,1))"
   ]
  },
  {
   "cell_type": "code",
   "execution_count": 10,
   "id": "73a72431-2277-4f06-97d6-425eb6484a14",
   "metadata": {},
   "outputs": [],
   "source": [
    "SCALING = 20\n",
    "\n",
    "x_train_small = tf.image.resize(x_train, (SCALING,SCALING)).numpy()\n",
    "x_test_small = tf.image.resize(x_test, (SCALING,SCALING)).numpy()"
   ]
  },
  {
   "cell_type": "code",
   "execution_count": 11,
   "id": "63b78dc5-babd-4d70-a4ac-1a939170ac90",
   "metadata": {},
   "outputs": [
    {
     "data": {
      "text/plain": [
       "(5918, 20, 20, 1)"
      ]
     },
     "execution_count": 11,
     "metadata": {},
     "output_type": "execute_result"
    }
   ],
   "source": [
    "x_train_small.shape"
   ]
  },
  {
   "cell_type": "code",
   "execution_count": 12,
   "id": "3f7bb6db-7c52-483f-ad0c-8bdb3e098b77",
   "metadata": {},
   "outputs": [],
   "source": [
    "x_train_small = x_train_small.reshape(x_train_small.shape[0],SCALING*SCALING)[:4000]\n",
    "x_test_small = x_test_small.reshape(x_test_small.shape[0],SCALING*SCALING)"
   ]
  },
  {
   "cell_type": "code",
   "execution_count": 13,
   "id": "4f616574-bcb4-4950-a49b-01187d018047",
   "metadata": {},
   "outputs": [],
   "source": [
    "inputs = tf.keras.layers.Input(shape=(400,))\n",
    "clayer_1 = tf.keras.layers.Dense(32)\n",
    "dress1 = tf.keras.layers.Dense(DATA_QBITS)\n",
    "#dress2 = tf.keras.layers.Dense(5)\n",
    "clayer_2 = tf.keras.layers.Dense(SCALING*SCALING, activation=\"sigmoid\")"
   ]
  },
  {
   "cell_type": "code",
   "execution_count": 14,
   "id": "d839a103-a3c7-49b6-8059-94ea1c85fcde",
   "metadata": {},
   "outputs": [],
   "source": [
    "model = tf.keras.models.Sequential([inputs, clayer_1, dress1, qlayer, clayer_2])"
   ]
  },
  {
   "cell_type": "code",
   "execution_count": 15,
   "id": "85808baf-58e7-49fd-8af6-ec3d4dc845fc",
   "metadata": {},
   "outputs": [],
   "source": [
    "opt = tf.keras.optimizers.Adam(learning_rate=0.075)\n",
    "model.compile(opt, loss=\"binary_crossentropy\")"
   ]
  },
  {
   "cell_type": "code",
   "execution_count": null,
   "id": "efb50031-ba93-4daa-b7c9-ad4403a9fdb5",
   "metadata": {},
   "outputs": [
    {
     "name": "stdout",
     "output_type": "stream",
     "text": [
      "Epoch 1/10\n",
      "125/125 [==============================] - 4834s 39s/step - loss: 0.3002\n",
      "Epoch 2/10\n",
      " 85/125 [===================>..........] - ETA: 18:09 - loss: 0.2379"
     ]
    }
   ],
   "source": [
    "es = tf.keras.callbacks.EarlyStopping(monitor='loss', patience=2,min_delta=0.0001)\n",
    "fitting = model.fit(x_train_small, x_train_small, epochs=10, batch_size=32)"
   ]
  },
  {
   "cell_type": "code",
   "execution_count": null,
   "id": "d0a1be32-6e95-4d13-ada6-e96116ab9148",
   "metadata": {},
   "outputs": [],
   "source": [
    "model.summary()"
   ]
  },
  {
   "cell_type": "code",
   "execution_count": null,
   "id": "396ce1ef-152e-4d58-b84f-3c467247c588",
   "metadata": {},
   "outputs": [],
   "source": []
  },
  {
   "cell_type": "code",
   "execution_count": null,
   "id": "328434cc-9fea-473b-99bd-69d27abcdb96",
   "metadata": {},
   "outputs": [],
   "source": [
    "from hep_VQAE import utils as ut\n",
    "\n",
    "recon = model.predict(x_test_small[:100])\n",
    "\n",
    "ut.eval_recon(x_test_small[:100].reshape((100,20,20)), recon.reshape((100,20,20)), lognorm=True)"
   ]
  }
 ],
 "metadata": {
  "kernelspec": {
   "display_name": "tfq",
   "language": "python",
   "name": "tfq"
  },
  "language_info": {
   "codemirror_mode": {
    "name": "ipython",
    "version": 3
   },
   "file_extension": ".py",
   "mimetype": "text/x-python",
   "name": "python",
   "nbconvert_exporter": "python",
   "pygments_lexer": "ipython3",
   "version": "3.9.12"
  }
 },
 "nbformat": 4,
 "nbformat_minor": 5
}
