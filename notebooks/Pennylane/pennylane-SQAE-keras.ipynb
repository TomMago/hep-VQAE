{
 "cells": [
  {
   "cell_type": "code",
   "execution_count": 9,
   "id": "a17aa9b0-2979-42ab-bd79-5ce108a99efc",
   "metadata": {},
   "outputs": [],
   "source": [
    "import pennylane as qml\n",
    "from pennylane import numpy as np\n",
    "import matplotlib.pyplot as plt\n",
    "from hep_VQAE import data_preprocessing as dp\n",
    "import tensorflow as tf\n",
    "from pennylane.optimize import AdamOptimizer, GradientDescentOptimizer\n",
    "import time\n",
    "\n",
    "import warnings\n",
    "warnings.filterwarnings('ignore')"
   ]
  },
  {
   "cell_type": "code",
   "execution_count": 10,
   "id": "e7586f1e-55d4-45a2-b014-394bd7b70c04",
   "metadata": {},
   "outputs": [],
   "source": [
    "DATA_QBITS = 4\n",
    "LATENT_QBITS = 2\n",
    "TRASH_QBITS = DATA_QBITS - LATENT_QBITS\n",
    "TOTAL_QBITS = DATA_QBITS + TRASH_QBITS + 1"
   ]
  },
  {
   "cell_type": "code",
   "execution_count": 11,
   "id": "c95725cf-c819-49c1-952f-5034af4a33ae",
   "metadata": {},
   "outputs": [],
   "source": [
    "dev1 = qml.device('default.qubit', wires=TOTAL_QBITS)"
   ]
  },
  {
   "cell_type": "code",
   "execution_count": 12,
   "id": "4207c76d-b3c1-45a3-897d-d2022f079f02",
   "metadata": {},
   "outputs": [],
   "source": [
    "def layer(params, wires):\n",
    "    for i in range(len(wires)):\n",
    "        qml.RY(params[i], wires=i)\n",
    "    for i in range(len(wires)):\n",
    "        for j in range(i+1, len(wires)):\n",
    "            qml.CNOT(wires=[i, j])\n",
    "\n",
    "@qml.qnode(dev1)\n",
    "def circuit(enc_params, data):\n",
    "    qml.AngleEmbedding(data, wires=range(DATA_QBITS))\n",
    "    qml.BasicEntanglerLayers(enc_params, wires=range(DATA_QBITS))\n",
    "    qml.Hadamard(wires=TOTAL_QBITS-1)\n",
    "    for i in range(TRASH_QBITS):\n",
    "        #c += cirq.ControlledGate(sub_gate=cirq.SWAP, num_controls=1).on(swap_qbit, reference_qbits[i], network_qbits[num_data_qbits - num_latent_qbits:][i])\n",
    "        qml.CSWAP(wires=[TOTAL_QBITS - 1, LATENT_QBITS + i, DATA_QBITS + i])\n",
    "    qml.Hadamard(wires=TOTAL_QBITS-1)\n",
    "    return qml.expval(qml.PauliZ(TOTAL_QBITS-1))"
   ]
  },
  {
   "cell_type": "code",
   "execution_count": 13,
   "id": "fedda7f2-e929-467d-91d9-2052f4c317b6",
   "metadata": {},
   "outputs": [
    {
     "data": {
      "image/png": "[encoded data removed]",
      "text/plain": [
       "<Figure size 576x576 with 1 Axes>"
      ]
     },
     "metadata": {},
     "output_type": "display_data"
    }
   ],
   "source": [
    "fig, ax = qml.draw_mpl(circuit)([[1,1,1,1]],[0.1,0.24,0.3,0.14])\n",
    "fig.show()"
   ]
  },
  {
   "cell_type": "code",
   "execution_count": 14,
   "id": "df0b6090-2adb-4587-b744-c14daca04f9c",
   "metadata": {},
   "outputs": [],
   "source": [
    "(x_train, y_train), (x_test, y_test) = tf.keras.datasets.mnist.load_data()\n",
    "x_train, x_test = x_train/255.0, x_test/255.0"
   ]
  },
  {
   "cell_type": "code",
   "execution_count": 15,
   "id": "a65a4c32-2de0-4a75-84f9-f4bd0645c29f",
   "metadata": {},
   "outputs": [],
   "source": [
    "def filter_36(x, y):\n",
    "    keep = (y == 3) | (y == 6)\n",
    "    x, y = x[keep], y[keep]\n",
    "    y = y == 3\n",
    "    return x,y\n",
    "\n",
    "x_train, y_train = filter_36(x_train, y_train)\n",
    "x_test, y_test = filter_36(x_test, y_test)"
   ]
  },
  {
   "cell_type": "code",
   "execution_count": 16,
   "id": "d8eb04c5-1a6f-451e-8dea-b4da3650f068",
   "metadata": {},
   "outputs": [],
   "source": [
    "DOWNSCALE = 2\n",
    "DATA_DIMENSION = DOWNSCALE*DOWNSCALE\n",
    "LATENT_BITS = 2\n",
    "\n",
    "x_train, x_test = dp.PCA_reduce(x_train, DATA_DIMENSION, val_data=x_test)"
   ]
  },
  {
   "cell_type": "code",
   "execution_count": 17,
   "id": "95eecacd-755d-4355-826c-c5ebd7e90260",
   "metadata": {},
   "outputs": [],
   "source": [
    "x_train_threes = np.array(x_train[y_train==True])\n",
    "x_train = np.array(x_train[y_train==False])\n",
    "\n",
    "x_test_threes = np.array(x_test[y_test==True])\n",
    "x_test = np.array(x_test[y_test==False])"
   ]
  },
  {
   "cell_type": "code",
   "execution_count": 27,
   "id": "0ae511ff-2c31-4175-b48d-c31c71515d04",
   "metadata": {},
   "outputs": [],
   "source": [
    "LAYERS = 5\n",
    "\n",
    "def cost(params, X):\n",
    "    loss = 0.0\n",
    "    for i in range(len(X)):\n",
    "        f = circuit(params, X[i])\n",
    "        loss = loss + (1 - f) ** 2\n",
    "    return loss / len(X)"
   ]
  },
  {
   "cell_type": "code",
   "execution_count": 28,
   "id": "372c05ea-5235-4232-a3f3-fadca2c1bcca",
   "metadata": {},
   "outputs": [],
   "source": [
    "def iterate_minibatches(data, batch_size):\n",
    "    for start_idx in range(0, data.shape[0] - batch_size + 1, batch_size):\n",
    "        idxs = slice(start_idx, start_idx + batch_size)\n",
    "        yield data[idxs]"
   ]
  },
  {
   "cell_type": "code",
   "execution_count": 29,
   "id": "3a01d4b1-3afd-45ed-a5b5-f6ef6ac8f526",
   "metadata": {},
   "outputs": [],
   "source": [
    "learning_rate = 0.1\n",
    "epochs = 2\n",
    "batch_size = 64"
   ]
  },
  {
   "cell_type": "code",
   "execution_count": 30,
   "id": "2d2a03ed-55c1-49ad-82d3-770e912da9be",
   "metadata": {},
   "outputs": [],
   "source": [
    "# opt = AdamOptimizer(learning_rate, beta1=0.9, beta2=0.999)\n",
    "# opt = qml.QNGOptimizer(learning_rate)\n",
    "opt = GradientDescentOptimizer(learning_rate)"
   ]
  },
  {
   "cell_type": "code",
   "execution_count": 34,
   "id": "646980f1-8197-4a2b-9f00-b8e5f7da810b",
   "metadata": {},
   "outputs": [],
   "source": [
    "weight_shapes = {\"weights\": (LAYERS, DATA_QBITS)}\n",
    "params = np.random.uniform(size=weight_shapes[\"weights\"], requires_grad=True)"
   ]
  },
  {
   "cell_type": "code",
   "execution_count": 35,
   "id": "88316771-3166-4796-99b7-c70ea12b95db",
   "metadata": {},
   "outputs": [
    {
     "data": {
      "text/plain": [
       "(5, 4)"
      ]
     },
     "execution_count": 35,
     "metadata": {},
     "output_type": "execute_result"
    }
   ],
   "source": [
    "params.shape"
   ]
  },
  {
   "cell_type": "code",
   "execution_count": 36,
   "id": "cabaaa49-50a0-4f65-81a0-0cd250bfb5a4",
   "metadata": {},
   "outputs": [
    {
     "name": "stdout",
     "output_type": "stream",
     "text": [
      "Epoch: 0 | Loss: 0.003740733980875299 |\n",
      "Epoch: 1 | Loss: 0.0014238816413360486 |\n",
      "Time for 2 epochs with 5 layers: 588.6051685810089\n"
     ]
    }
   ],
   "source": [
    "start = time.time()\n",
    "\n",
    "for it in range(epochs):\n",
    "    for j,Xbatch in enumerate(iterate_minibatches(x_train, batch_size=batch_size)):\n",
    "        params, _ = opt.step(cost, params, Xbatch)\n",
    "        print(j, end=\"\\r\")\n",
    "\n",
    "    loss = cost(params, x_train)\n",
    "    \n",
    "    print(f\"Epoch: {it} | Loss: {loss} |\")\n",
    "    \n",
    "end = time.time()\n",
    "\n",
    "print(f\"Time for {epochs} epochs with {LAYERS} layers: {end - start}\")"
   ]
  },
  {
   "cell_type": "raw",
   "id": "61b33b9c-c716-4939-bdc8-112416e11517",
   "metadata": {},
   "source": []
  },
  {
   "cell_type": "code",
   "execution_count": null,
   "id": "b3ac7b6f-e91b-49f7-9522-595b86ccb351",
   "metadata": {},
   "outputs": [],
   "source": []
  },
  {
   "cell_type": "code",
   "execution_count": null,
   "id": "96df887f-d87a-47fe-83ca-1a0c2c92beb2",
   "metadata": {},
   "outputs": [],
   "source": []
  }
 ],
 "metadata": {
  "kernelspec": {
   "display_name": "tfq",
   "language": "python",
   "name": "tfq"
  },
  "language_info": {
   "codemirror_mode": {
    "name": "ipython",
    "version": 3
   },
   "file_extension": ".py",
   "mimetype": "text/x-python",
   "name": "python",
   "nbconvert_exporter": "python",
   "pygments_lexer": "ipython3",
   "version": "3.9.12"
  }
 },
 "nbformat": 4,
 "nbformat_minor": 5
}
